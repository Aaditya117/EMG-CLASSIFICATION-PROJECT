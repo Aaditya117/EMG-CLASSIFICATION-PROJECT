{
 "cells": [
  {
   "cell_type": "markdown",
   "metadata": {},
   "source": [
    "# EMG_D_TASK1 (XGBOOST)"
   ]
  },
  {
   "cell_type": "code",
   "execution_count": 66,
   "metadata": {},
   "outputs": [],
   "source": [
    "#Import libraries:\n",
    "import numpy as np\n",
    "import pandas as pd\n",
    "import xgboost as xgb\n",
    "from xgboost.sklearn import XGBClassifier\n",
    "from sklearn.model_selection import GridSearchCV\n",
    "from sklearn.preprocessing import StandardScaler\n",
    "from sklearn.metrics import accuracy_score, f1_score, recall_score,precision_score, classification_report, confusion_matrix\n",
    "import matplotlib.pylab as plt\n",
    "%matplotlib inline\n",
    "from sklearn.model_selection import cross_val_predict\n",
    "from sklearn.metrics import precision_recall_curve, roc_curve\n",
    "from sklearn.multiclass import OneVsRestClassifier\n",
    "from sklearn.preprocessing import label_binarize\n",
    "import seaborn as sn"
   ]
  },
  {
   "cell_type": "code",
   "execution_count": 2,
   "metadata": {},
   "outputs": [],
   "source": [
    "#load train data\n",
    "X_train = np.load('data/train/X_train.npy')\n",
    "y_train = np.load('data/train/Y_train.npy')"
   ]
  },
  {
   "cell_type": "code",
   "execution_count": 3,
   "metadata": {},
   "outputs": [
    {
     "data": {
      "text/plain": [
       "array([[-1.16309211, -0.3546237 , -0.74730777, ...,  0.28026013,\n",
       "         0.49767227,  0.96432177],\n",
       "       [ 2.31320049,  1.59572937,  1.97463785, ..., -0.40514213,\n",
       "        -1.10036416, -1.23049214],\n",
       "       [-2.07132407, -0.22232178,  0.03296851, ...,  0.33527047,\n",
       "         0.74062767,  1.37486106],\n",
       "       ...,\n",
       "       [ 0.72306117, -0.72896021,  1.06176973, ...,  0.38946213,\n",
       "        -0.02628944, -0.80144785],\n",
       "       [ 0.4609857 ,  0.7564458 , -0.10651615, ...,  0.31656386,\n",
       "        -0.14193841, -0.60099338],\n",
       "       [-0.86468831,  0.0884742 , -0.56687049, ...,  0.40423565,\n",
       "         0.16746287,  0.50399375]])"
      ]
     },
     "execution_count": 3,
     "metadata": {},
     "output_type": "execute_result"
    }
   ],
   "source": [
    "X_train"
   ]
  },
  {
   "cell_type": "code",
   "execution_count": 4,
   "metadata": {},
   "outputs": [
    {
     "data": {
      "text/plain": [
       "array([2, 7, 2, ..., 5, 3, 3], dtype=int64)"
      ]
     },
     "execution_count": 4,
     "metadata": {},
     "output_type": "execute_result"
    }
   ],
   "source": [
    "y_train"
   ]
  },
  {
   "cell_type": "code",
   "execution_count": 5,
   "metadata": {},
   "outputs": [
    {
     "data": {
      "text/plain": [
       "(28368, 42)"
      ]
     },
     "execution_count": 5,
     "metadata": {},
     "output_type": "execute_result"
    }
   ],
   "source": [
    "np.shape(X_train)"
   ]
  },
  {
   "cell_type": "code",
   "execution_count": 6,
   "metadata": {},
   "outputs": [
    {
     "data": {
      "text/plain": [
       "(28368,)"
      ]
     },
     "execution_count": 6,
     "metadata": {},
     "output_type": "execute_result"
    }
   ],
   "source": [
    "np.shape(y_train)"
   ]
  },
  {
   "cell_type": "code",
   "execution_count": 7,
   "metadata": {},
   "outputs": [],
   "source": [
    "#load test data\n",
    "#set1\n",
    "X_test1 = np.load('data/test/set1/X_test.npy')\n",
    "y_test1 = np.load('data/test/set1/Y_test.npy')\n",
    "\n",
    "#set2\n",
    "X_test2 = np.load('data/test/set2/X_test2.npy')\n",
    "y_test2 = np.load('data/test/set2/Y_test2.npy')"
   ]
  },
  {
   "cell_type": "code",
   "execution_count": 8,
   "metadata": {},
   "outputs": [
    {
     "data": {
      "text/plain": [
       "array([[-1.49323659, -1.31642816, -1.09727374, ...,  0.20969347,\n",
       "        -1.17185383, -0.73984794],\n",
       "       [ 0.88280664, -0.23407741,  0.09149077, ...,  0.40496777,\n",
       "         0.59621983, -1.12519401],\n",
       "       [ 0.39598404, -0.80282236,  1.31045093, ...,  0.37037071,\n",
       "        -0.11712419,  0.37901192],\n",
       "       ...,\n",
       "       [-0.79349702, -0.76096   , -0.50744743, ...,  0.32366181,\n",
       "         0.07643469, -0.75933433],\n",
       "       [-1.43415616, -1.15663135, -1.43118689, ...,  0.16086258,\n",
       "        -0.82059232, -0.15097011],\n",
       "       [ 0.86502642,  1.4537528 ,  1.41061959, ..., -2.57317385,\n",
       "        -1.50707939,  0.48405214]])"
      ]
     },
     "execution_count": 8,
     "metadata": {},
     "output_type": "execute_result"
    }
   ],
   "source": [
    "X_test1"
   ]
  },
  {
   "cell_type": "code",
   "execution_count": 9,
   "metadata": {},
   "outputs": [
    {
     "data": {
      "text/plain": [
       "array([0, 6, 5, ..., 2, 0, 7], dtype=int64)"
      ]
     },
     "execution_count": 9,
     "metadata": {},
     "output_type": "execute_result"
    }
   ],
   "source": [
    "y_test1"
   ]
  },
  {
   "cell_type": "code",
   "execution_count": 10,
   "metadata": {},
   "outputs": [
    {
     "data": {
      "text/plain": [
       "array([[-0.96552361, -0.99460393, -0.98299273, ...,  0.94084397,\n",
       "         0.88986478,  0.2945621 ],\n",
       "       [-0.9701099 , -0.96892845, -0.96945983, ...,  0.96643501,\n",
       "         0.97059154,  0.56785259],\n",
       "       [-0.96620952, -0.96951394, -0.97051092, ...,  0.89918706,\n",
       "         0.64122961,  0.36103823],\n",
       "       ...,\n",
       "       [-0.97305436, -0.98765301, -0.98584242, ...,  0.95100397,\n",
       "         0.90816262,  0.48809375],\n",
       "       [-0.98641648, -0.97928227, -0.96988717, ...,  0.97807859,\n",
       "         0.95645382,  0.71834548],\n",
       "       [-0.96444105, -0.96537915, -0.96197033, ...,  0.19431033,\n",
       "        -0.01050145, -0.01290869]])"
      ]
     },
     "execution_count": 10,
     "metadata": {},
     "output_type": "execute_result"
    }
   ],
   "source": [
    "X_test2"
   ]
  },
  {
   "cell_type": "code",
   "execution_count": 11,
   "metadata": {},
   "outputs": [
    {
     "data": {
      "text/plain": [
       "array([6, 1, 3, ..., 2, 2, 7], dtype=int64)"
      ]
     },
     "execution_count": 11,
     "metadata": {},
     "output_type": "execute_result"
    }
   ],
   "source": [
    "y_test2"
   ]
  },
  {
   "cell_type": "code",
   "execution_count": 12,
   "metadata": {},
   "outputs": [
    {
     "name": "stdout",
     "output_type": "stream",
     "text": [
      "(12168, 42)\n",
      "(12168,)\n",
      "(7040, 42)\n",
      "(7040,)\n"
     ]
    }
   ],
   "source": [
    "print(np.shape(X_test1))\n",
    "print(np.shape(y_test1))\n",
    "print(np.shape(X_test2))\n",
    "print(np.shape(y_test2))"
   ]
  },
  {
   "cell_type": "code",
   "execution_count": 13,
   "metadata": {},
   "outputs": [],
   "source": [
    "#scaling the data"
   ]
  },
  {
   "cell_type": "code",
   "execution_count": 14,
   "metadata": {},
   "outputs": [],
   "source": [
    "# Feature Scaling\n",
    "\n",
    "sc = StandardScaler()\n",
    "X_train = sc.fit_transform(X_train)\n",
    "X_test1 = sc.fit_transform(X_test1)\n",
    "X_test2 = sc.fit_transform(X_test2)"
   ]
  },
  {
   "cell_type": "code",
   "execution_count": 15,
   "metadata": {},
   "outputs": [
    {
     "data": {
      "text/plain": [
       "array([[-1.16309211, -0.3546237 , -0.74730777, ...,  0.28026013,\n",
       "         0.49767227,  0.96432177],\n",
       "       [ 2.31320049,  1.59572937,  1.97463785, ..., -0.40514213,\n",
       "        -1.10036416, -1.23049214],\n",
       "       [-2.07132407, -0.22232178,  0.03296851, ...,  0.33527047,\n",
       "         0.74062767,  1.37486106],\n",
       "       ...,\n",
       "       [ 0.72306117, -0.72896021,  1.06176973, ...,  0.38946213,\n",
       "        -0.02628944, -0.80144785],\n",
       "       [ 0.4609857 ,  0.7564458 , -0.10651615, ...,  0.31656386,\n",
       "        -0.14193841, -0.60099338],\n",
       "       [-0.86468831,  0.0884742 , -0.56687049, ...,  0.40423565,\n",
       "         0.16746287,  0.50399375]])"
      ]
     },
     "execution_count": 15,
     "metadata": {},
     "output_type": "execute_result"
    }
   ],
   "source": [
    "X_train"
   ]
  },
  {
   "cell_type": "code",
   "execution_count": 16,
   "metadata": {},
   "outputs": [
    {
     "data": {
      "text/plain": [
       "array([[-1.49323659, -1.31642816, -1.09727374, ...,  0.20969347,\n",
       "        -1.17185383, -0.73984794],\n",
       "       [ 0.88280664, -0.23407741,  0.09149077, ...,  0.40496777,\n",
       "         0.59621983, -1.12519401],\n",
       "       [ 0.39598404, -0.80282236,  1.31045093, ...,  0.37037071,\n",
       "        -0.11712419,  0.37901192],\n",
       "       ...,\n",
       "       [-0.79349702, -0.76096   , -0.50744743, ...,  0.32366181,\n",
       "         0.07643469, -0.75933433],\n",
       "       [-1.43415616, -1.15663135, -1.43118689, ...,  0.16086258,\n",
       "        -0.82059232, -0.15097011],\n",
       "       [ 0.86502642,  1.4537528 ,  1.41061959, ..., -2.57317385,\n",
       "        -1.50707939,  0.48405214]])"
      ]
     },
     "execution_count": 16,
     "metadata": {},
     "output_type": "execute_result"
    }
   ],
   "source": [
    "X_test1"
   ]
  },
  {
   "cell_type": "code",
   "execution_count": 17,
   "metadata": {},
   "outputs": [
    {
     "data": {
      "text/plain": [
       "array([[ 0.4581313 , -1.31710185, -0.78210818, ...,  0.28155887,\n",
       "         0.51730558, -0.74698434],\n",
       "       [-0.09287822,  0.70185549,  0.56986185, ...,  0.39063752,\n",
       "         0.79947043,  0.37151987],\n",
       "       [ 0.3757245 ,  0.65581691,  0.46485571, ...,  0.10400144,\n",
       "        -0.35175087, -0.47491549],\n",
       "       ...,\n",
       "       [-0.44663494, -0.77052572, -1.06679893, ...,  0.32486462,\n",
       "         0.58126217,  0.04508846],\n",
       "       [-2.05199837, -0.11230316,  0.52716971, ...,  0.44026687,\n",
       "         0.75005478,  0.98744661],\n",
       "       [ 0.58819328,  0.98095059,  1.31808173, ..., -2.90044887,\n",
       "        -2.62975149, -2.00537926]])"
      ]
     },
     "execution_count": 17,
     "metadata": {},
     "output_type": "execute_result"
    }
   ],
   "source": [
    "X_test2"
   ]
  },
  {
   "cell_type": "code",
   "execution_count": 18,
   "metadata": {},
   "outputs": [],
   "source": [
    "#!pip install xgboost"
   ]
  },
  {
   "cell_type": "code",
   "execution_count": 18,
   "metadata": {},
   "outputs": [
    {
     "name": "stdout",
     "output_type": "stream",
     "text": [
      "Accuracy: 90.72%\n"
     ]
    }
   ],
   "source": [
    "# XGBoost model\n",
    "import xgboost as xgb\n",
    "from xgboost import XGBClassifier\n",
    "from sklearn.metrics import accuracy_score\n",
    "\n",
    "# fit model on training data\n",
    "model = XGBClassifier()\n",
    "model.fit(X_train, y_train)\n",
    "\n",
    "# make predictions for test data\n",
    "y_pred = model.predict(X_test1)\n",
    "predictions = [round(value) for value in y_pred]\n",
    "\n",
    "# evaluate predictions\n",
    "accuracy = accuracy_score(y_test1, predictions)\n",
    "print(\"Accuracy: %.2f%%\" % (accuracy * 100.0))"
   ]
  },
  {
   "cell_type": "code",
   "execution_count": 19,
   "metadata": {},
   "outputs": [
    {
     "name": "stdout",
     "output_type": "stream",
     "text": [
      "Accuracy: 95.68%\n"
     ]
    }
   ],
   "source": [
    "# fit model on training data\n",
    "model = XGBClassifier()\n",
    "model.fit(X_train, y_train)\n",
    "\n",
    "# make predictions for test data\n",
    "y_pred = model.predict(X_test2)\n",
    "predictions = [round(value) for value in y_pred]\n",
    "\n",
    "# evaluate predictions\n",
    "accuracy = accuracy_score(y_test2, predictions)\n",
    "print(\"Accuracy: %.2f%%\" % (accuracy * 100.0))"
   ]
  },
  {
   "cell_type": "code",
   "execution_count": 20,
   "metadata": {},
   "outputs": [],
   "source": [
    "#1st model"
   ]
  },
  {
   "cell_type": "code",
   "execution_count": 21,
   "metadata": {},
   "outputs": [],
   "source": [
    "xgb1 = XGBClassifier(\n",
    " learning_rate =0.1,\n",
    " n_estimators=1000,\n",
    " max_depth=5,\n",
    " min_child_weight=1,\n",
    " gamma=0,\n",
    " subsample=0.8,\n",
    " colsample_bytree=0.8,\n",
    " objective= 'multi:softmax', num_class = 8,\n",
    " nthread= 4,\n",
    " seed=10)"
   ]
  },
  {
   "cell_type": "code",
   "execution_count": 22,
   "metadata": {},
   "outputs": [
    {
     "name": "stdout",
     "output_type": "stream",
     "text": [
      "Accuracy: 92.20%\n"
     ]
    }
   ],
   "source": [
    "# fit model on training data\n",
    "model = xgb1\n",
    "model.fit(X_train, y_train)\n",
    "\n",
    "# make predictions for test data\n",
    "y_pred = model.predict(X_test1)\n",
    "predictions = [round(value) for value in y_pred]\n",
    "\n",
    "# evaluate predictions\n",
    "accuracy = accuracy_score(y_test1, predictions)\n",
    "print(\"Accuracy: %.2f%%\" % (accuracy * 100.0))"
   ]
  },
  {
   "cell_type": "code",
   "execution_count": 23,
   "metadata": {},
   "outputs": [
    {
     "name": "stdout",
     "output_type": "stream",
     "text": [
      "Accuracy: 96.12%\n"
     ]
    }
   ],
   "source": [
    "# make predictions for test data\n",
    "y_pred2 = model.predict(X_test2)\n",
    "predictions = [round(value) for value in y_pred2]\n",
    "\n",
    "# evaluate predictions\n",
    "accuracy = accuracy_score(y_test2, predictions)\n",
    "print(\"Accuracy: %.2f%%\" % (accuracy * 100.0))"
   ]
  },
  {
   "cell_type": "code",
   "execution_count": 25,
   "metadata": {},
   "outputs": [],
   "source": [
    "#param tuning #1"
   ]
  },
  {
   "cell_type": "code",
   "execution_count": 27,
   "metadata": {},
   "outputs": [
    {
     "name": "stdout",
     "output_type": "stream",
     "text": [
      "Best parameters set found on training set:\n",
      "\n",
      "{'max_depth': 3, 'min_child_weight': 3}\n",
      "\n",
      "Grid scores on training set:\n",
      "\n",
      "0.99901 (+/-0.00065) for {'max_depth': 3, 'min_child_weight': 1}\n",
      "0.99912 (+/-0.00074) for {'max_depth': 3, 'min_child_weight': 3}\n",
      "0.99898 (+/-0.00061) for {'max_depth': 3, 'min_child_weight': 5}\n",
      "0.99905 (+/-0.00069) for {'max_depth': 5, 'min_child_weight': 1}\n",
      "0.99887 (+/-0.00091) for {'max_depth': 5, 'min_child_weight': 3}\n",
      "0.99898 (+/-0.00065) for {'max_depth': 5, 'min_child_weight': 5}\n",
      "0.99887 (+/-0.00091) for {'max_depth': 7, 'min_child_weight': 1}\n",
      "0.99884 (+/-0.00091) for {'max_depth': 7, 'min_child_weight': 3}\n",
      "0.99894 (+/-0.00086) for {'max_depth': 7, 'min_child_weight': 5}\n",
      "0.99880 (+/-0.00098) for {'max_depth': 9, 'min_child_weight': 1}\n",
      "0.99877 (+/-0.00086) for {'max_depth': 9, 'min_child_weight': 3}\n",
      "0.99887 (+/-0.00091) for {'max_depth': 9, 'min_child_weight': 5}\n",
      "\n"
     ]
    }
   ],
   "source": [
    "param_test1 = {\n",
    " 'max_depth':range(3,10,2),\n",
    " 'min_child_weight':range(1,6,2)\n",
    "}\n",
    "gsearch1 = GridSearchCV(estimator = XGBClassifier( learning_rate =0.1, n_estimators=200, gamma=0, subsample=0.8,\n",
    "                                                  colsample_bytree=0.8, objective= 'multi:softmax', num_class = 8, \n",
    "                                                  nthread=4, seed= 10),  param_grid = param_test1, \n",
    "                                                 scoring = 'accuracy',n_jobs=4, cv=5)\n",
    "gsearch1.fit(X_train,y_train)\n",
    "\n",
    "print(\"Best parameters set found on training set:\")\n",
    "print()\n",
    "print(gsearch1.best_params_)\n",
    "print()\n",
    "print(\"Grid scores on training set:\")\n",
    "print()\n",
    "means = gsearch1.cv_results_['mean_test_score']\n",
    "stds = gsearch1.cv_results_['std_test_score']\n",
    "for mean, std, params in zip(means, stds, gsearch1.cv_results_['params']):\n",
    "    print(\"%0.5f (+/-%0.05f) for %r\"\n",
    "            % (mean, std * 2, params))\n",
    "print()"
   ]
  },
  {
   "cell_type": "code",
   "execution_count": 28,
   "metadata": {},
   "outputs": [
    {
     "name": "stdout",
     "output_type": "stream",
     "text": [
      "Best parameters set found on training set:\n",
      "\n",
      "{'max_depth': 3, 'min_child_weight': 3}\n",
      "\n",
      "Grid scores on training set:\n",
      "\n",
      "0.99912 (+/-0.00074) for {'max_depth': 3, 'min_child_weight': 3}\n",
      "0.99901 (+/-0.00061) for {'max_depth': 3, 'min_child_weight': 4}\n",
      "0.99898 (+/-0.00061) for {'max_depth': 3, 'min_child_weight': 5}\n",
      "0.99901 (+/-0.00065) for {'max_depth': 4, 'min_child_weight': 3}\n",
      "0.99898 (+/-0.00078) for {'max_depth': 4, 'min_child_weight': 4}\n",
      "0.99894 (+/-0.00092) for {'max_depth': 4, 'min_child_weight': 5}\n",
      "0.99887 (+/-0.00091) for {'max_depth': 5, 'min_child_weight': 3}\n",
      "0.99898 (+/-0.00068) for {'max_depth': 5, 'min_child_weight': 4}\n",
      "0.99898 (+/-0.00065) for {'max_depth': 5, 'min_child_weight': 5}\n",
      "\n"
     ]
    }
   ],
   "source": [
    "param_test2 = {\n",
    " 'max_depth':[3,4,5],\n",
    " 'min_child_weight':[3,4,5]\n",
    "}\n",
    "gsearch2 = GridSearchCV(estimator = XGBClassifier(  learning_rate =0.1, n_estimators=200, gamma=0, subsample=0.8,\n",
    "                                                  colsample_bytree=0.8, objective= 'multi:softmax', num_class = 8, \n",
    "                                                  nthread=4, seed=10),  param_grid = param_test2, \n",
    "                                                 scoring = 'accuracy',n_jobs=4, cv=5)\n",
    "gsearch2.fit(X_train,y_train)\n",
    "\n",
    "print(\"Best parameters set found on training set:\")\n",
    "print()\n",
    "print(gsearch2.best_params_)\n",
    "print()\n",
    "print(\"Grid scores on training set:\")\n",
    "print()\n",
    "means = gsearch2.cv_results_['mean_test_score']\n",
    "stds = gsearch2.cv_results_['std_test_score']\n",
    "for mean, std, params in zip(means, stds, gsearch2.cv_results_['params']):\n",
    "    print(\"%0.5f (+/-%0.05f) for %r\"\n",
    "            % (mean, std * 2, params))\n",
    "print()"
   ]
  },
  {
   "cell_type": "code",
   "execution_count": 30,
   "metadata": {},
   "outputs": [
    {
     "name": "stdout",
     "output_type": "stream",
     "text": [
      "Best parameters set found on training set:\n",
      "\n",
      "{'min_child_weight': 6}\n",
      "\n",
      "Grid scores on training set:\n",
      "\n",
      "0.99901 (+/-0.00082) for {'min_child_weight': 6}\n",
      "0.99894 (+/-0.00077) for {'min_child_weight': 8}\n",
      "0.99887 (+/-0.00073) for {'min_child_weight': 10}\n",
      "0.99894 (+/-0.00059) for {'min_child_weight': 12}\n",
      "\n"
     ]
    }
   ],
   "source": [
    "param_test2b = {\n",
    " 'min_child_weight':[6,8,10,12]\n",
    "}\n",
    "gsearch2b = GridSearchCV(estimator = XGBClassifier( learning_rate=0.1, n_estimators=200, max_depth=3,\n",
    "gamma=0, subsample=0.8, colsample_bytree=0.8,\n",
    "objective= 'multi:softmax', num_class = 8, nthread=4,seed=10), \n",
    " param_grid = param_test2b, scoring='accuracy',n_jobs=4, cv=5)\n",
    "gsearch2b.fit(X_train,y_train)\n",
    "\n",
    "print(\"Best parameters set found on training set:\")\n",
    "print()\n",
    "print(gsearch2b.best_params_)\n",
    "print()\n",
    "print(\"Grid scores on training set:\")\n",
    "print()\n",
    "means = gsearch2b.cv_results_['mean_test_score']\n",
    "stds = gsearch2b.cv_results_['std_test_score']\n",
    "for mean, std, params in zip(means, stds, gsearch2b.cv_results_['params']):\n",
    "    print(\"%0.5f (+/-%0.05f) for %r\"\n",
    "            % (mean, std * 2, params))\n",
    "print()"
   ]
  },
  {
   "cell_type": "code",
   "execution_count": 32,
   "metadata": {},
   "outputs": [],
   "source": [
    "# param tuning 2"
   ]
  },
  {
   "cell_type": "code",
   "execution_count": 33,
   "metadata": {},
   "outputs": [
    {
     "name": "stdout",
     "output_type": "stream",
     "text": [
      "Best parameters set found on training set:\n",
      "\n",
      "{'gamma': 0.0}\n",
      "\n",
      "Grid scores on training set:\n",
      "\n",
      "0.99912 (+/-0.00074) for {'gamma': 0.0}\n",
      "0.99905 (+/-0.00065) for {'gamma': 0.1}\n",
      "0.99901 (+/-0.00065) for {'gamma': 0.2}\n",
      "0.99905 (+/-0.00065) for {'gamma': 0.3}\n",
      "0.99905 (+/-0.00065) for {'gamma': 0.4}\n",
      "0.99905 (+/-0.00065) for {'gamma': 0.5}\n",
      "0.99894 (+/-0.00059) for {'gamma': 0.6}\n",
      "0.99891 (+/-0.00079) for {'gamma': 0.7}\n",
      "0.99884 (+/-0.00069) for {'gamma': 0.8}\n",
      "0.99880 (+/-0.00068) for {'gamma': 0.9}\n",
      "\n"
     ]
    }
   ],
   "source": [
    "param_test3 = {\n",
    " 'gamma':[i/10.0 for i in range(0,10)]\n",
    "}\n",
    "gsearch3 = GridSearchCV(estimator = XGBClassifier( learning_rate =0.1, n_estimators=200, max_depth=3,\n",
    " min_child_weight=3, gamma=0, subsample=0.8, colsample_bytree=0.8,objective= 'multi:softmax', num_class = 8, nthread=4,seed=10), \n",
    " param_grid = param_test3, scoring='accuracy',n_jobs=4, cv=5)\n",
    "gsearch3.fit(X_train,y_train)\n",
    "\n",
    "print(\"Best parameters set found on training set:\")\n",
    "print()\n",
    "print(gsearch3.best_params_)\n",
    "print()\n",
    "print(\"Grid scores on training set:\")\n",
    "print()\n",
    "means = gsearch3.cv_results_['mean_test_score']\n",
    "stds = gsearch3.cv_results_['std_test_score']\n",
    "for mean, std, params in zip(means, stds, gsearch3.cv_results_['params']):\n",
    "    print(\"%0.5f (+/-%0.05f) for %r\"\n",
    "            % (mean, std * 2, params))\n",
    "print()"
   ]
  },
  {
   "cell_type": "code",
   "execution_count": 27,
   "metadata": {},
   "outputs": [
    {
     "name": "stdout",
     "output_type": "stream",
     "text": [
      "Best parameters set found on training set:\n",
      "\n",
      "{'gamma': 0.0}\n",
      "\n",
      "Grid scores on training set:\n",
      "\n",
      "0.99912 (+/-0.00074) for {'gamma': 0.0}\n",
      "0.99908 (+/-0.00072) for {'gamma': 0.02}\n",
      "0.99905 (+/-0.00065) for {'gamma': 0.04}\n",
      "0.99905 (+/-0.00065) for {'gamma': 0.06}\n",
      "0.99901 (+/-0.00061) for {'gamma': 0.08}\n",
      "\n"
     ]
    }
   ],
   "source": [
    "param_test3b = {\n",
    " 'gamma':[i/100.0 for i in range(0,10,2)]\n",
    "}\n",
    "gsearch3b = GridSearchCV(estimator = XGBClassifier( learning_rate =0.1, n_estimators=200, max_depth=3,\n",
    " min_child_weight=3, gamma=0, subsample=0.8, colsample_bytree=0.8,objective= 'multi:softmax', num_class = 8, nthread=4,seed=10), \n",
    " param_grid = param_test3b, scoring='accuracy',n_jobs=4, cv=5)\n",
    "gsearch3b.fit(X_train,y_train)\n",
    "\n",
    "print(\"Best parameters set found on training set:\")\n",
    "print()\n",
    "print(gsearch3b.best_params_)\n",
    "print()\n",
    "print(\"Grid scores on training set:\")\n",
    "print()\n",
    "means = gsearch3b.cv_results_['mean_test_score']\n",
    "stds = gsearch3b.cv_results_['std_test_score']\n",
    "for mean, std, params in zip(means, stds, gsearch3b.cv_results_['params']):\n",
    "    print(\"%0.5f (+/-%0.05f) for %r\"\n",
    "            % (mean, std * 2, params))\n",
    "print()"
   ]
  },
  {
   "cell_type": "code",
   "execution_count": 24,
   "metadata": {},
   "outputs": [],
   "source": [
    "#model2"
   ]
  },
  {
   "cell_type": "code",
   "execution_count": 25,
   "metadata": {},
   "outputs": [],
   "source": [
    "xgb2 = XGBClassifier(\n",
    " learning_rate =0.1,\n",
    " n_estimators=1000,\n",
    " max_depth= 3,\n",
    " min_child_weight= 3,\n",
    " gamma= 0,\n",
    " subsample=0.8,\n",
    " colsample_bytree=0.8,\n",
    " objective= 'multi:softmax', num_class = 8,\n",
    " nthread=4,\n",
    " seed=10)"
   ]
  },
  {
   "cell_type": "code",
   "execution_count": 26,
   "metadata": {},
   "outputs": [
    {
     "name": "stdout",
     "output_type": "stream",
     "text": [
      "Accuracy: 92.20%\n"
     ]
    }
   ],
   "source": [
    "# fit model on training data\n",
    "model2 = xgb2\n",
    "model2.fit(X_train, y_train)\n",
    "\n",
    "# make predictions for test data\n",
    "y_pred = model.predict(X_test1)\n",
    "predictions = [round(value) for value in y_pred]\n",
    "\n",
    "# evaluate predictions\n",
    "accuracy = accuracy_score(y_test1, predictions)\n",
    "print(\"Accuracy: %.2f%%\" % (accuracy * 100.0))"
   ]
  },
  {
   "cell_type": "code",
   "execution_count": 27,
   "metadata": {},
   "outputs": [
    {
     "name": "stdout",
     "output_type": "stream",
     "text": [
      "Accuracy: 96.55%\n"
     ]
    }
   ],
   "source": [
    "# make predictions for test data\n",
    "y_pred2 = model2.predict(X_test2)\n",
    "predictions = [round(value) for value in y_pred2]\n",
    "\n",
    "# evaluate predictions\n",
    "accuracy = accuracy_score(y_test2, predictions)\n",
    "print(\"Accuracy: %.2f%%\" % (accuracy * 100.0))"
   ]
  },
  {
   "cell_type": "code",
   "execution_count": null,
   "metadata": {},
   "outputs": [],
   "source": []
  },
  {
   "cell_type": "code",
   "execution_count": 29,
   "metadata": {},
   "outputs": [
    {
     "name": "stdout",
     "output_type": "stream",
     "text": [
      "Best parameters set found on training set:\n",
      "\n",
      "{'colsample_bytree': 0.6, 'subsample': 0.6}\n",
      "\n",
      "Grid scores on training set:\n",
      "\n",
      "0.99912 (+/-0.00074) for {'colsample_bytree': 0.5, 'subsample': 0.5}\n",
      "0.99919 (+/-0.00048) for {'colsample_bytree': 0.5, 'subsample': 0.6}\n",
      "0.99926 (+/-0.00041) for {'colsample_bytree': 0.5, 'subsample': 0.7}\n",
      "0.99919 (+/-0.00048) for {'colsample_bytree': 0.5, 'subsample': 0.8}\n",
      "0.99922 (+/-0.00036) for {'colsample_bytree': 0.5, 'subsample': 0.9}\n",
      "0.99912 (+/-0.00050) for {'colsample_bytree': 0.6, 'subsample': 0.5}\n",
      "0.99926 (+/-0.00035) for {'colsample_bytree': 0.6, 'subsample': 0.6}\n",
      "0.99922 (+/-0.00065) for {'colsample_bytree': 0.6, 'subsample': 0.7}\n",
      "0.99919 (+/-0.00061) for {'colsample_bytree': 0.6, 'subsample': 0.8}\n",
      "0.99912 (+/-0.00039) for {'colsample_bytree': 0.6, 'subsample': 0.9}\n",
      "0.99905 (+/-0.00036) for {'colsample_bytree': 0.7, 'subsample': 0.5}\n",
      "0.99926 (+/-0.00035) for {'colsample_bytree': 0.7, 'subsample': 0.6}\n",
      "0.99915 (+/-0.00079) for {'colsample_bytree': 0.7, 'subsample': 0.7}\n",
      "0.99919 (+/-0.00042) for {'colsample_bytree': 0.7, 'subsample': 0.8}\n",
      "0.99919 (+/-0.00061) for {'colsample_bytree': 0.7, 'subsample': 0.9}\n",
      "0.99901 (+/-0.00061) for {'colsample_bytree': 0.8, 'subsample': 0.5}\n",
      "0.99908 (+/-0.00072) for {'colsample_bytree': 0.8, 'subsample': 0.6}\n",
      "0.99908 (+/-0.00061) for {'colsample_bytree': 0.8, 'subsample': 0.7}\n",
      "0.99912 (+/-0.00074) for {'colsample_bytree': 0.8, 'subsample': 0.8}\n",
      "0.99908 (+/-0.00052) for {'colsample_bytree': 0.8, 'subsample': 0.9}\n",
      "0.99901 (+/-0.00085) for {'colsample_bytree': 0.9, 'subsample': 0.5}\n",
      "0.99908 (+/-0.00087) for {'colsample_bytree': 0.9, 'subsample': 0.6}\n",
      "0.99908 (+/-0.00072) for {'colsample_bytree': 0.9, 'subsample': 0.7}\n",
      "0.99905 (+/-0.00053) for {'colsample_bytree': 0.9, 'subsample': 0.8}\n",
      "0.99908 (+/-0.00052) for {'colsample_bytree': 0.9, 'subsample': 0.9}\n",
      "\n"
     ]
    }
   ],
   "source": [
    "param_test4 = {\n",
    " 'subsample':[i/10.0 for i in range(5,10)],\n",
    " 'colsample_bytree':[i/10.0 for i in range(5,10)]\n",
    "}\n",
    "gsearch4 = GridSearchCV(estimator = XGBClassifier( learning_rate =0.1, n_estimators=200, max_depth=3,\n",
    " min_child_weight=3, gamma=0, objective= 'multi:softmax', num_class = 8 , nthread=4,seed=10), \n",
    " param_grid = param_test4, scoring='accuracy',n_jobs=4, cv=5)\n",
    "gsearch4.fit(X_train, y_train)\n",
    "\n",
    "print(\"Best parameters set found on training set:\")\n",
    "print()\n",
    "print(gsearch4.best_params_)\n",
    "print()\n",
    "print(\"Grid scores on training set:\")\n",
    "print()\n",
    "means = gsearch4.cv_results_['mean_test_score']\n",
    "stds = gsearch4.cv_results_['std_test_score']\n",
    "for mean, std, params in zip(means, stds, gsearch4.cv_results_['params']):\n",
    "    print(\"%0.5f (+/-%0.05f) for %r\"\n",
    "            % (mean, std * 2, params))\n",
    "print()"
   ]
  },
  {
   "cell_type": "code",
   "execution_count": null,
   "metadata": {},
   "outputs": [],
   "source": []
  },
  {
   "cell_type": "code",
   "execution_count": 31,
   "metadata": {},
   "outputs": [
    {
     "name": "stdout",
     "output_type": "stream",
     "text": [
      "Best parameters set found on training set:\n",
      "\n",
      "{'colsample_bytree': 0.6, 'subsample': 0.6}\n",
      "\n",
      "Grid scores on training set:\n",
      "\n",
      "0.999 (+/-0.001) for {'colsample_bytree': 0.45, 'subsample': 0.45}\n",
      "0.999 (+/-0.001) for {'colsample_bytree': 0.45, 'subsample': 0.5}\n",
      "0.999 (+/-0.000) for {'colsample_bytree': 0.45, 'subsample': 0.55}\n",
      "0.999 (+/-0.001) for {'colsample_bytree': 0.45, 'subsample': 0.6}\n",
      "0.999 (+/-0.001) for {'colsample_bytree': 0.5, 'subsample': 0.45}\n",
      "0.999 (+/-0.001) for {'colsample_bytree': 0.5, 'subsample': 0.5}\n",
      "0.999 (+/-0.000) for {'colsample_bytree': 0.5, 'subsample': 0.55}\n",
      "0.999 (+/-0.000) for {'colsample_bytree': 0.5, 'subsample': 0.6}\n",
      "0.999 (+/-0.000) for {'colsample_bytree': 0.55, 'subsample': 0.45}\n",
      "0.999 (+/-0.001) for {'colsample_bytree': 0.55, 'subsample': 0.5}\n",
      "0.999 (+/-0.001) for {'colsample_bytree': 0.55, 'subsample': 0.55}\n",
      "0.999 (+/-0.000) for {'colsample_bytree': 0.55, 'subsample': 0.6}\n",
      "0.999 (+/-0.000) for {'colsample_bytree': 0.6, 'subsample': 0.45}\n",
      "0.999 (+/-0.000) for {'colsample_bytree': 0.6, 'subsample': 0.5}\n",
      "0.999 (+/-0.000) for {'colsample_bytree': 0.6, 'subsample': 0.55}\n",
      "0.999 (+/-0.000) for {'colsample_bytree': 0.6, 'subsample': 0.6}\n",
      "\n"
     ]
    }
   ],
   "source": [
    "param_test5 = {\n",
    " 'subsample':[i/100.0 for i in range(45,65,5)],\n",
    " 'colsample_bytree':[i/100.0 for i in range(45,65,5)]\n",
    "}\n",
    "gsearch5 = GridSearchCV(estimator = XGBClassifier( learning_rate =0.1, n_estimators=200, max_depth=3,\n",
    "min_child_weight=3, gamma=0, objective= 'multi:softmax', num_class = 8 , nthread=4, seed=10), \n",
    "param_grid = param_test5, scoring='accuracy',n_jobs=4, cv=5)\n",
    "\n",
    "gsearch5.fit(X_train, y_train)\n",
    "\n",
    "print(\"Best parameters set found on training set:\")\n",
    "print()\n",
    "print(gsearch5.best_params_)\n",
    "print()\n",
    "print(\"Grid scores on training set:\")\n",
    "print()\n",
    "means = gsearch5.cv_results_['mean_test_score']\n",
    "stds = gsearch5.cv_results_['std_test_score']\n",
    "for mean, std, params in zip(means, stds, gsearch5.cv_results_['params']):\n",
    "    print(\"%0.3f (+/-%0.03f) for %r\"\n",
    "            % (mean, std * 2, params))\n",
    "print()"
   ]
  },
  {
   "cell_type": "code",
   "execution_count": null,
   "metadata": {},
   "outputs": [],
   "source": []
  },
  {
   "cell_type": "code",
   "execution_count": 42,
   "metadata": {},
   "outputs": [
    {
     "name": "stdout",
     "output_type": "stream",
     "text": [
      "[20:19:26] WARNING: C:\\Users\\Administrator\\workspace\\xgboost-win64_release_1.2.0\\src\\learner.cc:516: \n",
      "Parameters: { scale_pos_weight } might not be used.\n",
      "\n",
      "  This may not be accurate due to some parameters are only used in language bindings but\n",
      "  passed down to XGBoost core.  Or some parameters are not used but slip through this\n",
      "  verification. Please open an issue if you find above cases.\n",
      "\n",
      "\n",
      "Best parameters set found on training set:\n",
      "\n",
      "{'reg_alpha': 1e-05}\n",
      "\n",
      "Grid scores on training set:\n",
      "\n",
      "0.99926 (+/-0.00035) for {'reg_alpha': 1e-05}\n",
      "0.99915 (+/-0.00068) for {'reg_alpha': 0.01}\n",
      "0.99919 (+/-0.00048) for {'reg_alpha': 0.1}\n",
      "0.99901 (+/-0.00048) for {'reg_alpha': 1}\n",
      "0.99792 (+/-0.00129) for {'reg_alpha': 10}\n",
      "0.98163 (+/-0.00426) for {'reg_alpha': 100}\n",
      "\n"
     ]
    }
   ],
   "source": [
    "param_test6 = {\n",
    " 'reg_alpha':[1e-5, 1e-2, 0.1, 1, 10, 100]\n",
    "}\n",
    "\n",
    "gsearch6 = GridSearchCV(estimator = XGBClassifier( learning_rate =0.1, n_estimators=200, max_depth=3,_child_weight=3, gamma=0, subsample=0.6, colsample_bytree=0.6,objective= 'multi:softmax', num_class = 8,\n",
    "                                                  nthread=4, seed=10), \n",
    " param_grid = param_test6, scoring='accuracy',n_jobs=4, cv=5)\n",
    "\n",
    "gsearch6.fit(X_train, y_train)\n",
    "\n",
    "print(\"Best parameters set found on training set:\")\n",
    "print()\n",
    "print(gsearch6.best_params_)\n",
    "print()\n",
    "print(\"Grid scores on training set:\")\n",
    "print()\n",
    "means = gsearch6.cv_results_['mean_test_score']\n",
    "stds = gsearch6.cv_results_['std_test_score']\n",
    "for mean, std, params in zip(means, stds, gsearch6.cv_results_['params']):\n",
    "    print(\"%0.5f (+/-%0.05f) for %r\"\n",
    "            % (mean, std * 2, params))\n",
    "print()"
   ]
  },
  {
   "cell_type": "code",
   "execution_count": null,
   "metadata": {},
   "outputs": [],
   "source": []
  },
  {
   "cell_type": "code",
   "execution_count": 28,
   "metadata": {},
   "outputs": [],
   "source": [
    "#model 3"
   ]
  },
  {
   "cell_type": "code",
   "execution_count": 29,
   "metadata": {},
   "outputs": [],
   "source": [
    "xgb3 = XGBClassifier(\n",
    " learning_rate =0.1,\n",
    " n_estimators=1000,\n",
    " max_depth=3,\n",
    " min_child_weight=3,\n",
    " gamma=0,\n",
    " subsample=0.6,\n",
    " colsample_bytree=0.6,\n",
    " reg_alpha= 1e-05,\n",
    " objective= 'multi:softmax', num_class = 8,\n",
    " nthread=4,\n",
    " seed=10)"
   ]
  },
  {
   "cell_type": "code",
   "execution_count": null,
   "metadata": {},
   "outputs": [],
   "source": []
  },
  {
   "cell_type": "code",
   "execution_count": 30,
   "metadata": {},
   "outputs": [
    {
     "name": "stdout",
     "output_type": "stream",
     "text": [
      "Accuracy: 93.23%\n"
     ]
    }
   ],
   "source": [
    "# fit model on training data\n",
    "model3 = xgb3\n",
    "\n",
    "model3.fit(X_train, y_train)\n",
    "\n",
    "# make predictions for test data\n",
    "y_pred = model3.predict(X_test1)\n",
    "predictions = [round(value) for value in y_pred]\n",
    "\n",
    "# evaluate predictions\n",
    "accuracy = accuracy_score(y_test1, predictions)\n",
    "print(\"Accuracy: %.2f%%\" % (accuracy * 100.0))"
   ]
  },
  {
   "cell_type": "code",
   "execution_count": 31,
   "metadata": {},
   "outputs": [
    {
     "name": "stdout",
     "output_type": "stream",
     "text": [
      "Accuracy: 96.68%\n"
     ]
    }
   ],
   "source": [
    "# make predictions for test data\n",
    "y_pred2 = model3.predict(X_test2)\n",
    "predictions = [round(value) for value in y_pred2]\n",
    "\n",
    "# evaluate predictions\n",
    "accuracy = accuracy_score(y_test2, predictions)\n",
    "print(\"Accuracy: %.2f%%\" % (accuracy * 100.0))"
   ]
  },
  {
   "cell_type": "code",
   "execution_count": null,
   "metadata": {},
   "outputs": [],
   "source": []
  },
  {
   "cell_type": "code",
   "execution_count": 32,
   "metadata": {},
   "outputs": [],
   "source": [
    "#learning rate and n_estimators"
   ]
  },
  {
   "cell_type": "code",
   "execution_count": null,
   "metadata": {},
   "outputs": [],
   "source": [
    "#param_test7 = {\n",
    "#'n_estimators' : [100, 200, 500, 1000, 5000],\n",
    "#'learning_rate':[0.0001, 0.001, 0.01, 0.1]\n",
    "#}\n",
    "#gsearch7 = GridSearchCV(estimator = XGBClassifier( max_depth=3,min_child_weight=3, gamma=0, subsample=0.6, #colsample_bytree=0.6,objective= 'multi:softmax', num_class = 8, nthread=4, seed=10),param_grid = param_test7, #scoring='accuracy',n_jobs=4, cv=5)\n",
    "#gsearch7.fit(X_train, y_train)\n",
    "#print(\"Best parameters set found on training set:\")\n",
    "#print()\n",
    "#print(gsearch7.best_params_)\n",
    "#print()\n",
    "#print(\"Grid scores on training set:\")\n",
    "#print()\n",
    "#means = gsearch7.cv_results_['mean_test_score']\n",
    "#stds = gsearch7.cv_results_['std_test_score']\n",
    "#for mean, std, params in zip(means, stds, gsearch7.cv_results_['params']):\n",
    "    #print(\"%0.5f (+/-%0.05f) for %r\" % (mean, std * 2, params))\n",
    "#print()"
   ]
  },
  {
   "cell_type": "code",
   "execution_count": null,
   "metadata": {},
   "outputs": [],
   "source": []
  },
  {
   "cell_type": "code",
   "execution_count": 58,
   "metadata": {},
   "outputs": [],
   "source": [
    "#model 4"
   ]
  },
  {
   "cell_type": "code",
   "execution_count": 59,
   "metadata": {},
   "outputs": [],
   "source": [
    "xgb4 = XGBClassifier(\n",
    " learning_rate = 0.1,\n",
    " n_estimators = 5000,\n",
    " max_depth = 3,\n",
    " min_child_weight = 3,\n",
    " gamma = 0,\n",
    " subsample = 0.6,\n",
    " colsample_bytree = 0.6,\n",
    " reg_alpha = 1e-05,\n",
    " objective = 'multi:softmax', num_class = 8,\n",
    " nthread = 4,\n",
    " seed = 10)"
   ]
  },
  {
   "cell_type": "code",
   "execution_count": 60,
   "metadata": {},
   "outputs": [
    {
     "data": {
      "text/plain": [
       "XGBClassifier(base_score=0.5, booster='gbtree', colsample_bylevel=1,\n",
       "              colsample_bynode=1, colsample_bytree=0.6, gamma=0, gpu_id=-1,\n",
       "              importance_type='gain', interaction_constraints='',\n",
       "              learning_rate=0.1, max_delta_step=0, max_depth=3,\n",
       "              min_child_weight=3, missing=nan, monotone_constraints='()',\n",
       "              n_estimators=5000, n_jobs=4, nthread=4, num_class=8,\n",
       "              num_parallel_tree=1, objective='multi:softprob', random_state=10,\n",
       "              reg_alpha=1e-05, reg_lambda=1, scale_pos_weight=None, seed=10,\n",
       "              subsample=0.6, tree_method='exact', validate_parameters=1,\n",
       "              verbosity=None)"
      ]
     },
     "execution_count": 60,
     "metadata": {},
     "output_type": "execute_result"
    }
   ],
   "source": [
    "# fit model on training data\n",
    "model4 = xgb4\n",
    "model4.fit(X_train, y_train)"
   ]
  },
  {
   "cell_type": "code",
   "execution_count": 61,
   "metadata": {},
   "outputs": [
    {
     "name": "stdout",
     "output_type": "stream",
     "text": [
      "Accuracy: 93.30%\n"
     ]
    }
   ],
   "source": [
    "# make predictions for test data\n",
    "y_predict1 = model4.predict(X_test1)\n",
    "predictions = [round(value) for value in y_predict1]\n",
    "\n",
    "# evaluate predictions\n",
    "accuracy = accuracy_score(y_test1, predictions)\n",
    "print(\"Accuracy: %.2f%%\" % (accuracy * 100.0))"
   ]
  },
  {
   "cell_type": "code",
   "execution_count": 62,
   "metadata": {},
   "outputs": [
    {
     "name": "stdout",
     "output_type": "stream",
     "text": [
      "Accuracy: 96.66%\n"
     ]
    }
   ],
   "source": [
    "# make predictions for test data\n",
    "y_predict2 = model4.predict(X_test2)\n",
    "predictions = [round(value) for value in y_predict2]\n",
    "\n",
    "# evaluate predictions\n",
    "accuracy = accuracy_score(y_test2, predictions)\n",
    "print(\"Accuracy: %.2f%%\" % (accuracy * 100.0))"
   ]
  },
  {
   "cell_type": "code",
   "execution_count": null,
   "metadata": {},
   "outputs": [],
   "source": []
  },
  {
   "cell_type": "code",
   "execution_count": null,
   "metadata": {},
   "outputs": [],
   "source": [
    "#RESULTS"
   ]
  },
  {
   "cell_type": "code",
   "execution_count": null,
   "metadata": {},
   "outputs": [],
   "source": [
    "#TEST SET 1"
   ]
  },
  {
   "cell_type": "code",
   "execution_count": 63,
   "metadata": {},
   "outputs": [
    {
     "data": {
      "text/plain": [
       "0.9330210387902695"
      ]
     },
     "execution_count": 63,
     "metadata": {},
     "output_type": "execute_result"
    }
   ],
   "source": [
    "#accuracy\n",
    "accuracy_score(y_test1, y_predict1)"
   ]
  },
  {
   "cell_type": "code",
   "execution_count": 64,
   "metadata": {},
   "outputs": [
    {
     "name": "stdout",
     "output_type": "stream",
     "text": [
      "              precision    recall  f1-score   support\n",
      "\n",
      "           0  0.90751790 1.00000000 0.95151705      1521\n",
      "           1  0.99217221 1.00000000 0.99607073      1521\n",
      "           2  0.98700455 0.99868508 0.99281046      1521\n",
      "           3  0.99647577 0.74358974 0.85165663      1521\n",
      "           4  1.00000000 0.99211045 0.99603960      1521\n",
      "           5  0.75704225 0.98948060 0.85779424      1521\n",
      "           6  0.88871350 0.74030243 0.80774749      1521\n",
      "           7  1.00000000 1.00000000 1.00000000      1521\n",
      "\n",
      "    accuracy                      0.93302104     12168\n",
      "   macro avg  0.94111577 0.93302104 0.93170452     12168\n",
      "weighted avg  0.94111577 0.93302104 0.93170452     12168\n",
      "\n"
     ]
    }
   ],
   "source": [
    "#classification report\n",
    "from sklearn import metrics\n",
    "print(metrics.classification_report(y_test1, y_predict1, digits = 8))"
   ]
  },
  {
   "cell_type": "code",
   "execution_count": 67,
   "metadata": {},
   "outputs": [
    {
     "data": {
      "text/plain": [
       "<matplotlib.axes._subplots.AxesSubplot at 0x227bd12e988>"
      ]
     },
     "execution_count": 67,
     "metadata": {},
     "output_type": "execute_result"
    },
    {
     "data": {
      "image/png": "[encoded data removed]",
      "text/plain": [
       "<Figure size 720x576 with 2 Axes>"
      ]
     },
     "metadata": {
      "needs_background": "light"
     },
     "output_type": "display_data"
    }
   ],
   "source": [
    "from sklearn.metrics import confusion_matrix\n",
    "    \n",
    "#confusion matrix   \n",
    "cm_svm = confusion_matrix(y_test1, y_predict1)\n",
    "array = cm_svm \n",
    "\n",
    "df_cm = pd.DataFrame(array, index = [i for i in \"12345678\"],\n",
    "                  columns = [i for i in \"12345678\"])\n",
    "plt.figure(figsize = (10,8))\n",
    "sn.heatmap(df_cm, annot=True)"
   ]
  },
  {
   "cell_type": "code",
   "execution_count": 68,
   "metadata": {},
   "outputs": [
    {
     "data": {
      "text/plain": [
       "11353"
      ]
     },
     "execution_count": 68,
     "metadata": {},
     "output_type": "execute_result"
    }
   ],
   "source": [
    "#number of correctly classified samples in the test set\n",
    "accuracy_score(y_test1, y_predict1, normalize=False)"
   ]
  },
  {
   "cell_type": "code",
   "execution_count": 69,
   "metadata": {},
   "outputs": [],
   "source": [
    "#precision vs recall curve"
   ]
  },
  {
   "cell_type": "code",
   "execution_count": 70,
   "metadata": {},
   "outputs": [],
   "source": [
    "y_score1 = model4.predict_proba(X_test1)"
   ]
  },
  {
   "cell_type": "code",
   "execution_count": 72,
   "metadata": {},
   "outputs": [],
   "source": [
    "no_of_classes = 8\n",
    "y_test_bin1 = label_binarize(y_test1, classes=[*range(no_of_classes)])"
   ]
  },
  {
   "cell_type": "code",
   "execution_count": 73,
   "metadata": {},
   "outputs": [
    {
     "name": "stdout",
     "output_type": "stream",
     "text": [
      "range(0, 8)\n"
     ]
    },
    {
     "data": {
      "image/png": "[encoded data removed]",
      "text/plain": [
       "<Figure size 432x288 with 1 Axes>"
      ]
     },
     "metadata": {
      "needs_background": "light"
     },
     "output_type": "display_data"
    }
   ],
   "source": [
    "precision = dict()\n",
    "recall = dict()\n",
    "x=range(no_of_classes)\n",
    "print(x)\n",
    "for i in range(no_of_classes):\n",
    "    precision[i], recall[i], _ = precision_recall_curve(y_test_bin1[:,i],y_score1[:, i])\n",
    "    plt.plot(recall[i], precision[i], lw=2, label='class {}'.format(i))\n",
    "\n",
    "plt.xlabel(\"recall\")\n",
    "plt.ylabel(\"precision\")\n",
    "plt.legend(loc=\"best\")\n",
    "plt.title(\"precision vs. recall curve\")\n",
    "plt.show()"
   ]
  },
  {
   "cell_type": "code",
   "execution_count": 74,
   "metadata": {},
   "outputs": [],
   "source": [
    "#roc_curve"
   ]
  },
  {
   "cell_type": "code",
   "execution_count": 75,
   "metadata": {},
   "outputs": [
    {
     "name": "stdout",
     "output_type": "stream",
     "text": [
      "range(0, 8)\n"
     ]
    },
    {
     "data": {
      "image/png": "[encoded data removed]",
      "text/plain": [
       "<Figure size 432x288 with 1 Axes>"
      ]
     },
     "metadata": {
      "needs_background": "light"
     },
     "output_type": "display_data"
    }
   ],
   "source": [
    "fpr = dict()\n",
    "tpr = dict()\n",
    "x=range(no_of_classes)\n",
    "print(x)\n",
    "for i in range(no_of_classes):\n",
    "    fpr[i], tpr[i], _ = roc_curve(y_test_bin1[:, i],y_score1[:, i])\n",
    "    plt.plot(fpr[i], tpr[i], lw=2, label='class {}'.format(i))\n",
    "\n",
    "plt.xlabel(\"false positive rate\")\n",
    "plt.ylabel(\"true positive rate\")\n",
    "plt.legend(loc=\"best\")\n",
    "plt.title(\"ROC curve\")\n",
    "plt.show()"
   ]
  },
  {
   "cell_type": "code",
   "execution_count": null,
   "metadata": {},
   "outputs": [],
   "source": []
  },
  {
   "cell_type": "code",
   "execution_count": 76,
   "metadata": {},
   "outputs": [],
   "source": [
    "#TEST SET 2"
   ]
  },
  {
   "cell_type": "code",
   "execution_count": 77,
   "metadata": {},
   "outputs": [
    {
     "data": {
      "text/plain": [
       "0.9666193181818182"
      ]
     },
     "execution_count": 77,
     "metadata": {},
     "output_type": "execute_result"
    }
   ],
   "source": [
    "#accuracy\n",
    "accuracy_score(y_test2, y_predict2)"
   ]
  },
  {
   "cell_type": "code",
   "execution_count": 78,
   "metadata": {},
   "outputs": [
    {
     "name": "stdout",
     "output_type": "stream",
     "text": [
      "              precision    recall  f1-score   support\n",
      "\n",
      "           0  0.94764957 1.00000000 0.97312123       887\n",
      "           1  0.98991031 1.00000000 0.99492958       883\n",
      "           2  0.98858447 0.98633257 0.98745724       878\n",
      "           3  0.98883375 0.89651294 0.94041298       889\n",
      "           4  1.00000000 0.98765432 0.99378882       891\n",
      "           5  0.86739781 0.99656357 0.92750533       873\n",
      "           6  0.97197452 0.86704545 0.91651652       880\n",
      "           7  0.99651972 1.00000000 0.99825683       859\n",
      "\n",
      "    accuracy                      0.96661932      7040\n",
      "   macro avg  0.96885877 0.96676361 0.96649857      7040\n",
      "weighted avg  0.96893362 0.96661932 0.96646464      7040\n",
      "\n"
     ]
    }
   ],
   "source": [
    "#classification report\n",
    "from sklearn import metrics\n",
    "print(metrics.classification_report(y_test2, y_predict2, digits = 8))"
   ]
  },
  {
   "cell_type": "code",
   "execution_count": 79,
   "metadata": {},
   "outputs": [
    {
     "data": {
      "text/plain": [
       "<matplotlib.axes._subplots.AxesSubplot at 0x227c6aaa388>"
      ]
     },
     "execution_count": 79,
     "metadata": {},
     "output_type": "execute_result"
    },
    {
     "data": {
      "image/png": "[encoded data removed]",
      "text/plain": [
       "<Figure size 720x576 with 2 Axes>"
      ]
     },
     "metadata": {
      "needs_background": "light"
     },
     "output_type": "display_data"
    }
   ],
   "source": [
    "from sklearn.metrics import confusion_matrix\n",
    "    \n",
    "#confusion matrix   \n",
    "cm_svm = confusion_matrix(y_test2, y_predict2)\n",
    "array = cm_svm \n",
    "df_cm = pd.DataFrame(array, index = [i for i in \"12345678\"],\n",
    "                  columns = [i for i in \"12345678\"])\n",
    "plt.figure(figsize = (10,8))\n",
    "sn.heatmap(df_cm, annot=True)"
   ]
  },
  {
   "cell_type": "code",
   "execution_count": 80,
   "metadata": {},
   "outputs": [
    {
     "data": {
      "text/plain": [
       "6805"
      ]
     },
     "execution_count": 80,
     "metadata": {},
     "output_type": "execute_result"
    }
   ],
   "source": [
    "#number of correctly classified samples in the test set\n",
    "accuracy_score(y_test2, y_predict2, normalize=False)"
   ]
  },
  {
   "cell_type": "code",
   "execution_count": 81,
   "metadata": {},
   "outputs": [],
   "source": [
    "#precision vs recall curve"
   ]
  },
  {
   "cell_type": "code",
   "execution_count": 82,
   "metadata": {},
   "outputs": [],
   "source": [
    "y_score2 = model4.predict_proba(X_test2)"
   ]
  },
  {
   "cell_type": "code",
   "execution_count": 83,
   "metadata": {},
   "outputs": [],
   "source": [
    "y_test_bin2 = label_binarize(y_test2, classes=[*range(no_of_classes)])"
   ]
  },
  {
   "cell_type": "code",
   "execution_count": 84,
   "metadata": {},
   "outputs": [
    {
     "name": "stdout",
     "output_type": "stream",
     "text": [
      "range(0, 8)\n"
     ]
    },
    {
     "data": {
      "image/png": "[encoded data removed]",
      "text/plain": [
       "<Figure size 432x288 with 1 Axes>"
      ]
     },
     "metadata": {
      "needs_background": "light"
     },
     "output_type": "display_data"
    }
   ],
   "source": [
    "precision = dict()\n",
    "recall = dict()\n",
    "x=range(no_of_classes)\n",
    "print(x)\n",
    "for i in range(no_of_classes):\n",
    "    precision[i], recall[i], _ = precision_recall_curve(y_test_bin2[:,i],y_score2[:, i])\n",
    "    plt.plot(recall[i], precision[i], lw=2, label='class {}'.format(i))\n",
    "\n",
    "plt.xlabel(\"recall\")\n",
    "plt.ylabel(\"precision\")\n",
    "plt.legend(loc=\"best\")\n",
    "plt.title(\"precision vs. recall curve\")\n",
    "plt.show()"
   ]
  },
  {
   "cell_type": "code",
   "execution_count": 85,
   "metadata": {},
   "outputs": [],
   "source": [
    "#roc_curve"
   ]
  },
  {
   "cell_type": "code",
   "execution_count": 86,
   "metadata": {},
   "outputs": [
    {
     "name": "stdout",
     "output_type": "stream",
     "text": [
      "range(0, 8)\n"
     ]
    },
    {
     "data": {
      "image/png": "[encoded data removed]",
      "text/plain": [
       "<Figure size 432x288 with 1 Axes>"
      ]
     },
     "metadata": {
      "needs_background": "light"
     },
     "output_type": "display_data"
    }
   ],
   "source": [
    "fpr = dict()\n",
    "tpr = dict()\n",
    "x=range(no_of_classes)\n",
    "print(x)\n",
    "for i in range(no_of_classes):\n",
    "    fpr[i], tpr[i], _ = roc_curve(y_test_bin1[:, i],y_score1[:, i])\n",
    "    plt.plot(fpr[i], tpr[i], lw=2, label='class {}'.format(i))\n",
    "\n",
    "plt.xlabel(\"false positive rate\")\n",
    "plt.ylabel(\"true positive rate\")\n",
    "plt.legend(loc=\"best\")\n",
    "plt.title(\"ROC curve\")\n",
    "plt.show()"
   ]
  },
  {
   "cell_type": "markdown",
   "metadata": {},
   "source": [
    "---"
   ]
  }
 ],
 "metadata": {
  "kernelspec": {
   "display_name": "Python 3",
   "language": "python",
   "name": "python3"
  },
  "language_info": {
   "codemirror_mode": {
    "name": "ipython",
    "version": 3
   },
   "file_extension": ".py",
   "mimetype": "text/x-python",
   "name": "python",
   "nbconvert_exporter": "python",
   "pygments_lexer": "ipython3",
   "version": "3.7.6"
  }
 },
 "nbformat": 4,
 "nbformat_minor": 4
}
