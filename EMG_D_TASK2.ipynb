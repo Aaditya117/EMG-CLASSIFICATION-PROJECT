{
  "nbformat": 4,
  "nbformat_minor": 0,
  "metadata": {
    "colab": {
      "name": "Copy of EMG_D_Task2.ipynb",
      "provenance": [],
      "collapsed_sections": []
    },
    "kernelspec": {
      "name": "python3",
      "display_name": "Python 3"
    },
    "accelerator": "GPU"
  },
  "cells": [
    {
      "cell_type": "code",
      "metadata": {
        "id": "RxSZ6PUWfIkS",
        "colab_type": "code",
        "colab": {
          "base_uri": "https://localhost:8080/",
          "height": 71
        },
        "outputId": "bd25a109-c7d6-44e4-d8cc-5ad0b25735ce"
      },
      "source": [
        "%matplotlib inline\n",
        "import seaborn as sn\n",
        "import numpy as np\n",
        "import joblib\n",
        "import pandas as pd\n",
        "import matplotlib.pyplot as plt\n",
        "import math\n",
        "from sklearn.preprocessing import StandardScaler\n",
        "from sklearn.model_selection import GridSearchCV\n",
        "from sklearn.svm import SVC\n",
        "from sklearn.metrics import accuracy_score, f1_score, recall_score,precision_score, classification_report, confusion_matrix\n",
        "import collections\n",
        "from sklearn.model_selection import cross_val_predict\n",
        "from sklearn.metrics import precision_recall_curve, roc_curve\n",
        "from sklearn.multiclass import OneVsRestClassifier\n",
        "from sklearn.preprocessing import label_binarize\n",
        "from sklearn.ensemble import StackingClassifier\n",
        "from sklearn.ensemble import RandomForestClassifier\n",
        "from sklearn.neural_network import MLPClassifier as MLP\n",
        "np.random.seed(1337)  # for reproducibility"
      ],
      "execution_count": 61,
      "outputs": [
        {
          "output_type": "stream",
          "text": [
            "/usr/local/lib/python3.6/dist-packages/statsmodels/tools/_testing.py:19: FutureWarning: pandas.util.testing is deprecated. Use the functions in the public API at pandas.testing instead.\n",
            "  import pandas.util.testing as tm\n"
          ],
          "name": "stderr"
        }
      ]
    },
    {
      "cell_type": "code",
      "metadata": {
        "id": "nEJfwgpifwii",
        "colab_type": "code",
        "colab": {}
      },
      "source": [
        "X_train = np.load('/content/drive/My Drive/EMG_Signal_Classification-master/data/train/X_train.npy') \n",
        "\n",
        "Y_train = np.load('/content/drive/My Drive/EMG_Signal_Classification-master/data/train/Y_train.npy')\n",
        "\n",
        "X_test1 = np.load('/content/drive/My Drive/EMG_Signal_Classification-master/data/test/set1/X_test.npy')\n",
        "\n",
        "Y_test1 = np.load('/content/drive/My Drive/EMG_Signal_Classification-master/data/test/set1/Y_test.npy')\n",
        "\n",
        "X_test2 = np.load('/content/drive/My Drive/EMG_Signal_Classification-master/data/test/set2/X_test2.npy')\n",
        "\n",
        "Y_test2 = np.load('/content/drive/My Drive/EMG_Signal_Classification-master/data/test/set2/Y_test2.npy')"
      ],
      "execution_count": 2,
      "outputs": []
    },
    {
      "cell_type": "code",
      "metadata": {
        "id": "N8uiup_nfw8D",
        "colab_type": "code",
        "colab": {}
      },
      "source": [
        "scaler = StandardScaler()\n",
        "X_train = scaler.fit_transform(X_train)\n",
        "X_test1 = scaler.fit_transform(X_test1)\n",
        "X_test2 = scaler.fit_transform(X_test2)"
      ],
      "execution_count": 3,
      "outputs": []
    },
    {
      "cell_type": "code",
      "metadata": {
        "id": "vVTo4ZH8g3HD",
        "colab_type": "code",
        "colab": {
          "base_uri": "https://localhost:8080/",
          "height": 119
        },
        "outputId": "5065033f-9949-4f4c-afb7-2d9833615432"
      },
      "source": [
        "print(X_train.shape)\n",
        "print(Y_train.shape)\n",
        "\n",
        "print(X_test1.shape)\n",
        "print(Y_test1.shape)\n",
        "\n",
        "\n",
        "print(X_test2.shape)\n",
        "print(Y_test2.shape)"
      ],
      "execution_count": 4,
      "outputs": [
        {
          "output_type": "stream",
          "text": [
            "(28368, 42)\n",
            "(28368,)\n",
            "(12168, 42)\n",
            "(12168,)\n",
            "(7040, 42)\n",
            "(7040,)\n"
          ],
          "name": "stdout"
        }
      ]
    },
    {
      "cell_type": "code",
      "metadata": {
        "id": "KsbdERrJg9yl",
        "colab_type": "code",
        "colab": {
          "base_uri": "https://localhost:8080/",
          "height": 71
        },
        "outputId": "50f5e03d-031f-4993-bb29-d6aa98c72811"
      },
      "source": [
        "SVM_clf = joblib.load('/content/drive/My Drive/EMG_Signal_Classification-master/models/ET_emg_clf.pkl')\n",
        "\n",
        "LR_clf = joblib.load('/content/drive/My Drive/EMG_Signal_Classification-master/models/LR_emg_clf.pkl')\n",
        "\n",
        "RF_clf = joblib.load('/content/drive/My Drive/EMG_Signal_Classification-master/models/RF_emg_clf.pkl')\n",
        "\n",
        "ET_clf = joblib.load('/content/drive/My Drive/EMG_Signal_Classification-master/models/ET_emg_clf.pkl')"
      ],
      "execution_count": 5,
      "outputs": [
        {
          "output_type": "stream",
          "text": [
            "/usr/local/lib/python3.6/dist-packages/sklearn/base.py:318: UserWarning: Trying to unpickle estimator LogisticRegression from version 0.23.1 when using version 0.22.2.post1. This might lead to breaking code or invalid results. Use at your own risk.\n",
            "  UserWarning)\n"
          ],
          "name": "stderr"
        }
      ]
    },
    {
      "cell_type": "code",
      "metadata": {
        "id": "OfFJKk6_hWn_",
        "colab_type": "code",
        "colab": {}
      },
      "source": [
        "estimators=[('LR',LR_clf),('SVM',SVM_clf),('RF',RF_clf),('ET',ET_clf)]"
      ],
      "execution_count": 6,
      "outputs": []
    },
    {
      "cell_type": "code",
      "metadata": {
        "id": "77eWAe-KkZOE",
        "colab_type": "code",
        "colab": {}
      },
      "source": [
        "X_dev = np.load('/content/drive/My Drive/EMG_Signal_Classification-master/data/dev/X_dev.npy')\n",
        "\n",
        "Y_dev = np.load('/content/drive/My Drive/EMG_Signal_Classification-master/data/dev/Y_dev.npy')"
      ],
      "execution_count": 7,
      "outputs": []
    },
    {
      "cell_type": "code",
      "metadata": {
        "id": "3JTWohgAoyHV",
        "colab_type": "code",
        "colab": {}
      },
      "source": [
        "X_dev = scaler.fit_transform(X_dev)"
      ],
      "execution_count": 8,
      "outputs": []
    },
    {
      "cell_type": "code",
      "metadata": {
        "id": "6ZjtXn7JmF2Y",
        "colab_type": "code",
        "colab": {
          "base_uri": "https://localhost:8080/",
          "height": 34
        },
        "outputId": "84a372b6-9191-4dbb-b45c-471b79ccd63b"
      },
      "source": [
        "np.shape(X_dev)"
      ],
      "execution_count": 9,
      "outputs": [
        {
          "output_type": "execute_result",
          "data": {
            "text/plain": [
              "(7040, 42)"
            ]
          },
          "metadata": {
            "tags": []
          },
          "execution_count": 9
        }
      ]
    },
    {
      "cell_type": "code",
      "metadata": {
        "id": "iM3syilRpDFA",
        "colab_type": "code",
        "colab": {}
      },
      "source": [
        "# predictions of the dev data using the four models "
      ],
      "execution_count": 10,
      "outputs": []
    },
    {
      "cell_type": "code",
      "metadata": {
        "id": "2UAyzLBkpkhk",
        "colab_type": "code",
        "colab": {}
      },
      "source": [
        "#ET"
      ],
      "execution_count": 11,
      "outputs": []
    },
    {
      "cell_type": "code",
      "metadata": {
        "id": "ao8mj6Iz9mEm",
        "colab_type": "code",
        "colab": {}
      },
      "source": [
        "Y_pred_ET = ET_clf.predict(X_dev)"
      ],
      "execution_count": 12,
      "outputs": []
    },
    {
      "cell_type": "code",
      "metadata": {
        "id": "bw-9KY1--R23",
        "colab_type": "code",
        "colab": {
          "base_uri": "https://localhost:8080/",
          "height": 34
        },
        "outputId": "0430d056-c362-454b-980e-6005b8ddcde7"
      },
      "source": [
        "Y_pred_ET"
      ],
      "execution_count": 13,
      "outputs": [
        {
          "output_type": "execute_result",
          "data": {
            "text/plain": [
              "array([6, 1, 3, ..., 2, 2, 7])"
            ]
          },
          "metadata": {
            "tags": []
          },
          "execution_count": 13
        }
      ]
    },
    {
      "cell_type": "code",
      "metadata": {
        "id": "pb8FUqAH9wxi",
        "colab_type": "code",
        "colab": {
          "base_uri": "https://localhost:8080/",
          "height": 34
        },
        "outputId": "1dc4a54a-20de-4e62-ed23-4e6ac6c113ed"
      },
      "source": [
        "accuracy = accuracy_score(Y_pred_ET,Y_dev)\n",
        "print(\"Accuracy: %.5f%%\" % (accuracy * 100.0))"
      ],
      "execution_count": 14,
      "outputs": [
        {
          "output_type": "stream",
          "text": [
            "Accuracy: 96.37784%\n"
          ],
          "name": "stdout"
        }
      ]
    },
    {
      "cell_type": "code",
      "metadata": {
        "id": "pmbaGysFpokb",
        "colab_type": "code",
        "colab": {}
      },
      "source": [
        "#RF"
      ],
      "execution_count": 15,
      "outputs": []
    },
    {
      "cell_type": "code",
      "metadata": {
        "id": "YYRJkZxGp3CX",
        "colab_type": "code",
        "colab": {}
      },
      "source": [
        "Y_pred_RF = RF_clf.predict(X_dev)"
      ],
      "execution_count": 16,
      "outputs": []
    },
    {
      "cell_type": "code",
      "metadata": {
        "id": "xM4SElNjp3Pv",
        "colab_type": "code",
        "colab": {
          "base_uri": "https://localhost:8080/",
          "height": 34
        },
        "outputId": "6ebbacf1-5c84-4a8e-fc93-db9ddfb72bf2"
      },
      "source": [
        "Y_pred_RF"
      ],
      "execution_count": 17,
      "outputs": [
        {
          "output_type": "execute_result",
          "data": {
            "text/plain": [
              "array([6, 1, 3, ..., 2, 2, 7])"
            ]
          },
          "metadata": {
            "tags": []
          },
          "execution_count": 17
        }
      ]
    },
    {
      "cell_type": "code",
      "metadata": {
        "id": "ueDzHUaop3g1",
        "colab_type": "code",
        "colab": {
          "base_uri": "https://localhost:8080/",
          "height": 34
        },
        "outputId": "d5d37f74-425c-42ad-ab6d-fd382fc0492b"
      },
      "source": [
        "accuracy = accuracy_score(Y_pred_RF,Y_dev)\n",
        "print(\"Accuracy: %.5f%%\" % (accuracy * 100.0))"
      ],
      "execution_count": 18,
      "outputs": [
        {
          "output_type": "stream",
          "text": [
            "Accuracy: 95.45455%\n"
          ],
          "name": "stdout"
        }
      ]
    },
    {
      "cell_type": "code",
      "metadata": {
        "id": "TwGFiV0sppDo",
        "colab_type": "code",
        "colab": {}
      },
      "source": [
        "#LR"
      ],
      "execution_count": 19,
      "outputs": []
    },
    {
      "cell_type": "code",
      "metadata": {
        "id": "vlB7_47FqL7e",
        "colab_type": "code",
        "colab": {}
      },
      "source": [
        "Y_pred_LR = LR_clf.predict(X_dev)"
      ],
      "execution_count": 20,
      "outputs": []
    },
    {
      "cell_type": "code",
      "metadata": {
        "id": "R_PCfc8RqMHZ",
        "colab_type": "code",
        "colab": {
          "base_uri": "https://localhost:8080/",
          "height": 34
        },
        "outputId": "cd25e377-0376-44b8-b26b-82a73ffac986"
      },
      "source": [
        "Y_pred_LR"
      ],
      "execution_count": 21,
      "outputs": [
        {
          "output_type": "execute_result",
          "data": {
            "text/plain": [
              "array([6, 1, 3, ..., 2, 2, 7])"
            ]
          },
          "metadata": {
            "tags": []
          },
          "execution_count": 21
        }
      ]
    },
    {
      "cell_type": "code",
      "metadata": {
        "id": "Nu1wd_sQqMUF",
        "colab_type": "code",
        "colab": {
          "base_uri": "https://localhost:8080/",
          "height": 34
        },
        "outputId": "35673076-81c7-4d16-f0c6-e9ea043f2039"
      },
      "source": [
        "accuracy = accuracy_score(Y_pred_LR ,Y_dev)\n",
        "print(\"Accuracy: %.5f%%\" % (accuracy * 100.0))"
      ],
      "execution_count": 22,
      "outputs": [
        {
          "output_type": "stream",
          "text": [
            "Accuracy: 96.71875%\n"
          ],
          "name": "stdout"
        }
      ]
    },
    {
      "cell_type": "code",
      "metadata": {
        "id": "9GvzVlY_ppQG",
        "colab_type": "code",
        "colab": {}
      },
      "source": [
        "#SVM"
      ],
      "execution_count": 23,
      "outputs": []
    },
    {
      "cell_type": "code",
      "metadata": {
        "id": "a7E_NyNCqNXB",
        "colab_type": "code",
        "colab": {}
      },
      "source": [
        "Y_pred_SVM = SVM_clf.predict(X_dev)"
      ],
      "execution_count": 24,
      "outputs": []
    },
    {
      "cell_type": "code",
      "metadata": {
        "id": "noQqYm0QqNh2",
        "colab_type": "code",
        "colab": {
          "base_uri": "https://localhost:8080/",
          "height": 34
        },
        "outputId": "37b058bb-2e66-4a0a-b463-48866c21d27c"
      },
      "source": [
        "Y_pred_SVM"
      ],
      "execution_count": 25,
      "outputs": [
        {
          "output_type": "execute_result",
          "data": {
            "text/plain": [
              "array([6, 1, 3, ..., 2, 2, 7])"
            ]
          },
          "metadata": {
            "tags": []
          },
          "execution_count": 25
        }
      ]
    },
    {
      "cell_type": "code",
      "metadata": {
        "id": "2mG0_dmRqNuy",
        "colab_type": "code",
        "colab": {
          "base_uri": "https://localhost:8080/",
          "height": 34
        },
        "outputId": "52597918-fc06-4c23-9c63-6214d7d6ba68"
      },
      "source": [
        "accuracy = accuracy_score(Y_pred_SVM , Y_dev)\n",
        "print(\"Accuracy: %.5f%%\" % (accuracy * 100.0))"
      ],
      "execution_count": 26,
      "outputs": [
        {
          "output_type": "stream",
          "text": [
            "Accuracy: 96.37784%\n"
          ],
          "name": "stdout"
        }
      ]
    },
    {
      "cell_type": "code",
      "metadata": {
        "id": "hdr_OHjxfsU3",
        "colab_type": "code",
        "colab": {}
      },
      "source": [
        "#new training set"
      ],
      "execution_count": 27,
      "outputs": []
    },
    {
      "cell_type": "code",
      "metadata": {
        "id": "xb9Kv-CJfsiZ",
        "colab_type": "code",
        "colab": {}
      },
      "source": [
        "#arrays = (Y_pred_SVM,Y_pred_LR,Y_pred_RF,Y_pred_ET)"
      ],
      "execution_count": 28,
      "outputs": []
    },
    {
      "cell_type": "code",
      "metadata": {
        "id": "7Rwj53xIdMfB",
        "colab_type": "code",
        "colab": {}
      },
      "source": [
        "\n",
        "X_Train_New = np.stack((Y_pred_SVM,Y_pred_LR,Y_pred_RF,Y_pred_ET), axis=1)"
      ],
      "execution_count": 29,
      "outputs": []
    },
    {
      "cell_type": "code",
      "metadata": {
        "id": "R0TEWMBQBnuh",
        "colab_type": "code",
        "colab": {
          "base_uri": "https://localhost:8080/",
          "height": 136
        },
        "outputId": "20a2ccaa-7527-486d-c9af-2c0a883fb990"
      },
      "source": [
        "X_Train_New"
      ],
      "execution_count": 30,
      "outputs": [
        {
          "output_type": "execute_result",
          "data": {
            "text/plain": [
              "array([[6, 6, 6, 6],\n",
              "       [1, 1, 1, 1],\n",
              "       [3, 3, 3, 3],\n",
              "       ...,\n",
              "       [2, 2, 2, 2],\n",
              "       [2, 2, 2, 2],\n",
              "       [7, 7, 7, 7]])"
            ]
          },
          "metadata": {
            "tags": []
          },
          "execution_count": 30
        }
      ]
    },
    {
      "cell_type": "code",
      "metadata": {
        "id": "NZvgYVfeBoab",
        "colab_type": "code",
        "colab": {}
      },
      "source": [
        "#X_Train_New = scaler.fit_transform(X_Train_New)"
      ],
      "execution_count": 31,
      "outputs": []
    },
    {
      "cell_type": "code",
      "metadata": {
        "id": "WMLp-BXfBo2Z",
        "colab_type": "code",
        "colab": {}
      },
      "source": [
        "#X_Train_New"
      ],
      "execution_count": 32,
      "outputs": []
    },
    {
      "cell_type": "code",
      "metadata": {
        "id": "nco5NZNSgEh4",
        "colab_type": "code",
        "colab": {
          "base_uri": "https://localhost:8080/",
          "height": 34
        },
        "outputId": "70945f41-6c73-43e1-93a0-91256d106bd2"
      },
      "source": [
        "np.shape(X_Train_New)"
      ],
      "execution_count": 33,
      "outputs": [
        {
          "output_type": "execute_result",
          "data": {
            "text/plain": [
              "(7040, 4)"
            ]
          },
          "metadata": {
            "tags": []
          },
          "execution_count": 33
        }
      ]
    },
    {
      "cell_type": "code",
      "metadata": {
        "id": "KxI8e0VggKtC",
        "colab_type": "code",
        "colab": {}
      },
      "source": [
        "Y_Train_New = Y_dev"
      ],
      "execution_count": 34,
      "outputs": []
    },
    {
      "cell_type": "code",
      "metadata": {
        "id": "UdYi4V_Vgl7G",
        "colab_type": "code",
        "colab": {
          "base_uri": "https://localhost:8080/",
          "height": 34
        },
        "outputId": "c8a3ab55-fac1-4257-91f4-2c629c4d2a0a"
      },
      "source": [
        "np.shape(Y_Train_New)"
      ],
      "execution_count": 35,
      "outputs": [
        {
          "output_type": "execute_result",
          "data": {
            "text/plain": [
              "(7040,)"
            ]
          },
          "metadata": {
            "tags": []
          },
          "execution_count": 35
        }
      ]
    },
    {
      "cell_type": "code",
      "metadata": {
        "id": "aFNqj1TBfrNs",
        "colab_type": "code",
        "colab": {}
      },
      "source": [
        ""
      ],
      "execution_count": 35,
      "outputs": []
    },
    {
      "cell_type": "code",
      "metadata": {
        "id": "dXOLxqdwfrdd",
        "colab_type": "code",
        "colab": {}
      },
      "source": [
        "\n",
        "### Stacking Classifier 2 ###\n"
      ],
      "execution_count": 36,
      "outputs": []
    },
    {
      "cell_type": "code",
      "metadata": {
        "id": "Mu_iIFM9sIfF",
        "colab_type": "code",
        "colab": {}
      },
      "source": [
        "# Meta-learner"
      ],
      "execution_count": 37,
      "outputs": []
    },
    {
      "cell_type": "code",
      "metadata": {
        "id": "SfMc3utyrop9",
        "colab_type": "code",
        "colab": {
          "base_uri": "https://localhost:8080/",
          "height": 1000
        },
        "outputId": "eacffa24-4e2e-47bc-a2f5-ec84c7d83aed"
      },
      "source": [
        "#the parameters by cross-validation\n",
        "\n",
        "# measure the quality of a split\n",
        "criterion = [\"gini\",\"entropy\"]\n",
        "# Number of trees in random forest\n",
        "n_estimators = [100, 500, 1000, 1500, 2000]\n",
        "# Number of features to consider at every split\n",
        "max_features = ['auto', 'sqrt']\n",
        "# Maximum number of levels in tree\n",
        "max_depth = [10, 40, 80, 100]\n",
        "# Minimum number of samples required to split a node\n",
        "min_samples_split = [2, 5, 10]\n",
        "# Minimum number of samples required at each leaf node\n",
        "min_samples_leaf = [1, 2, 4]\n",
        "\n",
        "\n",
        "# setting up the parameter grid\n",
        "tuned_parameters = {'criterion': criterion,\n",
        "               'n_estimators': n_estimators,\n",
        "               'max_features': max_features,\n",
        "               'max_depth': max_depth,\n",
        "               'min_samples_split': min_samples_split,\n",
        "               'min_samples_leaf': min_samples_leaf,\n",
        "                }\n",
        "             \n",
        "\n",
        "print(\"# Tuning hyper-parameters for Random Forest Classifier\")\n",
        "print()\n",
        "\n",
        "clf = GridSearchCV(RandomForestClassifier(random_state=0), tuned_parameters, scoring='accuracy', cv = 2)\n",
        "\n",
        "clf.fit(X_Train_New , Y_Train_New)\n",
        "\n",
        "print(\"Best parameters set found on training set:\")\n",
        "print()\n",
        "print(clf.best_params_)\n",
        "print()\n",
        "print(\"Grid scores on training set:\")\n",
        "print()\n",
        "means = clf.cv_results_['mean_test_score']\n",
        "stds = clf.cv_results_['std_test_score']\n",
        "for mean, std, params in zip(means, stds, clf.cv_results_['params']):\n",
        "    print(\"%0.4f (+/-%0.04f) for %r\"\n",
        "            % (mean, std * 2, params))\n",
        "print()"
      ],
      "execution_count": 79,
      "outputs": [
        {
          "output_type": "stream",
          "text": [
            "# Tuning hyper-parameters for Random Forest Classifier\n",
            "\n",
            "Best parameters set found on training set:\n",
            "\n",
            "{'criterion': 'gini', 'max_depth': 10, 'max_features': 'auto', 'min_samples_leaf': 1, 'min_samples_split': 5, 'n_estimators': 1000}\n",
            "\n",
            "Grid scores on training set:\n",
            "\n",
            "0.9794 (+/-0.0054) for {'criterion': 'gini', 'max_depth': 10, 'max_features': 'auto', 'min_samples_leaf': 1, 'min_samples_split': 2, 'n_estimators': 100}\n",
            "0.9794 (+/-0.0065) for {'criterion': 'gini', 'max_depth': 10, 'max_features': 'auto', 'min_samples_leaf': 1, 'min_samples_split': 2, 'n_estimators': 500}\n",
            "0.9794 (+/-0.0065) for {'criterion': 'gini', 'max_depth': 10, 'max_features': 'auto', 'min_samples_leaf': 1, 'min_samples_split': 2, 'n_estimators': 1000}\n",
            "0.9794 (+/-0.0065) for {'criterion': 'gini', 'max_depth': 10, 'max_features': 'auto', 'min_samples_leaf': 1, 'min_samples_split': 2, 'n_estimators': 1500}\n",
            "0.9794 (+/-0.0065) for {'criterion': 'gini', 'max_depth': 10, 'max_features': 'auto', 'min_samples_leaf': 1, 'min_samples_split': 2, 'n_estimators': 2000}\n",
            "0.9791 (+/-0.0060) for {'criterion': 'gini', 'max_depth': 10, 'max_features': 'auto', 'min_samples_leaf': 1, 'min_samples_split': 5, 'n_estimators': 100}\n",
            "0.9794 (+/-0.0065) for {'criterion': 'gini', 'max_depth': 10, 'max_features': 'auto', 'min_samples_leaf': 1, 'min_samples_split': 5, 'n_estimators': 500}\n",
            "0.9795 (+/-0.0068) for {'criterion': 'gini', 'max_depth': 10, 'max_features': 'auto', 'min_samples_leaf': 1, 'min_samples_split': 5, 'n_estimators': 1000}\n",
            "0.9795 (+/-0.0068) for {'criterion': 'gini', 'max_depth': 10, 'max_features': 'auto', 'min_samples_leaf': 1, 'min_samples_split': 5, 'n_estimators': 1500}\n",
            "0.9795 (+/-0.0068) for {'criterion': 'gini', 'max_depth': 10, 'max_features': 'auto', 'min_samples_leaf': 1, 'min_samples_split': 5, 'n_estimators': 2000}\n",
            "0.9791 (+/-0.0060) for {'criterion': 'gini', 'max_depth': 10, 'max_features': 'auto', 'min_samples_leaf': 1, 'min_samples_split': 10, 'n_estimators': 100}\n",
            "0.9795 (+/-0.0068) for {'criterion': 'gini', 'max_depth': 10, 'max_features': 'auto', 'min_samples_leaf': 1, 'min_samples_split': 10, 'n_estimators': 500}\n",
            "0.9795 (+/-0.0068) for {'criterion': 'gini', 'max_depth': 10, 'max_features': 'auto', 'min_samples_leaf': 1, 'min_samples_split': 10, 'n_estimators': 1000}\n",
            "0.9795 (+/-0.0068) for {'criterion': 'gini', 'max_depth': 10, 'max_features': 'auto', 'min_samples_leaf': 1, 'min_samples_split': 10, 'n_estimators': 1500}\n",
            "0.9795 (+/-0.0068) for {'criterion': 'gini', 'max_depth': 10, 'max_features': 'auto', 'min_samples_leaf': 1, 'min_samples_split': 10, 'n_estimators': 2000}\n",
            "0.9788 (+/-0.0054) for {'criterion': 'gini', 'max_depth': 10, 'max_features': 'auto', 'min_samples_leaf': 2, 'min_samples_split': 2, 'n_estimators': 100}\n",
            "0.9790 (+/-0.0057) for {'criterion': 'gini', 'max_depth': 10, 'max_features': 'auto', 'min_samples_leaf': 2, 'min_samples_split': 2, 'n_estimators': 500}\n",
            "0.9790 (+/-0.0057) for {'criterion': 'gini', 'max_depth': 10, 'max_features': 'auto', 'min_samples_leaf': 2, 'min_samples_split': 2, 'n_estimators': 1000}\n",
            "0.9790 (+/-0.0057) for {'criterion': 'gini', 'max_depth': 10, 'max_features': 'auto', 'min_samples_leaf': 2, 'min_samples_split': 2, 'n_estimators': 1500}\n",
            "0.9790 (+/-0.0057) for {'criterion': 'gini', 'max_depth': 10, 'max_features': 'auto', 'min_samples_leaf': 2, 'min_samples_split': 2, 'n_estimators': 2000}\n",
            "0.9788 (+/-0.0054) for {'criterion': 'gini', 'max_depth': 10, 'max_features': 'auto', 'min_samples_leaf': 2, 'min_samples_split': 5, 'n_estimators': 100}\n",
            "0.9790 (+/-0.0057) for {'criterion': 'gini', 'max_depth': 10, 'max_features': 'auto', 'min_samples_leaf': 2, 'min_samples_split': 5, 'n_estimators': 500}\n",
            "0.9790 (+/-0.0057) for {'criterion': 'gini', 'max_depth': 10, 'max_features': 'auto', 'min_samples_leaf': 2, 'min_samples_split': 5, 'n_estimators': 1000}\n",
            "0.9790 (+/-0.0057) for {'criterion': 'gini', 'max_depth': 10, 'max_features': 'auto', 'min_samples_leaf': 2, 'min_samples_split': 5, 'n_estimators': 1500}\n",
            "0.9790 (+/-0.0057) for {'criterion': 'gini', 'max_depth': 10, 'max_features': 'auto', 'min_samples_leaf': 2, 'min_samples_split': 5, 'n_estimators': 2000}\n",
            "0.9788 (+/-0.0054) for {'criterion': 'gini', 'max_depth': 10, 'max_features': 'auto', 'min_samples_leaf': 2, 'min_samples_split': 10, 'n_estimators': 100}\n",
            "0.9790 (+/-0.0057) for {'criterion': 'gini', 'max_depth': 10, 'max_features': 'auto', 'min_samples_leaf': 2, 'min_samples_split': 10, 'n_estimators': 500}\n",
            "0.9790 (+/-0.0057) for {'criterion': 'gini', 'max_depth': 10, 'max_features': 'auto', 'min_samples_leaf': 2, 'min_samples_split': 10, 'n_estimators': 1000}\n",
            "0.9790 (+/-0.0057) for {'criterion': 'gini', 'max_depth': 10, 'max_features': 'auto', 'min_samples_leaf': 2, 'min_samples_split': 10, 'n_estimators': 1500}\n",
            "0.9790 (+/-0.0057) for {'criterion': 'gini', 'max_depth': 10, 'max_features': 'auto', 'min_samples_leaf': 2, 'min_samples_split': 10, 'n_estimators': 2000}\n",
            "0.9788 (+/-0.0054) for {'criterion': 'gini', 'max_depth': 10, 'max_features': 'auto', 'min_samples_leaf': 4, 'min_samples_split': 2, 'n_estimators': 100}\n",
            "0.9790 (+/-0.0051) for {'criterion': 'gini', 'max_depth': 10, 'max_features': 'auto', 'min_samples_leaf': 4, 'min_samples_split': 2, 'n_estimators': 500}\n",
            "0.9790 (+/-0.0051) for {'criterion': 'gini', 'max_depth': 10, 'max_features': 'auto', 'min_samples_leaf': 4, 'min_samples_split': 2, 'n_estimators': 1000}\n",
            "0.9773 (+/-0.0085) for {'criterion': 'gini', 'max_depth': 10, 'max_features': 'auto', 'min_samples_leaf': 4, 'min_samples_split': 2, 'n_estimators': 1500}\n",
            "0.9773 (+/-0.0085) for {'criterion': 'gini', 'max_depth': 10, 'max_features': 'auto', 'min_samples_leaf': 4, 'min_samples_split': 2, 'n_estimators': 2000}\n",
            "0.9788 (+/-0.0054) for {'criterion': 'gini', 'max_depth': 10, 'max_features': 'auto', 'min_samples_leaf': 4, 'min_samples_split': 5, 'n_estimators': 100}\n",
            "0.9790 (+/-0.0051) for {'criterion': 'gini', 'max_depth': 10, 'max_features': 'auto', 'min_samples_leaf': 4, 'min_samples_split': 5, 'n_estimators': 500}\n",
            "0.9790 (+/-0.0051) for {'criterion': 'gini', 'max_depth': 10, 'max_features': 'auto', 'min_samples_leaf': 4, 'min_samples_split': 5, 'n_estimators': 1000}\n",
            "0.9773 (+/-0.0085) for {'criterion': 'gini', 'max_depth': 10, 'max_features': 'auto', 'min_samples_leaf': 4, 'min_samples_split': 5, 'n_estimators': 1500}\n",
            "0.9773 (+/-0.0085) for {'criterion': 'gini', 'max_depth': 10, 'max_features': 'auto', 'min_samples_leaf': 4, 'min_samples_split': 5, 'n_estimators': 2000}\n",
            "0.9788 (+/-0.0054) for {'criterion': 'gini', 'max_depth': 10, 'max_features': 'auto', 'min_samples_leaf': 4, 'min_samples_split': 10, 'n_estimators': 100}\n",
            "0.9773 (+/-0.0085) for {'criterion': 'gini', 'max_depth': 10, 'max_features': 'auto', 'min_samples_leaf': 4, 'min_samples_split': 10, 'n_estimators': 500}\n",
            "0.9773 (+/-0.0085) for {'criterion': 'gini', 'max_depth': 10, 'max_features': 'auto', 'min_samples_leaf': 4, 'min_samples_split': 10, 'n_estimators': 1000}\n",
            "0.9773 (+/-0.0085) for {'criterion': 'gini', 'max_depth': 10, 'max_features': 'auto', 'min_samples_leaf': 4, 'min_samples_split': 10, 'n_estimators': 1500}\n",
            "0.9773 (+/-0.0085) for {'criterion': 'gini', 'max_depth': 10, 'max_features': 'auto', 'min_samples_leaf': 4, 'min_samples_split': 10, 'n_estimators': 2000}\n",
            "0.9794 (+/-0.0054) for {'criterion': 'gini', 'max_depth': 10, 'max_features': 'sqrt', 'min_samples_leaf': 1, 'min_samples_split': 2, 'n_estimators': 100}\n",
            "0.9794 (+/-0.0065) for {'criterion': 'gini', 'max_depth': 10, 'max_features': 'sqrt', 'min_samples_leaf': 1, 'min_samples_split': 2, 'n_estimators': 500}\n",
            "0.9794 (+/-0.0065) for {'criterion': 'gini', 'max_depth': 10, 'max_features': 'sqrt', 'min_samples_leaf': 1, 'min_samples_split': 2, 'n_estimators': 1000}\n",
            "0.9794 (+/-0.0065) for {'criterion': 'gini', 'max_depth': 10, 'max_features': 'sqrt', 'min_samples_leaf': 1, 'min_samples_split': 2, 'n_estimators': 1500}\n",
            "0.9794 (+/-0.0065) for {'criterion': 'gini', 'max_depth': 10, 'max_features': 'sqrt', 'min_samples_leaf': 1, 'min_samples_split': 2, 'n_estimators': 2000}\n",
            "0.9791 (+/-0.0060) for {'criterion': 'gini', 'max_depth': 10, 'max_features': 'sqrt', 'min_samples_leaf': 1, 'min_samples_split': 5, 'n_estimators': 100}\n",
            "0.9794 (+/-0.0065) for {'criterion': 'gini', 'max_depth': 10, 'max_features': 'sqrt', 'min_samples_leaf': 1, 'min_samples_split': 5, 'n_estimators': 500}\n",
            "0.9795 (+/-0.0068) for {'criterion': 'gini', 'max_depth': 10, 'max_features': 'sqrt', 'min_samples_leaf': 1, 'min_samples_split': 5, 'n_estimators': 1000}\n",
            "0.9795 (+/-0.0068) for {'criterion': 'gini', 'max_depth': 10, 'max_features': 'sqrt', 'min_samples_leaf': 1, 'min_samples_split': 5, 'n_estimators': 1500}\n",
            "0.9795 (+/-0.0068) for {'criterion': 'gini', 'max_depth': 10, 'max_features': 'sqrt', 'min_samples_leaf': 1, 'min_samples_split': 5, 'n_estimators': 2000}\n",
            "0.9791 (+/-0.0060) for {'criterion': 'gini', 'max_depth': 10, 'max_features': 'sqrt', 'min_samples_leaf': 1, 'min_samples_split': 10, 'n_estimators': 100}\n",
            "0.9795 (+/-0.0068) for {'criterion': 'gini', 'max_depth': 10, 'max_features': 'sqrt', 'min_samples_leaf': 1, 'min_samples_split': 10, 'n_estimators': 500}\n",
            "0.9795 (+/-0.0068) for {'criterion': 'gini', 'max_depth': 10, 'max_features': 'sqrt', 'min_samples_leaf': 1, 'min_samples_split': 10, 'n_estimators': 1000}\n",
            "0.9795 (+/-0.0068) for {'criterion': 'gini', 'max_depth': 10, 'max_features': 'sqrt', 'min_samples_leaf': 1, 'min_samples_split': 10, 'n_estimators': 1500}\n",
            "0.9795 (+/-0.0068) for {'criterion': 'gini', 'max_depth': 10, 'max_features': 'sqrt', 'min_samples_leaf': 1, 'min_samples_split': 10, 'n_estimators': 2000}\n",
            "0.9788 (+/-0.0054) for {'criterion': 'gini', 'max_depth': 10, 'max_features': 'sqrt', 'min_samples_leaf': 2, 'min_samples_split': 2, 'n_estimators': 100}\n",
            "0.9790 (+/-0.0057) for {'criterion': 'gini', 'max_depth': 10, 'max_features': 'sqrt', 'min_samples_leaf': 2, 'min_samples_split': 2, 'n_estimators': 500}\n",
            "0.9790 (+/-0.0057) for {'criterion': 'gini', 'max_depth': 10, 'max_features': 'sqrt', 'min_samples_leaf': 2, 'min_samples_split': 2, 'n_estimators': 1000}\n",
            "0.9790 (+/-0.0057) for {'criterion': 'gini', 'max_depth': 10, 'max_features': 'sqrt', 'min_samples_leaf': 2, 'min_samples_split': 2, 'n_estimators': 1500}\n",
            "0.9790 (+/-0.0057) for {'criterion': 'gini', 'max_depth': 10, 'max_features': 'sqrt', 'min_samples_leaf': 2, 'min_samples_split': 2, 'n_estimators': 2000}\n",
            "0.9788 (+/-0.0054) for {'criterion': 'gini', 'max_depth': 10, 'max_features': 'sqrt', 'min_samples_leaf': 2, 'min_samples_split': 5, 'n_estimators': 100}\n",
            "0.9790 (+/-0.0057) for {'criterion': 'gini', 'max_depth': 10, 'max_features': 'sqrt', 'min_samples_leaf': 2, 'min_samples_split': 5, 'n_estimators': 500}\n",
            "0.9790 (+/-0.0057) for {'criterion': 'gini', 'max_depth': 10, 'max_features': 'sqrt', 'min_samples_leaf': 2, 'min_samples_split': 5, 'n_estimators': 1000}\n",
            "0.9790 (+/-0.0057) for {'criterion': 'gini', 'max_depth': 10, 'max_features': 'sqrt', 'min_samples_leaf': 2, 'min_samples_split': 5, 'n_estimators': 1500}\n",
            "0.9790 (+/-0.0057) for {'criterion': 'gini', 'max_depth': 10, 'max_features': 'sqrt', 'min_samples_leaf': 2, 'min_samples_split': 5, 'n_estimators': 2000}\n",
            "0.9788 (+/-0.0054) for {'criterion': 'gini', 'max_depth': 10, 'max_features': 'sqrt', 'min_samples_leaf': 2, 'min_samples_split': 10, 'n_estimators': 100}\n",
            "0.9790 (+/-0.0057) for {'criterion': 'gini', 'max_depth': 10, 'max_features': 'sqrt', 'min_samples_leaf': 2, 'min_samples_split': 10, 'n_estimators': 500}\n",
            "0.9790 (+/-0.0057) for {'criterion': 'gini', 'max_depth': 10, 'max_features': 'sqrt', 'min_samples_leaf': 2, 'min_samples_split': 10, 'n_estimators': 1000}\n",
            "0.9790 (+/-0.0057) for {'criterion': 'gini', 'max_depth': 10, 'max_features': 'sqrt', 'min_samples_leaf': 2, 'min_samples_split': 10, 'n_estimators': 1500}\n",
            "0.9790 (+/-0.0057) for {'criterion': 'gini', 'max_depth': 10, 'max_features': 'sqrt', 'min_samples_leaf': 2, 'min_samples_split': 10, 'n_estimators': 2000}\n",
            "0.9788 (+/-0.0054) for {'criterion': 'gini', 'max_depth': 10, 'max_features': 'sqrt', 'min_samples_leaf': 4, 'min_samples_split': 2, 'n_estimators': 100}\n",
            "0.9790 (+/-0.0051) for {'criterion': 'gini', 'max_depth': 10, 'max_features': 'sqrt', 'min_samples_leaf': 4, 'min_samples_split': 2, 'n_estimators': 500}\n",
            "0.9790 (+/-0.0051) for {'criterion': 'gini', 'max_depth': 10, 'max_features': 'sqrt', 'min_samples_leaf': 4, 'min_samples_split': 2, 'n_estimators': 1000}\n",
            "0.9773 (+/-0.0085) for {'criterion': 'gini', 'max_depth': 10, 'max_features': 'sqrt', 'min_samples_leaf': 4, 'min_samples_split': 2, 'n_estimators': 1500}\n",
            "0.9773 (+/-0.0085) for {'criterion': 'gini', 'max_depth': 10, 'max_features': 'sqrt', 'min_samples_leaf': 4, 'min_samples_split': 2, 'n_estimators': 2000}\n",
            "0.9788 (+/-0.0054) for {'criterion': 'gini', 'max_depth': 10, 'max_features': 'sqrt', 'min_samples_leaf': 4, 'min_samples_split': 5, 'n_estimators': 100}\n",
            "0.9790 (+/-0.0051) for {'criterion': 'gini', 'max_depth': 10, 'max_features': 'sqrt', 'min_samples_leaf': 4, 'min_samples_split': 5, 'n_estimators': 500}\n",
            "0.9790 (+/-0.0051) for {'criterion': 'gini', 'max_depth': 10, 'max_features': 'sqrt', 'min_samples_leaf': 4, 'min_samples_split': 5, 'n_estimators': 1000}\n",
            "0.9773 (+/-0.0085) for {'criterion': 'gini', 'max_depth': 10, 'max_features': 'sqrt', 'min_samples_leaf': 4, 'min_samples_split': 5, 'n_estimators': 1500}\n",
            "0.9773 (+/-0.0085) for {'criterion': 'gini', 'max_depth': 10, 'max_features': 'sqrt', 'min_samples_leaf': 4, 'min_samples_split': 5, 'n_estimators': 2000}\n",
            "0.9788 (+/-0.0054) for {'criterion': 'gini', 'max_depth': 10, 'max_features': 'sqrt', 'min_samples_leaf': 4, 'min_samples_split': 10, 'n_estimators': 100}\n",
            "0.9773 (+/-0.0085) for {'criterion': 'gini', 'max_depth': 10, 'max_features': 'sqrt', 'min_samples_leaf': 4, 'min_samples_split': 10, 'n_estimators': 500}\n",
            "0.9773 (+/-0.0085) for {'criterion': 'gini', 'max_depth': 10, 'max_features': 'sqrt', 'min_samples_leaf': 4, 'min_samples_split': 10, 'n_estimators': 1000}\n",
            "0.9773 (+/-0.0085) for {'criterion': 'gini', 'max_depth': 10, 'max_features': 'sqrt', 'min_samples_leaf': 4, 'min_samples_split': 10, 'n_estimators': 1500}\n",
            "0.9773 (+/-0.0085) for {'criterion': 'gini', 'max_depth': 10, 'max_features': 'sqrt', 'min_samples_leaf': 4, 'min_samples_split': 10, 'n_estimators': 2000}\n",
            "0.9794 (+/-0.0054) for {'criterion': 'gini', 'max_depth': 40, 'max_features': 'auto', 'min_samples_leaf': 1, 'min_samples_split': 2, 'n_estimators': 100}\n",
            "0.9794 (+/-0.0065) for {'criterion': 'gini', 'max_depth': 40, 'max_features': 'auto', 'min_samples_leaf': 1, 'min_samples_split': 2, 'n_estimators': 500}\n",
            "0.9794 (+/-0.0065) for {'criterion': 'gini', 'max_depth': 40, 'max_features': 'auto', 'min_samples_leaf': 1, 'min_samples_split': 2, 'n_estimators': 1000}\n",
            "0.9794 (+/-0.0065) for {'criterion': 'gini', 'max_depth': 40, 'max_features': 'auto', 'min_samples_leaf': 1, 'min_samples_split': 2, 'n_estimators': 1500}\n",
            "0.9794 (+/-0.0065) for {'criterion': 'gini', 'max_depth': 40, 'max_features': 'auto', 'min_samples_leaf': 1, 'min_samples_split': 2, 'n_estimators': 2000}\n",
            "0.9791 (+/-0.0060) for {'criterion': 'gini', 'max_depth': 40, 'max_features': 'auto', 'min_samples_leaf': 1, 'min_samples_split': 5, 'n_estimators': 100}\n",
            "0.9795 (+/-0.0068) for {'criterion': 'gini', 'max_depth': 40, 'max_features': 'auto', 'min_samples_leaf': 1, 'min_samples_split': 5, 'n_estimators': 500}\n",
            "0.9795 (+/-0.0068) for {'criterion': 'gini', 'max_depth': 40, 'max_features': 'auto', 'min_samples_leaf': 1, 'min_samples_split': 5, 'n_estimators': 1000}\n",
            "0.9795 (+/-0.0068) for {'criterion': 'gini', 'max_depth': 40, 'max_features': 'auto', 'min_samples_leaf': 1, 'min_samples_split': 5, 'n_estimators': 1500}\n",
            "0.9795 (+/-0.0068) for {'criterion': 'gini', 'max_depth': 40, 'max_features': 'auto', 'min_samples_leaf': 1, 'min_samples_split': 5, 'n_estimators': 2000}\n",
            "0.9791 (+/-0.0060) for {'criterion': 'gini', 'max_depth': 40, 'max_features': 'auto', 'min_samples_leaf': 1, 'min_samples_split': 10, 'n_estimators': 100}\n",
            "0.9795 (+/-0.0068) for {'criterion': 'gini', 'max_depth': 40, 'max_features': 'auto', 'min_samples_leaf': 1, 'min_samples_split': 10, 'n_estimators': 500}\n",
            "0.9795 (+/-0.0068) for {'criterion': 'gini', 'max_depth': 40, 'max_features': 'auto', 'min_samples_leaf': 1, 'min_samples_split': 10, 'n_estimators': 1000}\n",
            "0.9795 (+/-0.0068) for {'criterion': 'gini', 'max_depth': 40, 'max_features': 'auto', 'min_samples_leaf': 1, 'min_samples_split': 10, 'n_estimators': 1500}\n",
            "0.9795 (+/-0.0068) for {'criterion': 'gini', 'max_depth': 40, 'max_features': 'auto', 'min_samples_leaf': 1, 'min_samples_split': 10, 'n_estimators': 2000}\n",
            "0.9788 (+/-0.0054) for {'criterion': 'gini', 'max_depth': 40, 'max_features': 'auto', 'min_samples_leaf': 2, 'min_samples_split': 2, 'n_estimators': 100}\n",
            "0.9790 (+/-0.0057) for {'criterion': 'gini', 'max_depth': 40, 'max_features': 'auto', 'min_samples_leaf': 2, 'min_samples_split': 2, 'n_estimators': 500}\n",
            "0.9790 (+/-0.0057) for {'criterion': 'gini', 'max_depth': 40, 'max_features': 'auto', 'min_samples_leaf': 2, 'min_samples_split': 2, 'n_estimators': 1000}\n",
            "0.9790 (+/-0.0057) for {'criterion': 'gini', 'max_depth': 40, 'max_features': 'auto', 'min_samples_leaf': 2, 'min_samples_split': 2, 'n_estimators': 1500}\n",
            "0.9790 (+/-0.0057) for {'criterion': 'gini', 'max_depth': 40, 'max_features': 'auto', 'min_samples_leaf': 2, 'min_samples_split': 2, 'n_estimators': 2000}\n",
            "0.9788 (+/-0.0054) for {'criterion': 'gini', 'max_depth': 40, 'max_features': 'auto', 'min_samples_leaf': 2, 'min_samples_split': 5, 'n_estimators': 100}\n",
            "0.9790 (+/-0.0057) for {'criterion': 'gini', 'max_depth': 40, 'max_features': 'auto', 'min_samples_leaf': 2, 'min_samples_split': 5, 'n_estimators': 500}\n",
            "0.9790 (+/-0.0057) for {'criterion': 'gini', 'max_depth': 40, 'max_features': 'auto', 'min_samples_leaf': 2, 'min_samples_split': 5, 'n_estimators': 1000}\n",
            "0.9790 (+/-0.0057) for {'criterion': 'gini', 'max_depth': 40, 'max_features': 'auto', 'min_samples_leaf': 2, 'min_samples_split': 5, 'n_estimators': 1500}\n",
            "0.9790 (+/-0.0057) for {'criterion': 'gini', 'max_depth': 40, 'max_features': 'auto', 'min_samples_leaf': 2, 'min_samples_split': 5, 'n_estimators': 2000}\n",
            "0.9788 (+/-0.0054) for {'criterion': 'gini', 'max_depth': 40, 'max_features': 'auto', 'min_samples_leaf': 2, 'min_samples_split': 10, 'n_estimators': 100}\n",
            "0.9790 (+/-0.0057) for {'criterion': 'gini', 'max_depth': 40, 'max_features': 'auto', 'min_samples_leaf': 2, 'min_samples_split': 10, 'n_estimators': 500}\n",
            "0.9790 (+/-0.0057) for {'criterion': 'gini', 'max_depth': 40, 'max_features': 'auto', 'min_samples_leaf': 2, 'min_samples_split': 10, 'n_estimators': 1000}\n",
            "0.9790 (+/-0.0057) for {'criterion': 'gini', 'max_depth': 40, 'max_features': 'auto', 'min_samples_leaf': 2, 'min_samples_split': 10, 'n_estimators': 1500}\n",
            "0.9790 (+/-0.0057) for {'criterion': 'gini', 'max_depth': 40, 'max_features': 'auto', 'min_samples_leaf': 2, 'min_samples_split': 10, 'n_estimators': 2000}\n",
            "0.9788 (+/-0.0054) for {'criterion': 'gini', 'max_depth': 40, 'max_features': 'auto', 'min_samples_leaf': 4, 'min_samples_split': 2, 'n_estimators': 100}\n",
            "0.9790 (+/-0.0051) for {'criterion': 'gini', 'max_depth': 40, 'max_features': 'auto', 'min_samples_leaf': 4, 'min_samples_split': 2, 'n_estimators': 500}\n",
            "0.9790 (+/-0.0051) for {'criterion': 'gini', 'max_depth': 40, 'max_features': 'auto', 'min_samples_leaf': 4, 'min_samples_split': 2, 'n_estimators': 1000}\n",
            "0.9773 (+/-0.0085) for {'criterion': 'gini', 'max_depth': 40, 'max_features': 'auto', 'min_samples_leaf': 4, 'min_samples_split': 2, 'n_estimators': 1500}\n",
            "0.9773 (+/-0.0085) for {'criterion': 'gini', 'max_depth': 40, 'max_features': 'auto', 'min_samples_leaf': 4, 'min_samples_split': 2, 'n_estimators': 2000}\n",
            "0.9788 (+/-0.0054) for {'criterion': 'gini', 'max_depth': 40, 'max_features': 'auto', 'min_samples_leaf': 4, 'min_samples_split': 5, 'n_estimators': 100}\n",
            "0.9790 (+/-0.0051) for {'criterion': 'gini', 'max_depth': 40, 'max_features': 'auto', 'min_samples_leaf': 4, 'min_samples_split': 5, 'n_estimators': 500}\n",
            "0.9790 (+/-0.0051) for {'criterion': 'gini', 'max_depth': 40, 'max_features': 'auto', 'min_samples_leaf': 4, 'min_samples_split': 5, 'n_estimators': 1000}\n",
            "0.9773 (+/-0.0085) for {'criterion': 'gini', 'max_depth': 40, 'max_features': 'auto', 'min_samples_leaf': 4, 'min_samples_split': 5, 'n_estimators': 1500}\n",
            "0.9773 (+/-0.0085) for {'criterion': 'gini', 'max_depth': 40, 'max_features': 'auto', 'min_samples_leaf': 4, 'min_samples_split': 5, 'n_estimators': 2000}\n",
            "0.9788 (+/-0.0054) for {'criterion': 'gini', 'max_depth': 40, 'max_features': 'auto', 'min_samples_leaf': 4, 'min_samples_split': 10, 'n_estimators': 100}\n",
            "0.9773 (+/-0.0085) for {'criterion': 'gini', 'max_depth': 40, 'max_features': 'auto', 'min_samples_leaf': 4, 'min_samples_split': 10, 'n_estimators': 500}\n",
            "0.9773 (+/-0.0085) for {'criterion': 'gini', 'max_depth': 40, 'max_features': 'auto', 'min_samples_leaf': 4, 'min_samples_split': 10, 'n_estimators': 1000}\n",
            "0.9773 (+/-0.0085) for {'criterion': 'gini', 'max_depth': 40, 'max_features': 'auto', 'min_samples_leaf': 4, 'min_samples_split': 10, 'n_estimators': 1500}\n",
            "0.9773 (+/-0.0085) for {'criterion': 'gini', 'max_depth': 40, 'max_features': 'auto', 'min_samples_leaf': 4, 'min_samples_split': 10, 'n_estimators': 2000}\n",
            "0.9794 (+/-0.0054) for {'criterion': 'gini', 'max_depth': 40, 'max_features': 'sqrt', 'min_samples_leaf': 1, 'min_samples_split': 2, 'n_estimators': 100}\n",
            "0.9794 (+/-0.0065) for {'criterion': 'gini', 'max_depth': 40, 'max_features': 'sqrt', 'min_samples_leaf': 1, 'min_samples_split': 2, 'n_estimators': 500}\n",
            "0.9794 (+/-0.0065) for {'criterion': 'gini', 'max_depth': 40, 'max_features': 'sqrt', 'min_samples_leaf': 1, 'min_samples_split': 2, 'n_estimators': 1000}\n",
            "0.9794 (+/-0.0065) for {'criterion': 'gini', 'max_depth': 40, 'max_features': 'sqrt', 'min_samples_leaf': 1, 'min_samples_split': 2, 'n_estimators': 1500}\n",
            "0.9794 (+/-0.0065) for {'criterion': 'gini', 'max_depth': 40, 'max_features': 'sqrt', 'min_samples_leaf': 1, 'min_samples_split': 2, 'n_estimators': 2000}\n",
            "0.9791 (+/-0.0060) for {'criterion': 'gini', 'max_depth': 40, 'max_features': 'sqrt', 'min_samples_leaf': 1, 'min_samples_split': 5, 'n_estimators': 100}\n",
            "0.9795 (+/-0.0068) for {'criterion': 'gini', 'max_depth': 40, 'max_features': 'sqrt', 'min_samples_leaf': 1, 'min_samples_split': 5, 'n_estimators': 500}\n",
            "0.9795 (+/-0.0068) for {'criterion': 'gini', 'max_depth': 40, 'max_features': 'sqrt', 'min_samples_leaf': 1, 'min_samples_split': 5, 'n_estimators': 1000}\n",
            "0.9795 (+/-0.0068) for {'criterion': 'gini', 'max_depth': 40, 'max_features': 'sqrt', 'min_samples_leaf': 1, 'min_samples_split': 5, 'n_estimators': 1500}\n",
            "0.9795 (+/-0.0068) for {'criterion': 'gini', 'max_depth': 40, 'max_features': 'sqrt', 'min_samples_leaf': 1, 'min_samples_split': 5, 'n_estimators': 2000}\n",
            "0.9791 (+/-0.0060) for {'criterion': 'gini', 'max_depth': 40, 'max_features': 'sqrt', 'min_samples_leaf': 1, 'min_samples_split': 10, 'n_estimators': 100}\n",
            "0.9795 (+/-0.0068) for {'criterion': 'gini', 'max_depth': 40, 'max_features': 'sqrt', 'min_samples_leaf': 1, 'min_samples_split': 10, 'n_estimators': 500}\n",
            "0.9795 (+/-0.0068) for {'criterion': 'gini', 'max_depth': 40, 'max_features': 'sqrt', 'min_samples_leaf': 1, 'min_samples_split': 10, 'n_estimators': 1000}\n",
            "0.9795 (+/-0.0068) for {'criterion': 'gini', 'max_depth': 40, 'max_features': 'sqrt', 'min_samples_leaf': 1, 'min_samples_split': 10, 'n_estimators': 1500}\n",
            "0.9795 (+/-0.0068) for {'criterion': 'gini', 'max_depth': 40, 'max_features': 'sqrt', 'min_samples_leaf': 1, 'min_samples_split': 10, 'n_estimators': 2000}\n",
            "0.9788 (+/-0.0054) for {'criterion': 'gini', 'max_depth': 40, 'max_features': 'sqrt', 'min_samples_leaf': 2, 'min_samples_split': 2, 'n_estimators': 100}\n",
            "0.9790 (+/-0.0057) for {'criterion': 'gini', 'max_depth': 40, 'max_features': 'sqrt', 'min_samples_leaf': 2, 'min_samples_split': 2, 'n_estimators': 500}\n",
            "0.9790 (+/-0.0057) for {'criterion': 'gini', 'max_depth': 40, 'max_features': 'sqrt', 'min_samples_leaf': 2, 'min_samples_split': 2, 'n_estimators': 1000}\n",
            "0.9790 (+/-0.0057) for {'criterion': 'gini', 'max_depth': 40, 'max_features': 'sqrt', 'min_samples_leaf': 2, 'min_samples_split': 2, 'n_estimators': 1500}\n",
            "0.9790 (+/-0.0057) for {'criterion': 'gini', 'max_depth': 40, 'max_features': 'sqrt', 'min_samples_leaf': 2, 'min_samples_split': 2, 'n_estimators': 2000}\n",
            "0.9788 (+/-0.0054) for {'criterion': 'gini', 'max_depth': 40, 'max_features': 'sqrt', 'min_samples_leaf': 2, 'min_samples_split': 5, 'n_estimators': 100}\n",
            "0.9790 (+/-0.0057) for {'criterion': 'gini', 'max_depth': 40, 'max_features': 'sqrt', 'min_samples_leaf': 2, 'min_samples_split': 5, 'n_estimators': 500}\n",
            "0.9790 (+/-0.0057) for {'criterion': 'gini', 'max_depth': 40, 'max_features': 'sqrt', 'min_samples_leaf': 2, 'min_samples_split': 5, 'n_estimators': 1000}\n",
            "0.9790 (+/-0.0057) for {'criterion': 'gini', 'max_depth': 40, 'max_features': 'sqrt', 'min_samples_leaf': 2, 'min_samples_split': 5, 'n_estimators': 1500}\n",
            "0.9790 (+/-0.0057) for {'criterion': 'gini', 'max_depth': 40, 'max_features': 'sqrt', 'min_samples_leaf': 2, 'min_samples_split': 5, 'n_estimators': 2000}\n",
            "0.9788 (+/-0.0054) for {'criterion': 'gini', 'max_depth': 40, 'max_features': 'sqrt', 'min_samples_leaf': 2, 'min_samples_split': 10, 'n_estimators': 100}\n",
            "0.9790 (+/-0.0057) for {'criterion': 'gini', 'max_depth': 40, 'max_features': 'sqrt', 'min_samples_leaf': 2, 'min_samples_split': 10, 'n_estimators': 500}\n",
            "0.9790 (+/-0.0057) for {'criterion': 'gini', 'max_depth': 40, 'max_features': 'sqrt', 'min_samples_leaf': 2, 'min_samples_split': 10, 'n_estimators': 1000}\n",
            "0.9790 (+/-0.0057) for {'criterion': 'gini', 'max_depth': 40, 'max_features': 'sqrt', 'min_samples_leaf': 2, 'min_samples_split': 10, 'n_estimators': 1500}\n",
            "0.9790 (+/-0.0057) for {'criterion': 'gini', 'max_depth': 40, 'max_features': 'sqrt', 'min_samples_leaf': 2, 'min_samples_split': 10, 'n_estimators': 2000}\n",
            "0.9788 (+/-0.0054) for {'criterion': 'gini', 'max_depth': 40, 'max_features': 'sqrt', 'min_samples_leaf': 4, 'min_samples_split': 2, 'n_estimators': 100}\n",
            "0.9790 (+/-0.0051) for {'criterion': 'gini', 'max_depth': 40, 'max_features': 'sqrt', 'min_samples_leaf': 4, 'min_samples_split': 2, 'n_estimators': 500}\n",
            "0.9790 (+/-0.0051) for {'criterion': 'gini', 'max_depth': 40, 'max_features': 'sqrt', 'min_samples_leaf': 4, 'min_samples_split': 2, 'n_estimators': 1000}\n",
            "0.9773 (+/-0.0085) for {'criterion': 'gini', 'max_depth': 40, 'max_features': 'sqrt', 'min_samples_leaf': 4, 'min_samples_split': 2, 'n_estimators': 1500}\n",
            "0.9773 (+/-0.0085) for {'criterion': 'gini', 'max_depth': 40, 'max_features': 'sqrt', 'min_samples_leaf': 4, 'min_samples_split': 2, 'n_estimators': 2000}\n",
            "0.9788 (+/-0.0054) for {'criterion': 'gini', 'max_depth': 40, 'max_features': 'sqrt', 'min_samples_leaf': 4, 'min_samples_split': 5, 'n_estimators': 100}\n",
            "0.9790 (+/-0.0051) for {'criterion': 'gini', 'max_depth': 40, 'max_features': 'sqrt', 'min_samples_leaf': 4, 'min_samples_split': 5, 'n_estimators': 500}\n",
            "0.9790 (+/-0.0051) for {'criterion': 'gini', 'max_depth': 40, 'max_features': 'sqrt', 'min_samples_leaf': 4, 'min_samples_split': 5, 'n_estimators': 1000}\n",
            "0.9773 (+/-0.0085) for {'criterion': 'gini', 'max_depth': 40, 'max_features': 'sqrt', 'min_samples_leaf': 4, 'min_samples_split': 5, 'n_estimators': 1500}\n",
            "0.9773 (+/-0.0085) for {'criterion': 'gini', 'max_depth': 40, 'max_features': 'sqrt', 'min_samples_leaf': 4, 'min_samples_split': 5, 'n_estimators': 2000}\n",
            "0.9788 (+/-0.0054) for {'criterion': 'gini', 'max_depth': 40, 'max_features': 'sqrt', 'min_samples_leaf': 4, 'min_samples_split': 10, 'n_estimators': 100}\n",
            "0.9773 (+/-0.0085) for {'criterion': 'gini', 'max_depth': 40, 'max_features': 'sqrt', 'min_samples_leaf': 4, 'min_samples_split': 10, 'n_estimators': 500}\n",
            "0.9773 (+/-0.0085) for {'criterion': 'gini', 'max_depth': 40, 'max_features': 'sqrt', 'min_samples_leaf': 4, 'min_samples_split': 10, 'n_estimators': 1000}\n",
            "0.9773 (+/-0.0085) for {'criterion': 'gini', 'max_depth': 40, 'max_features': 'sqrt', 'min_samples_leaf': 4, 'min_samples_split': 10, 'n_estimators': 1500}\n",
            "0.9773 (+/-0.0085) for {'criterion': 'gini', 'max_depth': 40, 'max_features': 'sqrt', 'min_samples_leaf': 4, 'min_samples_split': 10, 'n_estimators': 2000}\n",
            "0.9794 (+/-0.0054) for {'criterion': 'gini', 'max_depth': 80, 'max_features': 'auto', 'min_samples_leaf': 1, 'min_samples_split': 2, 'n_estimators': 100}\n",
            "0.9794 (+/-0.0065) for {'criterion': 'gini', 'max_depth': 80, 'max_features': 'auto', 'min_samples_leaf': 1, 'min_samples_split': 2, 'n_estimators': 500}\n",
            "0.9794 (+/-0.0065) for {'criterion': 'gini', 'max_depth': 80, 'max_features': 'auto', 'min_samples_leaf': 1, 'min_samples_split': 2, 'n_estimators': 1000}\n",
            "0.9794 (+/-0.0065) for {'criterion': 'gini', 'max_depth': 80, 'max_features': 'auto', 'min_samples_leaf': 1, 'min_samples_split': 2, 'n_estimators': 1500}\n",
            "0.9794 (+/-0.0065) for {'criterion': 'gini', 'max_depth': 80, 'max_features': 'auto', 'min_samples_leaf': 1, 'min_samples_split': 2, 'n_estimators': 2000}\n",
            "0.9791 (+/-0.0060) for {'criterion': 'gini', 'max_depth': 80, 'max_features': 'auto', 'min_samples_leaf': 1, 'min_samples_split': 5, 'n_estimators': 100}\n",
            "0.9795 (+/-0.0068) for {'criterion': 'gini', 'max_depth': 80, 'max_features': 'auto', 'min_samples_leaf': 1, 'min_samples_split': 5, 'n_estimators': 500}\n",
            "0.9795 (+/-0.0068) for {'criterion': 'gini', 'max_depth': 80, 'max_features': 'auto', 'min_samples_leaf': 1, 'min_samples_split': 5, 'n_estimators': 1000}\n",
            "0.9795 (+/-0.0068) for {'criterion': 'gini', 'max_depth': 80, 'max_features': 'auto', 'min_samples_leaf': 1, 'min_samples_split': 5, 'n_estimators': 1500}\n",
            "0.9795 (+/-0.0068) for {'criterion': 'gini', 'max_depth': 80, 'max_features': 'auto', 'min_samples_leaf': 1, 'min_samples_split': 5, 'n_estimators': 2000}\n",
            "0.9791 (+/-0.0060) for {'criterion': 'gini', 'max_depth': 80, 'max_features': 'auto', 'min_samples_leaf': 1, 'min_samples_split': 10, 'n_estimators': 100}\n",
            "0.9795 (+/-0.0068) for {'criterion': 'gini', 'max_depth': 80, 'max_features': 'auto', 'min_samples_leaf': 1, 'min_samples_split': 10, 'n_estimators': 500}\n",
            "0.9795 (+/-0.0068) for {'criterion': 'gini', 'max_depth': 80, 'max_features': 'auto', 'min_samples_leaf': 1, 'min_samples_split': 10, 'n_estimators': 1000}\n",
            "0.9795 (+/-0.0068) for {'criterion': 'gini', 'max_depth': 80, 'max_features': 'auto', 'min_samples_leaf': 1, 'min_samples_split': 10, 'n_estimators': 1500}\n",
            "0.9795 (+/-0.0068) for {'criterion': 'gini', 'max_depth': 80, 'max_features': 'auto', 'min_samples_leaf': 1, 'min_samples_split': 10, 'n_estimators': 2000}\n",
            "0.9788 (+/-0.0054) for {'criterion': 'gini', 'max_depth': 80, 'max_features': 'auto', 'min_samples_leaf': 2, 'min_samples_split': 2, 'n_estimators': 100}\n",
            "0.9790 (+/-0.0057) for {'criterion': 'gini', 'max_depth': 80, 'max_features': 'auto', 'min_samples_leaf': 2, 'min_samples_split': 2, 'n_estimators': 500}\n",
            "0.9790 (+/-0.0057) for {'criterion': 'gini', 'max_depth': 80, 'max_features': 'auto', 'min_samples_leaf': 2, 'min_samples_split': 2, 'n_estimators': 1000}\n",
            "0.9790 (+/-0.0057) for {'criterion': 'gini', 'max_depth': 80, 'max_features': 'auto', 'min_samples_leaf': 2, 'min_samples_split': 2, 'n_estimators': 1500}\n",
            "0.9790 (+/-0.0057) for {'criterion': 'gini', 'max_depth': 80, 'max_features': 'auto', 'min_samples_leaf': 2, 'min_samples_split': 2, 'n_estimators': 2000}\n",
            "0.9788 (+/-0.0054) for {'criterion': 'gini', 'max_depth': 80, 'max_features': 'auto', 'min_samples_leaf': 2, 'min_samples_split': 5, 'n_estimators': 100}\n",
            "0.9790 (+/-0.0057) for {'criterion': 'gini', 'max_depth': 80, 'max_features': 'auto', 'min_samples_leaf': 2, 'min_samples_split': 5, 'n_estimators': 500}\n",
            "0.9790 (+/-0.0057) for {'criterion': 'gini', 'max_depth': 80, 'max_features': 'auto', 'min_samples_leaf': 2, 'min_samples_split': 5, 'n_estimators': 1000}\n",
            "0.9790 (+/-0.0057) for {'criterion': 'gini', 'max_depth': 80, 'max_features': 'auto', 'min_samples_leaf': 2, 'min_samples_split': 5, 'n_estimators': 1500}\n",
            "0.9790 (+/-0.0057) for {'criterion': 'gini', 'max_depth': 80, 'max_features': 'auto', 'min_samples_leaf': 2, 'min_samples_split': 5, 'n_estimators': 2000}\n",
            "0.9788 (+/-0.0054) for {'criterion': 'gini', 'max_depth': 80, 'max_features': 'auto', 'min_samples_leaf': 2, 'min_samples_split': 10, 'n_estimators': 100}\n",
            "0.9790 (+/-0.0057) for {'criterion': 'gini', 'max_depth': 80, 'max_features': 'auto', 'min_samples_leaf': 2, 'min_samples_split': 10, 'n_estimators': 500}\n",
            "0.9790 (+/-0.0057) for {'criterion': 'gini', 'max_depth': 80, 'max_features': 'auto', 'min_samples_leaf': 2, 'min_samples_split': 10, 'n_estimators': 1000}\n",
            "0.9790 (+/-0.0057) for {'criterion': 'gini', 'max_depth': 80, 'max_features': 'auto', 'min_samples_leaf': 2, 'min_samples_split': 10, 'n_estimators': 1500}\n",
            "0.9790 (+/-0.0057) for {'criterion': 'gini', 'max_depth': 80, 'max_features': 'auto', 'min_samples_leaf': 2, 'min_samples_split': 10, 'n_estimators': 2000}\n",
            "0.9788 (+/-0.0054) for {'criterion': 'gini', 'max_depth': 80, 'max_features': 'auto', 'min_samples_leaf': 4, 'min_samples_split': 2, 'n_estimators': 100}\n",
            "0.9790 (+/-0.0051) for {'criterion': 'gini', 'max_depth': 80, 'max_features': 'auto', 'min_samples_leaf': 4, 'min_samples_split': 2, 'n_estimators': 500}\n",
            "0.9790 (+/-0.0051) for {'criterion': 'gini', 'max_depth': 80, 'max_features': 'auto', 'min_samples_leaf': 4, 'min_samples_split': 2, 'n_estimators': 1000}\n",
            "0.9773 (+/-0.0085) for {'criterion': 'gini', 'max_depth': 80, 'max_features': 'auto', 'min_samples_leaf': 4, 'min_samples_split': 2, 'n_estimators': 1500}\n",
            "0.9773 (+/-0.0085) for {'criterion': 'gini', 'max_depth': 80, 'max_features': 'auto', 'min_samples_leaf': 4, 'min_samples_split': 2, 'n_estimators': 2000}\n",
            "0.9788 (+/-0.0054) for {'criterion': 'gini', 'max_depth': 80, 'max_features': 'auto', 'min_samples_leaf': 4, 'min_samples_split': 5, 'n_estimators': 100}\n",
            "0.9790 (+/-0.0051) for {'criterion': 'gini', 'max_depth': 80, 'max_features': 'auto', 'min_samples_leaf': 4, 'min_samples_split': 5, 'n_estimators': 500}\n",
            "0.9790 (+/-0.0051) for {'criterion': 'gini', 'max_depth': 80, 'max_features': 'auto', 'min_samples_leaf': 4, 'min_samples_split': 5, 'n_estimators': 1000}\n",
            "0.9773 (+/-0.0085) for {'criterion': 'gini', 'max_depth': 80, 'max_features': 'auto', 'min_samples_leaf': 4, 'min_samples_split': 5, 'n_estimators': 1500}\n",
            "0.9773 (+/-0.0085) for {'criterion': 'gini', 'max_depth': 80, 'max_features': 'auto', 'min_samples_leaf': 4, 'min_samples_split': 5, 'n_estimators': 2000}\n",
            "0.9788 (+/-0.0054) for {'criterion': 'gini', 'max_depth': 80, 'max_features': 'auto', 'min_samples_leaf': 4, 'min_samples_split': 10, 'n_estimators': 100}\n",
            "0.9773 (+/-0.0085) for {'criterion': 'gini', 'max_depth': 80, 'max_features': 'auto', 'min_samples_leaf': 4, 'min_samples_split': 10, 'n_estimators': 500}\n",
            "0.9773 (+/-0.0085) for {'criterion': 'gini', 'max_depth': 80, 'max_features': 'auto', 'min_samples_leaf': 4, 'min_samples_split': 10, 'n_estimators': 1000}\n",
            "0.9773 (+/-0.0085) for {'criterion': 'gini', 'max_depth': 80, 'max_features': 'auto', 'min_samples_leaf': 4, 'min_samples_split': 10, 'n_estimators': 1500}\n",
            "0.9773 (+/-0.0085) for {'criterion': 'gini', 'max_depth': 80, 'max_features': 'auto', 'min_samples_leaf': 4, 'min_samples_split': 10, 'n_estimators': 2000}\n",
            "0.9794 (+/-0.0054) for {'criterion': 'gini', 'max_depth': 80, 'max_features': 'sqrt', 'min_samples_leaf': 1, 'min_samples_split': 2, 'n_estimators': 100}\n",
            "0.9794 (+/-0.0065) for {'criterion': 'gini', 'max_depth': 80, 'max_features': 'sqrt', 'min_samples_leaf': 1, 'min_samples_split': 2, 'n_estimators': 500}\n",
            "0.9794 (+/-0.0065) for {'criterion': 'gini', 'max_depth': 80, 'max_features': 'sqrt', 'min_samples_leaf': 1, 'min_samples_split': 2, 'n_estimators': 1000}\n",
            "0.9794 (+/-0.0065) for {'criterion': 'gini', 'max_depth': 80, 'max_features': 'sqrt', 'min_samples_leaf': 1, 'min_samples_split': 2, 'n_estimators': 1500}\n",
            "0.9794 (+/-0.0065) for {'criterion': 'gini', 'max_depth': 80, 'max_features': 'sqrt', 'min_samples_leaf': 1, 'min_samples_split': 2, 'n_estimators': 2000}\n",
            "0.9791 (+/-0.0060) for {'criterion': 'gini', 'max_depth': 80, 'max_features': 'sqrt', 'min_samples_leaf': 1, 'min_samples_split': 5, 'n_estimators': 100}\n",
            "0.9795 (+/-0.0068) for {'criterion': 'gini', 'max_depth': 80, 'max_features': 'sqrt', 'min_samples_leaf': 1, 'min_samples_split': 5, 'n_estimators': 500}\n",
            "0.9795 (+/-0.0068) for {'criterion': 'gini', 'max_depth': 80, 'max_features': 'sqrt', 'min_samples_leaf': 1, 'min_samples_split': 5, 'n_estimators': 1000}\n",
            "0.9795 (+/-0.0068) for {'criterion': 'gini', 'max_depth': 80, 'max_features': 'sqrt', 'min_samples_leaf': 1, 'min_samples_split': 5, 'n_estimators': 1500}\n",
            "0.9795 (+/-0.0068) for {'criterion': 'gini', 'max_depth': 80, 'max_features': 'sqrt', 'min_samples_leaf': 1, 'min_samples_split': 5, 'n_estimators': 2000}\n",
            "0.9791 (+/-0.0060) for {'criterion': 'gini', 'max_depth': 80, 'max_features': 'sqrt', 'min_samples_leaf': 1, 'min_samples_split': 10, 'n_estimators': 100}\n",
            "0.9795 (+/-0.0068) for {'criterion': 'gini', 'max_depth': 80, 'max_features': 'sqrt', 'min_samples_leaf': 1, 'min_samples_split': 10, 'n_estimators': 500}\n",
            "0.9795 (+/-0.0068) for {'criterion': 'gini', 'max_depth': 80, 'max_features': 'sqrt', 'min_samples_leaf': 1, 'min_samples_split': 10, 'n_estimators': 1000}\n",
            "0.9795 (+/-0.0068) for {'criterion': 'gini', 'max_depth': 80, 'max_features': 'sqrt', 'min_samples_leaf': 1, 'min_samples_split': 10, 'n_estimators': 1500}\n",
            "0.9795 (+/-0.0068) for {'criterion': 'gini', 'max_depth': 80, 'max_features': 'sqrt', 'min_samples_leaf': 1, 'min_samples_split': 10, 'n_estimators': 2000}\n",
            "0.9788 (+/-0.0054) for {'criterion': 'gini', 'max_depth': 80, 'max_features': 'sqrt', 'min_samples_leaf': 2, 'min_samples_split': 2, 'n_estimators': 100}\n",
            "0.9790 (+/-0.0057) for {'criterion': 'gini', 'max_depth': 80, 'max_features': 'sqrt', 'min_samples_leaf': 2, 'min_samples_split': 2, 'n_estimators': 500}\n",
            "0.9790 (+/-0.0057) for {'criterion': 'gini', 'max_depth': 80, 'max_features': 'sqrt', 'min_samples_leaf': 2, 'min_samples_split': 2, 'n_estimators': 1000}\n",
            "0.9790 (+/-0.0057) for {'criterion': 'gini', 'max_depth': 80, 'max_features': 'sqrt', 'min_samples_leaf': 2, 'min_samples_split': 2, 'n_estimators': 1500}\n",
            "0.9790 (+/-0.0057) for {'criterion': 'gini', 'max_depth': 80, 'max_features': 'sqrt', 'min_samples_leaf': 2, 'min_samples_split': 2, 'n_estimators': 2000}\n",
            "0.9788 (+/-0.0054) for {'criterion': 'gini', 'max_depth': 80, 'max_features': 'sqrt', 'min_samples_leaf': 2, 'min_samples_split': 5, 'n_estimators': 100}\n",
            "0.9790 (+/-0.0057) for {'criterion': 'gini', 'max_depth': 80, 'max_features': 'sqrt', 'min_samples_leaf': 2, 'min_samples_split': 5, 'n_estimators': 500}\n",
            "0.9790 (+/-0.0057) for {'criterion': 'gini', 'max_depth': 80, 'max_features': 'sqrt', 'min_samples_leaf': 2, 'min_samples_split': 5, 'n_estimators': 1000}\n",
            "0.9790 (+/-0.0057) for {'criterion': 'gini', 'max_depth': 80, 'max_features': 'sqrt', 'min_samples_leaf': 2, 'min_samples_split': 5, 'n_estimators': 1500}\n",
            "0.9790 (+/-0.0057) for {'criterion': 'gini', 'max_depth': 80, 'max_features': 'sqrt', 'min_samples_leaf': 2, 'min_samples_split': 5, 'n_estimators': 2000}\n",
            "0.9788 (+/-0.0054) for {'criterion': 'gini', 'max_depth': 80, 'max_features': 'sqrt', 'min_samples_leaf': 2, 'min_samples_split': 10, 'n_estimators': 100}\n",
            "0.9790 (+/-0.0057) for {'criterion': 'gini', 'max_depth': 80, 'max_features': 'sqrt', 'min_samples_leaf': 2, 'min_samples_split': 10, 'n_estimators': 500}\n",
            "0.9790 (+/-0.0057) for {'criterion': 'gini', 'max_depth': 80, 'max_features': 'sqrt', 'min_samples_leaf': 2, 'min_samples_split': 10, 'n_estimators': 1000}\n",
            "0.9790 (+/-0.0057) for {'criterion': 'gini', 'max_depth': 80, 'max_features': 'sqrt', 'min_samples_leaf': 2, 'min_samples_split': 10, 'n_estimators': 1500}\n",
            "0.9790 (+/-0.0057) for {'criterion': 'gini', 'max_depth': 80, 'max_features': 'sqrt', 'min_samples_leaf': 2, 'min_samples_split': 10, 'n_estimators': 2000}\n",
            "0.9788 (+/-0.0054) for {'criterion': 'gini', 'max_depth': 80, 'max_features': 'sqrt', 'min_samples_leaf': 4, 'min_samples_split': 2, 'n_estimators': 100}\n",
            "0.9790 (+/-0.0051) for {'criterion': 'gini', 'max_depth': 80, 'max_features': 'sqrt', 'min_samples_leaf': 4, 'min_samples_split': 2, 'n_estimators': 500}\n",
            "0.9790 (+/-0.0051) for {'criterion': 'gini', 'max_depth': 80, 'max_features': 'sqrt', 'min_samples_leaf': 4, 'min_samples_split': 2, 'n_estimators': 1000}\n",
            "0.9773 (+/-0.0085) for {'criterion': 'gini', 'max_depth': 80, 'max_features': 'sqrt', 'min_samples_leaf': 4, 'min_samples_split': 2, 'n_estimators': 1500}\n",
            "0.9773 (+/-0.0085) for {'criterion': 'gini', 'max_depth': 80, 'max_features': 'sqrt', 'min_samples_leaf': 4, 'min_samples_split': 2, 'n_estimators': 2000}\n",
            "0.9788 (+/-0.0054) for {'criterion': 'gini', 'max_depth': 80, 'max_features': 'sqrt', 'min_samples_leaf': 4, 'min_samples_split': 5, 'n_estimators': 100}\n",
            "0.9790 (+/-0.0051) for {'criterion': 'gini', 'max_depth': 80, 'max_features': 'sqrt', 'min_samples_leaf': 4, 'min_samples_split': 5, 'n_estimators': 500}\n",
            "0.9790 (+/-0.0051) for {'criterion': 'gini', 'max_depth': 80, 'max_features': 'sqrt', 'min_samples_leaf': 4, 'min_samples_split': 5, 'n_estimators': 1000}\n",
            "0.9773 (+/-0.0085) for {'criterion': 'gini', 'max_depth': 80, 'max_features': 'sqrt', 'min_samples_leaf': 4, 'min_samples_split': 5, 'n_estimators': 1500}\n",
            "0.9773 (+/-0.0085) for {'criterion': 'gini', 'max_depth': 80, 'max_features': 'sqrt', 'min_samples_leaf': 4, 'min_samples_split': 5, 'n_estimators': 2000}\n",
            "0.9788 (+/-0.0054) for {'criterion': 'gini', 'max_depth': 80, 'max_features': 'sqrt', 'min_samples_leaf': 4, 'min_samples_split': 10, 'n_estimators': 100}\n",
            "0.9773 (+/-0.0085) for {'criterion': 'gini', 'max_depth': 80, 'max_features': 'sqrt', 'min_samples_leaf': 4, 'min_samples_split': 10, 'n_estimators': 500}\n",
            "0.9773 (+/-0.0085) for {'criterion': 'gini', 'max_depth': 80, 'max_features': 'sqrt', 'min_samples_leaf': 4, 'min_samples_split': 10, 'n_estimators': 1000}\n",
            "0.9773 (+/-0.0085) for {'criterion': 'gini', 'max_depth': 80, 'max_features': 'sqrt', 'min_samples_leaf': 4, 'min_samples_split': 10, 'n_estimators': 1500}\n",
            "0.9773 (+/-0.0085) for {'criterion': 'gini', 'max_depth': 80, 'max_features': 'sqrt', 'min_samples_leaf': 4, 'min_samples_split': 10, 'n_estimators': 2000}\n",
            "0.9794 (+/-0.0054) for {'criterion': 'gini', 'max_depth': 100, 'max_features': 'auto', 'min_samples_leaf': 1, 'min_samples_split': 2, 'n_estimators': 100}\n",
            "0.9794 (+/-0.0065) for {'criterion': 'gini', 'max_depth': 100, 'max_features': 'auto', 'min_samples_leaf': 1, 'min_samples_split': 2, 'n_estimators': 500}\n",
            "0.9794 (+/-0.0065) for {'criterion': 'gini', 'max_depth': 100, 'max_features': 'auto', 'min_samples_leaf': 1, 'min_samples_split': 2, 'n_estimators': 1000}\n",
            "0.9794 (+/-0.0065) for {'criterion': 'gini', 'max_depth': 100, 'max_features': 'auto', 'min_samples_leaf': 1, 'min_samples_split': 2, 'n_estimators': 1500}\n",
            "0.9794 (+/-0.0065) for {'criterion': 'gini', 'max_depth': 100, 'max_features': 'auto', 'min_samples_leaf': 1, 'min_samples_split': 2, 'n_estimators': 2000}\n",
            "0.9791 (+/-0.0060) for {'criterion': 'gini', 'max_depth': 100, 'max_features': 'auto', 'min_samples_leaf': 1, 'min_samples_split': 5, 'n_estimators': 100}\n",
            "0.9795 (+/-0.0068) for {'criterion': 'gini', 'max_depth': 100, 'max_features': 'auto', 'min_samples_leaf': 1, 'min_samples_split': 5, 'n_estimators': 500}\n",
            "0.9795 (+/-0.0068) for {'criterion': 'gini', 'max_depth': 100, 'max_features': 'auto', 'min_samples_leaf': 1, 'min_samples_split': 5, 'n_estimators': 1000}\n",
            "0.9795 (+/-0.0068) for {'criterion': 'gini', 'max_depth': 100, 'max_features': 'auto', 'min_samples_leaf': 1, 'min_samples_split': 5, 'n_estimators': 1500}\n",
            "0.9795 (+/-0.0068) for {'criterion': 'gini', 'max_depth': 100, 'max_features': 'auto', 'min_samples_leaf': 1, 'min_samples_split': 5, 'n_estimators': 2000}\n",
            "0.9791 (+/-0.0060) for {'criterion': 'gini', 'max_depth': 100, 'max_features': 'auto', 'min_samples_leaf': 1, 'min_samples_split': 10, 'n_estimators': 100}\n",
            "0.9795 (+/-0.0068) for {'criterion': 'gini', 'max_depth': 100, 'max_features': 'auto', 'min_samples_leaf': 1, 'min_samples_split': 10, 'n_estimators': 500}\n",
            "0.9795 (+/-0.0068) for {'criterion': 'gini', 'max_depth': 100, 'max_features': 'auto', 'min_samples_leaf': 1, 'min_samples_split': 10, 'n_estimators': 1000}\n",
            "0.9795 (+/-0.0068) for {'criterion': 'gini', 'max_depth': 100, 'max_features': 'auto', 'min_samples_leaf': 1, 'min_samples_split': 10, 'n_estimators': 1500}\n",
            "0.9795 (+/-0.0068) for {'criterion': 'gini', 'max_depth': 100, 'max_features': 'auto', 'min_samples_leaf': 1, 'min_samples_split': 10, 'n_estimators': 2000}\n",
            "0.9788 (+/-0.0054) for {'criterion': 'gini', 'max_depth': 100, 'max_features': 'auto', 'min_samples_leaf': 2, 'min_samples_split': 2, 'n_estimators': 100}\n",
            "0.9790 (+/-0.0057) for {'criterion': 'gini', 'max_depth': 100, 'max_features': 'auto', 'min_samples_leaf': 2, 'min_samples_split': 2, 'n_estimators': 500}\n",
            "0.9790 (+/-0.0057) for {'criterion': 'gini', 'max_depth': 100, 'max_features': 'auto', 'min_samples_leaf': 2, 'min_samples_split': 2, 'n_estimators': 1000}\n",
            "0.9790 (+/-0.0057) for {'criterion': 'gini', 'max_depth': 100, 'max_features': 'auto', 'min_samples_leaf': 2, 'min_samples_split': 2, 'n_estimators': 1500}\n",
            "0.9790 (+/-0.0057) for {'criterion': 'gini', 'max_depth': 100, 'max_features': 'auto', 'min_samples_leaf': 2, 'min_samples_split': 2, 'n_estimators': 2000}\n",
            "0.9788 (+/-0.0054) for {'criterion': 'gini', 'max_depth': 100, 'max_features': 'auto', 'min_samples_leaf': 2, 'min_samples_split': 5, 'n_estimators': 100}\n",
            "0.9790 (+/-0.0057) for {'criterion': 'gini', 'max_depth': 100, 'max_features': 'auto', 'min_samples_leaf': 2, 'min_samples_split': 5, 'n_estimators': 500}\n",
            "0.9790 (+/-0.0057) for {'criterion': 'gini', 'max_depth': 100, 'max_features': 'auto', 'min_samples_leaf': 2, 'min_samples_split': 5, 'n_estimators': 1000}\n",
            "0.9790 (+/-0.0057) for {'criterion': 'gini', 'max_depth': 100, 'max_features': 'auto', 'min_samples_leaf': 2, 'min_samples_split': 5, 'n_estimators': 1500}\n",
            "0.9790 (+/-0.0057) for {'criterion': 'gini', 'max_depth': 100, 'max_features': 'auto', 'min_samples_leaf': 2, 'min_samples_split': 5, 'n_estimators': 2000}\n",
            "0.9788 (+/-0.0054) for {'criterion': 'gini', 'max_depth': 100, 'max_features': 'auto', 'min_samples_leaf': 2, 'min_samples_split': 10, 'n_estimators': 100}\n",
            "0.9790 (+/-0.0057) for {'criterion': 'gini', 'max_depth': 100, 'max_features': 'auto', 'min_samples_leaf': 2, 'min_samples_split': 10, 'n_estimators': 500}\n",
            "0.9790 (+/-0.0057) for {'criterion': 'gini', 'max_depth': 100, 'max_features': 'auto', 'min_samples_leaf': 2, 'min_samples_split': 10, 'n_estimators': 1000}\n",
            "0.9790 (+/-0.0057) for {'criterion': 'gini', 'max_depth': 100, 'max_features': 'auto', 'min_samples_leaf': 2, 'min_samples_split': 10, 'n_estimators': 1500}\n",
            "0.9790 (+/-0.0057) for {'criterion': 'gini', 'max_depth': 100, 'max_features': 'auto', 'min_samples_leaf': 2, 'min_samples_split': 10, 'n_estimators': 2000}\n",
            "0.9788 (+/-0.0054) for {'criterion': 'gini', 'max_depth': 100, 'max_features': 'auto', 'min_samples_leaf': 4, 'min_samples_split': 2, 'n_estimators': 100}\n",
            "0.9790 (+/-0.0051) for {'criterion': 'gini', 'max_depth': 100, 'max_features': 'auto', 'min_samples_leaf': 4, 'min_samples_split': 2, 'n_estimators': 500}\n",
            "0.9790 (+/-0.0051) for {'criterion': 'gini', 'max_depth': 100, 'max_features': 'auto', 'min_samples_leaf': 4, 'min_samples_split': 2, 'n_estimators': 1000}\n",
            "0.9773 (+/-0.0085) for {'criterion': 'gini', 'max_depth': 100, 'max_features': 'auto', 'min_samples_leaf': 4, 'min_samples_split': 2, 'n_estimators': 1500}\n",
            "0.9773 (+/-0.0085) for {'criterion': 'gini', 'max_depth': 100, 'max_features': 'auto', 'min_samples_leaf': 4, 'min_samples_split': 2, 'n_estimators': 2000}\n",
            "0.9788 (+/-0.0054) for {'criterion': 'gini', 'max_depth': 100, 'max_features': 'auto', 'min_samples_leaf': 4, 'min_samples_split': 5, 'n_estimators': 100}\n",
            "0.9790 (+/-0.0051) for {'criterion': 'gini', 'max_depth': 100, 'max_features': 'auto', 'min_samples_leaf': 4, 'min_samples_split': 5, 'n_estimators': 500}\n",
            "0.9790 (+/-0.0051) for {'criterion': 'gini', 'max_depth': 100, 'max_features': 'auto', 'min_samples_leaf': 4, 'min_samples_split': 5, 'n_estimators': 1000}\n",
            "0.9773 (+/-0.0085) for {'criterion': 'gini', 'max_depth': 100, 'max_features': 'auto', 'min_samples_leaf': 4, 'min_samples_split': 5, 'n_estimators': 1500}\n",
            "0.9773 (+/-0.0085) for {'criterion': 'gini', 'max_depth': 100, 'max_features': 'auto', 'min_samples_leaf': 4, 'min_samples_split': 5, 'n_estimators': 2000}\n",
            "0.9788 (+/-0.0054) for {'criterion': 'gini', 'max_depth': 100, 'max_features': 'auto', 'min_samples_leaf': 4, 'min_samples_split': 10, 'n_estimators': 100}\n",
            "0.9773 (+/-0.0085) for {'criterion': 'gini', 'max_depth': 100, 'max_features': 'auto', 'min_samples_leaf': 4, 'min_samples_split': 10, 'n_estimators': 500}\n",
            "0.9773 (+/-0.0085) for {'criterion': 'gini', 'max_depth': 100, 'max_features': 'auto', 'min_samples_leaf': 4, 'min_samples_split': 10, 'n_estimators': 1000}\n",
            "0.9773 (+/-0.0085) for {'criterion': 'gini', 'max_depth': 100, 'max_features': 'auto', 'min_samples_leaf': 4, 'min_samples_split': 10, 'n_estimators': 1500}\n",
            "0.9773 (+/-0.0085) for {'criterion': 'gini', 'max_depth': 100, 'max_features': 'auto', 'min_samples_leaf': 4, 'min_samples_split': 10, 'n_estimators': 2000}\n",
            "0.9794 (+/-0.0054) for {'criterion': 'gini', 'max_depth': 100, 'max_features': 'sqrt', 'min_samples_leaf': 1, 'min_samples_split': 2, 'n_estimators': 100}\n",
            "0.9794 (+/-0.0065) for {'criterion': 'gini', 'max_depth': 100, 'max_features': 'sqrt', 'min_samples_leaf': 1, 'min_samples_split': 2, 'n_estimators': 500}\n",
            "0.9794 (+/-0.0065) for {'criterion': 'gini', 'max_depth': 100, 'max_features': 'sqrt', 'min_samples_leaf': 1, 'min_samples_split': 2, 'n_estimators': 1000}\n",
            "0.9794 (+/-0.0065) for {'criterion': 'gini', 'max_depth': 100, 'max_features': 'sqrt', 'min_samples_leaf': 1, 'min_samples_split': 2, 'n_estimators': 1500}\n",
            "0.9794 (+/-0.0065) for {'criterion': 'gini', 'max_depth': 100, 'max_features': 'sqrt', 'min_samples_leaf': 1, 'min_samples_split': 2, 'n_estimators': 2000}\n",
            "0.9791 (+/-0.0060) for {'criterion': 'gini', 'max_depth': 100, 'max_features': 'sqrt', 'min_samples_leaf': 1, 'min_samples_split': 5, 'n_estimators': 100}\n",
            "0.9795 (+/-0.0068) for {'criterion': 'gini', 'max_depth': 100, 'max_features': 'sqrt', 'min_samples_leaf': 1, 'min_samples_split': 5, 'n_estimators': 500}\n",
            "0.9795 (+/-0.0068) for {'criterion': 'gini', 'max_depth': 100, 'max_features': 'sqrt', 'min_samples_leaf': 1, 'min_samples_split': 5, 'n_estimators': 1000}\n",
            "0.9795 (+/-0.0068) for {'criterion': 'gini', 'max_depth': 100, 'max_features': 'sqrt', 'min_samples_leaf': 1, 'min_samples_split': 5, 'n_estimators': 1500}\n",
            "0.9795 (+/-0.0068) for {'criterion': 'gini', 'max_depth': 100, 'max_features': 'sqrt', 'min_samples_leaf': 1, 'min_samples_split': 5, 'n_estimators': 2000}\n",
            "0.9791 (+/-0.0060) for {'criterion': 'gini', 'max_depth': 100, 'max_features': 'sqrt', 'min_samples_leaf': 1, 'min_samples_split': 10, 'n_estimators': 100}\n",
            "0.9795 (+/-0.0068) for {'criterion': 'gini', 'max_depth': 100, 'max_features': 'sqrt', 'min_samples_leaf': 1, 'min_samples_split': 10, 'n_estimators': 500}\n",
            "0.9795 (+/-0.0068) for {'criterion': 'gini', 'max_depth': 100, 'max_features': 'sqrt', 'min_samples_leaf': 1, 'min_samples_split': 10, 'n_estimators': 1000}\n",
            "0.9795 (+/-0.0068) for {'criterion': 'gini', 'max_depth': 100, 'max_features': 'sqrt', 'min_samples_leaf': 1, 'min_samples_split': 10, 'n_estimators': 1500}\n",
            "0.9795 (+/-0.0068) for {'criterion': 'gini', 'max_depth': 100, 'max_features': 'sqrt', 'min_samples_leaf': 1, 'min_samples_split': 10, 'n_estimators': 2000}\n",
            "0.9788 (+/-0.0054) for {'criterion': 'gini', 'max_depth': 100, 'max_features': 'sqrt', 'min_samples_leaf': 2, 'min_samples_split': 2, 'n_estimators': 100}\n",
            "0.9790 (+/-0.0057) for {'criterion': 'gini', 'max_depth': 100, 'max_features': 'sqrt', 'min_samples_leaf': 2, 'min_samples_split': 2, 'n_estimators': 500}\n",
            "0.9790 (+/-0.0057) for {'criterion': 'gini', 'max_depth': 100, 'max_features': 'sqrt', 'min_samples_leaf': 2, 'min_samples_split': 2, 'n_estimators': 1000}\n",
            "0.9790 (+/-0.0057) for {'criterion': 'gini', 'max_depth': 100, 'max_features': 'sqrt', 'min_samples_leaf': 2, 'min_samples_split': 2, 'n_estimators': 1500}\n",
            "0.9790 (+/-0.0057) for {'criterion': 'gini', 'max_depth': 100, 'max_features': 'sqrt', 'min_samples_leaf': 2, 'min_samples_split': 2, 'n_estimators': 2000}\n",
            "0.9788 (+/-0.0054) for {'criterion': 'gini', 'max_depth': 100, 'max_features': 'sqrt', 'min_samples_leaf': 2, 'min_samples_split': 5, 'n_estimators': 100}\n",
            "0.9790 (+/-0.0057) for {'criterion': 'gini', 'max_depth': 100, 'max_features': 'sqrt', 'min_samples_leaf': 2, 'min_samples_split': 5, 'n_estimators': 500}\n",
            "0.9790 (+/-0.0057) for {'criterion': 'gini', 'max_depth': 100, 'max_features': 'sqrt', 'min_samples_leaf': 2, 'min_samples_split': 5, 'n_estimators': 1000}\n",
            "0.9790 (+/-0.0057) for {'criterion': 'gini', 'max_depth': 100, 'max_features': 'sqrt', 'min_samples_leaf': 2, 'min_samples_split': 5, 'n_estimators': 1500}\n",
            "0.9790 (+/-0.0057) for {'criterion': 'gini', 'max_depth': 100, 'max_features': 'sqrt', 'min_samples_leaf': 2, 'min_samples_split': 5, 'n_estimators': 2000}\n",
            "0.9788 (+/-0.0054) for {'criterion': 'gini', 'max_depth': 100, 'max_features': 'sqrt', 'min_samples_leaf': 2, 'min_samples_split': 10, 'n_estimators': 100}\n",
            "0.9790 (+/-0.0057) for {'criterion': 'gini', 'max_depth': 100, 'max_features': 'sqrt', 'min_samples_leaf': 2, 'min_samples_split': 10, 'n_estimators': 500}\n",
            "0.9790 (+/-0.0057) for {'criterion': 'gini', 'max_depth': 100, 'max_features': 'sqrt', 'min_samples_leaf': 2, 'min_samples_split': 10, 'n_estimators': 1000}\n",
            "0.9790 (+/-0.0057) for {'criterion': 'gini', 'max_depth': 100, 'max_features': 'sqrt', 'min_samples_leaf': 2, 'min_samples_split': 10, 'n_estimators': 1500}\n",
            "0.9790 (+/-0.0057) for {'criterion': 'gini', 'max_depth': 100, 'max_features': 'sqrt', 'min_samples_leaf': 2, 'min_samples_split': 10, 'n_estimators': 2000}\n",
            "0.9788 (+/-0.0054) for {'criterion': 'gini', 'max_depth': 100, 'max_features': 'sqrt', 'min_samples_leaf': 4, 'min_samples_split': 2, 'n_estimators': 100}\n",
            "0.9790 (+/-0.0051) for {'criterion': 'gini', 'max_depth': 100, 'max_features': 'sqrt', 'min_samples_leaf': 4, 'min_samples_split': 2, 'n_estimators': 500}\n",
            "0.9790 (+/-0.0051) for {'criterion': 'gini', 'max_depth': 100, 'max_features': 'sqrt', 'min_samples_leaf': 4, 'min_samples_split': 2, 'n_estimators': 1000}\n",
            "0.9773 (+/-0.0085) for {'criterion': 'gini', 'max_depth': 100, 'max_features': 'sqrt', 'min_samples_leaf': 4, 'min_samples_split': 2, 'n_estimators': 1500}\n",
            "0.9773 (+/-0.0085) for {'criterion': 'gini', 'max_depth': 100, 'max_features': 'sqrt', 'min_samples_leaf': 4, 'min_samples_split': 2, 'n_estimators': 2000}\n",
            "0.9788 (+/-0.0054) for {'criterion': 'gini', 'max_depth': 100, 'max_features': 'sqrt', 'min_samples_leaf': 4, 'min_samples_split': 5, 'n_estimators': 100}\n",
            "0.9790 (+/-0.0051) for {'criterion': 'gini', 'max_depth': 100, 'max_features': 'sqrt', 'min_samples_leaf': 4, 'min_samples_split': 5, 'n_estimators': 500}\n",
            "0.9790 (+/-0.0051) for {'criterion': 'gini', 'max_depth': 100, 'max_features': 'sqrt', 'min_samples_leaf': 4, 'min_samples_split': 5, 'n_estimators': 1000}\n",
            "0.9773 (+/-0.0085) for {'criterion': 'gini', 'max_depth': 100, 'max_features': 'sqrt', 'min_samples_leaf': 4, 'min_samples_split': 5, 'n_estimators': 1500}\n",
            "0.9773 (+/-0.0085) for {'criterion': 'gini', 'max_depth': 100, 'max_features': 'sqrt', 'min_samples_leaf': 4, 'min_samples_split': 5, 'n_estimators': 2000}\n",
            "0.9788 (+/-0.0054) for {'criterion': 'gini', 'max_depth': 100, 'max_features': 'sqrt', 'min_samples_leaf': 4, 'min_samples_split': 10, 'n_estimators': 100}\n",
            "0.9773 (+/-0.0085) for {'criterion': 'gini', 'max_depth': 100, 'max_features': 'sqrt', 'min_samples_leaf': 4, 'min_samples_split': 10, 'n_estimators': 500}\n",
            "0.9773 (+/-0.0085) for {'criterion': 'gini', 'max_depth': 100, 'max_features': 'sqrt', 'min_samples_leaf': 4, 'min_samples_split': 10, 'n_estimators': 1000}\n",
            "0.9773 (+/-0.0085) for {'criterion': 'gini', 'max_depth': 100, 'max_features': 'sqrt', 'min_samples_leaf': 4, 'min_samples_split': 10, 'n_estimators': 1500}\n",
            "0.9773 (+/-0.0085) for {'criterion': 'gini', 'max_depth': 100, 'max_features': 'sqrt', 'min_samples_leaf': 4, 'min_samples_split': 10, 'n_estimators': 2000}\n",
            "0.9790 (+/-0.0062) for {'criterion': 'entropy', 'max_depth': 10, 'max_features': 'auto', 'min_samples_leaf': 1, 'min_samples_split': 2, 'n_estimators': 100}\n",
            "0.9791 (+/-0.0060) for {'criterion': 'entropy', 'max_depth': 10, 'max_features': 'auto', 'min_samples_leaf': 1, 'min_samples_split': 2, 'n_estimators': 500}\n",
            "0.9791 (+/-0.0060) for {'criterion': 'entropy', 'max_depth': 10, 'max_features': 'auto', 'min_samples_leaf': 1, 'min_samples_split': 2, 'n_estimators': 1000}\n",
            "0.9791 (+/-0.0060) for {'criterion': 'entropy', 'max_depth': 10, 'max_features': 'auto', 'min_samples_leaf': 1, 'min_samples_split': 2, 'n_estimators': 1500}\n",
            "0.9791 (+/-0.0060) for {'criterion': 'entropy', 'max_depth': 10, 'max_features': 'auto', 'min_samples_leaf': 1, 'min_samples_split': 2, 'n_estimators': 2000}\n",
            "0.9794 (+/-0.0060) for {'criterion': 'entropy', 'max_depth': 10, 'max_features': 'auto', 'min_samples_leaf': 1, 'min_samples_split': 5, 'n_estimators': 100}\n",
            "0.9793 (+/-0.0062) for {'criterion': 'entropy', 'max_depth': 10, 'max_features': 'auto', 'min_samples_leaf': 1, 'min_samples_split': 5, 'n_estimators': 500}\n",
            "0.9793 (+/-0.0062) for {'criterion': 'entropy', 'max_depth': 10, 'max_features': 'auto', 'min_samples_leaf': 1, 'min_samples_split': 5, 'n_estimators': 1000}\n",
            "0.9793 (+/-0.0062) for {'criterion': 'entropy', 'max_depth': 10, 'max_features': 'auto', 'min_samples_leaf': 1, 'min_samples_split': 5, 'n_estimators': 1500}\n",
            "0.9793 (+/-0.0062) for {'criterion': 'entropy', 'max_depth': 10, 'max_features': 'auto', 'min_samples_leaf': 1, 'min_samples_split': 5, 'n_estimators': 2000}\n",
            "0.9793 (+/-0.0062) for {'criterion': 'entropy', 'max_depth': 10, 'max_features': 'auto', 'min_samples_leaf': 1, 'min_samples_split': 10, 'n_estimators': 100}\n",
            "0.9793 (+/-0.0062) for {'criterion': 'entropy', 'max_depth': 10, 'max_features': 'auto', 'min_samples_leaf': 1, 'min_samples_split': 10, 'n_estimators': 500}\n",
            "0.9793 (+/-0.0062) for {'criterion': 'entropy', 'max_depth': 10, 'max_features': 'auto', 'min_samples_leaf': 1, 'min_samples_split': 10, 'n_estimators': 1000}\n",
            "0.9793 (+/-0.0062) for {'criterion': 'entropy', 'max_depth': 10, 'max_features': 'auto', 'min_samples_leaf': 1, 'min_samples_split': 10, 'n_estimators': 1500}\n",
            "0.9793 (+/-0.0062) for {'criterion': 'entropy', 'max_depth': 10, 'max_features': 'auto', 'min_samples_leaf': 1, 'min_samples_split': 10, 'n_estimators': 2000}\n",
            "0.9790 (+/-0.0068) for {'criterion': 'entropy', 'max_depth': 10, 'max_features': 'auto', 'min_samples_leaf': 2, 'min_samples_split': 2, 'n_estimators': 100}\n",
            "0.9793 (+/-0.0068) for {'criterion': 'entropy', 'max_depth': 10, 'max_features': 'auto', 'min_samples_leaf': 2, 'min_samples_split': 2, 'n_estimators': 500}\n",
            "0.9793 (+/-0.0068) for {'criterion': 'entropy', 'max_depth': 10, 'max_features': 'auto', 'min_samples_leaf': 2, 'min_samples_split': 2, 'n_estimators': 1000}\n",
            "0.9793 (+/-0.0068) for {'criterion': 'entropy', 'max_depth': 10, 'max_features': 'auto', 'min_samples_leaf': 2, 'min_samples_split': 2, 'n_estimators': 1500}\n",
            "0.9793 (+/-0.0068) for {'criterion': 'entropy', 'max_depth': 10, 'max_features': 'auto', 'min_samples_leaf': 2, 'min_samples_split': 2, 'n_estimators': 2000}\n",
            "0.9791 (+/-0.0071) for {'criterion': 'entropy', 'max_depth': 10, 'max_features': 'auto', 'min_samples_leaf': 2, 'min_samples_split': 5, 'n_estimators': 100}\n",
            "0.9793 (+/-0.0068) for {'criterion': 'entropy', 'max_depth': 10, 'max_features': 'auto', 'min_samples_leaf': 2, 'min_samples_split': 5, 'n_estimators': 500}\n",
            "0.9793 (+/-0.0068) for {'criterion': 'entropy', 'max_depth': 10, 'max_features': 'auto', 'min_samples_leaf': 2, 'min_samples_split': 5, 'n_estimators': 1000}\n",
            "0.9793 (+/-0.0068) for {'criterion': 'entropy', 'max_depth': 10, 'max_features': 'auto', 'min_samples_leaf': 2, 'min_samples_split': 5, 'n_estimators': 1500}\n",
            "0.9793 (+/-0.0068) for {'criterion': 'entropy', 'max_depth': 10, 'max_features': 'auto', 'min_samples_leaf': 2, 'min_samples_split': 5, 'n_estimators': 2000}\n",
            "0.9793 (+/-0.0068) for {'criterion': 'entropy', 'max_depth': 10, 'max_features': 'auto', 'min_samples_leaf': 2, 'min_samples_split': 10, 'n_estimators': 100}\n",
            "0.9793 (+/-0.0068) for {'criterion': 'entropy', 'max_depth': 10, 'max_features': 'auto', 'min_samples_leaf': 2, 'min_samples_split': 10, 'n_estimators': 500}\n",
            "0.9793 (+/-0.0068) for {'criterion': 'entropy', 'max_depth': 10, 'max_features': 'auto', 'min_samples_leaf': 2, 'min_samples_split': 10, 'n_estimators': 1000}\n",
            "0.9793 (+/-0.0068) for {'criterion': 'entropy', 'max_depth': 10, 'max_features': 'auto', 'min_samples_leaf': 2, 'min_samples_split': 10, 'n_estimators': 1500}\n",
            "0.9793 (+/-0.0068) for {'criterion': 'entropy', 'max_depth': 10, 'max_features': 'auto', 'min_samples_leaf': 2, 'min_samples_split': 10, 'n_estimators': 2000}\n",
            "0.9794 (+/-0.0065) for {'criterion': 'entropy', 'max_depth': 10, 'max_features': 'auto', 'min_samples_leaf': 4, 'min_samples_split': 2, 'n_estimators': 100}\n",
            "0.9793 (+/-0.0068) for {'criterion': 'entropy', 'max_depth': 10, 'max_features': 'auto', 'min_samples_leaf': 4, 'min_samples_split': 2, 'n_estimators': 500}\n",
            "0.9793 (+/-0.0068) for {'criterion': 'entropy', 'max_depth': 10, 'max_features': 'auto', 'min_samples_leaf': 4, 'min_samples_split': 2, 'n_estimators': 1000}\n",
            "0.9776 (+/-0.0102) for {'criterion': 'entropy', 'max_depth': 10, 'max_features': 'auto', 'min_samples_leaf': 4, 'min_samples_split': 2, 'n_estimators': 1500}\n",
            "0.9776 (+/-0.0102) for {'criterion': 'entropy', 'max_depth': 10, 'max_features': 'auto', 'min_samples_leaf': 4, 'min_samples_split': 2, 'n_estimators': 2000}\n",
            "0.9794 (+/-0.0065) for {'criterion': 'entropy', 'max_depth': 10, 'max_features': 'auto', 'min_samples_leaf': 4, 'min_samples_split': 5, 'n_estimators': 100}\n",
            "0.9793 (+/-0.0068) for {'criterion': 'entropy', 'max_depth': 10, 'max_features': 'auto', 'min_samples_leaf': 4, 'min_samples_split': 5, 'n_estimators': 500}\n",
            "0.9793 (+/-0.0068) for {'criterion': 'entropy', 'max_depth': 10, 'max_features': 'auto', 'min_samples_leaf': 4, 'min_samples_split': 5, 'n_estimators': 1000}\n",
            "0.9776 (+/-0.0102) for {'criterion': 'entropy', 'max_depth': 10, 'max_features': 'auto', 'min_samples_leaf': 4, 'min_samples_split': 5, 'n_estimators': 1500}\n",
            "0.9776 (+/-0.0102) for {'criterion': 'entropy', 'max_depth': 10, 'max_features': 'auto', 'min_samples_leaf': 4, 'min_samples_split': 5, 'n_estimators': 2000}\n",
            "0.9794 (+/-0.0065) for {'criterion': 'entropy', 'max_depth': 10, 'max_features': 'auto', 'min_samples_leaf': 4, 'min_samples_split': 10, 'n_estimators': 100}\n",
            "0.9793 (+/-0.0068) for {'criterion': 'entropy', 'max_depth': 10, 'max_features': 'auto', 'min_samples_leaf': 4, 'min_samples_split': 10, 'n_estimators': 500}\n",
            "0.9776 (+/-0.0102) for {'criterion': 'entropy', 'max_depth': 10, 'max_features': 'auto', 'min_samples_leaf': 4, 'min_samples_split': 10, 'n_estimators': 1000}\n",
            "0.9776 (+/-0.0102) for {'criterion': 'entropy', 'max_depth': 10, 'max_features': 'auto', 'min_samples_leaf': 4, 'min_samples_split': 10, 'n_estimators': 1500}\n",
            "0.9776 (+/-0.0102) for {'criterion': 'entropy', 'max_depth': 10, 'max_features': 'auto', 'min_samples_leaf': 4, 'min_samples_split': 10, 'n_estimators': 2000}\n",
            "0.9790 (+/-0.0062) for {'criterion': 'entropy', 'max_depth': 10, 'max_features': 'sqrt', 'min_samples_leaf': 1, 'min_samples_split': 2, 'n_estimators': 100}\n",
            "0.9791 (+/-0.0060) for {'criterion': 'entropy', 'max_depth': 10, 'max_features': 'sqrt', 'min_samples_leaf': 1, 'min_samples_split': 2, 'n_estimators': 500}\n",
            "0.9791 (+/-0.0060) for {'criterion': 'entropy', 'max_depth': 10, 'max_features': 'sqrt', 'min_samples_leaf': 1, 'min_samples_split': 2, 'n_estimators': 1000}\n",
            "0.9791 (+/-0.0060) for {'criterion': 'entropy', 'max_depth': 10, 'max_features': 'sqrt', 'min_samples_leaf': 1, 'min_samples_split': 2, 'n_estimators': 1500}\n",
            "0.9791 (+/-0.0060) for {'criterion': 'entropy', 'max_depth': 10, 'max_features': 'sqrt', 'min_samples_leaf': 1, 'min_samples_split': 2, 'n_estimators': 2000}\n",
            "0.9794 (+/-0.0060) for {'criterion': 'entropy', 'max_depth': 10, 'max_features': 'sqrt', 'min_samples_leaf': 1, 'min_samples_split': 5, 'n_estimators': 100}\n",
            "0.9793 (+/-0.0062) for {'criterion': 'entropy', 'max_depth': 10, 'max_features': 'sqrt', 'min_samples_leaf': 1, 'min_samples_split': 5, 'n_estimators': 500}\n",
            "0.9793 (+/-0.0062) for {'criterion': 'entropy', 'max_depth': 10, 'max_features': 'sqrt', 'min_samples_leaf': 1, 'min_samples_split': 5, 'n_estimators': 1000}\n",
            "0.9793 (+/-0.0062) for {'criterion': 'entropy', 'max_depth': 10, 'max_features': 'sqrt', 'min_samples_leaf': 1, 'min_samples_split': 5, 'n_estimators': 1500}\n",
            "0.9793 (+/-0.0062) for {'criterion': 'entropy', 'max_depth': 10, 'max_features': 'sqrt', 'min_samples_leaf': 1, 'min_samples_split': 5, 'n_estimators': 2000}\n",
            "0.9793 (+/-0.0062) for {'criterion': 'entropy', 'max_depth': 10, 'max_features': 'sqrt', 'min_samples_leaf': 1, 'min_samples_split': 10, 'n_estimators': 100}\n",
            "0.9793 (+/-0.0062) for {'criterion': 'entropy', 'max_depth': 10, 'max_features': 'sqrt', 'min_samples_leaf': 1, 'min_samples_split': 10, 'n_estimators': 500}\n",
            "0.9793 (+/-0.0062) for {'criterion': 'entropy', 'max_depth': 10, 'max_features': 'sqrt', 'min_samples_leaf': 1, 'min_samples_split': 10, 'n_estimators': 1000}\n",
            "0.9793 (+/-0.0062) for {'criterion': 'entropy', 'max_depth': 10, 'max_features': 'sqrt', 'min_samples_leaf': 1, 'min_samples_split': 10, 'n_estimators': 1500}\n",
            "0.9793 (+/-0.0062) for {'criterion': 'entropy', 'max_depth': 10, 'max_features': 'sqrt', 'min_samples_leaf': 1, 'min_samples_split': 10, 'n_estimators': 2000}\n",
            "0.9790 (+/-0.0068) for {'criterion': 'entropy', 'max_depth': 10, 'max_features': 'sqrt', 'min_samples_leaf': 2, 'min_samples_split': 2, 'n_estimators': 100}\n",
            "0.9793 (+/-0.0068) for {'criterion': 'entropy', 'max_depth': 10, 'max_features': 'sqrt', 'min_samples_leaf': 2, 'min_samples_split': 2, 'n_estimators': 500}\n",
            "0.9793 (+/-0.0068) for {'criterion': 'entropy', 'max_depth': 10, 'max_features': 'sqrt', 'min_samples_leaf': 2, 'min_samples_split': 2, 'n_estimators': 1000}\n",
            "0.9793 (+/-0.0068) for {'criterion': 'entropy', 'max_depth': 10, 'max_features': 'sqrt', 'min_samples_leaf': 2, 'min_samples_split': 2, 'n_estimators': 1500}\n",
            "0.9793 (+/-0.0068) for {'criterion': 'entropy', 'max_depth': 10, 'max_features': 'sqrt', 'min_samples_leaf': 2, 'min_samples_split': 2, 'n_estimators': 2000}\n",
            "0.9791 (+/-0.0071) for {'criterion': 'entropy', 'max_depth': 10, 'max_features': 'sqrt', 'min_samples_leaf': 2, 'min_samples_split': 5, 'n_estimators': 100}\n",
            "0.9793 (+/-0.0068) for {'criterion': 'entropy', 'max_depth': 10, 'max_features': 'sqrt', 'min_samples_leaf': 2, 'min_samples_split': 5, 'n_estimators': 500}\n",
            "0.9793 (+/-0.0068) for {'criterion': 'entropy', 'max_depth': 10, 'max_features': 'sqrt', 'min_samples_leaf': 2, 'min_samples_split': 5, 'n_estimators': 1000}\n",
            "0.9793 (+/-0.0068) for {'criterion': 'entropy', 'max_depth': 10, 'max_features': 'sqrt', 'min_samples_leaf': 2, 'min_samples_split': 5, 'n_estimators': 1500}\n",
            "0.9793 (+/-0.0068) for {'criterion': 'entropy', 'max_depth': 10, 'max_features': 'sqrt', 'min_samples_leaf': 2, 'min_samples_split': 5, 'n_estimators': 2000}\n",
            "0.9793 (+/-0.0068) for {'criterion': 'entropy', 'max_depth': 10, 'max_features': 'sqrt', 'min_samples_leaf': 2, 'min_samples_split': 10, 'n_estimators': 100}\n",
            "0.9793 (+/-0.0068) for {'criterion': 'entropy', 'max_depth': 10, 'max_features': 'sqrt', 'min_samples_leaf': 2, 'min_samples_split': 10, 'n_estimators': 500}\n",
            "0.9793 (+/-0.0068) for {'criterion': 'entropy', 'max_depth': 10, 'max_features': 'sqrt', 'min_samples_leaf': 2, 'min_samples_split': 10, 'n_estimators': 1000}\n",
            "0.9793 (+/-0.0068) for {'criterion': 'entropy', 'max_depth': 10, 'max_features': 'sqrt', 'min_samples_leaf': 2, 'min_samples_split': 10, 'n_estimators': 1500}\n",
            "0.9793 (+/-0.0068) for {'criterion': 'entropy', 'max_depth': 10, 'max_features': 'sqrt', 'min_samples_leaf': 2, 'min_samples_split': 10, 'n_estimators': 2000}\n",
            "0.9794 (+/-0.0065) for {'criterion': 'entropy', 'max_depth': 10, 'max_features': 'sqrt', 'min_samples_leaf': 4, 'min_samples_split': 2, 'n_estimators': 100}\n",
            "0.9793 (+/-0.0068) for {'criterion': 'entropy', 'max_depth': 10, 'max_features': 'sqrt', 'min_samples_leaf': 4, 'min_samples_split': 2, 'n_estimators': 500}\n",
            "0.9793 (+/-0.0068) for {'criterion': 'entropy', 'max_depth': 10, 'max_features': 'sqrt', 'min_samples_leaf': 4, 'min_samples_split': 2, 'n_estimators': 1000}\n",
            "0.9776 (+/-0.0102) for {'criterion': 'entropy', 'max_depth': 10, 'max_features': 'sqrt', 'min_samples_leaf': 4, 'min_samples_split': 2, 'n_estimators': 1500}\n",
            "0.9776 (+/-0.0102) for {'criterion': 'entropy', 'max_depth': 10, 'max_features': 'sqrt', 'min_samples_leaf': 4, 'min_samples_split': 2, 'n_estimators': 2000}\n",
            "0.9794 (+/-0.0065) for {'criterion': 'entropy', 'max_depth': 10, 'max_features': 'sqrt', 'min_samples_leaf': 4, 'min_samples_split': 5, 'n_estimators': 100}\n",
            "0.9793 (+/-0.0068) for {'criterion': 'entropy', 'max_depth': 10, 'max_features': 'sqrt', 'min_samples_leaf': 4, 'min_samples_split': 5, 'n_estimators': 500}\n",
            "0.9793 (+/-0.0068) for {'criterion': 'entropy', 'max_depth': 10, 'max_features': 'sqrt', 'min_samples_leaf': 4, 'min_samples_split': 5, 'n_estimators': 1000}\n",
            "0.9776 (+/-0.0102) for {'criterion': 'entropy', 'max_depth': 10, 'max_features': 'sqrt', 'min_samples_leaf': 4, 'min_samples_split': 5, 'n_estimators': 1500}\n",
            "0.9776 (+/-0.0102) for {'criterion': 'entropy', 'max_depth': 10, 'max_features': 'sqrt', 'min_samples_leaf': 4, 'min_samples_split': 5, 'n_estimators': 2000}\n",
            "0.9794 (+/-0.0065) for {'criterion': 'entropy', 'max_depth': 10, 'max_features': 'sqrt', 'min_samples_leaf': 4, 'min_samples_split': 10, 'n_estimators': 100}\n",
            "0.9793 (+/-0.0068) for {'criterion': 'entropy', 'max_depth': 10, 'max_features': 'sqrt', 'min_samples_leaf': 4, 'min_samples_split': 10, 'n_estimators': 500}\n",
            "0.9776 (+/-0.0102) for {'criterion': 'entropy', 'max_depth': 10, 'max_features': 'sqrt', 'min_samples_leaf': 4, 'min_samples_split': 10, 'n_estimators': 1000}\n",
            "0.9776 (+/-0.0102) for {'criterion': 'entropy', 'max_depth': 10, 'max_features': 'sqrt', 'min_samples_leaf': 4, 'min_samples_split': 10, 'n_estimators': 1500}\n",
            "0.9776 (+/-0.0102) for {'criterion': 'entropy', 'max_depth': 10, 'max_features': 'sqrt', 'min_samples_leaf': 4, 'min_samples_split': 10, 'n_estimators': 2000}\n",
            "0.9790 (+/-0.0062) for {'criterion': 'entropy', 'max_depth': 40, 'max_features': 'auto', 'min_samples_leaf': 1, 'min_samples_split': 2, 'n_estimators': 100}\n",
            "0.9791 (+/-0.0060) for {'criterion': 'entropy', 'max_depth': 40, 'max_features': 'auto', 'min_samples_leaf': 1, 'min_samples_split': 2, 'n_estimators': 500}\n",
            "0.9791 (+/-0.0060) for {'criterion': 'entropy', 'max_depth': 40, 'max_features': 'auto', 'min_samples_leaf': 1, 'min_samples_split': 2, 'n_estimators': 1000}\n",
            "0.9791 (+/-0.0060) for {'criterion': 'entropy', 'max_depth': 40, 'max_features': 'auto', 'min_samples_leaf': 1, 'min_samples_split': 2, 'n_estimators': 1500}\n",
            "0.9791 (+/-0.0060) for {'criterion': 'entropy', 'max_depth': 40, 'max_features': 'auto', 'min_samples_leaf': 1, 'min_samples_split': 2, 'n_estimators': 2000}\n",
            "0.9794 (+/-0.0060) for {'criterion': 'entropy', 'max_depth': 40, 'max_features': 'auto', 'min_samples_leaf': 1, 'min_samples_split': 5, 'n_estimators': 100}\n",
            "0.9793 (+/-0.0062) for {'criterion': 'entropy', 'max_depth': 40, 'max_features': 'auto', 'min_samples_leaf': 1, 'min_samples_split': 5, 'n_estimators': 500}\n",
            "0.9793 (+/-0.0062) for {'criterion': 'entropy', 'max_depth': 40, 'max_features': 'auto', 'min_samples_leaf': 1, 'min_samples_split': 5, 'n_estimators': 1000}\n",
            "0.9793 (+/-0.0062) for {'criterion': 'entropy', 'max_depth': 40, 'max_features': 'auto', 'min_samples_leaf': 1, 'min_samples_split': 5, 'n_estimators': 1500}\n",
            "0.9793 (+/-0.0062) for {'criterion': 'entropy', 'max_depth': 40, 'max_features': 'auto', 'min_samples_leaf': 1, 'min_samples_split': 5, 'n_estimators': 2000}\n",
            "0.9793 (+/-0.0062) for {'criterion': 'entropy', 'max_depth': 40, 'max_features': 'auto', 'min_samples_leaf': 1, 'min_samples_split': 10, 'n_estimators': 100}\n",
            "0.9793 (+/-0.0062) for {'criterion': 'entropy', 'max_depth': 40, 'max_features': 'auto', 'min_samples_leaf': 1, 'min_samples_split': 10, 'n_estimators': 500}\n",
            "0.9793 (+/-0.0062) for {'criterion': 'entropy', 'max_depth': 40, 'max_features': 'auto', 'min_samples_leaf': 1, 'min_samples_split': 10, 'n_estimators': 1000}\n",
            "0.9793 (+/-0.0062) for {'criterion': 'entropy', 'max_depth': 40, 'max_features': 'auto', 'min_samples_leaf': 1, 'min_samples_split': 10, 'n_estimators': 1500}\n",
            "0.9793 (+/-0.0062) for {'criterion': 'entropy', 'max_depth': 40, 'max_features': 'auto', 'min_samples_leaf': 1, 'min_samples_split': 10, 'n_estimators': 2000}\n",
            "0.9790 (+/-0.0068) for {'criterion': 'entropy', 'max_depth': 40, 'max_features': 'auto', 'min_samples_leaf': 2, 'min_samples_split': 2, 'n_estimators': 100}\n",
            "0.9793 (+/-0.0068) for {'criterion': 'entropy', 'max_depth': 40, 'max_features': 'auto', 'min_samples_leaf': 2, 'min_samples_split': 2, 'n_estimators': 500}\n",
            "0.9793 (+/-0.0068) for {'criterion': 'entropy', 'max_depth': 40, 'max_features': 'auto', 'min_samples_leaf': 2, 'min_samples_split': 2, 'n_estimators': 1000}\n",
            "0.9793 (+/-0.0068) for {'criterion': 'entropy', 'max_depth': 40, 'max_features': 'auto', 'min_samples_leaf': 2, 'min_samples_split': 2, 'n_estimators': 1500}\n",
            "0.9793 (+/-0.0068) for {'criterion': 'entropy', 'max_depth': 40, 'max_features': 'auto', 'min_samples_leaf': 2, 'min_samples_split': 2, 'n_estimators': 2000}\n",
            "0.9791 (+/-0.0071) for {'criterion': 'entropy', 'max_depth': 40, 'max_features': 'auto', 'min_samples_leaf': 2, 'min_samples_split': 5, 'n_estimators': 100}\n",
            "0.9793 (+/-0.0068) for {'criterion': 'entropy', 'max_depth': 40, 'max_features': 'auto', 'min_samples_leaf': 2, 'min_samples_split': 5, 'n_estimators': 500}\n",
            "0.9793 (+/-0.0068) for {'criterion': 'entropy', 'max_depth': 40, 'max_features': 'auto', 'min_samples_leaf': 2, 'min_samples_split': 5, 'n_estimators': 1000}\n",
            "0.9793 (+/-0.0068) for {'criterion': 'entropy', 'max_depth': 40, 'max_features': 'auto', 'min_samples_leaf': 2, 'min_samples_split': 5, 'n_estimators': 1500}\n",
            "0.9793 (+/-0.0068) for {'criterion': 'entropy', 'max_depth': 40, 'max_features': 'auto', 'min_samples_leaf': 2, 'min_samples_split': 5, 'n_estimators': 2000}\n",
            "0.9793 (+/-0.0068) for {'criterion': 'entropy', 'max_depth': 40, 'max_features': 'auto', 'min_samples_leaf': 2, 'min_samples_split': 10, 'n_estimators': 100}\n",
            "0.9793 (+/-0.0068) for {'criterion': 'entropy', 'max_depth': 40, 'max_features': 'auto', 'min_samples_leaf': 2, 'min_samples_split': 10, 'n_estimators': 500}\n",
            "0.9793 (+/-0.0068) for {'criterion': 'entropy', 'max_depth': 40, 'max_features': 'auto', 'min_samples_leaf': 2, 'min_samples_split': 10, 'n_estimators': 1000}\n",
            "0.9793 (+/-0.0068) for {'criterion': 'entropy', 'max_depth': 40, 'max_features': 'auto', 'min_samples_leaf': 2, 'min_samples_split': 10, 'n_estimators': 1500}\n",
            "0.9793 (+/-0.0068) for {'criterion': 'entropy', 'max_depth': 40, 'max_features': 'auto', 'min_samples_leaf': 2, 'min_samples_split': 10, 'n_estimators': 2000}\n",
            "0.9794 (+/-0.0065) for {'criterion': 'entropy', 'max_depth': 40, 'max_features': 'auto', 'min_samples_leaf': 4, 'min_samples_split': 2, 'n_estimators': 100}\n",
            "0.9793 (+/-0.0068) for {'criterion': 'entropy', 'max_depth': 40, 'max_features': 'auto', 'min_samples_leaf': 4, 'min_samples_split': 2, 'n_estimators': 500}\n",
            "0.9793 (+/-0.0068) for {'criterion': 'entropy', 'max_depth': 40, 'max_features': 'auto', 'min_samples_leaf': 4, 'min_samples_split': 2, 'n_estimators': 1000}\n",
            "0.9776 (+/-0.0102) for {'criterion': 'entropy', 'max_depth': 40, 'max_features': 'auto', 'min_samples_leaf': 4, 'min_samples_split': 2, 'n_estimators': 1500}\n",
            "0.9776 (+/-0.0102) for {'criterion': 'entropy', 'max_depth': 40, 'max_features': 'auto', 'min_samples_leaf': 4, 'min_samples_split': 2, 'n_estimators': 2000}\n",
            "0.9794 (+/-0.0065) for {'criterion': 'entropy', 'max_depth': 40, 'max_features': 'auto', 'min_samples_leaf': 4, 'min_samples_split': 5, 'n_estimators': 100}\n",
            "0.9793 (+/-0.0068) for {'criterion': 'entropy', 'max_depth': 40, 'max_features': 'auto', 'min_samples_leaf': 4, 'min_samples_split': 5, 'n_estimators': 500}\n",
            "0.9793 (+/-0.0068) for {'criterion': 'entropy', 'max_depth': 40, 'max_features': 'auto', 'min_samples_leaf': 4, 'min_samples_split': 5, 'n_estimators': 1000}\n",
            "0.9776 (+/-0.0102) for {'criterion': 'entropy', 'max_depth': 40, 'max_features': 'auto', 'min_samples_leaf': 4, 'min_samples_split': 5, 'n_estimators': 1500}\n",
            "0.9776 (+/-0.0102) for {'criterion': 'entropy', 'max_depth': 40, 'max_features': 'auto', 'min_samples_leaf': 4, 'min_samples_split': 5, 'n_estimators': 2000}\n",
            "0.9794 (+/-0.0065) for {'criterion': 'entropy', 'max_depth': 40, 'max_features': 'auto', 'min_samples_leaf': 4, 'min_samples_split': 10, 'n_estimators': 100}\n",
            "0.9793 (+/-0.0068) for {'criterion': 'entropy', 'max_depth': 40, 'max_features': 'auto', 'min_samples_leaf': 4, 'min_samples_split': 10, 'n_estimators': 500}\n",
            "0.9776 (+/-0.0102) for {'criterion': 'entropy', 'max_depth': 40, 'max_features': 'auto', 'min_samples_leaf': 4, 'min_samples_split': 10, 'n_estimators': 1000}\n",
            "0.9776 (+/-0.0102) for {'criterion': 'entropy', 'max_depth': 40, 'max_features': 'auto', 'min_samples_leaf': 4, 'min_samples_split': 10, 'n_estimators': 1500}\n",
            "0.9776 (+/-0.0102) for {'criterion': 'entropy', 'max_depth': 40, 'max_features': 'auto', 'min_samples_leaf': 4, 'min_samples_split': 10, 'n_estimators': 2000}\n",
            "0.9790 (+/-0.0062) for {'criterion': 'entropy', 'max_depth': 40, 'max_features': 'sqrt', 'min_samples_leaf': 1, 'min_samples_split': 2, 'n_estimators': 100}\n",
            "0.9791 (+/-0.0060) for {'criterion': 'entropy', 'max_depth': 40, 'max_features': 'sqrt', 'min_samples_leaf': 1, 'min_samples_split': 2, 'n_estimators': 500}\n",
            "0.9791 (+/-0.0060) for {'criterion': 'entropy', 'max_depth': 40, 'max_features': 'sqrt', 'min_samples_leaf': 1, 'min_samples_split': 2, 'n_estimators': 1000}\n",
            "0.9791 (+/-0.0060) for {'criterion': 'entropy', 'max_depth': 40, 'max_features': 'sqrt', 'min_samples_leaf': 1, 'min_samples_split': 2, 'n_estimators': 1500}\n",
            "0.9791 (+/-0.0060) for {'criterion': 'entropy', 'max_depth': 40, 'max_features': 'sqrt', 'min_samples_leaf': 1, 'min_samples_split': 2, 'n_estimators': 2000}\n",
            "0.9794 (+/-0.0060) for {'criterion': 'entropy', 'max_depth': 40, 'max_features': 'sqrt', 'min_samples_leaf': 1, 'min_samples_split': 5, 'n_estimators': 100}\n",
            "0.9793 (+/-0.0062) for {'criterion': 'entropy', 'max_depth': 40, 'max_features': 'sqrt', 'min_samples_leaf': 1, 'min_samples_split': 5, 'n_estimators': 500}\n",
            "0.9793 (+/-0.0062) for {'criterion': 'entropy', 'max_depth': 40, 'max_features': 'sqrt', 'min_samples_leaf': 1, 'min_samples_split': 5, 'n_estimators': 1000}\n",
            "0.9793 (+/-0.0062) for {'criterion': 'entropy', 'max_depth': 40, 'max_features': 'sqrt', 'min_samples_leaf': 1, 'min_samples_split': 5, 'n_estimators': 1500}\n",
            "0.9793 (+/-0.0062) for {'criterion': 'entropy', 'max_depth': 40, 'max_features': 'sqrt', 'min_samples_leaf': 1, 'min_samples_split': 5, 'n_estimators': 2000}\n",
            "0.9793 (+/-0.0062) for {'criterion': 'entropy', 'max_depth': 40, 'max_features': 'sqrt', 'min_samples_leaf': 1, 'min_samples_split': 10, 'n_estimators': 100}\n",
            "0.9793 (+/-0.0062) for {'criterion': 'entropy', 'max_depth': 40, 'max_features': 'sqrt', 'min_samples_leaf': 1, 'min_samples_split': 10, 'n_estimators': 500}\n",
            "0.9793 (+/-0.0062) for {'criterion': 'entropy', 'max_depth': 40, 'max_features': 'sqrt', 'min_samples_leaf': 1, 'min_samples_split': 10, 'n_estimators': 1000}\n",
            "0.9793 (+/-0.0062) for {'criterion': 'entropy', 'max_depth': 40, 'max_features': 'sqrt', 'min_samples_leaf': 1, 'min_samples_split': 10, 'n_estimators': 1500}\n",
            "0.9793 (+/-0.0062) for {'criterion': 'entropy', 'max_depth': 40, 'max_features': 'sqrt', 'min_samples_leaf': 1, 'min_samples_split': 10, 'n_estimators': 2000}\n",
            "0.9790 (+/-0.0068) for {'criterion': 'entropy', 'max_depth': 40, 'max_features': 'sqrt', 'min_samples_leaf': 2, 'min_samples_split': 2, 'n_estimators': 100}\n",
            "0.9793 (+/-0.0068) for {'criterion': 'entropy', 'max_depth': 40, 'max_features': 'sqrt', 'min_samples_leaf': 2, 'min_samples_split': 2, 'n_estimators': 500}\n",
            "0.9793 (+/-0.0068) for {'criterion': 'entropy', 'max_depth': 40, 'max_features': 'sqrt', 'min_samples_leaf': 2, 'min_samples_split': 2, 'n_estimators': 1000}\n",
            "0.9793 (+/-0.0068) for {'criterion': 'entropy', 'max_depth': 40, 'max_features': 'sqrt', 'min_samples_leaf': 2, 'min_samples_split': 2, 'n_estimators': 1500}\n",
            "0.9793 (+/-0.0068) for {'criterion': 'entropy', 'max_depth': 40, 'max_features': 'sqrt', 'min_samples_leaf': 2, 'min_samples_split': 2, 'n_estimators': 2000}\n",
            "0.9791 (+/-0.0071) for {'criterion': 'entropy', 'max_depth': 40, 'max_features': 'sqrt', 'min_samples_leaf': 2, 'min_samples_split': 5, 'n_estimators': 100}\n",
            "0.9793 (+/-0.0068) for {'criterion': 'entropy', 'max_depth': 40, 'max_features': 'sqrt', 'min_samples_leaf': 2, 'min_samples_split': 5, 'n_estimators': 500}\n",
            "0.9793 (+/-0.0068) for {'criterion': 'entropy', 'max_depth': 40, 'max_features': 'sqrt', 'min_samples_leaf': 2, 'min_samples_split': 5, 'n_estimators': 1000}\n",
            "0.9793 (+/-0.0068) for {'criterion': 'entropy', 'max_depth': 40, 'max_features': 'sqrt', 'min_samples_leaf': 2, 'min_samples_split': 5, 'n_estimators': 1500}\n",
            "0.9793 (+/-0.0068) for {'criterion': 'entropy', 'max_depth': 40, 'max_features': 'sqrt', 'min_samples_leaf': 2, 'min_samples_split': 5, 'n_estimators': 2000}\n",
            "0.9793 (+/-0.0068) for {'criterion': 'entropy', 'max_depth': 40, 'max_features': 'sqrt', 'min_samples_leaf': 2, 'min_samples_split': 10, 'n_estimators': 100}\n",
            "0.9793 (+/-0.0068) for {'criterion': 'entropy', 'max_depth': 40, 'max_features': 'sqrt', 'min_samples_leaf': 2, 'min_samples_split': 10, 'n_estimators': 500}\n",
            "0.9793 (+/-0.0068) for {'criterion': 'entropy', 'max_depth': 40, 'max_features': 'sqrt', 'min_samples_leaf': 2, 'min_samples_split': 10, 'n_estimators': 1000}\n",
            "0.9793 (+/-0.0068) for {'criterion': 'entropy', 'max_depth': 40, 'max_features': 'sqrt', 'min_samples_leaf': 2, 'min_samples_split': 10, 'n_estimators': 1500}\n",
            "0.9793 (+/-0.0068) for {'criterion': 'entropy', 'max_depth': 40, 'max_features': 'sqrt', 'min_samples_leaf': 2, 'min_samples_split': 10, 'n_estimators': 2000}\n",
            "0.9794 (+/-0.0065) for {'criterion': 'entropy', 'max_depth': 40, 'max_features': 'sqrt', 'min_samples_leaf': 4, 'min_samples_split': 2, 'n_estimators': 100}\n",
            "0.9793 (+/-0.0068) for {'criterion': 'entropy', 'max_depth': 40, 'max_features': 'sqrt', 'min_samples_leaf': 4, 'min_samples_split': 2, 'n_estimators': 500}\n",
            "0.9793 (+/-0.0068) for {'criterion': 'entropy', 'max_depth': 40, 'max_features': 'sqrt', 'min_samples_leaf': 4, 'min_samples_split': 2, 'n_estimators': 1000}\n",
            "0.9776 (+/-0.0102) for {'criterion': 'entropy', 'max_depth': 40, 'max_features': 'sqrt', 'min_samples_leaf': 4, 'min_samples_split': 2, 'n_estimators': 1500}\n",
            "0.9776 (+/-0.0102) for {'criterion': 'entropy', 'max_depth': 40, 'max_features': 'sqrt', 'min_samples_leaf': 4, 'min_samples_split': 2, 'n_estimators': 2000}\n",
            "0.9794 (+/-0.0065) for {'criterion': 'entropy', 'max_depth': 40, 'max_features': 'sqrt', 'min_samples_leaf': 4, 'min_samples_split': 5, 'n_estimators': 100}\n",
            "0.9793 (+/-0.0068) for {'criterion': 'entropy', 'max_depth': 40, 'max_features': 'sqrt', 'min_samples_leaf': 4, 'min_samples_split': 5, 'n_estimators': 500}\n",
            "0.9793 (+/-0.0068) for {'criterion': 'entropy', 'max_depth': 40, 'max_features': 'sqrt', 'min_samples_leaf': 4, 'min_samples_split': 5, 'n_estimators': 1000}\n",
            "0.9776 (+/-0.0102) for {'criterion': 'entropy', 'max_depth': 40, 'max_features': 'sqrt', 'min_samples_leaf': 4, 'min_samples_split': 5, 'n_estimators': 1500}\n",
            "0.9776 (+/-0.0102) for {'criterion': 'entropy', 'max_depth': 40, 'max_features': 'sqrt', 'min_samples_leaf': 4, 'min_samples_split': 5, 'n_estimators': 2000}\n",
            "0.9794 (+/-0.0065) for {'criterion': 'entropy', 'max_depth': 40, 'max_features': 'sqrt', 'min_samples_leaf': 4, 'min_samples_split': 10, 'n_estimators': 100}\n",
            "0.9793 (+/-0.0068) for {'criterion': 'entropy', 'max_depth': 40, 'max_features': 'sqrt', 'min_samples_leaf': 4, 'min_samples_split': 10, 'n_estimators': 500}\n",
            "0.9776 (+/-0.0102) for {'criterion': 'entropy', 'max_depth': 40, 'max_features': 'sqrt', 'min_samples_leaf': 4, 'min_samples_split': 10, 'n_estimators': 1000}\n",
            "0.9776 (+/-0.0102) for {'criterion': 'entropy', 'max_depth': 40, 'max_features': 'sqrt', 'min_samples_leaf': 4, 'min_samples_split': 10, 'n_estimators': 1500}\n",
            "0.9776 (+/-0.0102) for {'criterion': 'entropy', 'max_depth': 40, 'max_features': 'sqrt', 'min_samples_leaf': 4, 'min_samples_split': 10, 'n_estimators': 2000}\n",
            "0.9790 (+/-0.0062) for {'criterion': 'entropy', 'max_depth': 80, 'max_features': 'auto', 'min_samples_leaf': 1, 'min_samples_split': 2, 'n_estimators': 100}\n",
            "0.9791 (+/-0.0060) for {'criterion': 'entropy', 'max_depth': 80, 'max_features': 'auto', 'min_samples_leaf': 1, 'min_samples_split': 2, 'n_estimators': 500}\n",
            "0.9791 (+/-0.0060) for {'criterion': 'entropy', 'max_depth': 80, 'max_features': 'auto', 'min_samples_leaf': 1, 'min_samples_split': 2, 'n_estimators': 1000}\n",
            "0.9791 (+/-0.0060) for {'criterion': 'entropy', 'max_depth': 80, 'max_features': 'auto', 'min_samples_leaf': 1, 'min_samples_split': 2, 'n_estimators': 1500}\n",
            "0.9791 (+/-0.0060) for {'criterion': 'entropy', 'max_depth': 80, 'max_features': 'auto', 'min_samples_leaf': 1, 'min_samples_split': 2, 'n_estimators': 2000}\n",
            "0.9794 (+/-0.0060) for {'criterion': 'entropy', 'max_depth': 80, 'max_features': 'auto', 'min_samples_leaf': 1, 'min_samples_split': 5, 'n_estimators': 100}\n",
            "0.9793 (+/-0.0062) for {'criterion': 'entropy', 'max_depth': 80, 'max_features': 'auto', 'min_samples_leaf': 1, 'min_samples_split': 5, 'n_estimators': 500}\n",
            "0.9793 (+/-0.0062) for {'criterion': 'entropy', 'max_depth': 80, 'max_features': 'auto', 'min_samples_leaf': 1, 'min_samples_split': 5, 'n_estimators': 1000}\n",
            "0.9793 (+/-0.0062) for {'criterion': 'entropy', 'max_depth': 80, 'max_features': 'auto', 'min_samples_leaf': 1, 'min_samples_split': 5, 'n_estimators': 1500}\n",
            "0.9793 (+/-0.0062) for {'criterion': 'entropy', 'max_depth': 80, 'max_features': 'auto', 'min_samples_leaf': 1, 'min_samples_split': 5, 'n_estimators': 2000}\n",
            "0.9793 (+/-0.0062) for {'criterion': 'entropy', 'max_depth': 80, 'max_features': 'auto', 'min_samples_leaf': 1, 'min_samples_split': 10, 'n_estimators': 100}\n",
            "0.9793 (+/-0.0062) for {'criterion': 'entropy', 'max_depth': 80, 'max_features': 'auto', 'min_samples_leaf': 1, 'min_samples_split': 10, 'n_estimators': 500}\n",
            "0.9793 (+/-0.0062) for {'criterion': 'entropy', 'max_depth': 80, 'max_features': 'auto', 'min_samples_leaf': 1, 'min_samples_split': 10, 'n_estimators': 1000}\n",
            "0.9793 (+/-0.0062) for {'criterion': 'entropy', 'max_depth': 80, 'max_features': 'auto', 'min_samples_leaf': 1, 'min_samples_split': 10, 'n_estimators': 1500}\n",
            "0.9793 (+/-0.0062) for {'criterion': 'entropy', 'max_depth': 80, 'max_features': 'auto', 'min_samples_leaf': 1, 'min_samples_split': 10, 'n_estimators': 2000}\n",
            "0.9790 (+/-0.0068) for {'criterion': 'entropy', 'max_depth': 80, 'max_features': 'auto', 'min_samples_leaf': 2, 'min_samples_split': 2, 'n_estimators': 100}\n",
            "0.9793 (+/-0.0068) for {'criterion': 'entropy', 'max_depth': 80, 'max_features': 'auto', 'min_samples_leaf': 2, 'min_samples_split': 2, 'n_estimators': 500}\n",
            "0.9793 (+/-0.0068) for {'criterion': 'entropy', 'max_depth': 80, 'max_features': 'auto', 'min_samples_leaf': 2, 'min_samples_split': 2, 'n_estimators': 1000}\n",
            "0.9793 (+/-0.0068) for {'criterion': 'entropy', 'max_depth': 80, 'max_features': 'auto', 'min_samples_leaf': 2, 'min_samples_split': 2, 'n_estimators': 1500}\n",
            "0.9793 (+/-0.0068) for {'criterion': 'entropy', 'max_depth': 80, 'max_features': 'auto', 'min_samples_leaf': 2, 'min_samples_split': 2, 'n_estimators': 2000}\n",
            "0.9791 (+/-0.0071) for {'criterion': 'entropy', 'max_depth': 80, 'max_features': 'auto', 'min_samples_leaf': 2, 'min_samples_split': 5, 'n_estimators': 100}\n",
            "0.9793 (+/-0.0068) for {'criterion': 'entropy', 'max_depth': 80, 'max_features': 'auto', 'min_samples_leaf': 2, 'min_samples_split': 5, 'n_estimators': 500}\n",
            "0.9793 (+/-0.0068) for {'criterion': 'entropy', 'max_depth': 80, 'max_features': 'auto', 'min_samples_leaf': 2, 'min_samples_split': 5, 'n_estimators': 1000}\n",
            "0.9793 (+/-0.0068) for {'criterion': 'entropy', 'max_depth': 80, 'max_features': 'auto', 'min_samples_leaf': 2, 'min_samples_split': 5, 'n_estimators': 1500}\n",
            "0.9793 (+/-0.0068) for {'criterion': 'entropy', 'max_depth': 80, 'max_features': 'auto', 'min_samples_leaf': 2, 'min_samples_split': 5, 'n_estimators': 2000}\n",
            "0.9793 (+/-0.0068) for {'criterion': 'entropy', 'max_depth': 80, 'max_features': 'auto', 'min_samples_leaf': 2, 'min_samples_split': 10, 'n_estimators': 100}\n",
            "0.9793 (+/-0.0068) for {'criterion': 'entropy', 'max_depth': 80, 'max_features': 'auto', 'min_samples_leaf': 2, 'min_samples_split': 10, 'n_estimators': 500}\n",
            "0.9793 (+/-0.0068) for {'criterion': 'entropy', 'max_depth': 80, 'max_features': 'auto', 'min_samples_leaf': 2, 'min_samples_split': 10, 'n_estimators': 1000}\n",
            "0.9793 (+/-0.0068) for {'criterion': 'entropy', 'max_depth': 80, 'max_features': 'auto', 'min_samples_leaf': 2, 'min_samples_split': 10, 'n_estimators': 1500}\n",
            "0.9793 (+/-0.0068) for {'criterion': 'entropy', 'max_depth': 80, 'max_features': 'auto', 'min_samples_leaf': 2, 'min_samples_split': 10, 'n_estimators': 2000}\n",
            "0.9794 (+/-0.0065) for {'criterion': 'entropy', 'max_depth': 80, 'max_features': 'auto', 'min_samples_leaf': 4, 'min_samples_split': 2, 'n_estimators': 100}\n",
            "0.9793 (+/-0.0068) for {'criterion': 'entropy', 'max_depth': 80, 'max_features': 'auto', 'min_samples_leaf': 4, 'min_samples_split': 2, 'n_estimators': 500}\n",
            "0.9793 (+/-0.0068) for {'criterion': 'entropy', 'max_depth': 80, 'max_features': 'auto', 'min_samples_leaf': 4, 'min_samples_split': 2, 'n_estimators': 1000}\n",
            "0.9776 (+/-0.0102) for {'criterion': 'entropy', 'max_depth': 80, 'max_features': 'auto', 'min_samples_leaf': 4, 'min_samples_split': 2, 'n_estimators': 1500}\n",
            "0.9776 (+/-0.0102) for {'criterion': 'entropy', 'max_depth': 80, 'max_features': 'auto', 'min_samples_leaf': 4, 'min_samples_split': 2, 'n_estimators': 2000}\n",
            "0.9794 (+/-0.0065) for {'criterion': 'entropy', 'max_depth': 80, 'max_features': 'auto', 'min_samples_leaf': 4, 'min_samples_split': 5, 'n_estimators': 100}\n",
            "0.9793 (+/-0.0068) for {'criterion': 'entropy', 'max_depth': 80, 'max_features': 'auto', 'min_samples_leaf': 4, 'min_samples_split': 5, 'n_estimators': 500}\n",
            "0.9793 (+/-0.0068) for {'criterion': 'entropy', 'max_depth': 80, 'max_features': 'auto', 'min_samples_leaf': 4, 'min_samples_split': 5, 'n_estimators': 1000}\n",
            "0.9776 (+/-0.0102) for {'criterion': 'entropy', 'max_depth': 80, 'max_features': 'auto', 'min_samples_leaf': 4, 'min_samples_split': 5, 'n_estimators': 1500}\n",
            "0.9776 (+/-0.0102) for {'criterion': 'entropy', 'max_depth': 80, 'max_features': 'auto', 'min_samples_leaf': 4, 'min_samples_split': 5, 'n_estimators': 2000}\n",
            "0.9794 (+/-0.0065) for {'criterion': 'entropy', 'max_depth': 80, 'max_features': 'auto', 'min_samples_leaf': 4, 'min_samples_split': 10, 'n_estimators': 100}\n",
            "0.9793 (+/-0.0068) for {'criterion': 'entropy', 'max_depth': 80, 'max_features': 'auto', 'min_samples_leaf': 4, 'min_samples_split': 10, 'n_estimators': 500}\n",
            "0.9776 (+/-0.0102) for {'criterion': 'entropy', 'max_depth': 80, 'max_features': 'auto', 'min_samples_leaf': 4, 'min_samples_split': 10, 'n_estimators': 1000}\n",
            "0.9776 (+/-0.0102) for {'criterion': 'entropy', 'max_depth': 80, 'max_features': 'auto', 'min_samples_leaf': 4, 'min_samples_split': 10, 'n_estimators': 1500}\n",
            "0.9776 (+/-0.0102) for {'criterion': 'entropy', 'max_depth': 80, 'max_features': 'auto', 'min_samples_leaf': 4, 'min_samples_split': 10, 'n_estimators': 2000}\n",
            "0.9790 (+/-0.0062) for {'criterion': 'entropy', 'max_depth': 80, 'max_features': 'sqrt', 'min_samples_leaf': 1, 'min_samples_split': 2, 'n_estimators': 100}\n",
            "0.9791 (+/-0.0060) for {'criterion': 'entropy', 'max_depth': 80, 'max_features': 'sqrt', 'min_samples_leaf': 1, 'min_samples_split': 2, 'n_estimators': 500}\n",
            "0.9791 (+/-0.0060) for {'criterion': 'entropy', 'max_depth': 80, 'max_features': 'sqrt', 'min_samples_leaf': 1, 'min_samples_split': 2, 'n_estimators': 1000}\n",
            "0.9791 (+/-0.0060) for {'criterion': 'entropy', 'max_depth': 80, 'max_features': 'sqrt', 'min_samples_leaf': 1, 'min_samples_split': 2, 'n_estimators': 1500}\n",
            "0.9791 (+/-0.0060) for {'criterion': 'entropy', 'max_depth': 80, 'max_features': 'sqrt', 'min_samples_leaf': 1, 'min_samples_split': 2, 'n_estimators': 2000}\n",
            "0.9794 (+/-0.0060) for {'criterion': 'entropy', 'max_depth': 80, 'max_features': 'sqrt', 'min_samples_leaf': 1, 'min_samples_split': 5, 'n_estimators': 100}\n",
            "0.9793 (+/-0.0062) for {'criterion': 'entropy', 'max_depth': 80, 'max_features': 'sqrt', 'min_samples_leaf': 1, 'min_samples_split': 5, 'n_estimators': 500}\n",
            "0.9793 (+/-0.0062) for {'criterion': 'entropy', 'max_depth': 80, 'max_features': 'sqrt', 'min_samples_leaf': 1, 'min_samples_split': 5, 'n_estimators': 1000}\n",
            "0.9793 (+/-0.0062) for {'criterion': 'entropy', 'max_depth': 80, 'max_features': 'sqrt', 'min_samples_leaf': 1, 'min_samples_split': 5, 'n_estimators': 1500}\n",
            "0.9793 (+/-0.0062) for {'criterion': 'entropy', 'max_depth': 80, 'max_features': 'sqrt', 'min_samples_leaf': 1, 'min_samples_split': 5, 'n_estimators': 2000}\n",
            "0.9793 (+/-0.0062) for {'criterion': 'entropy', 'max_depth': 80, 'max_features': 'sqrt', 'min_samples_leaf': 1, 'min_samples_split': 10, 'n_estimators': 100}\n",
            "0.9793 (+/-0.0062) for {'criterion': 'entropy', 'max_depth': 80, 'max_features': 'sqrt', 'min_samples_leaf': 1, 'min_samples_split': 10, 'n_estimators': 500}\n",
            "0.9793 (+/-0.0062) for {'criterion': 'entropy', 'max_depth': 80, 'max_features': 'sqrt', 'min_samples_leaf': 1, 'min_samples_split': 10, 'n_estimators': 1000}\n",
            "0.9793 (+/-0.0062) for {'criterion': 'entropy', 'max_depth': 80, 'max_features': 'sqrt', 'min_samples_leaf': 1, 'min_samples_split': 10, 'n_estimators': 1500}\n",
            "0.9793 (+/-0.0062) for {'criterion': 'entropy', 'max_depth': 80, 'max_features': 'sqrt', 'min_samples_leaf': 1, 'min_samples_split': 10, 'n_estimators': 2000}\n",
            "0.9790 (+/-0.0068) for {'criterion': 'entropy', 'max_depth': 80, 'max_features': 'sqrt', 'min_samples_leaf': 2, 'min_samples_split': 2, 'n_estimators': 100}\n",
            "0.9793 (+/-0.0068) for {'criterion': 'entropy', 'max_depth': 80, 'max_features': 'sqrt', 'min_samples_leaf': 2, 'min_samples_split': 2, 'n_estimators': 500}\n",
            "0.9793 (+/-0.0068) for {'criterion': 'entropy', 'max_depth': 80, 'max_features': 'sqrt', 'min_samples_leaf': 2, 'min_samples_split': 2, 'n_estimators': 1000}\n",
            "0.9793 (+/-0.0068) for {'criterion': 'entropy', 'max_depth': 80, 'max_features': 'sqrt', 'min_samples_leaf': 2, 'min_samples_split': 2, 'n_estimators': 1500}\n",
            "0.9793 (+/-0.0068) for {'criterion': 'entropy', 'max_depth': 80, 'max_features': 'sqrt', 'min_samples_leaf': 2, 'min_samples_split': 2, 'n_estimators': 2000}\n",
            "0.9791 (+/-0.0071) for {'criterion': 'entropy', 'max_depth': 80, 'max_features': 'sqrt', 'min_samples_leaf': 2, 'min_samples_split': 5, 'n_estimators': 100}\n",
            "0.9793 (+/-0.0068) for {'criterion': 'entropy', 'max_depth': 80, 'max_features': 'sqrt', 'min_samples_leaf': 2, 'min_samples_split': 5, 'n_estimators': 500}\n",
            "0.9793 (+/-0.0068) for {'criterion': 'entropy', 'max_depth': 80, 'max_features': 'sqrt', 'min_samples_leaf': 2, 'min_samples_split': 5, 'n_estimators': 1000}\n",
            "0.9793 (+/-0.0068) for {'criterion': 'entropy', 'max_depth': 80, 'max_features': 'sqrt', 'min_samples_leaf': 2, 'min_samples_split': 5, 'n_estimators': 1500}\n",
            "0.9793 (+/-0.0068) for {'criterion': 'entropy', 'max_depth': 80, 'max_features': 'sqrt', 'min_samples_leaf': 2, 'min_samples_split': 5, 'n_estimators': 2000}\n",
            "0.9793 (+/-0.0068) for {'criterion': 'entropy', 'max_depth': 80, 'max_features': 'sqrt', 'min_samples_leaf': 2, 'min_samples_split': 10, 'n_estimators': 100}\n",
            "0.9793 (+/-0.0068) for {'criterion': 'entropy', 'max_depth': 80, 'max_features': 'sqrt', 'min_samples_leaf': 2, 'min_samples_split': 10, 'n_estimators': 500}\n",
            "0.9793 (+/-0.0068) for {'criterion': 'entropy', 'max_depth': 80, 'max_features': 'sqrt', 'min_samples_leaf': 2, 'min_samples_split': 10, 'n_estimators': 1000}\n",
            "0.9793 (+/-0.0068) for {'criterion': 'entropy', 'max_depth': 80, 'max_features': 'sqrt', 'min_samples_leaf': 2, 'min_samples_split': 10, 'n_estimators': 1500}\n",
            "0.9793 (+/-0.0068) for {'criterion': 'entropy', 'max_depth': 80, 'max_features': 'sqrt', 'min_samples_leaf': 2, 'min_samples_split': 10, 'n_estimators': 2000}\n",
            "0.9794 (+/-0.0065) for {'criterion': 'entropy', 'max_depth': 80, 'max_features': 'sqrt', 'min_samples_leaf': 4, 'min_samples_split': 2, 'n_estimators': 100}\n",
            "0.9793 (+/-0.0068) for {'criterion': 'entropy', 'max_depth': 80, 'max_features': 'sqrt', 'min_samples_leaf': 4, 'min_samples_split': 2, 'n_estimators': 500}\n",
            "0.9793 (+/-0.0068) for {'criterion': 'entropy', 'max_depth': 80, 'max_features': 'sqrt', 'min_samples_leaf': 4, 'min_samples_split': 2, 'n_estimators': 1000}\n",
            "0.9776 (+/-0.0102) for {'criterion': 'entropy', 'max_depth': 80, 'max_features': 'sqrt', 'min_samples_leaf': 4, 'min_samples_split': 2, 'n_estimators': 1500}\n",
            "0.9776 (+/-0.0102) for {'criterion': 'entropy', 'max_depth': 80, 'max_features': 'sqrt', 'min_samples_leaf': 4, 'min_samples_split': 2, 'n_estimators': 2000}\n",
            "0.9794 (+/-0.0065) for {'criterion': 'entropy', 'max_depth': 80, 'max_features': 'sqrt', 'min_samples_leaf': 4, 'min_samples_split': 5, 'n_estimators': 100}\n",
            "0.9793 (+/-0.0068) for {'criterion': 'entropy', 'max_depth': 80, 'max_features': 'sqrt', 'min_samples_leaf': 4, 'min_samples_split': 5, 'n_estimators': 500}\n",
            "0.9793 (+/-0.0068) for {'criterion': 'entropy', 'max_depth': 80, 'max_features': 'sqrt', 'min_samples_leaf': 4, 'min_samples_split': 5, 'n_estimators': 1000}\n",
            "0.9776 (+/-0.0102) for {'criterion': 'entropy', 'max_depth': 80, 'max_features': 'sqrt', 'min_samples_leaf': 4, 'min_samples_split': 5, 'n_estimators': 1500}\n",
            "0.9776 (+/-0.0102) for {'criterion': 'entropy', 'max_depth': 80, 'max_features': 'sqrt', 'min_samples_leaf': 4, 'min_samples_split': 5, 'n_estimators': 2000}\n",
            "0.9794 (+/-0.0065) for {'criterion': 'entropy', 'max_depth': 80, 'max_features': 'sqrt', 'min_samples_leaf': 4, 'min_samples_split': 10, 'n_estimators': 100}\n",
            "0.9793 (+/-0.0068) for {'criterion': 'entropy', 'max_depth': 80, 'max_features': 'sqrt', 'min_samples_leaf': 4, 'min_samples_split': 10, 'n_estimators': 500}\n",
            "0.9776 (+/-0.0102) for {'criterion': 'entropy', 'max_depth': 80, 'max_features': 'sqrt', 'min_samples_leaf': 4, 'min_samples_split': 10, 'n_estimators': 1000}\n",
            "0.9776 (+/-0.0102) for {'criterion': 'entropy', 'max_depth': 80, 'max_features': 'sqrt', 'min_samples_leaf': 4, 'min_samples_split': 10, 'n_estimators': 1500}\n",
            "0.9776 (+/-0.0102) for {'criterion': 'entropy', 'max_depth': 80, 'max_features': 'sqrt', 'min_samples_leaf': 4, 'min_samples_split': 10, 'n_estimators': 2000}\n",
            "0.9790 (+/-0.0062) for {'criterion': 'entropy', 'max_depth': 100, 'max_features': 'auto', 'min_samples_leaf': 1, 'min_samples_split': 2, 'n_estimators': 100}\n",
            "0.9791 (+/-0.0060) for {'criterion': 'entropy', 'max_depth': 100, 'max_features': 'auto', 'min_samples_leaf': 1, 'min_samples_split': 2, 'n_estimators': 500}\n",
            "0.9791 (+/-0.0060) for {'criterion': 'entropy', 'max_depth': 100, 'max_features': 'auto', 'min_samples_leaf': 1, 'min_samples_split': 2, 'n_estimators': 1000}\n",
            "0.9791 (+/-0.0060) for {'criterion': 'entropy', 'max_depth': 100, 'max_features': 'auto', 'min_samples_leaf': 1, 'min_samples_split': 2, 'n_estimators': 1500}\n",
            "0.9791 (+/-0.0060) for {'criterion': 'entropy', 'max_depth': 100, 'max_features': 'auto', 'min_samples_leaf': 1, 'min_samples_split': 2, 'n_estimators': 2000}\n",
            "0.9794 (+/-0.0060) for {'criterion': 'entropy', 'max_depth': 100, 'max_features': 'auto', 'min_samples_leaf': 1, 'min_samples_split': 5, 'n_estimators': 100}\n",
            "0.9793 (+/-0.0062) for {'criterion': 'entropy', 'max_depth': 100, 'max_features': 'auto', 'min_samples_leaf': 1, 'min_samples_split': 5, 'n_estimators': 500}\n",
            "0.9793 (+/-0.0062) for {'criterion': 'entropy', 'max_depth': 100, 'max_features': 'auto', 'min_samples_leaf': 1, 'min_samples_split': 5, 'n_estimators': 1000}\n",
            "0.9793 (+/-0.0062) for {'criterion': 'entropy', 'max_depth': 100, 'max_features': 'auto', 'min_samples_leaf': 1, 'min_samples_split': 5, 'n_estimators': 1500}\n",
            "0.9793 (+/-0.0062) for {'criterion': 'entropy', 'max_depth': 100, 'max_features': 'auto', 'min_samples_leaf': 1, 'min_samples_split': 5, 'n_estimators': 2000}\n",
            "0.9793 (+/-0.0062) for {'criterion': 'entropy', 'max_depth': 100, 'max_features': 'auto', 'min_samples_leaf': 1, 'min_samples_split': 10, 'n_estimators': 100}\n",
            "0.9793 (+/-0.0062) for {'criterion': 'entropy', 'max_depth': 100, 'max_features': 'auto', 'min_samples_leaf': 1, 'min_samples_split': 10, 'n_estimators': 500}\n",
            "0.9793 (+/-0.0062) for {'criterion': 'entropy', 'max_depth': 100, 'max_features': 'auto', 'min_samples_leaf': 1, 'min_samples_split': 10, 'n_estimators': 1000}\n",
            "0.9793 (+/-0.0062) for {'criterion': 'entropy', 'max_depth': 100, 'max_features': 'auto', 'min_samples_leaf': 1, 'min_samples_split': 10, 'n_estimators': 1500}\n",
            "0.9793 (+/-0.0062) for {'criterion': 'entropy', 'max_depth': 100, 'max_features': 'auto', 'min_samples_leaf': 1, 'min_samples_split': 10, 'n_estimators': 2000}\n",
            "0.9790 (+/-0.0068) for {'criterion': 'entropy', 'max_depth': 100, 'max_features': 'auto', 'min_samples_leaf': 2, 'min_samples_split': 2, 'n_estimators': 100}\n",
            "0.9793 (+/-0.0068) for {'criterion': 'entropy', 'max_depth': 100, 'max_features': 'auto', 'min_samples_leaf': 2, 'min_samples_split': 2, 'n_estimators': 500}\n",
            "0.9793 (+/-0.0068) for {'criterion': 'entropy', 'max_depth': 100, 'max_features': 'auto', 'min_samples_leaf': 2, 'min_samples_split': 2, 'n_estimators': 1000}\n",
            "0.9793 (+/-0.0068) for {'criterion': 'entropy', 'max_depth': 100, 'max_features': 'auto', 'min_samples_leaf': 2, 'min_samples_split': 2, 'n_estimators': 1500}\n",
            "0.9793 (+/-0.0068) for {'criterion': 'entropy', 'max_depth': 100, 'max_features': 'auto', 'min_samples_leaf': 2, 'min_samples_split': 2, 'n_estimators': 2000}\n",
            "0.9791 (+/-0.0071) for {'criterion': 'entropy', 'max_depth': 100, 'max_features': 'auto', 'min_samples_leaf': 2, 'min_samples_split': 5, 'n_estimators': 100}\n",
            "0.9793 (+/-0.0068) for {'criterion': 'entropy', 'max_depth': 100, 'max_features': 'auto', 'min_samples_leaf': 2, 'min_samples_split': 5, 'n_estimators': 500}\n",
            "0.9793 (+/-0.0068) for {'criterion': 'entropy', 'max_depth': 100, 'max_features': 'auto', 'min_samples_leaf': 2, 'min_samples_split': 5, 'n_estimators': 1000}\n",
            "0.9793 (+/-0.0068) for {'criterion': 'entropy', 'max_depth': 100, 'max_features': 'auto', 'min_samples_leaf': 2, 'min_samples_split': 5, 'n_estimators': 1500}\n",
            "0.9793 (+/-0.0068) for {'criterion': 'entropy', 'max_depth': 100, 'max_features': 'auto', 'min_samples_leaf': 2, 'min_samples_split': 5, 'n_estimators': 2000}\n",
            "0.9793 (+/-0.0068) for {'criterion': 'entropy', 'max_depth': 100, 'max_features': 'auto', 'min_samples_leaf': 2, 'min_samples_split': 10, 'n_estimators': 100}\n",
            "0.9793 (+/-0.0068) for {'criterion': 'entropy', 'max_depth': 100, 'max_features': 'auto', 'min_samples_leaf': 2, 'min_samples_split': 10, 'n_estimators': 500}\n",
            "0.9793 (+/-0.0068) for {'criterion': 'entropy', 'max_depth': 100, 'max_features': 'auto', 'min_samples_leaf': 2, 'min_samples_split': 10, 'n_estimators': 1000}\n",
            "0.9793 (+/-0.0068) for {'criterion': 'entropy', 'max_depth': 100, 'max_features': 'auto', 'min_samples_leaf': 2, 'min_samples_split': 10, 'n_estimators': 1500}\n",
            "0.9793 (+/-0.0068) for {'criterion': 'entropy', 'max_depth': 100, 'max_features': 'auto', 'min_samples_leaf': 2, 'min_samples_split': 10, 'n_estimators': 2000}\n",
            "0.9794 (+/-0.0065) for {'criterion': 'entropy', 'max_depth': 100, 'max_features': 'auto', 'min_samples_leaf': 4, 'min_samples_split': 2, 'n_estimators': 100}\n",
            "0.9793 (+/-0.0068) for {'criterion': 'entropy', 'max_depth': 100, 'max_features': 'auto', 'min_samples_leaf': 4, 'min_samples_split': 2, 'n_estimators': 500}\n",
            "0.9793 (+/-0.0068) for {'criterion': 'entropy', 'max_depth': 100, 'max_features': 'auto', 'min_samples_leaf': 4, 'min_samples_split': 2, 'n_estimators': 1000}\n",
            "0.9776 (+/-0.0102) for {'criterion': 'entropy', 'max_depth': 100, 'max_features': 'auto', 'min_samples_leaf': 4, 'min_samples_split': 2, 'n_estimators': 1500}\n",
            "0.9776 (+/-0.0102) for {'criterion': 'entropy', 'max_depth': 100, 'max_features': 'auto', 'min_samples_leaf': 4, 'min_samples_split': 2, 'n_estimators': 2000}\n",
            "0.9794 (+/-0.0065) for {'criterion': 'entropy', 'max_depth': 100, 'max_features': 'auto', 'min_samples_leaf': 4, 'min_samples_split': 5, 'n_estimators': 100}\n",
            "0.9793 (+/-0.0068) for {'criterion': 'entropy', 'max_depth': 100, 'max_features': 'auto', 'min_samples_leaf': 4, 'min_samples_split': 5, 'n_estimators': 500}\n",
            "0.9793 (+/-0.0068) for {'criterion': 'entropy', 'max_depth': 100, 'max_features': 'auto', 'min_samples_leaf': 4, 'min_samples_split': 5, 'n_estimators': 1000}\n",
            "0.9776 (+/-0.0102) for {'criterion': 'entropy', 'max_depth': 100, 'max_features': 'auto', 'min_samples_leaf': 4, 'min_samples_split': 5, 'n_estimators': 1500}\n",
            "0.9776 (+/-0.0102) for {'criterion': 'entropy', 'max_depth': 100, 'max_features': 'auto', 'min_samples_leaf': 4, 'min_samples_split': 5, 'n_estimators': 2000}\n",
            "0.9794 (+/-0.0065) for {'criterion': 'entropy', 'max_depth': 100, 'max_features': 'auto', 'min_samples_leaf': 4, 'min_samples_split': 10, 'n_estimators': 100}\n",
            "0.9793 (+/-0.0068) for {'criterion': 'entropy', 'max_depth': 100, 'max_features': 'auto', 'min_samples_leaf': 4, 'min_samples_split': 10, 'n_estimators': 500}\n",
            "0.9776 (+/-0.0102) for {'criterion': 'entropy', 'max_depth': 100, 'max_features': 'auto', 'min_samples_leaf': 4, 'min_samples_split': 10, 'n_estimators': 1000}\n",
            "0.9776 (+/-0.0102) for {'criterion': 'entropy', 'max_depth': 100, 'max_features': 'auto', 'min_samples_leaf': 4, 'min_samples_split': 10, 'n_estimators': 1500}\n",
            "0.9776 (+/-0.0102) for {'criterion': 'entropy', 'max_depth': 100, 'max_features': 'auto', 'min_samples_leaf': 4, 'min_samples_split': 10, 'n_estimators': 2000}\n",
            "0.9790 (+/-0.0062) for {'criterion': 'entropy', 'max_depth': 100, 'max_features': 'sqrt', 'min_samples_leaf': 1, 'min_samples_split': 2, 'n_estimators': 100}\n",
            "0.9791 (+/-0.0060) for {'criterion': 'entropy', 'max_depth': 100, 'max_features': 'sqrt', 'min_samples_leaf': 1, 'min_samples_split': 2, 'n_estimators': 500}\n",
            "0.9791 (+/-0.0060) for {'criterion': 'entropy', 'max_depth': 100, 'max_features': 'sqrt', 'min_samples_leaf': 1, 'min_samples_split': 2, 'n_estimators': 1000}\n",
            "0.9791 (+/-0.0060) for {'criterion': 'entropy', 'max_depth': 100, 'max_features': 'sqrt', 'min_samples_leaf': 1, 'min_samples_split': 2, 'n_estimators': 1500}\n",
            "0.9791 (+/-0.0060) for {'criterion': 'entropy', 'max_depth': 100, 'max_features': 'sqrt', 'min_samples_leaf': 1, 'min_samples_split': 2, 'n_estimators': 2000}\n",
            "0.9794 (+/-0.0060) for {'criterion': 'entropy', 'max_depth': 100, 'max_features': 'sqrt', 'min_samples_leaf': 1, 'min_samples_split': 5, 'n_estimators': 100}\n",
            "0.9793 (+/-0.0062) for {'criterion': 'entropy', 'max_depth': 100, 'max_features': 'sqrt', 'min_samples_leaf': 1, 'min_samples_split': 5, 'n_estimators': 500}\n",
            "0.9793 (+/-0.0062) for {'criterion': 'entropy', 'max_depth': 100, 'max_features': 'sqrt', 'min_samples_leaf': 1, 'min_samples_split': 5, 'n_estimators': 1000}\n",
            "0.9793 (+/-0.0062) for {'criterion': 'entropy', 'max_depth': 100, 'max_features': 'sqrt', 'min_samples_leaf': 1, 'min_samples_split': 5, 'n_estimators': 1500}\n",
            "0.9793 (+/-0.0062) for {'criterion': 'entropy', 'max_depth': 100, 'max_features': 'sqrt', 'min_samples_leaf': 1, 'min_samples_split': 5, 'n_estimators': 2000}\n",
            "0.9793 (+/-0.0062) for {'criterion': 'entropy', 'max_depth': 100, 'max_features': 'sqrt', 'min_samples_leaf': 1, 'min_samples_split': 10, 'n_estimators': 100}\n",
            "0.9793 (+/-0.0062) for {'criterion': 'entropy', 'max_depth': 100, 'max_features': 'sqrt', 'min_samples_leaf': 1, 'min_samples_split': 10, 'n_estimators': 500}\n",
            "0.9793 (+/-0.0062) for {'criterion': 'entropy', 'max_depth': 100, 'max_features': 'sqrt', 'min_samples_leaf': 1, 'min_samples_split': 10, 'n_estimators': 1000}\n",
            "0.9793 (+/-0.0062) for {'criterion': 'entropy', 'max_depth': 100, 'max_features': 'sqrt', 'min_samples_leaf': 1, 'min_samples_split': 10, 'n_estimators': 1500}\n",
            "0.9793 (+/-0.0062) for {'criterion': 'entropy', 'max_depth': 100, 'max_features': 'sqrt', 'min_samples_leaf': 1, 'min_samples_split': 10, 'n_estimators': 2000}\n",
            "0.9790 (+/-0.0068) for {'criterion': 'entropy', 'max_depth': 100, 'max_features': 'sqrt', 'min_samples_leaf': 2, 'min_samples_split': 2, 'n_estimators': 100}\n",
            "0.9793 (+/-0.0068) for {'criterion': 'entropy', 'max_depth': 100, 'max_features': 'sqrt', 'min_samples_leaf': 2, 'min_samples_split': 2, 'n_estimators': 500}\n",
            "0.9793 (+/-0.0068) for {'criterion': 'entropy', 'max_depth': 100, 'max_features': 'sqrt', 'min_samples_leaf': 2, 'min_samples_split': 2, 'n_estimators': 1000}\n",
            "0.9793 (+/-0.0068) for {'criterion': 'entropy', 'max_depth': 100, 'max_features': 'sqrt', 'min_samples_leaf': 2, 'min_samples_split': 2, 'n_estimators': 1500}\n",
            "0.9793 (+/-0.0068) for {'criterion': 'entropy', 'max_depth': 100, 'max_features': 'sqrt', 'min_samples_leaf': 2, 'min_samples_split': 2, 'n_estimators': 2000}\n",
            "0.9791 (+/-0.0071) for {'criterion': 'entropy', 'max_depth': 100, 'max_features': 'sqrt', 'min_samples_leaf': 2, 'min_samples_split': 5, 'n_estimators': 100}\n",
            "0.9793 (+/-0.0068) for {'criterion': 'entropy', 'max_depth': 100, 'max_features': 'sqrt', 'min_samples_leaf': 2, 'min_samples_split': 5, 'n_estimators': 500}\n",
            "0.9793 (+/-0.0068) for {'criterion': 'entropy', 'max_depth': 100, 'max_features': 'sqrt', 'min_samples_leaf': 2, 'min_samples_split': 5, 'n_estimators': 1000}\n",
            "0.9793 (+/-0.0068) for {'criterion': 'entropy', 'max_depth': 100, 'max_features': 'sqrt', 'min_samples_leaf': 2, 'min_samples_split': 5, 'n_estimators': 1500}\n",
            "0.9793 (+/-0.0068) for {'criterion': 'entropy', 'max_depth': 100, 'max_features': 'sqrt', 'min_samples_leaf': 2, 'min_samples_split': 5, 'n_estimators': 2000}\n",
            "0.9793 (+/-0.0068) for {'criterion': 'entropy', 'max_depth': 100, 'max_features': 'sqrt', 'min_samples_leaf': 2, 'min_samples_split': 10, 'n_estimators': 100}\n",
            "0.9793 (+/-0.0068) for {'criterion': 'entropy', 'max_depth': 100, 'max_features': 'sqrt', 'min_samples_leaf': 2, 'min_samples_split': 10, 'n_estimators': 500}\n",
            "0.9793 (+/-0.0068) for {'criterion': 'entropy', 'max_depth': 100, 'max_features': 'sqrt', 'min_samples_leaf': 2, 'min_samples_split': 10, 'n_estimators': 1000}\n",
            "0.9793 (+/-0.0068) for {'criterion': 'entropy', 'max_depth': 100, 'max_features': 'sqrt', 'min_samples_leaf': 2, 'min_samples_split': 10, 'n_estimators': 1500}\n",
            "0.9793 (+/-0.0068) for {'criterion': 'entropy', 'max_depth': 100, 'max_features': 'sqrt', 'min_samples_leaf': 2, 'min_samples_split': 10, 'n_estimators': 2000}\n",
            "0.9794 (+/-0.0065) for {'criterion': 'entropy', 'max_depth': 100, 'max_features': 'sqrt', 'min_samples_leaf': 4, 'min_samples_split': 2, 'n_estimators': 100}\n",
            "0.9793 (+/-0.0068) for {'criterion': 'entropy', 'max_depth': 100, 'max_features': 'sqrt', 'min_samples_leaf': 4, 'min_samples_split': 2, 'n_estimators': 500}\n",
            "0.9793 (+/-0.0068) for {'criterion': 'entropy', 'max_depth': 100, 'max_features': 'sqrt', 'min_samples_leaf': 4, 'min_samples_split': 2, 'n_estimators': 1000}\n",
            "0.9776 (+/-0.0102) for {'criterion': 'entropy', 'max_depth': 100, 'max_features': 'sqrt', 'min_samples_leaf': 4, 'min_samples_split': 2, 'n_estimators': 1500}\n",
            "0.9776 (+/-0.0102) for {'criterion': 'entropy', 'max_depth': 100, 'max_features': 'sqrt', 'min_samples_leaf': 4, 'min_samples_split': 2, 'n_estimators': 2000}\n",
            "0.9794 (+/-0.0065) for {'criterion': 'entropy', 'max_depth': 100, 'max_features': 'sqrt', 'min_samples_leaf': 4, 'min_samples_split': 5, 'n_estimators': 100}\n",
            "0.9793 (+/-0.0068) for {'criterion': 'entropy', 'max_depth': 100, 'max_features': 'sqrt', 'min_samples_leaf': 4, 'min_samples_split': 5, 'n_estimators': 500}\n",
            "0.9793 (+/-0.0068) for {'criterion': 'entropy', 'max_depth': 100, 'max_features': 'sqrt', 'min_samples_leaf': 4, 'min_samples_split': 5, 'n_estimators': 1000}\n",
            "0.9776 (+/-0.0102) for {'criterion': 'entropy', 'max_depth': 100, 'max_features': 'sqrt', 'min_samples_leaf': 4, 'min_samples_split': 5, 'n_estimators': 1500}\n",
            "0.9776 (+/-0.0102) for {'criterion': 'entropy', 'max_depth': 100, 'max_features': 'sqrt', 'min_samples_leaf': 4, 'min_samples_split': 5, 'n_estimators': 2000}\n",
            "0.9794 (+/-0.0065) for {'criterion': 'entropy', 'max_depth': 100, 'max_features': 'sqrt', 'min_samples_leaf': 4, 'min_samples_split': 10, 'n_estimators': 100}\n",
            "0.9793 (+/-0.0068) for {'criterion': 'entropy', 'max_depth': 100, 'max_features': 'sqrt', 'min_samples_leaf': 4, 'min_samples_split': 10, 'n_estimators': 500}\n",
            "0.9776 (+/-0.0102) for {'criterion': 'entropy', 'max_depth': 100, 'max_features': 'sqrt', 'min_samples_leaf': 4, 'min_samples_split': 10, 'n_estimators': 1000}\n",
            "0.9776 (+/-0.0102) for {'criterion': 'entropy', 'max_depth': 100, 'max_features': 'sqrt', 'min_samples_leaf': 4, 'min_samples_split': 10, 'n_estimators': 1500}\n",
            "0.9776 (+/-0.0102) for {'criterion': 'entropy', 'max_depth': 100, 'max_features': 'sqrt', 'min_samples_leaf': 4, 'min_samples_split': 10, 'n_estimators': 2000}\n",
            "\n"
          ],
          "name": "stdout"
        }
      ]
    },
    {
      "cell_type": "markdown",
      "metadata": {
        "id": "CHASz8dWOaAn",
        "colab_type": "text"
      },
      "source": [
        "## \n",
        "{'criterion': 'gini', 'max_depth': 10, 'max_features': 'auto', 'min_samples_leaf': 1, 'min_samples_split': 5, 'n_estimators': 1000}\n"
      ]
    },
    {
      "cell_type": "code",
      "metadata": {
        "id": "scZYf7jzpGz8",
        "colab_type": "code",
        "colab": {}
      },
      "source": [
        ""
      ],
      "execution_count": null,
      "outputs": []
    },
    {
      "cell_type": "code",
      "metadata": {
        "id": "vb5CbEsVpHIF",
        "colab_type": "code",
        "colab": {}
      },
      "source": [
        "#TRAINING DATA(for final model): X_train_ovr: X_train + X_dev, Y_train_ovr=Y_train+Y_dev\n",
        "X_train_ovr = np.concatenate((X_train,X_dev),0)\n",
        "Y_train_ovr = np.concatenate((Y_train,Y_dev),0)"
      ],
      "execution_count": 38,
      "outputs": []
    },
    {
      "cell_type": "code",
      "metadata": {
        "id": "f-jfbXMzeObC",
        "colab_type": "code",
        "colab": {}
      },
      "source": [
        "#sclf1"
      ],
      "execution_count": 39,
      "outputs": []
    },
    {
      "cell_type": "code",
      "metadata": {
        "id": "2Ya9fOYmbDXA",
        "colab_type": "code",
        "colab": {}
      },
      "source": [
        "RF_meta = RandomForestClassifier(criterion = 'gini', max_depth = 10, max_features = 'auto', \n",
        "                                 min_samples_leaf = 1, min_samples_split = 5, n_estimators = 1000,random_state=0)"
      ],
      "execution_count": 40,
      "outputs": []
    },
    {
      "cell_type": "code",
      "metadata": {
        "id": "-ZZhEdESbDxe",
        "colab_type": "code",
        "colab": {}
      },
      "source": [
        "sclf1 = StackingClassifier(estimators, final_estimator= RF_meta, cv= 5 , \n",
        "                           stack_method='auto', n_jobs=None, passthrough=False, verbose=0)"
      ],
      "execution_count": 41,
      "outputs": []
    },
    {
      "cell_type": "code",
      "metadata": {
        "id": "JJ-gz2M1c3Yo",
        "colab_type": "code",
        "colab": {
          "base_uri": "https://localhost:8080/",
          "height": 629
        },
        "outputId": "43a58d81-ad94-446d-cdea-2364b37a08c3"
      },
      "source": [
        "sclf1.fit(X_train_ovr , Y_train_ovr)"
      ],
      "execution_count": 42,
      "outputs": [
        {
          "output_type": "execute_result",
          "data": {
            "text/plain": [
              "StackingClassifier(cv=5,\n",
              "                   estimators=[('LR',\n",
              "                                LogisticRegression(C=100, class_weight=None,\n",
              "                                                   dual=False,\n",
              "                                                   fit_intercept=True,\n",
              "                                                   intercept_scaling=1,\n",
              "                                                   l1_ratio=None,\n",
              "                                                   max_iter=10000,\n",
              "                                                   multi_class='multinomial',\n",
              "                                                   n_jobs=-1, penalty='l2',\n",
              "                                                   random_state=None,\n",
              "                                                   solver='saga', tol=0.0001,\n",
              "                                                   verbose=0,\n",
              "                                                   warm_start=False)),\n",
              "                               ('SVM',\n",
              "                                ExtraTreesClassifier(bootstrap=False,\n",
              "                                                     ccp_alpha=0.0,\n",
              "                                                     class_w...\n",
              "                                                          criterion='gini',\n",
              "                                                          max_depth=10,\n",
              "                                                          max_features='auto',\n",
              "                                                          max_leaf_nodes=None,\n",
              "                                                          max_samples=None,\n",
              "                                                          min_impurity_decrease=0.0,\n",
              "                                                          min_impurity_split=None,\n",
              "                                                          min_samples_leaf=1,\n",
              "                                                          min_samples_split=5,\n",
              "                                                          min_weight_fraction_leaf=0.0,\n",
              "                                                          n_estimators=1000,\n",
              "                                                          n_jobs=None,\n",
              "                                                          oob_score=False,\n",
              "                                                          random_state=0,\n",
              "                                                          verbose=0,\n",
              "                                                          warm_start=False),\n",
              "                   n_jobs=None, passthrough=False, stack_method='auto',\n",
              "                   verbose=0)"
            ]
          },
          "metadata": {
            "tags": []
          },
          "execution_count": 42
        }
      ]
    },
    {
      "cell_type": "code",
      "metadata": {
        "id": "Yq8prMCTbEAo",
        "colab_type": "code",
        "colab": {}
      },
      "source": [
        "Y_Pred_Stack_RF_1 = sclf1.predict(X_test1)\n",
        "Y_Pred_Stack_RF_2 = sclf1.predict(X_test2)"
      ],
      "execution_count": 43,
      "outputs": []
    },
    {
      "cell_type": "code",
      "metadata": {
        "id": "wY_W4rPwdfVW",
        "colab_type": "code",
        "colab": {
          "base_uri": "https://localhost:8080/",
          "height": 34
        },
        "outputId": "a50fd05a-9ecc-4aeb-ecd1-5061a50c9624"
      },
      "source": [
        "accuracy = accuracy_score(Y_Pred_Stack_RF_1 , Y_test1)\n",
        "print(\"Accuracy: %.5f%%\" % (accuracy * 100.0))"
      ],
      "execution_count": 44,
      "outputs": [
        {
          "output_type": "stream",
          "text": [
            "Accuracy: 98.45496%\n"
          ],
          "name": "stdout"
        }
      ]
    },
    {
      "cell_type": "code",
      "metadata": {
        "id": "ubEUMDNdeDm-",
        "colab_type": "code",
        "colab": {
          "base_uri": "https://localhost:8080/",
          "height": 34
        },
        "outputId": "47a98520-2512-4dab-dbc4-166d1b516fe5"
      },
      "source": [
        "accuracy = accuracy_score(Y_Pred_Stack_RF_2 , Y_test2)\n",
        "print(\"Accuracy: %.5f%%\" % (accuracy * 100.0))"
      ],
      "execution_count": 45,
      "outputs": [
        {
          "output_type": "stream",
          "text": [
            "Accuracy: 99.27557%\n"
          ],
          "name": "stdout"
        }
      ]
    },
    {
      "cell_type": "code",
      "metadata": {
        "id": "XijvaZkCGgPd",
        "colab_type": "code",
        "colab": {}
      },
      "source": [
        ""
      ],
      "execution_count": null,
      "outputs": []
    },
    {
      "cell_type": "code",
      "metadata": {
        "id": "kC2Mi-4GGgcA",
        "colab_type": "code",
        "colab": {}
      },
      "source": [
        "def results(X_test, y_test, y_predict, no_of_classes, model):\n",
        "   #accuracy\n",
        "   print(accuracy_score(y_test, y_predict))\n",
        "\n",
        "   #classification report\n",
        "   from sklearn import metrics\n",
        "   print(metrics.classification_report(y_test, y_predict, digits = 8))\n",
        "\n",
        "   from sklearn.metrics import confusion_matrix\n",
        "    \n",
        "   #confusion matrix   \n",
        "   cm_svm = confusion_matrix(y_test, y_predict)\n",
        "    \n",
        "   array = cm_svm \n",
        "   df_cm = pd.DataFrame(array, index = [i for i in \"12345678\"],\n",
        "                  columns = [i for i in \"12345678\"])\n",
        "    \n",
        "   plt.figure(figsize = (10,8))\n",
        "   sn.heatmap(df_cm, annot=True)\n",
        "   plt.show()  \n",
        "    \n",
        "   #number of correctly classified samples in the test set\n",
        "   print(accuracy_score(y_test, y_predict, normalize=False))\n",
        "\n",
        "   #binarise\n",
        "   y_score = model.predict_proba(X_test)\n",
        "\n",
        "   y_test_bin = label_binarize(y_test, classes=[*range(no_of_classes)])\n",
        "    \n",
        "   precision = dict()\n",
        "   recall = dict()\n",
        "   x=range(no_of_classes)\n",
        "   print(x)\n",
        "    \n",
        "   for i in range(no_of_classes):\n",
        "      precision[i], recall[i], _ = precision_recall_curve(y_test_bin[:,i],y_score[:, i])\n",
        "      plt.plot(recall[i], precision[i], lw=2, label='class {}'.format(i))\n",
        "\n",
        "   plt.xlabel(\"recall\")\n",
        "   plt.ylabel(\"precision\")\n",
        "   plt.legend(loc=\"best\")\n",
        "   plt.title(\"precision vs. recall curve\")\n",
        "   plt.show()\n",
        "\n",
        "   #roc_curve\n",
        "   fpr = dict()\n",
        "   tpr = dict()\n",
        "   x=range(no_of_classes)\n",
        "   print(x)\n",
        "   for i in range(no_of_classes):\n",
        "      fpr[i], tpr[i], _ = roc_curve(y_test_bin[:, i],y_score[:, i])\n",
        "      plt.plot(fpr[i], tpr[i], lw=2, label='class {}'.format(i))\n",
        "\n",
        "   plt.xlabel(\"false positive rate\")\n",
        "   plt.ylabel(\"true positive rate\")\n",
        "   plt.legend(loc=\"best\")\n",
        "   plt.title(\"ROC curve\")\n",
        "   plt.show()\n"
      ],
      "execution_count": 74,
      "outputs": []
    },
    {
      "cell_type": "code",
      "metadata": {
        "id": "7OrsErTuGhSU",
        "colab_type": "code",
        "colab": {}
      },
      "source": [
        ""
      ],
      "execution_count": null,
      "outputs": []
    },
    {
      "cell_type": "code",
      "metadata": {
        "id": "yevusaLwfemB",
        "colab_type": "code",
        "colab": {}
      },
      "source": [
        "               \n",
        "### Stacking Classifier 2 ###\n",
        "               "
      ],
      "execution_count": null,
      "outputs": []
    },
    {
      "cell_type": "code",
      "metadata": {
        "id": "zE5E7HlgQh_T",
        "colab_type": "code",
        "colab": {
          "base_uri": "https://localhost:8080/",
          "height": 1000
        },
        "outputId": "0f3d5478-78d7-4f23-d6e6-32fddd4620bd"
      },
      "source": [
        "# Set the parameters by cross-validation\n",
        "tuned_parameters = {\n",
        "    'hidden_layer_sizes': [(100,),(32,64,32),(32,16),(64,64)],\n",
        "    'activation': ['relu','logistic'],\n",
        "    'max_iter': [1000, 2000],\n",
        "    'solver': [ 'adam'],\n",
        "    'alpha': [0.01, 0.05, 0.1],\n",
        "    'learning_rate': ['constant','adaptive'],\n",
        "}\n",
        "                            \n",
        "            \n",
        "print(\"# Tuning hyper-parameters for MLP\")\n",
        "print()\n",
        "\n",
        "clf = GridSearchCV(MLP(random_state = 0), tuned_parameters, scoring='accuracy', cv = 5)\n",
        "clf.fit(X_Train_New, Y_Train_New)\n",
        "\n",
        "print(\"Best parameters set found on training set:\")\n",
        "print()\n",
        "\n",
        "print(clf.best_params_)\n",
        "print()\n",
        "\n",
        "print(\"Grid scores on training set:\")\n",
        "print()\n",
        "\n",
        "means = clf.cv_results_['mean_test_score']\n",
        "stds = clf.cv_results_['std_test_score']\n",
        "for mean, std, params in zip(means, stds, clf.cv_results_['params']):\n",
        "    print(\"%0.3f (+/-%0.03f) for %r\"\n",
        "            % (mean, std * 2, params))\n",
        "print()"
      ],
      "execution_count": null,
      "outputs": [
        {
          "output_type": "stream",
          "text": [
            "# Tuning hyper-parameters for MLP\n",
            "\n",
            "Best parameters set found on training set:\n",
            "\n",
            "{'activation': 'relu', 'alpha': 0.01, 'hidden_layer_sizes': (64, 64), 'learning_rate': 'constant', 'max_iter': 1000, 'solver': 'adam'}\n",
            "\n",
            "Grid scores on training set:\n",
            "\n",
            "0.979 (+/-0.005) for {'activation': 'relu', 'alpha': 0.01, 'hidden_layer_sizes': (100,), 'learning_rate': 'constant', 'max_iter': 1000, 'solver': 'adam'}\n",
            "0.979 (+/-0.005) for {'activation': 'relu', 'alpha': 0.01, 'hidden_layer_sizes': (100,), 'learning_rate': 'constant', 'max_iter': 2000, 'solver': 'adam'}\n",
            "0.979 (+/-0.005) for {'activation': 'relu', 'alpha': 0.01, 'hidden_layer_sizes': (100,), 'learning_rate': 'adaptive', 'max_iter': 1000, 'solver': 'adam'}\n",
            "0.979 (+/-0.005) for {'activation': 'relu', 'alpha': 0.01, 'hidden_layer_sizes': (100,), 'learning_rate': 'adaptive', 'max_iter': 2000, 'solver': 'adam'}\n",
            "0.979 (+/-0.003) for {'activation': 'relu', 'alpha': 0.01, 'hidden_layer_sizes': (32, 64, 32), 'learning_rate': 'constant', 'max_iter': 1000, 'solver': 'adam'}\n",
            "0.979 (+/-0.003) for {'activation': 'relu', 'alpha': 0.01, 'hidden_layer_sizes': (32, 64, 32), 'learning_rate': 'constant', 'max_iter': 2000, 'solver': 'adam'}\n",
            "0.979 (+/-0.003) for {'activation': 'relu', 'alpha': 0.01, 'hidden_layer_sizes': (32, 64, 32), 'learning_rate': 'adaptive', 'max_iter': 1000, 'solver': 'adam'}\n",
            "0.979 (+/-0.003) for {'activation': 'relu', 'alpha': 0.01, 'hidden_layer_sizes': (32, 64, 32), 'learning_rate': 'adaptive', 'max_iter': 2000, 'solver': 'adam'}\n",
            "0.979 (+/-0.005) for {'activation': 'relu', 'alpha': 0.01, 'hidden_layer_sizes': (32, 16), 'learning_rate': 'constant', 'max_iter': 1000, 'solver': 'adam'}\n",
            "0.979 (+/-0.005) for {'activation': 'relu', 'alpha': 0.01, 'hidden_layer_sizes': (32, 16), 'learning_rate': 'constant', 'max_iter': 2000, 'solver': 'adam'}\n",
            "0.979 (+/-0.005) for {'activation': 'relu', 'alpha': 0.01, 'hidden_layer_sizes': (32, 16), 'learning_rate': 'adaptive', 'max_iter': 1000, 'solver': 'adam'}\n",
            "0.979 (+/-0.005) for {'activation': 'relu', 'alpha': 0.01, 'hidden_layer_sizes': (32, 16), 'learning_rate': 'adaptive', 'max_iter': 2000, 'solver': 'adam'}\n",
            "0.980 (+/-0.004) for {'activation': 'relu', 'alpha': 0.01, 'hidden_layer_sizes': (64, 64), 'learning_rate': 'constant', 'max_iter': 1000, 'solver': 'adam'}\n",
            "0.980 (+/-0.004) for {'activation': 'relu', 'alpha': 0.01, 'hidden_layer_sizes': (64, 64), 'learning_rate': 'constant', 'max_iter': 2000, 'solver': 'adam'}\n",
            "0.980 (+/-0.004) for {'activation': 'relu', 'alpha': 0.01, 'hidden_layer_sizes': (64, 64), 'learning_rate': 'adaptive', 'max_iter': 1000, 'solver': 'adam'}\n",
            "0.980 (+/-0.004) for {'activation': 'relu', 'alpha': 0.01, 'hidden_layer_sizes': (64, 64), 'learning_rate': 'adaptive', 'max_iter': 2000, 'solver': 'adam'}\n",
            "0.979 (+/-0.005) for {'activation': 'relu', 'alpha': 0.05, 'hidden_layer_sizes': (100,), 'learning_rate': 'constant', 'max_iter': 1000, 'solver': 'adam'}\n",
            "0.979 (+/-0.005) for {'activation': 'relu', 'alpha': 0.05, 'hidden_layer_sizes': (100,), 'learning_rate': 'constant', 'max_iter': 2000, 'solver': 'adam'}\n",
            "0.979 (+/-0.005) for {'activation': 'relu', 'alpha': 0.05, 'hidden_layer_sizes': (100,), 'learning_rate': 'adaptive', 'max_iter': 1000, 'solver': 'adam'}\n",
            "0.979 (+/-0.005) for {'activation': 'relu', 'alpha': 0.05, 'hidden_layer_sizes': (100,), 'learning_rate': 'adaptive', 'max_iter': 2000, 'solver': 'adam'}\n",
            "0.980 (+/-0.004) for {'activation': 'relu', 'alpha': 0.05, 'hidden_layer_sizes': (32, 64, 32), 'learning_rate': 'constant', 'max_iter': 1000, 'solver': 'adam'}\n",
            "0.980 (+/-0.004) for {'activation': 'relu', 'alpha': 0.05, 'hidden_layer_sizes': (32, 64, 32), 'learning_rate': 'constant', 'max_iter': 2000, 'solver': 'adam'}\n",
            "0.980 (+/-0.004) for {'activation': 'relu', 'alpha': 0.05, 'hidden_layer_sizes': (32, 64, 32), 'learning_rate': 'adaptive', 'max_iter': 1000, 'solver': 'adam'}\n",
            "0.980 (+/-0.004) for {'activation': 'relu', 'alpha': 0.05, 'hidden_layer_sizes': (32, 64, 32), 'learning_rate': 'adaptive', 'max_iter': 2000, 'solver': 'adam'}\n",
            "0.978 (+/-0.004) for {'activation': 'relu', 'alpha': 0.05, 'hidden_layer_sizes': (32, 16), 'learning_rate': 'constant', 'max_iter': 1000, 'solver': 'adam'}\n",
            "0.978 (+/-0.004) for {'activation': 'relu', 'alpha': 0.05, 'hidden_layer_sizes': (32, 16), 'learning_rate': 'constant', 'max_iter': 2000, 'solver': 'adam'}\n",
            "0.978 (+/-0.004) for {'activation': 'relu', 'alpha': 0.05, 'hidden_layer_sizes': (32, 16), 'learning_rate': 'adaptive', 'max_iter': 1000, 'solver': 'adam'}\n",
            "0.978 (+/-0.004) for {'activation': 'relu', 'alpha': 0.05, 'hidden_layer_sizes': (32, 16), 'learning_rate': 'adaptive', 'max_iter': 2000, 'solver': 'adam'}\n",
            "0.980 (+/-0.004) for {'activation': 'relu', 'alpha': 0.05, 'hidden_layer_sizes': (64, 64), 'learning_rate': 'constant', 'max_iter': 1000, 'solver': 'adam'}\n",
            "0.980 (+/-0.004) for {'activation': 'relu', 'alpha': 0.05, 'hidden_layer_sizes': (64, 64), 'learning_rate': 'constant', 'max_iter': 2000, 'solver': 'adam'}\n",
            "0.980 (+/-0.004) for {'activation': 'relu', 'alpha': 0.05, 'hidden_layer_sizes': (64, 64), 'learning_rate': 'adaptive', 'max_iter': 1000, 'solver': 'adam'}\n",
            "0.980 (+/-0.004) for {'activation': 'relu', 'alpha': 0.05, 'hidden_layer_sizes': (64, 64), 'learning_rate': 'adaptive', 'max_iter': 2000, 'solver': 'adam'}\n",
            "0.978 (+/-0.006) for {'activation': 'relu', 'alpha': 0.1, 'hidden_layer_sizes': (100,), 'learning_rate': 'constant', 'max_iter': 1000, 'solver': 'adam'}\n",
            "0.978 (+/-0.006) for {'activation': 'relu', 'alpha': 0.1, 'hidden_layer_sizes': (100,), 'learning_rate': 'constant', 'max_iter': 2000, 'solver': 'adam'}\n",
            "0.978 (+/-0.006) for {'activation': 'relu', 'alpha': 0.1, 'hidden_layer_sizes': (100,), 'learning_rate': 'adaptive', 'max_iter': 1000, 'solver': 'adam'}\n",
            "0.978 (+/-0.006) for {'activation': 'relu', 'alpha': 0.1, 'hidden_layer_sizes': (100,), 'learning_rate': 'adaptive', 'max_iter': 2000, 'solver': 'adam'}\n",
            "0.979 (+/-0.003) for {'activation': 'relu', 'alpha': 0.1, 'hidden_layer_sizes': (32, 64, 32), 'learning_rate': 'constant', 'max_iter': 1000, 'solver': 'adam'}\n",
            "0.979 (+/-0.003) for {'activation': 'relu', 'alpha': 0.1, 'hidden_layer_sizes': (32, 64, 32), 'learning_rate': 'constant', 'max_iter': 2000, 'solver': 'adam'}\n",
            "0.979 (+/-0.003) for {'activation': 'relu', 'alpha': 0.1, 'hidden_layer_sizes': (32, 64, 32), 'learning_rate': 'adaptive', 'max_iter': 1000, 'solver': 'adam'}\n",
            "0.979 (+/-0.003) for {'activation': 'relu', 'alpha': 0.1, 'hidden_layer_sizes': (32, 64, 32), 'learning_rate': 'adaptive', 'max_iter': 2000, 'solver': 'adam'}\n",
            "0.979 (+/-0.004) for {'activation': 'relu', 'alpha': 0.1, 'hidden_layer_sizes': (32, 16), 'learning_rate': 'constant', 'max_iter': 1000, 'solver': 'adam'}\n",
            "0.979 (+/-0.004) for {'activation': 'relu', 'alpha': 0.1, 'hidden_layer_sizes': (32, 16), 'learning_rate': 'constant', 'max_iter': 2000, 'solver': 'adam'}\n",
            "0.979 (+/-0.004) for {'activation': 'relu', 'alpha': 0.1, 'hidden_layer_sizes': (32, 16), 'learning_rate': 'adaptive', 'max_iter': 1000, 'solver': 'adam'}\n",
            "0.979 (+/-0.004) for {'activation': 'relu', 'alpha': 0.1, 'hidden_layer_sizes': (32, 16), 'learning_rate': 'adaptive', 'max_iter': 2000, 'solver': 'adam'}\n",
            "0.980 (+/-0.004) for {'activation': 'relu', 'alpha': 0.1, 'hidden_layer_sizes': (64, 64), 'learning_rate': 'constant', 'max_iter': 1000, 'solver': 'adam'}\n",
            "0.980 (+/-0.004) for {'activation': 'relu', 'alpha': 0.1, 'hidden_layer_sizes': (64, 64), 'learning_rate': 'constant', 'max_iter': 2000, 'solver': 'adam'}\n",
            "0.980 (+/-0.004) for {'activation': 'relu', 'alpha': 0.1, 'hidden_layer_sizes': (64, 64), 'learning_rate': 'adaptive', 'max_iter': 1000, 'solver': 'adam'}\n",
            "0.980 (+/-0.004) for {'activation': 'relu', 'alpha': 0.1, 'hidden_layer_sizes': (64, 64), 'learning_rate': 'adaptive', 'max_iter': 2000, 'solver': 'adam'}\n",
            "0.979 (+/-0.004) for {'activation': 'logistic', 'alpha': 0.01, 'hidden_layer_sizes': (100,), 'learning_rate': 'constant', 'max_iter': 1000, 'solver': 'adam'}\n",
            "0.979 (+/-0.004) for {'activation': 'logistic', 'alpha': 0.01, 'hidden_layer_sizes': (100,), 'learning_rate': 'constant', 'max_iter': 2000, 'solver': 'adam'}\n",
            "0.979 (+/-0.004) for {'activation': 'logistic', 'alpha': 0.01, 'hidden_layer_sizes': (100,), 'learning_rate': 'adaptive', 'max_iter': 1000, 'solver': 'adam'}\n",
            "0.979 (+/-0.004) for {'activation': 'logistic', 'alpha': 0.01, 'hidden_layer_sizes': (100,), 'learning_rate': 'adaptive', 'max_iter': 2000, 'solver': 'adam'}\n",
            "0.976 (+/-0.004) for {'activation': 'logistic', 'alpha': 0.01, 'hidden_layer_sizes': (32, 64, 32), 'learning_rate': 'constant', 'max_iter': 1000, 'solver': 'adam'}\n",
            "0.976 (+/-0.004) for {'activation': 'logistic', 'alpha': 0.01, 'hidden_layer_sizes': (32, 64, 32), 'learning_rate': 'constant', 'max_iter': 2000, 'solver': 'adam'}\n",
            "0.976 (+/-0.004) for {'activation': 'logistic', 'alpha': 0.01, 'hidden_layer_sizes': (32, 64, 32), 'learning_rate': 'adaptive', 'max_iter': 1000, 'solver': 'adam'}\n",
            "0.976 (+/-0.004) for {'activation': 'logistic', 'alpha': 0.01, 'hidden_layer_sizes': (32, 64, 32), 'learning_rate': 'adaptive', 'max_iter': 2000, 'solver': 'adam'}\n",
            "0.978 (+/-0.004) for {'activation': 'logistic', 'alpha': 0.01, 'hidden_layer_sizes': (32, 16), 'learning_rate': 'constant', 'max_iter': 1000, 'solver': 'adam'}\n",
            "0.978 (+/-0.004) for {'activation': 'logistic', 'alpha': 0.01, 'hidden_layer_sizes': (32, 16), 'learning_rate': 'constant', 'max_iter': 2000, 'solver': 'adam'}\n",
            "0.978 (+/-0.004) for {'activation': 'logistic', 'alpha': 0.01, 'hidden_layer_sizes': (32, 16), 'learning_rate': 'adaptive', 'max_iter': 1000, 'solver': 'adam'}\n",
            "0.978 (+/-0.004) for {'activation': 'logistic', 'alpha': 0.01, 'hidden_layer_sizes': (32, 16), 'learning_rate': 'adaptive', 'max_iter': 2000, 'solver': 'adam'}\n",
            "0.978 (+/-0.004) for {'activation': 'logistic', 'alpha': 0.01, 'hidden_layer_sizes': (64, 64), 'learning_rate': 'constant', 'max_iter': 1000, 'solver': 'adam'}\n",
            "0.978 (+/-0.004) for {'activation': 'logistic', 'alpha': 0.01, 'hidden_layer_sizes': (64, 64), 'learning_rate': 'constant', 'max_iter': 2000, 'solver': 'adam'}\n",
            "0.978 (+/-0.004) for {'activation': 'logistic', 'alpha': 0.01, 'hidden_layer_sizes': (64, 64), 'learning_rate': 'adaptive', 'max_iter': 1000, 'solver': 'adam'}\n",
            "0.978 (+/-0.004) for {'activation': 'logistic', 'alpha': 0.01, 'hidden_layer_sizes': (64, 64), 'learning_rate': 'adaptive', 'max_iter': 2000, 'solver': 'adam'}\n",
            "0.978 (+/-0.002) for {'activation': 'logistic', 'alpha': 0.05, 'hidden_layer_sizes': (100,), 'learning_rate': 'constant', 'max_iter': 1000, 'solver': 'adam'}\n",
            "0.978 (+/-0.002) for {'activation': 'logistic', 'alpha': 0.05, 'hidden_layer_sizes': (100,), 'learning_rate': 'constant', 'max_iter': 2000, 'solver': 'adam'}\n",
            "0.978 (+/-0.002) for {'activation': 'logistic', 'alpha': 0.05, 'hidden_layer_sizes': (100,), 'learning_rate': 'adaptive', 'max_iter': 1000, 'solver': 'adam'}\n",
            "0.978 (+/-0.002) for {'activation': 'logistic', 'alpha': 0.05, 'hidden_layer_sizes': (100,), 'learning_rate': 'adaptive', 'max_iter': 2000, 'solver': 'adam'}\n",
            "0.976 (+/-0.004) for {'activation': 'logistic', 'alpha': 0.05, 'hidden_layer_sizes': (32, 64, 32), 'learning_rate': 'constant', 'max_iter': 1000, 'solver': 'adam'}\n",
            "0.976 (+/-0.004) for {'activation': 'logistic', 'alpha': 0.05, 'hidden_layer_sizes': (32, 64, 32), 'learning_rate': 'constant', 'max_iter': 2000, 'solver': 'adam'}\n",
            "0.976 (+/-0.004) for {'activation': 'logistic', 'alpha': 0.05, 'hidden_layer_sizes': (32, 64, 32), 'learning_rate': 'adaptive', 'max_iter': 1000, 'solver': 'adam'}\n",
            "0.976 (+/-0.004) for {'activation': 'logistic', 'alpha': 0.05, 'hidden_layer_sizes': (32, 64, 32), 'learning_rate': 'adaptive', 'max_iter': 2000, 'solver': 'adam'}\n",
            "0.975 (+/-0.005) for {'activation': 'logistic', 'alpha': 0.05, 'hidden_layer_sizes': (32, 16), 'learning_rate': 'constant', 'max_iter': 1000, 'solver': 'adam'}\n",
            "0.975 (+/-0.005) for {'activation': 'logistic', 'alpha': 0.05, 'hidden_layer_sizes': (32, 16), 'learning_rate': 'constant', 'max_iter': 2000, 'solver': 'adam'}\n",
            "0.975 (+/-0.005) for {'activation': 'logistic', 'alpha': 0.05, 'hidden_layer_sizes': (32, 16), 'learning_rate': 'adaptive', 'max_iter': 1000, 'solver': 'adam'}\n",
            "0.975 (+/-0.005) for {'activation': 'logistic', 'alpha': 0.05, 'hidden_layer_sizes': (32, 16), 'learning_rate': 'adaptive', 'max_iter': 2000, 'solver': 'adam'}\n",
            "0.978 (+/-0.002) for {'activation': 'logistic', 'alpha': 0.05, 'hidden_layer_sizes': (64, 64), 'learning_rate': 'constant', 'max_iter': 1000, 'solver': 'adam'}\n",
            "0.978 (+/-0.002) for {'activation': 'logistic', 'alpha': 0.05, 'hidden_layer_sizes': (64, 64), 'learning_rate': 'constant', 'max_iter': 2000, 'solver': 'adam'}\n",
            "0.978 (+/-0.002) for {'activation': 'logistic', 'alpha': 0.05, 'hidden_layer_sizes': (64, 64), 'learning_rate': 'adaptive', 'max_iter': 1000, 'solver': 'adam'}\n",
            "0.978 (+/-0.002) for {'activation': 'logistic', 'alpha': 0.05, 'hidden_layer_sizes': (64, 64), 'learning_rate': 'adaptive', 'max_iter': 2000, 'solver': 'adam'}\n",
            "0.976 (+/-0.003) for {'activation': 'logistic', 'alpha': 0.1, 'hidden_layer_sizes': (100,), 'learning_rate': 'constant', 'max_iter': 1000, 'solver': 'adam'}\n",
            "0.976 (+/-0.003) for {'activation': 'logistic', 'alpha': 0.1, 'hidden_layer_sizes': (100,), 'learning_rate': 'constant', 'max_iter': 2000, 'solver': 'adam'}\n",
            "0.976 (+/-0.003) for {'activation': 'logistic', 'alpha': 0.1, 'hidden_layer_sizes': (100,), 'learning_rate': 'adaptive', 'max_iter': 1000, 'solver': 'adam'}\n",
            "0.976 (+/-0.003) for {'activation': 'logistic', 'alpha': 0.1, 'hidden_layer_sizes': (100,), 'learning_rate': 'adaptive', 'max_iter': 2000, 'solver': 'adam'}\n",
            "0.973 (+/-0.011) for {'activation': 'logistic', 'alpha': 0.1, 'hidden_layer_sizes': (32, 64, 32), 'learning_rate': 'constant', 'max_iter': 1000, 'solver': 'adam'}\n",
            "0.973 (+/-0.011) for {'activation': 'logistic', 'alpha': 0.1, 'hidden_layer_sizes': (32, 64, 32), 'learning_rate': 'constant', 'max_iter': 2000, 'solver': 'adam'}\n",
            "0.973 (+/-0.011) for {'activation': 'logistic', 'alpha': 0.1, 'hidden_layer_sizes': (32, 64, 32), 'learning_rate': 'adaptive', 'max_iter': 1000, 'solver': 'adam'}\n",
            "0.973 (+/-0.011) for {'activation': 'logistic', 'alpha': 0.1, 'hidden_layer_sizes': (32, 64, 32), 'learning_rate': 'adaptive', 'max_iter': 2000, 'solver': 'adam'}\n",
            "0.976 (+/-0.003) for {'activation': 'logistic', 'alpha': 0.1, 'hidden_layer_sizes': (32, 16), 'learning_rate': 'constant', 'max_iter': 1000, 'solver': 'adam'}\n",
            "0.976 (+/-0.003) for {'activation': 'logistic', 'alpha': 0.1, 'hidden_layer_sizes': (32, 16), 'learning_rate': 'constant', 'max_iter': 2000, 'solver': 'adam'}\n",
            "0.976 (+/-0.003) for {'activation': 'logistic', 'alpha': 0.1, 'hidden_layer_sizes': (32, 16), 'learning_rate': 'adaptive', 'max_iter': 1000, 'solver': 'adam'}\n",
            "0.976 (+/-0.003) for {'activation': 'logistic', 'alpha': 0.1, 'hidden_layer_sizes': (32, 16), 'learning_rate': 'adaptive', 'max_iter': 2000, 'solver': 'adam'}\n",
            "0.976 (+/-0.003) for {'activation': 'logistic', 'alpha': 0.1, 'hidden_layer_sizes': (64, 64), 'learning_rate': 'constant', 'max_iter': 1000, 'solver': 'adam'}\n",
            "0.976 (+/-0.003) for {'activation': 'logistic', 'alpha': 0.1, 'hidden_layer_sizes': (64, 64), 'learning_rate': 'constant', 'max_iter': 2000, 'solver': 'adam'}\n",
            "0.976 (+/-0.003) for {'activation': 'logistic', 'alpha': 0.1, 'hidden_layer_sizes': (64, 64), 'learning_rate': 'adaptive', 'max_iter': 1000, 'solver': 'adam'}\n",
            "0.976 (+/-0.003) for {'activation': 'logistic', 'alpha': 0.1, 'hidden_layer_sizes': (64, 64), 'learning_rate': 'adaptive', 'max_iter': 2000, 'solver': 'adam'}\n",
            "\n"
          ],
          "name": "stdout"
        }
      ]
    },
    {
      "cell_type": "markdown",
      "metadata": {
        "id": "nHvTSzopd-Np",
        "colab_type": "text"
      },
      "source": [
        "{'activation': 'relu', 'alpha': 0.01, 'hidden_layer_sizes': (64, 64), 'learning_rate': 'constant', 'max_iter': 1000, 'solver': 'adam'}\n"
      ]
    },
    {
      "cell_type": "code",
      "metadata": {
        "id": "f8PVlU1DZVsp",
        "colab_type": "code",
        "colab": {}
      },
      "source": [
        "#sclf2"
      ],
      "execution_count": null,
      "outputs": []
    },
    {
      "cell_type": "code",
      "metadata": {
        "id": "wDxuu2o1ec9B",
        "colab_type": "code",
        "colab": {}
      },
      "source": [
        "MLP_meta = MLP(hidden_layer_sizes=(64,64), activation='relu', solver='adam', alpha=0.01,\n",
        "               batch_size='auto', learning_rate='constant', max_iter=1000,  random_state= 0)"
      ],
      "execution_count": 46,
      "outputs": []
    },
    {
      "cell_type": "code",
      "metadata": {
        "id": "o5Jmd5XXedKm",
        "colab_type": "code",
        "colab": {}
      },
      "source": [
        "sclf2 = StackingClassifier(estimators, final_estimator= MLP_meta,  cv= 5 , stack_method='auto', n_jobs=None, passthrough=False, verbose=0)"
      ],
      "execution_count": 47,
      "outputs": []
    },
    {
      "cell_type": "code",
      "metadata": {
        "id": "bNO8Z6M_edSD",
        "colab_type": "code",
        "colab": {
          "base_uri": "https://localhost:8080/",
          "height": 595
        },
        "outputId": "821812b5-b5b7-4111-db2e-5a6c58a9234f"
      },
      "source": [
        "sclf2.fit(X_train_ovr , Y_train_ovr)"
      ],
      "execution_count": 48,
      "outputs": [
        {
          "output_type": "execute_result",
          "data": {
            "text/plain": [
              "StackingClassifier(cv=5,\n",
              "                   estimators=[('LR',\n",
              "                                LogisticRegression(C=100, class_weight=None,\n",
              "                                                   dual=False,\n",
              "                                                   fit_intercept=True,\n",
              "                                                   intercept_scaling=1,\n",
              "                                                   l1_ratio=None,\n",
              "                                                   max_iter=10000,\n",
              "                                                   multi_class='multinomial',\n",
              "                                                   n_jobs=-1, penalty='l2',\n",
              "                                                   random_state=None,\n",
              "                                                   solver='saga', tol=0.0001,\n",
              "                                                   verbose=0,\n",
              "                                                   warm_start=False)),\n",
              "                               ('SVM',\n",
              "                                ExtraTreesClassifier(bootstrap=False,\n",
              "                                                     ccp_alpha=0.0,\n",
              "                                                     class_w...\n",
              "                                                 epsilon=1e-08,\n",
              "                                                 hidden_layer_sizes=(64, 64),\n",
              "                                                 learning_rate='constant',\n",
              "                                                 learning_rate_init=0.001,\n",
              "                                                 max_fun=15000, max_iter=1000,\n",
              "                                                 momentum=0.9,\n",
              "                                                 n_iter_no_change=10,\n",
              "                                                 nesterovs_momentum=True,\n",
              "                                                 power_t=0.5, random_state=0,\n",
              "                                                 shuffle=True, solver='adam',\n",
              "                                                 tol=0.0001,\n",
              "                                                 validation_fraction=0.1,\n",
              "                                                 verbose=False,\n",
              "                                                 warm_start=False),\n",
              "                   n_jobs=None, passthrough=False, stack_method='auto',\n",
              "                   verbose=0)"
            ]
          },
          "metadata": {
            "tags": []
          },
          "execution_count": 48
        }
      ]
    },
    {
      "cell_type": "code",
      "metadata": {
        "id": "OwqZFtKZedOu",
        "colab_type": "code",
        "colab": {}
      },
      "source": [
        "Y_Pred_Stack_MLP_1 = sclf2.predict(X_test1)\n",
        "\n",
        "Y_Pred_Stack_MLP_2 = sclf2.predict(X_test2)"
      ],
      "execution_count": 49,
      "outputs": []
    },
    {
      "cell_type": "code",
      "metadata": {
        "id": "-CD4-JVCedIj",
        "colab_type": "code",
        "colab": {
          "base_uri": "https://localhost:8080/",
          "height": 34
        },
        "outputId": "9202bf8e-d534-4525-c9c7-1472af8e34b6"
      },
      "source": [
        "accuracy = accuracy_score(Y_Pred_Stack_MLP_1 , Y_test1)\n",
        "print(\"Accuracy: %.5f%%\" % (accuracy * 100.0))"
      ],
      "execution_count": 50,
      "outputs": [
        {
          "output_type": "stream",
          "text": [
            "Accuracy: 98.29882%\n"
          ],
          "name": "stdout"
        }
      ]
    },
    {
      "cell_type": "code",
      "metadata": {
        "id": "HXxQokAkfG7V",
        "colab_type": "code",
        "colab": {
          "base_uri": "https://localhost:8080/",
          "height": 34
        },
        "outputId": "a0c9da65-d752-4506-967d-021847ad2ac8"
      },
      "source": [
        "accuracy = accuracy_score(Y_Pred_Stack_MLP_2 , Y_test2)\n",
        "print(\"Accuracy: %.5f%%\" % (accuracy * 100.0))"
      ],
      "execution_count": 51,
      "outputs": [
        {
          "output_type": "stream",
          "text": [
            "Accuracy: 99.21875%\n"
          ],
          "name": "stdout"
        }
      ]
    },
    {
      "cell_type": "code",
      "metadata": {
        "id": "zgFcSx8yHWwa",
        "colab_type": "code",
        "colab": {}
      },
      "source": [
        "#---"
      ],
      "execution_count": null,
      "outputs": []
    },
    {
      "cell_type": "code",
      "metadata": {
        "id": "Yrs0fDysHXAN",
        "colab_type": "code",
        "colab": {}
      },
      "source": [
        "sclf1a = sclf1"
      ],
      "execution_count": 80,
      "outputs": []
    },
    {
      "cell_type": "code",
      "metadata": {
        "id": "thli72lgHXIP",
        "colab_type": "code",
        "colab": {
          "base_uri": "https://localhost:8080/",
          "height": 629
        },
        "outputId": "35fe549c-879a-42c6-95d3-43262c966672"
      },
      "source": [
        "sclf1a.fit(X_train , Y_train)"
      ],
      "execution_count": 81,
      "outputs": [
        {
          "output_type": "execute_result",
          "data": {
            "text/plain": [
              "StackingClassifier(cv=5,\n",
              "                   estimators=[('LR',\n",
              "                                LogisticRegression(C=100, class_weight=None,\n",
              "                                                   dual=False,\n",
              "                                                   fit_intercept=True,\n",
              "                                                   intercept_scaling=1,\n",
              "                                                   l1_ratio=None,\n",
              "                                                   max_iter=10000,\n",
              "                                                   multi_class='multinomial',\n",
              "                                                   n_jobs=-1, penalty='l2',\n",
              "                                                   random_state=None,\n",
              "                                                   solver='saga', tol=0.0001,\n",
              "                                                   verbose=0,\n",
              "                                                   warm_start=False)),\n",
              "                               ('SVM',\n",
              "                                ExtraTreesClassifier(bootstrap=False,\n",
              "                                                     ccp_alpha=0.0,\n",
              "                                                     class_w...\n",
              "                                                          criterion='gini',\n",
              "                                                          max_depth=10,\n",
              "                                                          max_features='auto',\n",
              "                                                          max_leaf_nodes=None,\n",
              "                                                          max_samples=None,\n",
              "                                                          min_impurity_decrease=0.0,\n",
              "                                                          min_impurity_split=None,\n",
              "                                                          min_samples_leaf=1,\n",
              "                                                          min_samples_split=5,\n",
              "                                                          min_weight_fraction_leaf=0.0,\n",
              "                                                          n_estimators=1000,\n",
              "                                                          n_jobs=None,\n",
              "                                                          oob_score=False,\n",
              "                                                          random_state=0,\n",
              "                                                          verbose=0,\n",
              "                                                          warm_start=False),\n",
              "                   n_jobs=None, passthrough=False, stack_method='auto',\n",
              "                   verbose=0)"
            ]
          },
          "metadata": {
            "tags": []
          },
          "execution_count": 81
        }
      ]
    },
    {
      "cell_type": "code",
      "metadata": {
        "id": "uQ7E6do4HXSM",
        "colab_type": "code",
        "colab": {}
      },
      "source": [
        "Y_Pred_Stack_RF_1a = sclf1a.predict(X_test1)\n",
        "Y_Pred_Stack_RF_2a = sclf1a.predict(X_test2)"
      ],
      "execution_count": 82,
      "outputs": []
    },
    {
      "cell_type": "code",
      "metadata": {
        "id": "H9xR8Y14HX4h",
        "colab_type": "code",
        "colab": {
          "base_uri": "https://localhost:8080/",
          "height": 34
        },
        "outputId": "ff6b1f27-eddb-4422-cee2-88458b98dff1"
      },
      "source": [
        "accuracy = accuracy_score(Y_Pred_Stack_RF_1a , Y_test1)\n",
        "print(\"Accuracy: %.5f%%\" % (accuracy * 100.0))"
      ],
      "execution_count": 83,
      "outputs": [
        {
          "output_type": "stream",
          "text": [
            "Accuracy: 91.47765%\n"
          ],
          "name": "stdout"
        }
      ]
    },
    {
      "cell_type": "code",
      "metadata": {
        "id": "klRyCJ7vHXNf",
        "colab_type": "code",
        "colab": {
          "base_uri": "https://localhost:8080/",
          "height": 34
        },
        "outputId": "16ed37e2-000b-4311-c4f7-dd4fc161cee3"
      },
      "source": [
        "accuracy = accuracy_score(Y_Pred_Stack_RF_2a , Y_test2)\n",
        "print(\"Accuracy: %.5f%%\" % (accuracy * 100.0))"
      ],
      "execution_count": 85,
      "outputs": [
        {
          "output_type": "stream",
          "text": [
            "Accuracy: 96.06534%\n"
          ],
          "name": "stdout"
        }
      ]
    },
    {
      "cell_type": "code",
      "metadata": {
        "id": "zPlOy6y4HW-e",
        "colab_type": "code",
        "colab": {}
      },
      "source": [
        ""
      ],
      "execution_count": null,
      "outputs": []
    },
    {
      "cell_type": "code",
      "metadata": {
        "id": "UiC9HODSTfSb",
        "colab_type": "code",
        "colab": {}
      },
      "source": [
        "#---"
      ],
      "execution_count": null,
      "outputs": []
    },
    {
      "cell_type": "code",
      "metadata": {
        "id": "oyGr6-JauxM-",
        "colab_type": "code",
        "colab": {}
      },
      "source": [
        "sclf2a = StackingClassifier(estimators, final_estimator= MLP_meta,  cv= 5 , stack_method='auto', n_jobs=None, passthrough=False, verbose=0)"
      ],
      "execution_count": null,
      "outputs": []
    },
    {
      "cell_type": "code",
      "metadata": {
        "id": "XXqNi25hux7H",
        "colab_type": "code",
        "colab": {
          "base_uri": "https://localhost:8080/",
          "height": 595
        },
        "outputId": "972555c2-a064-4b25-f894-5c8f9328ff33"
      },
      "source": [
        "sclf2a.fit(X_train , Y_train)"
      ],
      "execution_count": null,
      "outputs": [
        {
          "output_type": "execute_result",
          "data": {
            "text/plain": [
              "StackingClassifier(cv=5,\n",
              "                   estimators=[('LR',\n",
              "                                LogisticRegression(C=100, class_weight=None,\n",
              "                                                   dual=False,\n",
              "                                                   fit_intercept=True,\n",
              "                                                   intercept_scaling=1,\n",
              "                                                   l1_ratio=None,\n",
              "                                                   max_iter=10000,\n",
              "                                                   multi_class='multinomial',\n",
              "                                                   n_jobs=-1, penalty='l2',\n",
              "                                                   random_state=None,\n",
              "                                                   solver='saga', tol=0.0001,\n",
              "                                                   verbose=0,\n",
              "                                                   warm_start=False)),\n",
              "                               ('SVM',\n",
              "                                ExtraTreesClassifier(bootstrap=False,\n",
              "                                                     ccp_alpha=0.0,\n",
              "                                                     class_w...\n",
              "                                                 epsilon=1e-08,\n",
              "                                                 hidden_layer_sizes=(64, 64),\n",
              "                                                 learning_rate='constant',\n",
              "                                                 learning_rate_init=0.001,\n",
              "                                                 max_fun=15000, max_iter=1000,\n",
              "                                                 momentum=0.9,\n",
              "                                                 n_iter_no_change=10,\n",
              "                                                 nesterovs_momentum=True,\n",
              "                                                 power_t=0.5, random_state=0,\n",
              "                                                 shuffle=True, solver='adam',\n",
              "                                                 tol=0.0001,\n",
              "                                                 validation_fraction=0.1,\n",
              "                                                 verbose=False,\n",
              "                                                 warm_start=False),\n",
              "                   n_jobs=None, passthrough=False, stack_method='auto',\n",
              "                   verbose=0)"
            ]
          },
          "metadata": {
            "tags": []
          },
          "execution_count": 65
        }
      ]
    },
    {
      "cell_type": "code",
      "metadata": {
        "id": "KVONVFhtuyPB",
        "colab_type": "code",
        "colab": {}
      },
      "source": [
        "Y_Pred_Stack_MLP_1a = sclf2a.predict(X_test1)\n",
        "Y_Pred_Stack_MLP_2a = sclf2a.predict(X_test2)"
      ],
      "execution_count": null,
      "outputs": []
    },
    {
      "cell_type": "code",
      "metadata": {
        "id": "EqjO1U1Tuyeb",
        "colab_type": "code",
        "colab": {
          "base_uri": "https://localhost:8080/",
          "height": 34
        },
        "outputId": "0c6d20df-44d1-4bf5-916e-8d4ef862246e"
      },
      "source": [
        "accuracy = accuracy_score(Y_Pred_Stack_MLP_1a , Y_test1)\n",
        "print(\"Accuracy: %.5f%%\" % (accuracy * 100.0))"
      ],
      "execution_count": null,
      "outputs": [
        {
          "output_type": "stream",
          "text": [
            "Accuracy: 91.69954%\n"
          ],
          "name": "stdout"
        }
      ]
    },
    {
      "cell_type": "code",
      "metadata": {
        "id": "8nR8lL8_vSjS",
        "colab_type": "code",
        "colab": {
          "base_uri": "https://localhost:8080/",
          "height": 34
        },
        "outputId": "b907a5f7-235e-4f98-c755-f031c6df7f3f"
      },
      "source": [
        "accuracy = accuracy_score(Y_Pred_Stack_MLP_2a , Y_test2)\n",
        "print(\"Accuracy: %.5f%%\" % (accuracy * 100.0))"
      ],
      "execution_count": null,
      "outputs": [
        {
          "output_type": "stream",
          "text": [
            "Accuracy: 96.61932%\n"
          ],
          "name": "stdout"
        }
      ]
    },
    {
      "cell_type": "code",
      "metadata": {
        "id": "PrnrcZJzvZuZ",
        "colab_type": "code",
        "colab": {}
      },
      "source": [
        "#---"
      ],
      "execution_count": null,
      "outputs": []
    },
    {
      "cell_type": "code",
      "metadata": {
        "id": "ttYGJWQHNm9J",
        "colab_type": "code",
        "colab": {
          "base_uri": "https://localhost:8080/",
          "height": 1000
        },
        "outputId": "8e91dda7-f75a-4c3a-9847-5955b130d42b"
      },
      "source": [
        "results(X_test1, Y_test1, Y_Pred_Stack_RF_1, 8, sclf1)"
      ],
      "execution_count": 75,
      "outputs": [
        {
          "output_type": "stream",
          "text": [
            "0.9845496383957922\n",
            "              precision    recall  f1-score   support\n",
            "\n",
            "           0  0.99737533 0.99934254 0.99835796      1521\n",
            "           1  1.00000000 0.99737015 0.99868334      1521\n",
            "           2  0.99934297 1.00000000 0.99967138      1521\n",
            "           3  0.99405155 0.98882314 0.99143045      1521\n",
            "           4  0.99737705 1.00000000 0.99868680      1521\n",
            "           5  0.94897283 0.94148586 0.94521452      1521\n",
            "           6  0.93949252 0.94937541 0.94440811      1521\n",
            "           7  1.00000000 1.00000000 1.00000000      1521\n",
            "\n",
            "    accuracy                      0.98454964     12168\n",
            "   macro avg  0.98457653 0.98454964 0.98455657     12168\n",
            "weighted avg  0.98457653 0.98454964 0.98455657     12168\n",
            "\n"
          ],
          "name": "stdout"
        },
        {
          "output_type": "display_data",
          "data": {
            "image/png": "[encoded data removed]",
            "text/plain": [
              "<Figure size 720x576 with 2 Axes>"
            ]
          },
          "metadata": {
            "tags": [],
            "needs_background": "light"
          }
        },
        {
          "output_type": "stream",
          "text": [
            "11980\n",
            "range(0, 8)\n"
          ],
          "name": "stdout"
        },
        {
          "output_type": "display_data",
          "data": {
            "image/png": "[encoded data removed]",
            "text/plain": [
              "<Figure size 432x288 with 1 Axes>"
            ]
          },
          "metadata": {
            "tags": [],
            "needs_background": "light"
          }
        },
        {
          "output_type": "stream",
          "text": [
            "range(0, 8)\n"
          ],
          "name": "stdout"
        },
        {
          "output_type": "display_data",
          "data": {
            "image/png": "[encoded data removed]",
            "text/plain": [
              "<Figure size 432x288 with 1 Axes>"
            ]
          },
          "metadata": {
            "tags": [],
            "needs_background": "light"
          }
        }
      ]
    },
    {
      "cell_type": "code",
      "metadata": {
        "id": "UsIx-nBvNnM1",
        "colab_type": "code",
        "colab": {
          "base_uri": "https://localhost:8080/",
          "height": 1000
        },
        "outputId": "4958055d-1515-4aa0-dff3-c20a6c1bd797"
      },
      "source": [
        "results(X_test2, Y_test2, Y_Pred_Stack_RF_2, 8, sclf1)"
      ],
      "execution_count": 76,
      "outputs": [
        {
          "output_type": "stream",
          "text": [
            "0.9927556818181819\n",
            "              precision    recall  f1-score   support\n",
            "\n",
            "           0  1.00000000 1.00000000 1.00000000       887\n",
            "           1  1.00000000 1.00000000 1.00000000       883\n",
            "           2  1.00000000 0.99772210 0.99885975       878\n",
            "           3  0.99887260 0.99662542 0.99774775       889\n",
            "           4  0.99887767 0.99887767 0.99887767       891\n",
            "           5  0.96196868 0.98510882 0.97340125       873\n",
            "           6  0.98377752 0.96477273 0.97418244       880\n",
            "           7  0.99883586 0.99883586 0.99883586       859\n",
            "\n",
            "    accuracy                      0.99275568      7040\n",
            "   macro avg  0.99279154 0.99274282 0.99273809      7040\n",
            "weighted avg  0.99282963 0.99275568 0.99276370      7040\n",
            "\n"
          ],
          "name": "stdout"
        },
        {
          "output_type": "display_data",
          "data": {
            "image/png": "[encoded data removed]",
            "text/plain": [
              "<Figure size 720x576 with 2 Axes>"
            ]
          },
          "metadata": {
            "tags": [],
            "needs_background": "light"
          }
        },
        {
          "output_type": "stream",
          "text": [
            "6989\n",
            "range(0, 8)\n"
          ],
          "name": "stdout"
        },
        {
          "output_type": "display_data",
          "data": {
            "image/png": "[encoded data removed]",
            "text/plain": [
              "<Figure size 432x288 with 1 Axes>"
            ]
          },
          "metadata": {
            "tags": [],
            "needs_background": "light"
          }
        },
        {
          "output_type": "stream",
          "text": [
            "range(0, 8)\n"
          ],
          "name": "stdout"
        },
        {
          "output_type": "display_data",
          "data": {
            "image/png": "[encoded data removed]",
            "text/plain": [
              "<Figure size 432x288 with 1 Axes>"
            ]
          },
          "metadata": {
            "tags": [],
            "needs_background": "light"
          }
        }
      ]
    },
    {
      "cell_type": "code",
      "metadata": {
        "id": "SOBOoUtUOLSn",
        "colab_type": "code",
        "colab": {}
      },
      "source": [
        ""
      ],
      "execution_count": 76,
      "outputs": []
    },
    {
      "cell_type": "code",
      "metadata": {
        "id": "gYVqLCPGNINW",
        "colab_type": "code",
        "colab": {
          "base_uri": "https://localhost:8080/",
          "height": 1000
        },
        "outputId": "f4c98de2-8800-4e99-db48-c0b298b0d5e1"
      },
      "source": [
        "results(X_test1, Y_test1, Y_Pred_Stack_MLP_1, 8, sclf2)"
      ],
      "execution_count": 77,
      "outputs": [
        {
          "output_type": "stream",
          "text": [
            "0.9829881656804734\n",
            "              precision    recall  f1-score   support\n",
            "\n",
            "           0  0.99541585 0.99934254 0.99737533      1521\n",
            "           1  1.00000000 1.00000000 1.00000000      1521\n",
            "           2  0.99934297 1.00000000 0.99967138      1521\n",
            "           3  0.99601329 0.98553583 0.99074686      1521\n",
            "           4  1.00000000 1.00000000 1.00000000      1521\n",
            "           5  0.92811297 0.95069034 0.93926600      1521\n",
            "           6  0.94574682 0.92833662 0.93696085      1521\n",
            "           7  1.00000000 1.00000000 1.00000000      1521\n",
            "\n",
            "    accuracy                      0.98298817     12168\n",
            "   macro avg  0.98307899 0.98298817 0.98300255     12168\n",
            "weighted avg  0.98307899 0.98298817 0.98300255     12168\n",
            "\n"
          ],
          "name": "stdout"
        },
        {
          "output_type": "display_data",
          "data": {
            "image/png": "[encoded data removed]",
            "text/plain": [
              "<Figure size 720x576 with 2 Axes>"
            ]
          },
          "metadata": {
            "tags": [],
            "needs_background": "light"
          }
        },
        {
          "output_type": "stream",
          "text": [
            "11961\n",
            "range(0, 8)\n"
          ],
          "name": "stdout"
        },
        {
          "output_type": "display_data",
          "data": {
            "image/png": "[encoded data removed]",
            "text/plain": [
              "<Figure size 432x288 with 1 Axes>"
            ]
          },
          "metadata": {
            "tags": [],
            "needs_background": "light"
          }
        },
        {
          "output_type": "stream",
          "text": [
            "range(0, 8)\n"
          ],
          "name": "stdout"
        },
        {
          "output_type": "display_data",
          "data": {
            "image/png": "[encoded data removed]",
            "text/plain": [
              "<Figure size 432x288 with 1 Axes>"
            ]
          },
          "metadata": {
            "tags": [],
            "needs_background": "light"
          }
        }
      ]
    },
    {
      "cell_type": "code",
      "metadata": {
        "id": "eMOer14mNIgO",
        "colab_type": "code",
        "colab": {
          "base_uri": "https://localhost:8080/",
          "height": 1000
        },
        "outputId": "a3b63c8d-45df-41a7-9e46-fe7945b271e8"
      },
      "source": [
        "results(X_test2, Y_test2, Y_Pred_Stack_MLP_2, 8, sclf2)"
      ],
      "execution_count": 78,
      "outputs": [
        {
          "output_type": "stream",
          "text": [
            "0.9921875\n",
            "              precision    recall  f1-score   support\n",
            "\n",
            "           0  1.00000000 1.00000000 1.00000000       887\n",
            "           1  1.00000000 1.00000000 1.00000000       883\n",
            "           2  1.00000000 0.99886105 0.99943020       878\n",
            "           3  0.99775028 0.99775028 0.99775028       889\n",
            "           4  1.00000000 0.99887767 0.99943852       891\n",
            "           5  0.95560488 0.98625430 0.97068771       873\n",
            "           6  0.98593200 0.95568182 0.97057126       880\n",
            "           7  0.99883721 1.00000000 0.99941827       859\n",
            "\n",
            "    accuracy                      0.99218750      7040\n",
            "   macro avg  0.99226555 0.99217814 0.99216203      7040\n",
            "weighted avg  0.99231028 0.99218750 0.99218932      7040\n",
            "\n"
          ],
          "name": "stdout"
        },
        {
          "output_type": "display_data",
          "data": {
            "image/png": "[encoded data removed]",
            "text/plain": [
              "<Figure size 720x576 with 2 Axes>"
            ]
          },
          "metadata": {
            "tags": [],
            "needs_background": "light"
          }
        },
        {
          "output_type": "stream",
          "text": [
            "6985\n",
            "range(0, 8)\n"
          ],
          "name": "stdout"
        },
        {
          "output_type": "display_data",
          "data": {
            "image/png": "[encoded data removed]",
            "text/plain": [
              "<Figure size 432x288 with 1 Axes>"
            ]
          },
          "metadata": {
            "tags": [],
            "needs_background": "light"
          }
        },
        {
          "output_type": "stream",
          "text": [
            "range(0, 8)\n"
          ],
          "name": "stdout"
        },
        {
          "output_type": "display_data",
          "data": {
            "image/png": "[encoded data removed]",
            "text/plain": [
              "<Figure size 432x288 with 1 Axes>"
            ]
          },
          "metadata": {
            "tags": [],
            "needs_background": "light"
          }
        }
      ]
    },
    {
      "cell_type": "code",
      "metadata": {
        "id": "G6f0fnclNIu3",
        "colab_type": "code",
        "colab": {}
      },
      "source": [
        ""
      ],
      "execution_count": 63,
      "outputs": []
    },
    {
      "cell_type": "code",
      "metadata": {
        "id": "n5gfRe-UNJAa",
        "colab_type": "code",
        "colab": {}
      },
      "source": [
        ""
      ],
      "execution_count": 63,
      "outputs": []
    }
  ]
}