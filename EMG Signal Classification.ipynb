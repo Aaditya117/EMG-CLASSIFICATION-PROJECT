{
 "cells": [
  {
   "cell_type": "markdown",
   "metadata": {},
   "source": [
    "# ML MODELS FOR EMG CLASSIFICATION"
   ]
  },
  {
   "cell_type": "markdown",
   "metadata": {},
   "source": [
    "# Importing the libraries"
   ]
  },
  {
   "cell_type": "code",
   "execution_count": 1,
   "metadata": {},
   "outputs": [],
   "source": [
    "# Importing the libraries\n",
    "import numpy as np\n",
    "import pandas as pd\n",
    "import seaborn as sn\n",
    "import pandas as pd\n",
    "import matplotlib.pyplot as plt"
   ]
  },
  {
   "cell_type": "markdown",
   "metadata": {},
   "source": [
    "# Importing the dataset"
   ]
  },
  {
   "cell_type": "code",
   "execution_count": 2,
   "metadata": {},
   "outputs": [],
   "source": [
    "# Importing the train_set\n",
    "train_dataset = pd.read_csv('trainset_60.csv')\n",
    "X_train = train_dataset.iloc[:, :-1].values\n",
    "y_train = train_dataset.iloc[:, -1].values"
   ]
  },
  {
   "cell_type": "code",
   "execution_count": 3,
   "metadata": {},
   "outputs": [],
   "source": [
    "# Importing the dev_set\n",
    "dev_dataset = pd.read_csv('validate_20.csv')\n",
    "X_dev = dev_dataset.iloc[:, :-1].values\n",
    "y_dev = dev_dataset.iloc[:, -1].values"
   ]
  },
  {
   "cell_type": "code",
   "execution_count": 4,
   "metadata": {},
   "outputs": [],
   "source": [
    "# Importing the test_set\n",
    "test_dataset = pd.read_csv('testset_20.csv')\n",
    "X_test = test_dataset.iloc[:, :-1].values\n",
    "y_test = test_dataset.iloc[:, -1].values"
   ]
  },
  {
   "cell_type": "markdown",
   "metadata": {},
   "source": [
    "# Feature Scaling"
   ]
  },
  {
   "cell_type": "code",
   "execution_count": 5,
   "metadata": {},
   "outputs": [],
   "source": [
    "# Feature Scaling\n",
    "from sklearn.preprocessing import StandardScaler\n",
    "sc = StandardScaler()\n",
    "X_train = sc.fit_transform(X_train)\n",
    "X_dev = sc.fit_transform(X_dev)\n",
    "X_test = sc.transform(X_test)"
   ]
  },
  {
   "cell_type": "markdown",
   "metadata": {},
   "source": [
    "# Dataset Analysis"
   ]
  },
  {
   "cell_type": "code",
   "execution_count": 6,
   "metadata": {},
   "outputs": [
    {
     "name": "stdout",
     "output_type": "stream",
     "text": [
      "[[-1.90815765 -2.07145225 -1.65976075 ...  0.28777429  0.10169213\n",
      "  -1.28297814]\n",
      " [-1.54060044 -1.75309426 -1.23159258 ...  0.48136172 -0.06873272\n",
      "  -1.59648631]\n",
      " [-1.57129911 -2.08981807 -1.46895219 ...  0.27404184 -0.73910521\n",
      "  -0.12443136]\n",
      " ...\n",
      " [ 2.13391584  1.78339061  2.18649685 ... -0.3352874   0.51414358\n",
      "  -1.78324017]\n",
      " [ 1.67669939  1.44978949  1.9996626  ...  0.09095603  0.40732187\n",
      "  -1.40817977]\n",
      " [ 1.67393146  1.64460677  2.12679152 ...  0.09353653  0.32284431\n",
      "  -2.13229583]]\n"
     ]
    }
   ],
   "source": [
    "print(X_train)"
   ]
  },
  {
   "cell_type": "code",
   "execution_count": 7,
   "metadata": {},
   "outputs": [
    {
     "name": "stdout",
     "output_type": "stream",
     "text": [
      "[[-1.61878804 -1.96346788 -1.51493239 ...  0.42753289 -0.58065494\n",
      "  -1.47258398]\n",
      " [-1.11283496 -2.08258309 -1.4206058  ...  0.42297098 -0.13847814\n",
      "  -0.29632955]\n",
      " [-0.91098495 -1.98802451 -1.42193222 ...  0.29841291  0.37169066\n",
      "  -0.88285218]\n",
      " ...\n",
      " [ 1.87246561  2.00294689  2.3221959  ... -0.08439382  0.33340883\n",
      "  -2.70096261]\n",
      " [ 1.64101472  1.78724614  2.54077962 ... -0.55195137  0.22116299\n",
      "  -1.68610678]\n",
      " [ 1.59631904  1.61827611  2.17404237 ... -0.06295117  0.25410034\n",
      "  -1.93063644]]\n"
     ]
    }
   ],
   "source": [
    "print(X_dev)"
   ]
  },
  {
   "cell_type": "code",
   "execution_count": 8,
   "metadata": {},
   "outputs": [
    {
     "name": "stdout",
     "output_type": "stream",
     "text": [
      "[[-0.91792421 -1.83075678 -1.4311876  ...  0.20600426  0.34229093\n",
      "  -1.17610739]\n",
      " [-0.84517292 -1.92407844 -1.40438908 ...  0.25326965 -0.85664689\n",
      "  -1.03121374]\n",
      " [-1.35877182 -2.07581788 -1.40230985 ...  0.43330661 -0.30244812\n",
      "  -1.47309306]\n",
      " ...\n",
      " [ 1.61851352  1.40961467  2.12820158 ...  0.03408372  0.15318471\n",
      "  -2.18941563]\n",
      " [ 1.66925428  1.64115399  2.33362096 ... -0.31589099  0.55278223\n",
      "  -2.17871956]\n",
      " [ 1.9255842   1.62686538  2.61796835 ...  0.08216561  0.47762526\n",
      "  -1.65086725]]\n"
     ]
    }
   ],
   "source": [
    "print(X_test)"
   ]
  },
  {
   "cell_type": "code",
   "execution_count": 9,
   "metadata": {},
   "outputs": [
    {
     "data": {
      "text/plain": [
       "(19776, 42)"
      ]
     },
     "execution_count": 9,
     "metadata": {},
     "output_type": "execute_result"
    }
   ],
   "source": [
    "np.shape(X_train)"
   ]
  },
  {
   "cell_type": "code",
   "execution_count": 10,
   "metadata": {},
   "outputs": [
    {
     "data": {
      "text/plain": [
       "(7040, 42)"
      ]
     },
     "execution_count": 10,
     "metadata": {},
     "output_type": "execute_result"
    }
   ],
   "source": [
    "np.shape(X_dev)"
   ]
  },
  {
   "cell_type": "code",
   "execution_count": 11,
   "metadata": {},
   "outputs": [
    {
     "data": {
      "text/plain": [
       "(7040, 42)"
      ]
     },
     "execution_count": 11,
     "metadata": {},
     "output_type": "execute_result"
    }
   ],
   "source": [
    "np.shape(X_test)"
   ]
  },
  {
   "cell_type": "code",
   "execution_count": 12,
   "metadata": {},
   "outputs": [
    {
     "data": {
      "text/plain": [
       "(19776,)"
      ]
     },
     "execution_count": 12,
     "metadata": {},
     "output_type": "execute_result"
    }
   ],
   "source": [
    "np.shape(y_train)"
   ]
  },
  {
   "cell_type": "code",
   "execution_count": 13,
   "metadata": {},
   "outputs": [
    {
     "data": {
      "text/plain": [
       "array([1, 1, 1, ..., 8, 8, 8], dtype=int64)"
      ]
     },
     "execution_count": 13,
     "metadata": {},
     "output_type": "execute_result"
    }
   ],
   "source": [
    "y_train"
   ]
  },
  {
   "cell_type": "code",
   "execution_count": 14,
   "metadata": {},
   "outputs": [
    {
     "data": {
      "text/plain": [
       "(7040,)"
      ]
     },
     "execution_count": 14,
     "metadata": {},
     "output_type": "execute_result"
    }
   ],
   "source": [
    "np.shape(y_dev)"
   ]
  },
  {
   "cell_type": "code",
   "execution_count": 15,
   "metadata": {},
   "outputs": [
    {
     "data": {
      "text/plain": [
       "(7040,)"
      ]
     },
     "execution_count": 15,
     "metadata": {},
     "output_type": "execute_result"
    }
   ],
   "source": [
    "np.shape(y_test)"
   ]
  },
  {
   "cell_type": "code",
   "execution_count": 16,
   "metadata": {},
   "outputs": [
    {
     "data": {
      "text/plain": [
       "array([1, 1, 1, ..., 8, 8, 8], dtype=int64)"
      ]
     },
     "execution_count": 16,
     "metadata": {},
     "output_type": "execute_result"
    }
   ],
   "source": [
    "y_test"
   ]
  },
  {
   "cell_type": "markdown",
   "metadata": {},
   "source": [
    "# 1. SVM Classifier"
   ]
  },
  {
   "cell_type": "markdown",
   "metadata": {},
   "source": [
    "# Model Tuning"
   ]
  },
  {
   "cell_type": "code",
   "execution_count": 17,
   "metadata": {},
   "outputs": [
    {
     "name": "stdout",
     "output_type": "stream",
     "text": [
      "kernel:linear\n",
      "accuracy:0.9715909090909091\n",
      "f1_score:0.9716775756851472\n",
      "cm:[[894   0   0   0   0   0   0   0]\n",
      " [  0 882   0   0   0   0   0   0]\n",
      " [  0   0 876   2   0   0   0   0]\n",
      " [  0   0   7 827   1   3  42   1]\n",
      " [  0   0   1   0 883   0   0   0]\n",
      " [  0   1   8   6   0 874   6   0]\n",
      " [  0   0   0  50   0  10 818   0]\n",
      " [  1   0  21  40   0   0   0 786]]\n",
      "--------------------------------------------------------------------------------------------------------------------\n",
      "kernel:poly\n",
      "accuracy:0.9599431818181818\n",
      "f1_score:0.9601651369124885\n",
      "cm:[[886   0   1   1   0   6   0   0]\n",
      " [  0 878   0   1   0   3   0   0]\n",
      " [  0   0 870   3   0   5   0   0]\n",
      " [  0   0   2 794   2  26  57   0]\n",
      " [  0   0   2   0 875   7   0   0]\n",
      " [  0   3   4   9   0 870   9   0]\n",
      " [  0   0   0  44   0  37 797   0]\n",
      " [  0   0   2  55   0   2   1 788]]\n",
      "--------------------------------------------------------------------------------------------------------------------\n",
      "kernel:rbf\n",
      "accuracy:0.9789772727272728\n",
      "f1_score:0.9789483890065991\n",
      "cm:[[894   0   0   0   0   0   0   0]\n",
      " [  0 882   0   0   0   0   0   0]\n",
      " [  0   0 877   1   0   0   0   0]\n",
      " [  0   0   3 823   3   8  44   0]\n",
      " [  0   0   1   0 883   0   0   0]\n",
      " [  0   2   3   5   0 881   4   0]\n",
      " [  0   0   0  36   0  15 827   0]\n",
      " [  0   0  12  11   0   0   0 825]]\n",
      "--------------------------------------------------------------------------------------------------------------------\n",
      "kernel:sigmoid\n",
      "accuracy:0.8592329545454546\n",
      "f1_score:0.8584428894925997\n",
      "cm:[[853   0  29   2  10   0   0   0]\n",
      " [  0 855   0   4   5  13   0   5]\n",
      " [ 88   1 695  21   6   4   0  63]\n",
      " [ 19   4  22 584   4  13  82 153]\n",
      " [ 27   3   5   2 828  18   1   0]\n",
      " [  0  24  10  69  16 767   9   0]\n",
      " [  4   0   0 133   6  10 713  12]\n",
      " [ 26   0  49   1   0   0  18 754]]\n",
      "--------------------------------------------------------------------------------------------------------------------\n"
     ]
    }
   ],
   "source": [
    "from sklearn.svm import SVC\n",
    "\n",
    "Kernels = ['linear', 'poly', 'rbf', 'sigmoid']\n",
    "\n",
    "for i in range(len(Kernels)):\n",
    "   #Preliminary Classification Model\n",
    "   classifier_SVM = SVC(kernel = Kernels[i] , class_weight = 'balanced' , random_state = 0)\n",
    "    \n",
    "   #fit model to dev set   \n",
    "   classifier_SVM.fit(X_train, y_train)\n",
    "   \n",
    "   #predict results for dev set\n",
    "   y_pred_SVM = classifier_SVM.predict(X_dev)\n",
    "\n",
    "   #Cross Validation metrics\n",
    "   from sklearn.metrics import confusion_matrix, accuracy_score, f1_score\n",
    "    \n",
    "   #confusion matrix   \n",
    "   cm = confusion_matrix(y_dev, y_pred_SVM)\n",
    "\n",
    "   #accuracy\n",
    "   accuracy = accuracy_score(y_dev, y_pred_SVM)\n",
    "\n",
    "   #F1 score    \n",
    "   f1_score = f1_score(y_dev, y_pred_SVM, average='weighted')\n",
    "\n",
    "   print('kernel:{}'.format(Kernels[i]))\n",
    "   print(\"accuracy:{}\".format(accuracy))   \n",
    "   print(\"f1_score:{}\".format(f1_score))\n",
    "   print(\"cm:{}\".format(cm))\n",
    "   print(\"--------------------------------------------------------------------------------------------------------------------\")"
   ]
  },
  {
   "cell_type": "markdown",
   "metadata": {},
   "source": [
    "# MODEL WITH SELECTED PARAMETERS"
   ]
  },
  {
   "cell_type": "code",
   "execution_count": 18,
   "metadata": {},
   "outputs": [],
   "source": [
    "#model was tuned to check for best params and it was found that\n",
    "#among all the Kernels checked the rbf kernel had the best\n",
    "#accuracy and F1 Score while fitting the model in dev set....."
   ]
  },
  {
   "cell_type": "code",
   "execution_count": 19,
   "metadata": {},
   "outputs": [],
   "source": [
    "#TRAINING DATA(for final model): X_train_ovr: X_train + X_dev, y_train_ovr=y_train+y_dev\n",
    "#TEST DATA: X_test,y_test\n",
    "X_train_ovr = np.concatenate((X_train,X_dev),0)"
   ]
  },
  {
   "cell_type": "code",
   "execution_count": 20,
   "metadata": {},
   "outputs": [
    {
     "data": {
      "text/plain": [
       "(26816, 42)"
      ]
     },
     "execution_count": 20,
     "metadata": {},
     "output_type": "execute_result"
    }
   ],
   "source": [
    "np.shape(X_train_ovr)"
   ]
  },
  {
   "cell_type": "code",
   "execution_count": 21,
   "metadata": {},
   "outputs": [],
   "source": [
    "y_train_ovr = np.concatenate((y_train,y_dev),0)"
   ]
  },
  {
   "cell_type": "code",
   "execution_count": 22,
   "metadata": {},
   "outputs": [
    {
     "data": {
      "text/plain": [
       "(26816,)"
      ]
     },
     "execution_count": 22,
     "metadata": {},
     "output_type": "execute_result"
    }
   ],
   "source": [
    "np.shape(y_train_ovr)"
   ]
  },
  {
   "cell_type": "code",
   "execution_count": 23,
   "metadata": {},
   "outputs": [
    {
     "data": {
      "text/plain": [
       "SVC(C=1.0, break_ties=False, cache_size=200, class_weight='balanced', coef0=0.0,\n",
       "    decision_function_shape='ovr', degree=3, gamma='scale', kernel='rbf',\n",
       "    max_iter=-1, probability=False, random_state=0, shrinking=True, tol=0.001,\n",
       "    verbose=False)"
      ]
     },
     "execution_count": 23,
     "metadata": {},
     "output_type": "execute_result"
    }
   ],
   "source": [
    "# Training the Kernel SVM model on the Training set\n",
    "from sklearn.svm import SVC\n",
    "classifier_SVM = SVC(kernel = 'rbf', class_weight = 'balanced', random_state = 0)\n",
    "classifier_SVM.fit(X_train_ovr, y_train_ovr)"
   ]
  },
  {
   "cell_type": "markdown",
   "metadata": {},
   "source": [
    "# Predicting results for Test Set"
   ]
  },
  {
   "cell_type": "code",
   "execution_count": 24,
   "metadata": {},
   "outputs": [],
   "source": [
    "# Predicting the Test set results\n",
    "y_results_SVM = classifier_SVM.predict(X_test)"
   ]
  },
  {
   "cell_type": "code",
   "execution_count": 25,
   "metadata": {},
   "outputs": [
    {
     "name": "stdout",
     "output_type": "stream",
     "text": [
      "[[1 1]\n",
      " [1 1]\n",
      " [1 1]\n",
      " ...\n",
      " [8 8]\n",
      " [8 8]\n",
      " [8 8]]\n"
     ]
    }
   ],
   "source": [
    "print(np.concatenate((y_results_SVM.reshape(len(y_results_SVM),1), y_test.reshape(len(y_test),1)),1))"
   ]
  },
  {
   "cell_type": "markdown",
   "metadata": {},
   "source": [
    "# Cross Validation For SVM Classification Model"
   ]
  },
  {
   "cell_type": "code",
   "execution_count": 26,
   "metadata": {},
   "outputs": [
    {
     "name": "stdout",
     "output_type": "stream",
     "text": [
      "accuracy:0.9863636363636363\n",
      "f1_score:0.9863337694779619\n",
      "recall_score:0.9863636363636363\n",
      "precision_score:0.9863636363636363\n"
     ]
    },
    {
     "data": {
      "image/png": "[encoded data removed]",
      "text/plain": [
       "<Figure size 720x576 with 2 Axes>"
      ]
     },
     "metadata": {
      "needs_background": "light"
     },
     "output_type": "display_data"
    }
   ],
   "source": [
    "#Cross Validation metrics\n",
    "from sklearn.metrics import confusion_matrix, accuracy_score, f1_score, recall_score,precision_score\n",
    "    \n",
    "#confusion matrix   \n",
    "cm_svm = confusion_matrix(y_test, y_results_SVM)\n",
    "array = cm_svm \n",
    "df_cm = pd.DataFrame(array, index = [i for i in \"12345678\"],\n",
    "                  columns = [i for i in \"12345678\"])\n",
    "plt.figure(figsize = (10,8))\n",
    "sn.heatmap(df_cm, annot=True)\n",
    "#accuracy\n",
    "accuracy_svm = accuracy_score(y_test, y_results_SVM)\n",
    "print(\"accuracy:{}\".format(accuracy_svm))\n",
    "#F1 score    \n",
    "f1_score_svm = f1_score(y_test, y_results_SVM, average='weighted')\n",
    "print(\"f1_score:{}\".format(f1_score_svm))\n",
    "#Recall score\n",
    "recall_score_svm = recall_score(y_test, y_results_SVM, average='micro')\n",
    "print(\"recall_score:{}\".format(recall_score_svm))\n",
    "#Precision score\n",
    "precision_score_svm = precision_score(y_test, y_results_SVM, average='micro')\n",
    "print(\"precision_score:{}\".format(precision_score_svm))"
   ]
  },
  {
   "cell_type": "code",
   "execution_count": 27,
   "metadata": {},
   "outputs": [
    {
     "name": "stdout",
     "output_type": "stream",
     "text": [
      "              precision    recall  f1-score   support\n",
      "\n",
      "           1  1.00000000 1.00000000 1.00000000       879\n",
      "           2  0.99887514 1.00000000 0.99943725       888\n",
      "           3  0.99432463 0.99772210 0.99602047       878\n",
      "           4  0.95348837 0.95986622 0.95666667       897\n",
      "           5  1.00000000 0.99885584 0.99942759       874\n",
      "           6  0.98540965 0.99433749 0.98985344       883\n",
      "           7  0.96031746 0.94320713 0.95168539       898\n",
      "           8  1.00000000 0.99881376 0.99940653       843\n",
      "\n",
      "    accuracy                      0.98636364      7040\n",
      "   macro avg  0.98655191 0.98660032 0.98656217      7040\n",
      "weighted avg  0.98633225 0.98636364 0.98633377      7040\n",
      "\n"
     ]
    }
   ],
   "source": [
    "from sklearn import metrics\n",
    "print(metrics.classification_report(y_test, y_results_SVM, digits = 8))"
   ]
  },
  {
   "cell_type": "markdown",
   "metadata": {},
   "source": [
    "---"
   ]
  },
  {
   "cell_type": "markdown",
   "metadata": {},
   "source": [
    "# 2.SGD Classifier"
   ]
  },
  {
   "cell_type": "markdown",
   "metadata": {},
   "source": [
    "# Model Tuning"
   ]
  },
  {
   "cell_type": "code",
   "execution_count": 28,
   "metadata": {
    "scrolled": true
   },
   "outputs": [
    {
     "name": "stdout",
     "output_type": "stream",
     "text": [
      "loss:hinge\n",
      "accuracy:0.9676136363636364\n",
      "f1_score:0.9675982765702676\n",
      "cm:[[883   0   6   2   0   3   0   0]\n",
      " [  0 873   2   3   0   4   0   0]\n",
      " [  0   0 867   8   3   0   0   0]\n",
      " [  0   0   6 795   0  11  57  12]\n",
      " [  0   0   1   0 882   1   0   0]\n",
      " [  0   4  14  13   1 851  12   0]\n",
      " [  0   0   0  32   1  19 826   0]\n",
      " [  0   0   1   9   0   0   3 835]]\n",
      "--------------------------------------------------------------------------------------------------------------------\n",
      "loss:log\n",
      "accuracy:0.9677556818181818\n",
      "f1_score:0.967748593467189\n",
      "cm:[[885   0   4   2   0   3   0   0]\n",
      " [  0 873   2   3   0   4   0   0]\n",
      " [  0   0 865  10   2   1   0   0]\n",
      " [  0   0   9 801   0  11  48  12]\n",
      " [  0   0   1   0 882   1   0   0]\n",
      " [  0   4  12  10   0 857  12   0]\n",
      " [  0   0   0  39   1  23 815   0]\n",
      " [  0   0   1   9   0   0   3 835]]\n",
      "--------------------------------------------------------------------------------------------------------------------\n",
      "loss:modified_huber\n",
      "accuracy:0.9637784090909091\n",
      "f1_score:0.9637868571729573\n",
      "cm:[[881   0   7   3   0   3   0   0]\n",
      " [  0 872   2   3   0   5   0   0]\n",
      " [  0   0 865   8   5   0   0   0]\n",
      " [  0   0  13 807   0  13  36  12]\n",
      " [  0   0   3   0 880   1   0   0]\n",
      " [  0   4  21  10   1 844  15   0]\n",
      " [  0   0   0  56   0  22 800   0]\n",
      " [  0   0   1   9   0   0   2 836]]\n",
      "--------------------------------------------------------------------------------------------------------------------\n"
     ]
    },
    {
     "name": "stderr",
     "output_type": "stream",
     "text": [
      "C:\\Users\\user\\anaconda3\\lib\\site-packages\\sklearn\\linear_model\\_stochastic_gradient.py:557: ConvergenceWarning: Maximum number of iteration reached before convergence. Consider increasing max_iter to improve the fit.\n",
      "  ConvergenceWarning)\n"
     ]
    },
    {
     "name": "stdout",
     "output_type": "stream",
     "text": [
      "loss:squared_hinge\n",
      "accuracy:0.9369318181818181\n",
      "f1_score:0.938104445429248\n",
      "cm:[[881   0   2  10   0   1   0   0]\n",
      " [  0 872   0  10   0   0   0   0]\n",
      " [  0   0 824  32   6  16   0   0]\n",
      " [  0   0  22 783   0   7  57  12]\n",
      " [  0   0   0   7 877   0   0   0]\n",
      " [  0   4   6 127   2 734  22   0]\n",
      " [  0   0   0  76   0  12 790   0]\n",
      " [  0   0   1  10   0   0   2 835]]\n",
      "--------------------------------------------------------------------------------------------------------------------\n",
      "loss:perceptron\n",
      "accuracy:0.9592329545454545\n",
      "f1_score:0.9595209266042738\n",
      "cm:[[880   0   4   7   0   3   0   0]\n",
      " [  0 871   0   7   0   4   0   0]\n",
      " [  0   0 862  12   4   0   0   0]\n",
      " [  0   0   9 790   0   6  64  12]\n",
      " [  0   0   0   9 875   0   0   0]\n",
      " [  0   4  13  48   1 818  11   0]\n",
      " [  0   0   0  42   1  13 822   0]\n",
      " [  0   0   1   9   0   0   3 835]]\n",
      "--------------------------------------------------------------------------------------------------------------------\n",
      "loss:squared_loss\n",
      "accuracy:0.9303977272727273\n",
      "f1_score:0.9292355659165723\n",
      "cm:[[888   0   5   0   1   0   0   0]\n",
      " [  0 874   5   1   2   0   0   0]\n",
      " [ 11   1 842  12  10   1   0   1]\n",
      " [  0   2  11 737   4  11  97  19]\n",
      " [  0   0   0   0 881   3   0   0]\n",
      " [  0  38  29   4  68 693  63   0]\n",
      " [  0   0   0  44   3  32 799   0]\n",
      " [  0   0   3   6   0   3   0 836]]\n",
      "--------------------------------------------------------------------------------------------------------------------\n",
      "loss:huber\n",
      "accuracy:0.6813920454545455\n",
      "f1_score:0.6156022803951237\n",
      "cm:[[878   0   1   0  13   0   0   2]\n",
      " [  0 880   0   0   2   0   0   0]\n",
      " [ 79  28 653   0  61   0   0  57]\n",
      " [  2  93   8 492  71   7   2 206]\n",
      " [  0   0   0   0 884   0   0   0]\n",
      " [  3 276  38   4 443 121   1   9]\n",
      " [  9  74   9 294 245  40  41 166]\n",
      " [  0   0   0   0   0   0   0 848]]\n",
      "--------------------------------------------------------------------------------------------------------------------\n",
      "loss:epsilon_insensitive\n",
      "accuracy:0.6994318181818182\n",
      "f1_score:0.6403094870574667\n",
      "cm:[[842   0  30   0  22   0   0   0]\n",
      " [  0 882   0   0   0   0   0   0]\n",
      " [  4  14 835   0  22   1   0   2]\n",
      " [ 90  56 390  90  73  36 123  23]\n",
      " [  0   0   0   0 884   0   0   0]\n",
      " [  1 346  77   0 266 121  84   0]\n",
      " [ 60  25  19  32 123  89 530   0]\n",
      " [ 67   0   2   0   6   0  33 740]]\n",
      "--------------------------------------------------------------------------------------------------------------------\n",
      "loss:squared_epsilon_insensitive\n",
      "accuracy:0.9292613636363637\n",
      "f1_score:0.9293449670488464\n",
      "cm:[[890   0   3   0   1   0   0   0]\n",
      " [  0 873   2   0   0   7   0   0]\n",
      " [  0   0 811  28  14  16   1   8]\n",
      " [  0   0   5 695   2  11 146  22]\n",
      " [  0   0   3   0 879   2   0   0]\n",
      " [  0   9  21   5  21 797  42   0]\n",
      " [  0   0   0  31   1  53 793   0]\n",
      " [  0   0   0  13   0   5  26 804]]\n",
      "--------------------------------------------------------------------------------------------------------------------\n"
     ]
    }
   ],
   "source": [
    "from sklearn.linear_model import SGDClassifier\n",
    "\n",
    "loss = ['hinge', 'log', 'modified_huber', 'squared_hinge','perceptron','squared_loss', 'huber','epsilon_insensitive',\n",
    "        'squared_epsilon_insensitive']\n",
    "\n",
    "for i in range(len(loss)):\n",
    "   #Preliminary Classification Model\n",
    "   classifier_SGD = SGDClassifier(loss= loss[i], penalty='l2',alpha=0.0001,fit_intercept=True,max_iter=1000,random_state = 0,\n",
    "                                  tol=0.001,shuffle=True,epsilon=0.1,learning_rate='optimal', eta0=0.0,class_weight='balanced')\n",
    "                                  \n",
    "    \n",
    "   #fit model to dev set   \n",
    "   classifier_SGD.fit(X_train, y_train)\n",
    "   \n",
    "   #predict results for dev set\n",
    "   y_pred_SGD = classifier_SGD.predict(X_dev)\n",
    "\n",
    "   #Cross Validation metrics\n",
    "   from sklearn.metrics import confusion_matrix, accuracy_score, f1_score\n",
    "    \n",
    "   #confusion matrix   \n",
    "   cm = confusion_matrix(y_dev, y_pred_SGD)\n",
    "\n",
    "   #accuracy\n",
    "   accuracy = accuracy_score(y_dev, y_pred_SGD)\n",
    "\n",
    "   #F1 score    \n",
    "   f1_score = f1_score(y_dev, y_pred_SGD, average='weighted')\n",
    "\n",
    "   print('loss:{}'.format(loss[i]))\n",
    "   print(\"accuracy:{}\".format(accuracy))   \n",
    "   print(\"f1_score:{}\".format(f1_score))\n",
    "   print(\"cm:{}\".format(cm))\n",
    "   print(\"--------------------------------------------------------------------------------------------------------------------\")"
   ]
  },
  {
   "cell_type": "markdown",
   "metadata": {},
   "source": [
    "# MODEL WITH SELECTED PARAMETERS"
   ]
  },
  {
   "cell_type": "code",
   "execution_count": 29,
   "metadata": {},
   "outputs": [],
   "source": [
    "#best performance was observed for log loss"
   ]
  },
  {
   "cell_type": "code",
   "execution_count": 30,
   "metadata": {},
   "outputs": [
    {
     "data": {
      "text/plain": [
       "SGDClassifier(alpha=0.0001, average=False, class_weight='balanced',\n",
       "              early_stopping=False, epsilon=0.1, eta0=0.0, fit_intercept=True,\n",
       "              l1_ratio=0.15, learning_rate='optimal', loss='log', max_iter=1000,\n",
       "              n_iter_no_change=5, n_jobs=None, penalty='l2', power_t=0.5,\n",
       "              random_state=0, shuffle=True, tol=0.001, validation_fraction=0.1,\n",
       "              verbose=0, warm_start=False)"
      ]
     },
     "execution_count": 30,
     "metadata": {},
     "output_type": "execute_result"
    }
   ],
   "source": [
    "# Training the SGD Classification model on the Training set\n",
    "from sklearn.linear_model import SGDClassifier\n",
    "classifier_SGD = SGDClassifier(loss= 'log', penalty='l2', alpha=0.0001,max_iter=1000, tol=0.001,random_state = 0,\n",
    "                               shuffle=True, epsilon=0.1, learning_rate='optimal',class_weight='balanced')\n",
    "classifier_SGD.fit(X_train_ovr, y_train_ovr)"
   ]
  },
  {
   "cell_type": "markdown",
   "metadata": {},
   "source": [
    "# Predicting results for Test Set"
   ]
  },
  {
   "cell_type": "code",
   "execution_count": 31,
   "metadata": {},
   "outputs": [],
   "source": [
    "# Predicting the Test set results\n",
    "y_results_SGD = classifier_SGD.predict(X_test)"
   ]
  },
  {
   "cell_type": "code",
   "execution_count": 32,
   "metadata": {},
   "outputs": [
    {
     "name": "stdout",
     "output_type": "stream",
     "text": [
      "[[1 1]\n",
      " [1 1]\n",
      " [1 1]\n",
      " ...\n",
      " [8 8]\n",
      " [8 8]\n",
      " [8 8]]\n"
     ]
    }
   ],
   "source": [
    "print(np.concatenate((y_results_SGD.reshape(len(y_results_SGD),1), y_test.reshape(len(y_test),1)),1))"
   ]
  },
  {
   "cell_type": "markdown",
   "metadata": {},
   "source": [
    "# Cross Validation For SGD Classification Model"
   ]
  },
  {
   "cell_type": "code",
   "execution_count": 33,
   "metadata": {},
   "outputs": [
    {
     "name": "stdout",
     "output_type": "stream",
     "text": [
      "accuracy:0.9713068181818182\n",
      "f1_score:0.9713105022611258\n",
      "recall_score:0.9713068181818182\n",
      "precision_score:0.9713068181818182\n"
     ]
    },
    {
     "data": {
      "image/png": "[encoded data removed]",
      "text/plain": [
       "<Figure size 720x576 with 2 Axes>"
      ]
     },
     "metadata": {
      "needs_background": "light"
     },
     "output_type": "display_data"
    }
   ],
   "source": [
    "#Cross Validation metrics\n",
    "from sklearn.metrics import confusion_matrix, accuracy_score, f1_score, recall_score,precision_score\n",
    "    \n",
    "#confusion matrix   \n",
    "cm_sgd = confusion_matrix(y_test, y_results_SGD)\n",
    "array = cm_sgd\n",
    "df_cm = pd.DataFrame(array, index = [i for i in \"12345678\"],\n",
    "                  columns = [i for i in \"12345678\"])\n",
    "plt.figure(figsize = (10,8))\n",
    "sn.heatmap(df_cm, annot=True)\n",
    "#accuracy\n",
    "accuracy_sgd = accuracy_score(y_test, y_results_SGD)\n",
    "print(\"accuracy:{}\".format(accuracy_sgd))\n",
    "#F1 score    \n",
    "f1_score_sgd = f1_score(y_test, y_results_SGD, average='weighted')\n",
    "print(\"f1_score:{}\".format(f1_score_sgd))\n",
    "#Recall score\n",
    "recall_score_sgd = recall_score(y_test, y_results_SGD, average='micro')\n",
    "print(\"recall_score:{}\".format(recall_score_sgd))\n",
    "#Precision score\n",
    "precision_score_sgd = precision_score(y_test, y_results_SGD, average='micro')\n",
    "print(\"precision_score:{}\".format(precision_score_sgd))"
   ]
  },
  {
   "cell_type": "code",
   "execution_count": 34,
   "metadata": {},
   "outputs": [
    {
     "name": "stdout",
     "output_type": "stream",
     "text": [
      "              precision    recall  f1-score   support\n",
      "\n",
      "           1  1.00000000 0.99544937 0.99771950       879\n",
      "           2  0.99773756 0.99324324 0.99548533       888\n",
      "           3  0.97961495 0.98519362 0.98239637       878\n",
      "           4  0.91888889 0.92196210 0.92042293       897\n",
      "           5  0.99429875 0.99771167 0.99600228       874\n",
      "           6  0.96175478 0.96828992 0.96501129       883\n",
      "           7  0.93049327 0.92427617 0.92737430       898\n",
      "           8  0.99047619 0.98695136 0.98871064       843\n",
      "\n",
      "    accuracy                      0.97130682      7040\n",
      "   macro avg  0.97165805 0.97163468 0.97164033      7040\n",
      "weighted avg  0.97132630 0.97130682 0.97131050      7040\n",
      "\n"
     ]
    }
   ],
   "source": [
    "from sklearn import metrics\n",
    "print(metrics.classification_report(y_test, y_results_SGD, digits = 8))"
   ]
  },
  {
   "cell_type": "markdown",
   "metadata": {},
   "source": [
    "-------------------------------------------------------------------------------------------------------------------------------"
   ]
  },
  {
   "cell_type": "markdown",
   "metadata": {},
   "source": [
    "# 3.Logistic Regression"
   ]
  },
  {
   "cell_type": "markdown",
   "metadata": {},
   "source": [
    "# Model Tuning"
   ]
  },
  {
   "cell_type": "code",
   "execution_count": 35,
   "metadata": {
    "scrolled": true
   },
   "outputs": [
    {
     "name": "stdout",
     "output_type": "stream",
     "text": [
      "solver:newton-cg\n",
      "accuracy:0.9740056818181818\n",
      "f1_score:0.9739993465555341\n",
      "cm:[[893   0   1   0   0   0   0   0]\n",
      " [  0 882   0   0   0   0   0   0]\n",
      " [  0   0 876   1   1   0   0   0]\n",
      " [  0   0   5 824   1   3  44   4]\n",
      " [  0   0   0   0 883   1   0   0]\n",
      " [  0   4   6   5   1 873   6   0]\n",
      " [  0   0   0  50   0  12 816   0]\n",
      " [  0   0  18   9   0   2   9 810]]\n",
      "-------------------------------------------------------------------------------------------------------------------\n"
     ]
    },
    {
     "name": "stderr",
     "output_type": "stream",
     "text": [
      "C:\\Users\\user\\anaconda3\\lib\\site-packages\\sklearn\\linear_model\\_logistic.py:940: ConvergenceWarning: lbfgs failed to converge (status=1):\n",
      "STOP: TOTAL NO. of ITERATIONS REACHED LIMIT.\n",
      "\n",
      "Increase the number of iterations (max_iter) or scale the data as shown in:\n",
      "    https://scikit-learn.org/stable/modules/preprocessing.html\n",
      "Please also refer to the documentation for alternative solver options:\n",
      "    https://scikit-learn.org/stable/modules/linear_model.html#logistic-regression\n",
      "  extra_warning_msg=_LOGISTIC_SOLVER_CONVERGENCE_MSG)\n"
     ]
    },
    {
     "name": "stdout",
     "output_type": "stream",
     "text": [
      "solver:lbfgs\n",
      "accuracy:0.9734375\n",
      "f1_score:0.9734299930293183\n",
      "cm:[[893   0   1   0   0   0   0   0]\n",
      " [  0 882   0   0   0   0   0   0]\n",
      " [  0   0 876   1   1   0   0   0]\n",
      " [  0   0   5 824   1   3  44   4]\n",
      " [  0   0   0   0 883   1   0   0]\n",
      " [  0   4   6   5   1 873   6   0]\n",
      " [  0   0   0  50   0  12 816   0]\n",
      " [  0   0  21  10   0   2   9 806]]\n",
      "-------------------------------------------------------------------------------------------------------------------\n",
      "solver:liblinear\n",
      "accuracy:0.9688920454545454\n",
      "f1_score:0.9688333788386759\n",
      "cm:[[891   0   2   0   0   1   0   0]\n",
      " [  0 882   0   0   0   0   0   0]\n",
      " [  0   0 869   8   0   0   0   1]\n",
      " [  1   1   8 805   2   8  50   6]\n",
      " [  0   0   0   0 883   1   0   0]\n",
      " [  0   5  15   6   5 849  15   0]\n",
      " [  0   0   0  45   0  23 810   0]\n",
      " [  0   0   3  13   0   0   0 832]]\n",
      "-------------------------------------------------------------------------------------------------------------------\n"
     ]
    },
    {
     "name": "stderr",
     "output_type": "stream",
     "text": [
      "C:\\Users\\user\\anaconda3\\lib\\site-packages\\sklearn\\linear_model\\_sag.py:330: ConvergenceWarning: The max_iter was reached which means the coef_ did not converge\n",
      "  \"the coef_ did not converge\", ConvergenceWarning)\n"
     ]
    },
    {
     "name": "stdout",
     "output_type": "stream",
     "text": [
      "solver:sag\n",
      "accuracy:0.9740056818181818\n",
      "f1_score:0.9740033652755403\n",
      "cm:[[893   0   1   0   0   0   0   0]\n",
      " [  0 882   0   0   0   0   0   0]\n",
      " [  0   0 875   2   1   0   0   0]\n",
      " [  0   0   5 824   1   3  44   4]\n",
      " [  0   0   0   0 883   1   0   0]\n",
      " [  0   3   6   5   1 875   5   0]\n",
      " [  0   0   0  49   0  12 817   0]\n",
      " [  0   0  19  10   0   2   9 808]]\n",
      "-------------------------------------------------------------------------------------------------------------------\n",
      "solver:saga\n",
      "accuracy:0.9738636363636364\n",
      "f1_score:0.973852131208799\n",
      "cm:[[893   0   1   0   0   0   0   0]\n",
      " [  0 882   0   0   0   0   0   0]\n",
      " [  0   0 875   2   1   0   0   0]\n",
      " [  0   0   6 822   1   3  45   4]\n",
      " [  0   0   0   0 883   1   0   0]\n",
      " [  0   4   7   5   1 873   5   0]\n",
      " [  0   0   0  49   1  13 815   0]\n",
      " [  0   0  15  10   0   2   8 813]]\n",
      "-------------------------------------------------------------------------------------------------------------------\n"
     ]
    },
    {
     "name": "stderr",
     "output_type": "stream",
     "text": [
      "C:\\Users\\user\\anaconda3\\lib\\site-packages\\sklearn\\linear_model\\_sag.py:330: ConvergenceWarning: The max_iter was reached which means the coef_ did not converge\n",
      "  \"the coef_ did not converge\", ConvergenceWarning)\n"
     ]
    }
   ],
   "source": [
    "from sklearn.linear_model import LogisticRegression\n",
    "solvers = ['newton-cg','lbfgs','liblinear','sag','saga']\n",
    "for i in range(len(solvers)):\n",
    "    #Preliminary Classification Model\n",
    "    classifier_logreg = LogisticRegression(penalty='l2',solver=solvers[i], max_iter= 100, multi_class='auto',random_state=0)\n",
    "     #all solvers converged for max_iters = 500,while newton-cg and liblinear converged for max_iters = 100 and 250                              \n",
    "    \n",
    "    #fit model to dev set   \n",
    "    classifier_logreg.fit(X_train, y_train)\n",
    "   \n",
    "    #predict results for dev set\n",
    "    y_pred_logreg = classifier_logreg.predict(X_dev)\n",
    "\n",
    "    #Cross Validation metrics\n",
    "    from sklearn.metrics import confusion_matrix, accuracy_score, f1_score\n",
    "    \n",
    "    #confusion matrix   \n",
    "    cm_lr = confusion_matrix(y_dev, y_pred_logreg)\n",
    "\n",
    "    #accuracy\n",
    "    accuracy_lr = accuracy_score(y_dev, y_pred_logreg)\n",
    "\n",
    "    #F1 score    \n",
    "    f1_score_lr = f1_score(y_dev, y_pred_logreg, average='weighted')\n",
    "\n",
    "    print(\"solver:{}\".format(solvers[i]))\n",
    "    print(\"accuracy:{}\".format(accuracy_lr))   \n",
    "    print(\"f1_score:{}\".format(f1_score_lr))\n",
    "    print(\"cm:{}\".format(cm_lr))\n",
    "    print(\"-------------------------------------------------------------------------------------------------------------------\")"
   ]
  },
  {
   "cell_type": "markdown",
   "metadata": {},
   "source": [
    "# Model with Selected Parameters"
   ]
  },
  {
   "cell_type": "code",
   "execution_count": 36,
   "metadata": {},
   "outputs": [
    {
     "data": {
      "text/plain": [
       "LogisticRegression(C=1.0, class_weight=None, dual=False, fit_intercept=True,\n",
       "                   intercept_scaling=1, l1_ratio=None, max_iter=250,\n",
       "                   multi_class='auto', n_jobs=None, penalty='l2',\n",
       "                   random_state=0, solver='newton-cg', tol=0.0001, verbose=0,\n",
       "                   warm_start=False)"
      ]
     },
     "execution_count": 36,
     "metadata": {},
     "output_type": "execute_result"
    }
   ],
   "source": [
    "# Training the Logistic Regression classfication model on the Training set\n",
    "from sklearn.linear_model import LogisticRegression\n",
    "classifier_logreg = LogisticRegression(penalty='l2',solver= 'newton-cg', max_iter= 250, multi_class='auto',random_state=0)\n",
    "classifier_logreg.fit(X_train_ovr, y_train_ovr)"
   ]
  },
  {
   "cell_type": "markdown",
   "metadata": {},
   "source": [
    "# Prediction Of Test Set results"
   ]
  },
  {
   "cell_type": "code",
   "execution_count": 37,
   "metadata": {},
   "outputs": [],
   "source": [
    "# Predicting the Test set results\n",
    "y_results_logreg = classifier_logreg.predict(X_test)"
   ]
  },
  {
   "cell_type": "code",
   "execution_count": 38,
   "metadata": {},
   "outputs": [
    {
     "name": "stdout",
     "output_type": "stream",
     "text": [
      "[[1 1]\n",
      " [1 1]\n",
      " [1 1]\n",
      " ...\n",
      " [8 8]\n",
      " [8 8]\n",
      " [8 8]]\n"
     ]
    }
   ],
   "source": [
    "print(np.concatenate((y_results_logreg.reshape(len(y_results_SGD),1), y_test.reshape(len(y_test),1)),1))"
   ]
  },
  {
   "cell_type": "code",
   "execution_count": 39,
   "metadata": {},
   "outputs": [],
   "source": [
    "#Cross Validation For Logistic Regression Classification Model"
   ]
  },
  {
   "cell_type": "code",
   "execution_count": 40,
   "metadata": {},
   "outputs": [
    {
     "name": "stdout",
     "output_type": "stream",
     "text": [
      "accuracy:0.9828125\n",
      "f1_score:0.9827812542691096\n",
      "recall_score:0.9828125\n",
      "precision_score:0.9828125\n"
     ]
    },
    {
     "data": {
      "image/png": "[encoded data removed]",
      "text/plain": [
       "<Figure size 720x576 with 2 Axes>"
      ]
     },
     "metadata": {
      "needs_background": "light"
     },
     "output_type": "display_data"
    }
   ],
   "source": [
    "#Cross Validation metrics\n",
    "from sklearn.metrics import confusion_matrix, accuracy_score, f1_score, recall_score,precision_score\n",
    "    \n",
    "#confusion matrix   \n",
    "cm_logreg = confusion_matrix(y_test, y_results_logreg)\n",
    "array = cm_logreg \n",
    "df_cm = pd.DataFrame(array, index = [i for i in \"12345678\"],\n",
    "                  columns = [i for i in \"12345678\"])\n",
    "plt.figure(figsize = (10,8))\n",
    "sn.heatmap(df_cm, annot=True)\n",
    "#accuracy\n",
    "accuracy_logreg = accuracy_score(y_test, y_results_logreg)\n",
    "print(\"accuracy:{}\".format(accuracy_logreg))\n",
    "#F1 score    \n",
    "f1_score_logreg = f1_score(y_test, y_results_logreg, average='weighted')\n",
    "print(\"f1_score:{}\".format(f1_score_logreg))\n",
    "#Recall score\n",
    "recall_score_logreg = recall_score(y_test, y_results_logreg, average='micro')\n",
    "print(\"recall_score:{}\".format(recall_score_logreg))\n",
    "#Precision score\n",
    "precision_score_logreg = precision_score(y_test, y_results_logreg, average='micro')\n",
    "print(\"precision_score:{}\".format(precision_score_logreg))"
   ]
  },
  {
   "cell_type": "code",
   "execution_count": 41,
   "metadata": {},
   "outputs": [
    {
     "name": "stdout",
     "output_type": "stream",
     "text": [
      "              precision    recall  f1-score   support\n",
      "\n",
      "           1  1.00000000 1.00000000 1.00000000       879\n",
      "           2  0.99663300 1.00000000 0.99831366       888\n",
      "           3  0.98868778 0.99544419 0.99205448       878\n",
      "           4  0.95100223 0.95206243 0.95153203       897\n",
      "           5  0.99771429 0.99885584 0.99828473       874\n",
      "           6  0.98301246 0.98301246 0.98301246       883\n",
      "           7  0.95157658 0.94097996 0.94624860       898\n",
      "           8  0.99524941 0.99406880 0.99465875       843\n",
      "\n",
      "    accuracy                      0.98281250      7040\n",
      "   macro avg  0.98298447 0.98305296 0.98301309      7040\n",
      "weighted avg  0.98276140 0.98281250 0.98278125      7040\n",
      "\n"
     ]
    }
   ],
   "source": [
    "from sklearn import metrics\n",
    "print(metrics.classification_report(y_test, y_results_logreg, digits = 8))"
   ]
  },
  {
   "cell_type": "code",
   "execution_count": null,
   "metadata": {},
   "outputs": [],
   "source": []
  }
 ],
 "metadata": {
  "kernelspec": {
   "display_name": "Python 3",
   "language": "python",
   "name": "python3"
  },
  "language_info": {
   "codemirror_mode": {
    "name": "ipython",
    "version": 3
   },
   "file_extension": ".py",
   "mimetype": "text/x-python",
   "name": "python",
   "nbconvert_exporter": "python",
   "pygments_lexer": "ipython3",
   "version": "3.7.6"
  }
 },
 "nbformat": 4,
 "nbformat_minor": 4
}
