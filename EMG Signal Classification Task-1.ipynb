{
 "cells": [
  {
   "cell_type": "markdown",
   "metadata": {},
   "source": [
    "# ML MODELS FOR EMG CLASSIFICATION"
   ]
  },
  {
   "cell_type": "markdown",
   "metadata": {},
   "source": [
    "# Importing the libraries"
   ]
  },
  {
   "cell_type": "code",
   "execution_count": 1,
   "metadata": {},
   "outputs": [],
   "source": [
    "# Importing the libraries\n",
    "import numpy as np\n",
    "import pandas as pd\n",
    "import seaborn as sn\n",
    "import pandas as pd\n",
    "import matplotlib.pyplot as plt"
   ]
  },
  {
   "cell_type": "markdown",
   "metadata": {},
   "source": [
    "# Importing the dataset"
   ]
  },
  {
   "cell_type": "code",
   "execution_count": 2,
   "metadata": {},
   "outputs": [],
   "source": [
    "# Importing the train_set\n",
    "train_dataset = pd.read_csv('trainset_60.csv')\n",
    "X_train = train_dataset.iloc[:, :-1].values\n",
    "y_train = train_dataset.iloc[:, -1].values"
   ]
  },
  {
   "cell_type": "code",
   "execution_count": 3,
   "metadata": {},
   "outputs": [],
   "source": [
    "# Importing the dev_set\n",
    "dev_dataset = pd.read_csv('validate_20.csv')\n",
    "X_dev = dev_dataset.iloc[:, :-1].values\n",
    "y_dev = dev_dataset.iloc[:, -1].values"
   ]
  },
  {
   "cell_type": "code",
   "execution_count": 4,
   "metadata": {},
   "outputs": [],
   "source": [
    "# Importing the test_set\n",
    "test_dataset = pd.read_csv('testset_20.csv')\n",
    "X_test = test_dataset.iloc[:, :-1].values\n",
    "y_test = test_dataset.iloc[:, -1].values"
   ]
  },
  {
   "cell_type": "markdown",
   "metadata": {},
   "source": [
    "# Feature Scaling"
   ]
  },
  {
   "cell_type": "code",
   "execution_count": 5,
   "metadata": {},
   "outputs": [],
   "source": [
    "# Feature Scaling\n",
    "from sklearn.preprocessing import StandardScaler\n",
    "sc = StandardScaler()\n",
    "X_train = sc.fit_transform(X_train)\n",
    "X_dev = sc.fit_transform(X_dev)\n",
    "X_test = sc.transform(X_test)"
   ]
  },
  {
   "cell_type": "markdown",
   "metadata": {},
   "source": [
    "# Dataset Analysis"
   ]
  },
  {
   "cell_type": "code",
   "execution_count": 6,
   "metadata": {},
   "outputs": [
    {
     "name": "stdout",
     "output_type": "stream",
     "text": [
      "[[-1.90815765 -2.07145225 -1.65976075 ...  0.28777429  0.10169213\n",
      "  -1.28297814]\n",
      " [-1.54060044 -1.75309426 -1.23159258 ...  0.48136172 -0.06873272\n",
      "  -1.59648631]\n",
      " [-1.57129911 -2.08981807 -1.46895219 ...  0.27404184 -0.73910521\n",
      "  -0.12443136]\n",
      " ...\n",
      " [ 2.13391584  1.78339061  2.18649685 ... -0.3352874   0.51414358\n",
      "  -1.78324017]\n",
      " [ 1.67669939  1.44978949  1.9996626  ...  0.09095603  0.40732187\n",
      "  -1.40817977]\n",
      " [ 1.67393146  1.64460677  2.12679152 ...  0.09353653  0.32284431\n",
      "  -2.13229583]]\n"
     ]
    }
   ],
   "source": [
    "print(X_train)"
   ]
  },
  {
   "cell_type": "code",
   "execution_count": 7,
   "metadata": {},
   "outputs": [
    {
     "name": "stdout",
     "output_type": "stream",
     "text": [
      "[[-1.61878804 -1.96346788 -1.51493239 ...  0.42753289 -0.58065494\n",
      "  -1.47258398]\n",
      " [-1.11283496 -2.08258309 -1.4206058  ...  0.42297098 -0.13847814\n",
      "  -0.29632955]\n",
      " [-0.91098495 -1.98802451 -1.42193222 ...  0.29841291  0.37169066\n",
      "  -0.88285218]\n",
      " ...\n",
      " [ 1.87246561  2.00294689  2.3221959  ... -0.08439382  0.33340883\n",
      "  -2.70096261]\n",
      " [ 1.64101472  1.78724614  2.54077962 ... -0.55195137  0.22116299\n",
      "  -1.68610678]\n",
      " [ 1.59631904  1.61827611  2.17404237 ... -0.06295117  0.25410034\n",
      "  -1.93063644]]\n"
     ]
    }
   ],
   "source": [
    "print(X_dev)"
   ]
  },
  {
   "cell_type": "code",
   "execution_count": 8,
   "metadata": {},
   "outputs": [
    {
     "name": "stdout",
     "output_type": "stream",
     "text": [
      "[[-0.91792421 -1.83075678 -1.4311876  ...  0.20600426  0.34229093\n",
      "  -1.17610739]\n",
      " [-0.84517292 -1.92407844 -1.40438908 ...  0.25326965 -0.85664689\n",
      "  -1.03121374]\n",
      " [-1.35877182 -2.07581788 -1.40230985 ...  0.43330661 -0.30244812\n",
      "  -1.47309306]\n",
      " ...\n",
      " [ 1.61851352  1.40961467  2.12820158 ...  0.03408372  0.15318471\n",
      "  -2.18941563]\n",
      " [ 1.66925428  1.64115399  2.33362096 ... -0.31589099  0.55278223\n",
      "  -2.17871956]\n",
      " [ 1.9255842   1.62686538  2.61796835 ...  0.08216561  0.47762526\n",
      "  -1.65086725]]\n"
     ]
    }
   ],
   "source": [
    "print(X_test)"
   ]
  },
  {
   "cell_type": "code",
   "execution_count": 9,
   "metadata": {},
   "outputs": [
    {
     "data": {
      "text/plain": [
       "(19776, 42)"
      ]
     },
     "execution_count": 9,
     "metadata": {},
     "output_type": "execute_result"
    }
   ],
   "source": [
    "np.shape(X_train)"
   ]
  },
  {
   "cell_type": "code",
   "execution_count": 10,
   "metadata": {},
   "outputs": [
    {
     "data": {
      "text/plain": [
       "(7040, 42)"
      ]
     },
     "execution_count": 10,
     "metadata": {},
     "output_type": "execute_result"
    }
   ],
   "source": [
    "np.shape(X_dev)"
   ]
  },
  {
   "cell_type": "code",
   "execution_count": 11,
   "metadata": {},
   "outputs": [
    {
     "data": {
      "text/plain": [
       "(7040, 42)"
      ]
     },
     "execution_count": 11,
     "metadata": {},
     "output_type": "execute_result"
    }
   ],
   "source": [
    "np.shape(X_test)"
   ]
  },
  {
   "cell_type": "code",
   "execution_count": 12,
   "metadata": {},
   "outputs": [
    {
     "data": {
      "text/plain": [
       "(19776,)"
      ]
     },
     "execution_count": 12,
     "metadata": {},
     "output_type": "execute_result"
    }
   ],
   "source": [
    "np.shape(y_train)"
   ]
  },
  {
   "cell_type": "code",
   "execution_count": 13,
   "metadata": {},
   "outputs": [
    {
     "data": {
      "text/plain": [
       "array([1, 1, 1, ..., 8, 8, 8], dtype=int64)"
      ]
     },
     "execution_count": 13,
     "metadata": {},
     "output_type": "execute_result"
    }
   ],
   "source": [
    "y_train"
   ]
  },
  {
   "cell_type": "code",
   "execution_count": 14,
   "metadata": {},
   "outputs": [
    {
     "data": {
      "text/plain": [
       "(7040,)"
      ]
     },
     "execution_count": 14,
     "metadata": {},
     "output_type": "execute_result"
    }
   ],
   "source": [
    "np.shape(y_dev)"
   ]
  },
  {
   "cell_type": "code",
   "execution_count": 15,
   "metadata": {},
   "outputs": [
    {
     "data": {
      "text/plain": [
       "(7040,)"
      ]
     },
     "execution_count": 15,
     "metadata": {},
     "output_type": "execute_result"
    }
   ],
   "source": [
    "np.shape(y_test)"
   ]
  },
  {
   "cell_type": "code",
   "execution_count": 16,
   "metadata": {},
   "outputs": [
    {
     "data": {
      "text/plain": [
       "array([1, 1, 1, ..., 8, 8, 8], dtype=int64)"
      ]
     },
     "execution_count": 16,
     "metadata": {},
     "output_type": "execute_result"
    }
   ],
   "source": [
    "y_test"
   ]
  },
  {
   "cell_type": "markdown",
   "metadata": {},
   "source": [
    "# 1. SVM Classifier"
   ]
  },
  {
   "cell_type": "markdown",
   "metadata": {},
   "source": [
    "# MODEL TUNING"
   ]
  },
  {
   "cell_type": "code",
   "execution_count": 82,
   "metadata": {},
   "outputs": [
    {
     "name": "stdout",
     "output_type": "stream",
     "text": [
      "# Tuning hyper-parameters for SVC\n",
      "\n",
      "Best parameters set found on training set:\n",
      "\n",
      "{'C': 100, 'gamma': 'auto', 'kernel': 'rbf'}\n",
      "\n",
      "Grid scores on training set:\n",
      "\n",
      "0.771 (+/-0.064) for {'C': 1, 'gamma': 'scale', 'kernel': 'rbf'}\n",
      "0.771 (+/-0.063) for {'C': 1, 'gamma': 'auto', 'kernel': 'rbf'}\n",
      "0.355 (+/-0.095) for {'C': 1, 'gamma': 1e-05, 'kernel': 'rbf'}\n",
      "0.728 (+/-0.012) for {'C': 1, 'gamma': 0.0001, 'kernel': 'rbf'}\n",
      "0.756 (+/-0.027) for {'C': 1, 'gamma': 0.001, 'kernel': 'rbf'}\n",
      "0.775 (+/-0.068) for {'C': 10, 'gamma': 'scale', 'kernel': 'rbf'}\n",
      "0.775 (+/-0.068) for {'C': 10, 'gamma': 'auto', 'kernel': 'rbf'}\n",
      "0.728 (+/-0.013) for {'C': 10, 'gamma': 1e-05, 'kernel': 'rbf'}\n",
      "0.754 (+/-0.029) for {'C': 10, 'gamma': 0.0001, 'kernel': 'rbf'}\n",
      "0.769 (+/-0.009) for {'C': 10, 'gamma': 0.001, 'kernel': 'rbf'}\n",
      "0.778 (+/-0.073) for {'C': 100, 'gamma': 'scale', 'kernel': 'rbf'}\n",
      "0.779 (+/-0.073) for {'C': 100, 'gamma': 'auto', 'kernel': 'rbf'}\n",
      "0.754 (+/-0.029) for {'C': 100, 'gamma': 1e-05, 'kernel': 'rbf'}\n",
      "0.769 (+/-0.014) for {'C': 100, 'gamma': 0.0001, 'kernel': 'rbf'}\n",
      "0.774 (+/-0.001) for {'C': 100, 'gamma': 0.001, 'kernel': 'rbf'}\n",
      "0.778 (+/-0.072) for {'C': 1000, 'gamma': 'scale', 'kernel': 'rbf'}\n",
      "0.778 (+/-0.072) for {'C': 1000, 'gamma': 'auto', 'kernel': 'rbf'}\n",
      "0.769 (+/-0.015) for {'C': 1000, 'gamma': 1e-05, 'kernel': 'rbf'}\n",
      "0.774 (+/-0.003) for {'C': 1000, 'gamma': 0.0001, 'kernel': 'rbf'}\n",
      "0.773 (+/-0.020) for {'C': 1000, 'gamma': 0.001, 'kernel': 'rbf'}\n",
      "0.774 (+/-0.000) for {'C': 1, 'kernel': 'linear'}\n",
      "0.772 (+/-0.008) for {'C': 10, 'kernel': 'linear'}\n",
      "0.769 (+/-0.017) for {'C': 100, 'kernel': 'linear'}\n",
      "0.769 (+/-0.015) for {'C': 1000, 'kernel': 'linear'}\n",
      "0.691 (+/-0.006) for {'C': 1, 'degree': 2, 'gamma': 'scale', 'kernel': 'poly'}\n",
      "0.690 (+/-0.007) for {'C': 1, 'degree': 2, 'gamma': 'auto', 'kernel': 'poly'}\n",
      "0.126 (+/-0.000) for {'C': 1, 'degree': 2, 'gamma': 1e-05, 'kernel': 'poly'}\n",
      "0.126 (+/-0.000) for {'C': 1, 'degree': 2, 'gamma': 0.0001, 'kernel': 'poly'}\n",
      "0.281 (+/-0.018) for {'C': 1, 'degree': 2, 'gamma': 0.001, 'kernel': 'poly'}\n",
      "0.671 (+/-0.041) for {'C': 1, 'degree': 3, 'gamma': 'scale', 'kernel': 'poly'}\n",
      "0.670 (+/-0.038) for {'C': 1, 'degree': 3, 'gamma': 'auto', 'kernel': 'poly'}\n",
      "0.126 (+/-0.000) for {'C': 1, 'degree': 3, 'gamma': 1e-05, 'kernel': 'poly'}\n",
      "0.126 (+/-0.000) for {'C': 1, 'degree': 3, 'gamma': 0.0001, 'kernel': 'poly'}\n",
      "0.156 (+/-0.019) for {'C': 1, 'degree': 3, 'gamma': 0.001, 'kernel': 'poly'}\n",
      "0.555 (+/-0.042) for {'C': 1, 'degree': 5, 'gamma': 'scale', 'kernel': 'poly'}\n",
      "0.545 (+/-0.029) for {'C': 1, 'degree': 5, 'gamma': 'auto', 'kernel': 'poly'}\n",
      "0.126 (+/-0.000) for {'C': 1, 'degree': 5, 'gamma': 1e-05, 'kernel': 'poly'}\n",
      "0.126 (+/-0.000) for {'C': 1, 'degree': 5, 'gamma': 0.0001, 'kernel': 'poly'}\n",
      "0.126 (+/-0.000) for {'C': 1, 'degree': 5, 'gamma': 0.001, 'kernel': 'poly'}\n",
      "0.709 (+/-0.014) for {'C': 10, 'degree': 2, 'gamma': 'scale', 'kernel': 'poly'}\n",
      "0.709 (+/-0.014) for {'C': 10, 'degree': 2, 'gamma': 'auto', 'kernel': 'poly'}\n",
      "0.126 (+/-0.000) for {'C': 10, 'degree': 2, 'gamma': 1e-05, 'kernel': 'poly'}\n",
      "0.147 (+/-0.031) for {'C': 10, 'degree': 2, 'gamma': 0.0001, 'kernel': 'poly'}\n",
      "0.552 (+/-0.045) for {'C': 10, 'degree': 2, 'gamma': 0.001, 'kernel': 'poly'}\n",
      "0.707 (+/-0.003) for {'C': 10, 'degree': 3, 'gamma': 'scale', 'kernel': 'poly'}\n",
      "0.707 (+/-0.002) for {'C': 10, 'degree': 3, 'gamma': 'auto', 'kernel': 'poly'}\n",
      "0.126 (+/-0.000) for {'C': 10, 'degree': 3, 'gamma': 1e-05, 'kernel': 'poly'}\n",
      "0.126 (+/-0.000) for {'C': 10, 'degree': 3, 'gamma': 0.0001, 'kernel': 'poly'}\n",
      "0.217 (+/-0.023) for {'C': 10, 'degree': 3, 'gamma': 0.001, 'kernel': 'poly'}\n",
      "0.606 (+/-0.033) for {'C': 10, 'degree': 5, 'gamma': 'scale', 'kernel': 'poly'}\n",
      "0.605 (+/-0.025) for {'C': 10, 'degree': 5, 'gamma': 'auto', 'kernel': 'poly'}\n",
      "0.126 (+/-0.000) for {'C': 10, 'degree': 5, 'gamma': 1e-05, 'kernel': 'poly'}\n",
      "0.126 (+/-0.000) for {'C': 10, 'degree': 5, 'gamma': 0.0001, 'kernel': 'poly'}\n",
      "0.126 (+/-0.000) for {'C': 10, 'degree': 5, 'gamma': 0.001, 'kernel': 'poly'}\n",
      "0.718 (+/-0.022) for {'C': 100, 'degree': 2, 'gamma': 'scale', 'kernel': 'poly'}\n",
      "0.718 (+/-0.022) for {'C': 100, 'degree': 2, 'gamma': 'auto', 'kernel': 'poly'}\n",
      "0.126 (+/-0.000) for {'C': 100, 'degree': 2, 'gamma': 1e-05, 'kernel': 'poly'}\n",
      "0.281 (+/-0.018) for {'C': 100, 'degree': 2, 'gamma': 0.0001, 'kernel': 'poly'}\n",
      "0.660 (+/-0.008) for {'C': 100, 'degree': 2, 'gamma': 0.001, 'kernel': 'poly'}\n",
      "0.722 (+/-0.008) for {'C': 100, 'degree': 3, 'gamma': 'scale', 'kernel': 'poly'}\n",
      "0.722 (+/-0.008) for {'C': 100, 'degree': 3, 'gamma': 'auto', 'kernel': 'poly'}\n",
      "0.126 (+/-0.000) for {'C': 100, 'degree': 3, 'gamma': 1e-05, 'kernel': 'poly'}\n",
      "0.126 (+/-0.000) for {'C': 100, 'degree': 3, 'gamma': 0.0001, 'kernel': 'poly'}\n",
      "0.361 (+/-0.026) for {'C': 100, 'degree': 3, 'gamma': 0.001, 'kernel': 'poly'}\n",
      "0.662 (+/-0.015) for {'C': 100, 'degree': 5, 'gamma': 'scale', 'kernel': 'poly'}\n",
      "0.661 (+/-0.010) for {'C': 100, 'degree': 5, 'gamma': 'auto', 'kernel': 'poly'}\n",
      "0.126 (+/-0.000) for {'C': 100, 'degree': 5, 'gamma': 1e-05, 'kernel': 'poly'}\n",
      "0.126 (+/-0.000) for {'C': 100, 'degree': 5, 'gamma': 0.0001, 'kernel': 'poly'}\n",
      "0.160 (+/-0.011) for {'C': 100, 'degree': 5, 'gamma': 0.001, 'kernel': 'poly'}\n",
      "0.719 (+/-0.018) for {'C': 1000, 'degree': 2, 'gamma': 'scale', 'kernel': 'poly'}\n",
      "0.719 (+/-0.018) for {'C': 1000, 'degree': 2, 'gamma': 'auto', 'kernel': 'poly'}\n",
      "0.147 (+/-0.031) for {'C': 1000, 'degree': 2, 'gamma': 1e-05, 'kernel': 'poly'}\n",
      "0.552 (+/-0.045) for {'C': 1000, 'degree': 2, 'gamma': 0.0001, 'kernel': 'poly'}\n",
      "0.697 (+/-0.006) for {'C': 1000, 'degree': 2, 'gamma': 0.001, 'kernel': 'poly'}\n",
      "0.725 (+/-0.002) for {'C': 1000, 'degree': 3, 'gamma': 'scale', 'kernel': 'poly'}\n",
      "0.725 (+/-0.002) for {'C': 1000, 'degree': 3, 'gamma': 'auto', 'kernel': 'poly'}\n",
      "0.126 (+/-0.000) for {'C': 1000, 'degree': 3, 'gamma': 1e-05, 'kernel': 'poly'}\n",
      "0.156 (+/-0.019) for {'C': 1000, 'degree': 3, 'gamma': 0.0001, 'kernel': 'poly'}\n",
      "0.570 (+/-0.029) for {'C': 1000, 'degree': 3, 'gamma': 0.001, 'kernel': 'poly'}\n",
      "0.676 (+/-0.009) for {'C': 1000, 'degree': 5, 'gamma': 'scale', 'kernel': 'poly'}\n",
      "0.676 (+/-0.008) for {'C': 1000, 'degree': 5, 'gamma': 'auto', 'kernel': 'poly'}\n",
      "0.126 (+/-0.000) for {'C': 1000, 'degree': 5, 'gamma': 1e-05, 'kernel': 'poly'}\n",
      "0.126 (+/-0.000) for {'C': 1000, 'degree': 5, 'gamma': 0.0001, 'kernel': 'poly'}\n",
      "0.183 (+/-0.005) for {'C': 1000, 'degree': 5, 'gamma': 0.001, 'kernel': 'poly'}\n",
      "0.672 (+/-0.043) for {'C': 1, 'gamma': 'scale', 'kernel': 'sigmoid'}\n",
      "0.671 (+/-0.051) for {'C': 1, 'gamma': 'auto', 'kernel': 'sigmoid'}\n",
      "0.193 (+/-0.054) for {'C': 1, 'gamma': 1e-05, 'kernel': 'sigmoid'}\n",
      "0.693 (+/-0.007) for {'C': 1, 'gamma': 0.0001, 'kernel': 'sigmoid'}\n",
      "0.747 (+/-0.033) for {'C': 1, 'gamma': 0.001, 'kernel': 'sigmoid'}\n",
      "0.647 (+/-0.027) for {'C': 10, 'gamma': 'scale', 'kernel': 'sigmoid'}\n",
      "0.645 (+/-0.040) for {'C': 10, 'gamma': 'auto', 'kernel': 'sigmoid'}\n",
      "0.693 (+/-0.007) for {'C': 10, 'gamma': 1e-05, 'kernel': 'sigmoid'}\n",
      "0.747 (+/-0.034) for {'C': 10, 'gamma': 0.0001, 'kernel': 'sigmoid'}\n",
      "0.766 (+/-0.018) for {'C': 10, 'gamma': 0.001, 'kernel': 'sigmoid'}\n",
      "0.670 (+/-0.012) for {'C': 100, 'gamma': 'scale', 'kernel': 'sigmoid'}\n",
      "0.670 (+/-0.006) for {'C': 100, 'gamma': 'auto', 'kernel': 'sigmoid'}\n",
      "0.747 (+/-0.034) for {'C': 100, 'gamma': 1e-05, 'kernel': 'sigmoid'}\n",
      "0.766 (+/-0.018) for {'C': 100, 'gamma': 0.0001, 'kernel': 'sigmoid'}\n",
      "0.771 (+/-0.010) for {'C': 100, 'gamma': 0.001, 'kernel': 'sigmoid'}\n",
      "0.668 (+/-0.012) for {'C': 1000, 'gamma': 'scale', 'kernel': 'sigmoid'}\n",
      "0.647 (+/-0.035) for {'C': 1000, 'gamma': 'auto', 'kernel': 'sigmoid'}\n",
      "0.766 (+/-0.018) for {'C': 1000, 'gamma': 1e-05, 'kernel': 'sigmoid'}\n",
      "0.770 (+/-0.010) for {'C': 1000, 'gamma': 0.0001, 'kernel': 'sigmoid'}\n",
      "0.774 (+/-0.000) for {'C': 1000, 'gamma': 0.001, 'kernel': 'sigmoid'}\n",
      "\n",
      "Detailed classification report:\n",
      "\n",
      "The model is trained on the full training set.\n",
      "The scores are computed on the full development set.\n",
      "\n",
      "              precision    recall  f1-score   support\n",
      "\n",
      "           1       1.00      1.00      1.00       894\n",
      "           2       1.00      1.00      1.00       882\n",
      "           3       0.98      1.00      0.99       878\n",
      "           4       0.91      0.95      0.93       881\n",
      "           5       1.00      1.00      1.00       884\n",
      "           6       0.98      0.98      0.98       895\n",
      "           7       0.94      0.93      0.94       878\n",
      "           8       1.00      0.95      0.97       848\n",
      "\n",
      "    accuracy                           0.98      7040\n",
      "   macro avg       0.98      0.98      0.98      7040\n",
      "weighted avg       0.98      0.98      0.98      7040\n",
      "\n",
      "\n"
     ]
    }
   ],
   "source": [
    "from sklearn.model_selection import GridSearchCV\n",
    "from sklearn.metrics import classification_report\n",
    "from sklearn.svm import SVC\n",
    "\n",
    "# Set the parameters by cross-validation\n",
    "tuned_parameters = [{'C': [1,10,100,1000], 'kernel': ['rbf'],'gamma': ['scale','auto', 0.00001, 0.0001, 0.001]},\n",
    "             {'C': [1,10,100,1000], 'kernel': ['linear']},\n",
    "             {'C': [1,10,100,1000], 'kernel': ['poly'],'degree': [2,3,5],'gamma': ['scale', 'auto', 0.00001, 0.0001, 0.001]},\n",
    "             {'C': [1,10,100,1000], 'kernel': ['sigmoid'],'gamma': ['scale', 'auto', 0.00001, 0.0001, 0.001]}             \n",
    "             ]\n",
    "\n",
    "print(\"# Tuning hyper-parameters for SVC\")\n",
    "print()\n",
    "\n",
    "clf = GridSearchCV(SVC(random_state = 0), tuned_parameters, scoring='accuracy', cv = 2)\n",
    "\n",
    "clf.fit(X_train, y_train)\n",
    "\n",
    "print(\"Best parameters set found on training set:\")\n",
    "print()\n",
    "print(clf.best_params_)\n",
    "print()\n",
    "print(\"Grid scores on training set:\")\n",
    "print()\n",
    "means = clf.cv_results_['mean_test_score']\n",
    "stds = clf.cv_results_['std_test_score']\n",
    "for mean, std, params in zip(means, stds, clf.cv_results_['params']):\n",
    "    print(\"%0.3f (+/-%0.03f) for %r\"\n",
    "            % (mean, std * 2, params))\n",
    "print()\n",
    "\n",
    "print(\"Detailed classification report:\")\n",
    "print()\n",
    "print(\"The model is trained on the full training set.\")\n",
    "print(\"The scores are computed on the full development set.\")\n",
    "print()\n",
    "y_true, y_pred = y_dev, clf.predict(X_dev)\n",
    "print(classification_report(y_true, y_pred))\n",
    "print()"
   ]
  },
  {
   "cell_type": "code",
   "execution_count": 17,
   "metadata": {},
   "outputs": [],
   "source": [
    "#model was tuned to check for best params and it was found that among all the Kernels checked the rbf kernel \n",
    "#had the best accuracy while predicting on Development set\n",
    "#Best parameters set found on development set:\n",
    "          #{'C': 100, 'gamma': 'auto', 'kernel': 'rbf'}"
   ]
  },
  {
   "cell_type": "markdown",
   "metadata": {},
   "source": [
    "# Modified Training Set"
   ]
  },
  {
   "cell_type": "code",
   "execution_count": 18,
   "metadata": {},
   "outputs": [],
   "source": [
    "#TRAINING DATA(for final model): X_train_ovr: X_train + X_dev, y_train_ovr=y_train+y_dev\n",
    "#TEST DATA: X_test,y_test\n",
    "X_train_ovr = np.concatenate((X_train,X_dev),0)\n",
    "y_train_ovr = np.concatenate((y_train,y_dev),0)"
   ]
  },
  {
   "cell_type": "code",
   "execution_count": 19,
   "metadata": {},
   "outputs": [
    {
     "data": {
      "text/plain": [
       "(26816, 42)"
      ]
     },
     "execution_count": 19,
     "metadata": {},
     "output_type": "execute_result"
    }
   ],
   "source": [
    "np.shape(X_train_ovr)"
   ]
  },
  {
   "cell_type": "code",
   "execution_count": 20,
   "metadata": {},
   "outputs": [
    {
     "data": {
      "text/plain": [
       "(26816,)"
      ]
     },
     "execution_count": 20,
     "metadata": {},
     "output_type": "execute_result"
    }
   ],
   "source": [
    "np.shape(y_train_ovr)"
   ]
  },
  {
   "cell_type": "markdown",
   "metadata": {},
   "source": [
    "# Training with tuned parameters"
   ]
  },
  {
   "cell_type": "code",
   "execution_count": 21,
   "metadata": {},
   "outputs": [
    {
     "data": {
      "text/plain": [
       "SVC(C=100, break_ties=False, cache_size=200, class_weight='balanced', coef0=0.0,\n",
       "    decision_function_shape='ovr', degree=3, gamma='auto', kernel='rbf',\n",
       "    max_iter=-1, probability=False, random_state=0, shrinking=True, tol=0.001,\n",
       "    verbose=False)"
      ]
     },
     "execution_count": 21,
     "metadata": {},
     "output_type": "execute_result"
    }
   ],
   "source": [
    "# Training the Kernel SVM model on the Training set\n",
    "from sklearn.svm import SVC\n",
    "classifier_SVM = SVC(kernel = 'rbf', C = 100, gamma= 'auto', class_weight = 'balanced', random_state = 0)\n",
    "classifier_SVM.fit(X_train_ovr, y_train_ovr)"
   ]
  },
  {
   "cell_type": "markdown",
   "metadata": {},
   "source": [
    "# Predicting results for Test Set"
   ]
  },
  {
   "cell_type": "code",
   "execution_count": 22,
   "metadata": {},
   "outputs": [],
   "source": [
    "# Predicting the Test set results\n",
    "y_results_SVM = classifier_SVM.predict(X_test)"
   ]
  },
  {
   "cell_type": "code",
   "execution_count": 23,
   "metadata": {},
   "outputs": [
    {
     "name": "stdout",
     "output_type": "stream",
     "text": [
      "[[1 1]\n",
      " [1 1]\n",
      " [1 1]\n",
      " ...\n",
      " [8 8]\n",
      " [8 8]\n",
      " [8 8]]\n"
     ]
    }
   ],
   "source": [
    "print(np.concatenate((y_results_SVM.reshape(len(y_results_SVM),1), y_test.reshape(len(y_test),1)),1))"
   ]
  },
  {
   "cell_type": "markdown",
   "metadata": {},
   "source": [
    "# Model Evaluation"
   ]
  },
  {
   "cell_type": "code",
   "execution_count": 24,
   "metadata": {},
   "outputs": [
    {
     "data": {
      "text/plain": [
       "<matplotlib.axes._subplots.AxesSubplot at 0x26e0a8b9ac8>"
      ]
     },
     "execution_count": 24,
     "metadata": {},
     "output_type": "execute_result"
    },
    {
     "data": {
      "image/png": "[encoded data removed]",
      "text/plain": [
       "<Figure size 720x576 with 2 Axes>"
      ]
     },
     "metadata": {
      "needs_background": "light"
     },
     "output_type": "display_data"
    }
   ],
   "source": [
    "#Cross Validation metrics\n",
    "from sklearn.metrics import confusion_matrix\n",
    "    \n",
    "#confusion matrix   \n",
    "cm_svm = confusion_matrix(y_test, y_results_SVM)\n",
    "array = cm_svm \n",
    "df_cm = pd.DataFrame(array, index = [i for i in \"12345678\"],\n",
    "                  columns = [i for i in \"12345678\"])\n",
    "plt.figure(figsize = (10,8))\n",
    "sn.heatmap(df_cm, annot=True)"
   ]
  },
  {
   "cell_type": "code",
   "execution_count": 25,
   "metadata": {},
   "outputs": [
    {
     "name": "stdout",
     "output_type": "stream",
     "text": [
      "accuracy:0.9928977272727273\n",
      "f1_score:0.9928829094093914\n",
      "recall_score:0.9928977272727273\n",
      "precision_score:0.9928977272727273\n"
     ]
    }
   ],
   "source": [
    "#accuracy_score, f1_score, recall_score,precision_score metrics\n",
    "from sklearn.metrics import accuracy_score, f1_score, recall_score,precision_score\n",
    "#accuracy\n",
    "accuracy_svm = accuracy_score(y_test, y_results_SVM)\n",
    "print(\"accuracy:{}\".format(accuracy_svm))\n",
    "\n",
    "#F1 score    \n",
    "f1_score_svm = f1_score(y_test, y_results_SVM, average='weighted')\n",
    "print(\"f1_score:{}\".format(f1_score_svm))\n",
    "\n",
    "#Recall score\n",
    "recall_score_svm = recall_score(y_test, y_results_SVM, average='micro')\n",
    "print(\"recall_score:{}\".format(recall_score_svm))\n",
    "\n",
    "#Precision score\n",
    "precision_score_svm = precision_score(y_test, y_results_SVM, average='micro')\n",
    "print(\"precision_score:{}\".format(precision_score_svm))"
   ]
  },
  {
   "cell_type": "code",
   "execution_count": 26,
   "metadata": {},
   "outputs": [
    {
     "name": "stdout",
     "output_type": "stream",
     "text": [
      "              precision    recall  f1-score   support\n",
      "\n",
      "           1  1.00000000 1.00000000 1.00000000       879\n",
      "           2  1.00000000 1.00000000 1.00000000       888\n",
      "           3  0.99772727 1.00000000 0.99886234       878\n",
      "           4  0.96936543 0.98773690 0.97846494       897\n",
      "           5  1.00000000 0.99885584 0.99942759       874\n",
      "           6  0.99100112 0.99773499 0.99435666       883\n",
      "           7  0.98628571 0.96102450 0.97349126       898\n",
      "           8  1.00000000 0.99881376 0.99940653       843\n",
      "\n",
      "    accuracy                      0.99289773      7040\n",
      "   macro avg  0.99304744 0.99302075 0.99300116      7040\n",
      "weighted avg  0.99293521 0.99289773 0.99288291      7040\n",
      "\n"
     ]
    }
   ],
   "source": [
    "#classification report\n",
    "from sklearn import metrics\n",
    "print(metrics.classification_report(y_test, y_results_SVM, digits = 8))"
   ]
  },
  {
   "cell_type": "markdown",
   "metadata": {},
   "source": [
    "# 2. SGD Classifier"
   ]
  },
  {
   "cell_type": "markdown",
   "metadata": {},
   "source": [
    "# Model Tuning"
   ]
  },
  {
   "cell_type": "code",
   "execution_count": 72,
   "metadata": {},
   "outputs": [
    {
     "name": "stdout",
     "output_type": "stream",
     "text": [
      "# Tuning hyper-parameters for SGD Classifier\n",
      "\n"
     ]
    },
    {
     "name": "stderr",
     "output_type": "stream",
     "text": [
      "C:\\Users\\user\\anaconda3\\lib\\site-packages\\sklearn\\linear_model\\_stochastic_gradient.py:557: ConvergenceWarning: Maximum number of iteration reached before convergence. Consider increasing max_iter to improve the fit.\n",
      "  ConvergenceWarning)\n",
      "C:\\Users\\user\\anaconda3\\lib\\site-packages\\sklearn\\linear_model\\_stochastic_gradient.py:557: ConvergenceWarning: Maximum number of iteration reached before convergence. Consider increasing max_iter to improve the fit.\n",
      "  ConvergenceWarning)\n",
      "C:\\Users\\user\\anaconda3\\lib\\site-packages\\sklearn\\linear_model\\_stochastic_gradient.py:557: ConvergenceWarning: Maximum number of iteration reached before convergence. Consider increasing max_iter to improve the fit.\n",
      "  ConvergenceWarning)\n",
      "C:\\Users\\user\\anaconda3\\lib\\site-packages\\sklearn\\linear_model\\_stochastic_gradient.py:557: ConvergenceWarning: Maximum number of iteration reached before convergence. Consider increasing max_iter to improve the fit.\n",
      "  ConvergenceWarning)\n",
      "C:\\Users\\user\\anaconda3\\lib\\site-packages\\sklearn\\linear_model\\_stochastic_gradient.py:557: ConvergenceWarning: Maximum number of iteration reached before convergence. Consider increasing max_iter to improve the fit.\n",
      "  ConvergenceWarning)\n",
      "C:\\Users\\user\\anaconda3\\lib\\site-packages\\sklearn\\linear_model\\_stochastic_gradient.py:557: ConvergenceWarning: Maximum number of iteration reached before convergence. Consider increasing max_iter to improve the fit.\n",
      "  ConvergenceWarning)\n",
      "C:\\Users\\user\\anaconda3\\lib\\site-packages\\sklearn\\linear_model\\_stochastic_gradient.py:557: ConvergenceWarning: Maximum number of iteration reached before convergence. Consider increasing max_iter to improve the fit.\n",
      "  ConvergenceWarning)\n",
      "C:\\Users\\user\\anaconda3\\lib\\site-packages\\sklearn\\linear_model\\_stochastic_gradient.py:557: ConvergenceWarning: Maximum number of iteration reached before convergence. Consider increasing max_iter to improve the fit.\n",
      "  ConvergenceWarning)\n",
      "C:\\Users\\user\\anaconda3\\lib\\site-packages\\sklearn\\linear_model\\_stochastic_gradient.py:557: ConvergenceWarning: Maximum number of iteration reached before convergence. Consider increasing max_iter to improve the fit.\n",
      "  ConvergenceWarning)\n",
      "C:\\Users\\user\\anaconda3\\lib\\site-packages\\sklearn\\linear_model\\_stochastic_gradient.py:557: ConvergenceWarning: Maximum number of iteration reached before convergence. Consider increasing max_iter to improve the fit.\n",
      "  ConvergenceWarning)\n",
      "C:\\Users\\user\\anaconda3\\lib\\site-packages\\sklearn\\linear_model\\_stochastic_gradient.py:557: ConvergenceWarning: Maximum number of iteration reached before convergence. Consider increasing max_iter to improve the fit.\n",
      "  ConvergenceWarning)\n",
      "C:\\Users\\user\\anaconda3\\lib\\site-packages\\sklearn\\linear_model\\_stochastic_gradient.py:557: ConvergenceWarning: Maximum number of iteration reached before convergence. Consider increasing max_iter to improve the fit.\n",
      "  ConvergenceWarning)\n",
      "C:\\Users\\user\\anaconda3\\lib\\site-packages\\sklearn\\linear_model\\_stochastic_gradient.py:557: ConvergenceWarning: Maximum number of iteration reached before convergence. Consider increasing max_iter to improve the fit.\n",
      "  ConvergenceWarning)\n",
      "C:\\Users\\user\\anaconda3\\lib\\site-packages\\sklearn\\linear_model\\_stochastic_gradient.py:557: ConvergenceWarning: Maximum number of iteration reached before convergence. Consider increasing max_iter to improve the fit.\n",
      "  ConvergenceWarning)\n"
     ]
    },
    {
     "name": "stdout",
     "output_type": "stream",
     "text": [
      "Best parameters set found on training set:\n",
      "\n",
      "{'alpha': 0.001, 'loss': 'log', 'max_iter': 1000, 'penalty': 'l1'}\n",
      "\n",
      "Grid scores on training set:\n",
      "\n",
      "0.714 (+/-0.024) for {'alpha': 0.0001, 'loss': 'hinge', 'max_iter': 1000, 'penalty': 'l2'}\n",
      "0.791 (+/-0.025) for {'alpha': 0.0001, 'loss': 'hinge', 'max_iter': 1000, 'penalty': 'l1'}\n",
      "0.724 (+/-0.028) for {'alpha': 0.001, 'loss': 'hinge', 'max_iter': 1000, 'penalty': 'l2'}\n",
      "0.785 (+/-0.010) for {'alpha': 0.001, 'loss': 'hinge', 'max_iter': 1000, 'penalty': 'l1'}\n",
      "0.751 (+/-0.033) for {'alpha': 0.01, 'loss': 'hinge', 'max_iter': 1000, 'penalty': 'l2'}\n",
      "0.715 (+/-0.074) for {'alpha': 0.01, 'loss': 'hinge', 'max_iter': 1000, 'penalty': 'l1'}\n",
      "0.791 (+/-0.020) for {'alpha': 0.1, 'loss': 'hinge', 'max_iter': 1000, 'penalty': 'l2'}\n",
      "0.433 (+/-0.051) for {'alpha': 0.1, 'loss': 'hinge', 'max_iter': 1000, 'penalty': 'l1'}\n",
      "0.715 (+/-0.025) for {'alpha': 0.0001, 'loss': 'log', 'max_iter': 1000, 'penalty': 'l2'}\n",
      "0.786 (+/-0.030) for {'alpha': 0.0001, 'loss': 'log', 'max_iter': 1000, 'penalty': 'l1'}\n",
      "0.737 (+/-0.054) for {'alpha': 0.001, 'loss': 'log', 'max_iter': 1000, 'penalty': 'l2'}\n",
      "0.797 (+/-0.005) for {'alpha': 0.001, 'loss': 'log', 'max_iter': 1000, 'penalty': 'l1'}\n",
      "0.766 (+/-0.019) for {'alpha': 0.01, 'loss': 'log', 'max_iter': 1000, 'penalty': 'l2'}\n",
      "0.730 (+/-0.049) for {'alpha': 0.01, 'loss': 'log', 'max_iter': 1000, 'penalty': 'l1'}\n",
      "0.773 (+/-0.022) for {'alpha': 0.1, 'loss': 'log', 'max_iter': 1000, 'penalty': 'l2'}\n",
      "0.528 (+/-0.078) for {'alpha': 0.1, 'loss': 'log', 'max_iter': 1000, 'penalty': 'l1'}\n",
      "0.690 (+/-0.011) for {'alpha': 0.0001, 'loss': 'perceptron', 'max_iter': 1000, 'penalty': 'l2'}\n",
      "0.796 (+/-0.026) for {'alpha': 0.0001, 'loss': 'perceptron', 'max_iter': 1000, 'penalty': 'l1'}\n",
      "0.672 (+/-0.020) for {'alpha': 0.001, 'loss': 'perceptron', 'max_iter': 1000, 'penalty': 'l2'}\n",
      "0.785 (+/-0.012) for {'alpha': 0.001, 'loss': 'perceptron', 'max_iter': 1000, 'penalty': 'l1'}\n",
      "0.653 (+/-0.056) for {'alpha': 0.01, 'loss': 'perceptron', 'max_iter': 1000, 'penalty': 'l2'}\n",
      "0.670 (+/-0.017) for {'alpha': 0.01, 'loss': 'perceptron', 'max_iter': 1000, 'penalty': 'l1'}\n",
      "0.609 (+/-0.061) for {'alpha': 0.1, 'loss': 'perceptron', 'max_iter': 1000, 'penalty': 'l2'}\n",
      "0.245 (+/-0.041) for {'alpha': 0.1, 'loss': 'perceptron', 'max_iter': 1000, 'penalty': 'l1'}\n",
      "0.681 (+/-0.034) for {'alpha': 0.0001, 'loss': 'squared_hinge', 'max_iter': 1000, 'penalty': 'l2'}\n",
      "0.791 (+/-0.043) for {'alpha': 0.0001, 'loss': 'squared_hinge', 'max_iter': 1000, 'penalty': 'l1'}\n",
      "0.658 (+/-0.019) for {'alpha': 0.001, 'loss': 'squared_hinge', 'max_iter': 1000, 'penalty': 'l2'}\n",
      "0.792 (+/-0.054) for {'alpha': 0.001, 'loss': 'squared_hinge', 'max_iter': 1000, 'penalty': 'l1'}\n",
      "0.618 (+/-0.026) for {'alpha': 0.01, 'loss': 'squared_hinge', 'max_iter': 1000, 'penalty': 'l2'}\n",
      "0.785 (+/-0.023) for {'alpha': 0.01, 'loss': 'squared_hinge', 'max_iter': 1000, 'penalty': 'l1'}\n",
      "0.579 (+/-0.150) for {'alpha': 0.1, 'loss': 'squared_hinge', 'max_iter': 1000, 'penalty': 'l2'}\n",
      "0.778 (+/-0.030) for {'alpha': 0.1, 'loss': 'squared_hinge', 'max_iter': 1000, 'penalty': 'l1'}\n",
      "0.690 (+/-0.016) for {'alpha': 0.0001, 'loss': 'modified_huber', 'max_iter': 1000, 'penalty': 'l2'}\n",
      "0.784 (+/-0.049) for {'alpha': 0.0001, 'loss': 'modified_huber', 'max_iter': 1000, 'penalty': 'l1'}\n",
      "0.682 (+/-0.005) for {'alpha': 0.001, 'loss': 'modified_huber', 'max_iter': 1000, 'penalty': 'l2'}\n",
      "0.797 (+/-0.027) for {'alpha': 0.001, 'loss': 'modified_huber', 'max_iter': 1000, 'penalty': 'l1'}\n",
      "0.678 (+/-0.043) for {'alpha': 0.01, 'loss': 'modified_huber', 'max_iter': 1000, 'penalty': 'l2'}\n",
      "0.774 (+/-0.005) for {'alpha': 0.01, 'loss': 'modified_huber', 'max_iter': 1000, 'penalty': 'l1'}\n",
      "0.698 (+/-0.013) for {'alpha': 0.1, 'loss': 'modified_huber', 'max_iter': 1000, 'penalty': 'l2'}\n",
      "0.582 (+/-0.076) for {'alpha': 0.1, 'loss': 'modified_huber', 'max_iter': 1000, 'penalty': 'l1'}\n",
      "\n",
      "Detailed classification report:\n",
      "\n",
      "The model is trained on the full training set.\n",
      "The scores are computed on the full development set.\n",
      "\n",
      "              precision    recall  f1-score   support\n",
      "\n",
      "           1       1.00      0.99      1.00       894\n",
      "           2       0.99      0.99      0.99       882\n",
      "           3       0.98      0.98      0.98       878\n",
      "           4       0.90      0.90      0.90       881\n",
      "           5       0.99      1.00      0.99       884\n",
      "           6       0.96      0.94      0.95       895\n",
      "           7       0.92      0.93      0.93       878\n",
      "           8       0.99      0.99      0.99       848\n",
      "\n",
      "    accuracy                           0.97      7040\n",
      "   macro avg       0.97      0.97      0.97      7040\n",
      "weighted avg       0.97      0.97      0.97      7040\n",
      "\n",
      "\n"
     ]
    }
   ],
   "source": [
    "from sklearn.model_selection import GridSearchCV\n",
    "from sklearn.metrics import classification_report\n",
    "from sklearn.linear_model import SGDClassifier\n",
    "\n",
    "# Set the parameters by cross-validation\n",
    "tuned_parameters = [{\"alpha\" : [0.0001, 0.001, 0.01, 0.1], 'loss': [\"hinge\"],\"penalty\" : [\"l2\", \"l1\"],\n",
    "                     \"max_iter\" : [1000]},\n",
    "                    {\"alpha\" : [0.0001, 0.001, 0.01, 0.1], 'loss': [\"log\"], \"penalty\" : [\"l2\", \"l1\"],\n",
    "                    \"max_iter\" : [1000]},\n",
    "                    {\"alpha\" : [0.0001, 0.001, 0.01, 0.1], 'loss': [\"perceptron\"],\"penalty\" : [\"l2\", \"l1\"],\n",
    "                    \"max_iter\" : [ 1000]},\n",
    "                    {\"alpha\" : [0.0001, 0.001, 0.01, 0.1], 'loss': [\"squared_hinge\"],\"penalty\" : [\"l2\", \"l1\"],\n",
    "                    \"max_iter\" : [1000]},\n",
    "                    {\"alpha\" : [0.0001, 0.001, 0.01, 0.1], 'loss': [\"modified_huber\"],\"penalty\" : [\"l2\", \"l1\"],\n",
    "                    \"max_iter\" : [1000]}]\n",
    "\n",
    "print(\"# Tuning hyper-parameters for SGD Classifier\")\n",
    "print()\n",
    "\n",
    "clf = GridSearchCV(SGDClassifier(random_state = 0), tuned_parameters, scoring='accuracy', cv = 2)\n",
    "\n",
    "clf.fit(X_train, y_train)\n",
    "\n",
    "print(\"Best parameters set found on training set:\")\n",
    "print()\n",
    "print(clf.best_params_)\n",
    "print()\n",
    "print(\"Grid scores on training set:\")\n",
    "print()\n",
    "means = clf.cv_results_['mean_test_score']\n",
    "stds = clf.cv_results_['std_test_score']\n",
    "for mean, std, params in zip(means, stds, clf.cv_results_['params']):\n",
    "    print(\"%0.3f (+/-%0.03f) for %r\"\n",
    "            % (mean, std * 2, params))\n",
    "print()\n",
    "\n",
    "print(\"Detailed classification report:\")\n",
    "print()\n",
    "print(\"The model is trained on the full training set.\")\n",
    "print(\"The scores are computed on the full development set.\")\n",
    "print()\n",
    "y_true, y_pred = y_dev, clf.predict(X_dev)\n",
    "print(classification_report(y_true, y_pred))\n",
    "print()"
   ]
  },
  {
   "cell_type": "code",
   "execution_count": 73,
   "metadata": {},
   "outputs": [],
   "source": [
    "#Best parameters set found on training set:\n",
    "#{'alpha': 0.001, 'loss': 'log', 'max_iter': 1000, 'penalty': 'l1'}"
   ]
  },
  {
   "cell_type": "markdown",
   "metadata": {},
   "source": [
    "# Training with tuned parameters"
   ]
  },
  {
   "cell_type": "code",
   "execution_count": 74,
   "metadata": {},
   "outputs": [
    {
     "data": {
      "text/plain": [
       "SGDClassifier(alpha=0.001, average=False, class_weight=None,\n",
       "              early_stopping=False, epsilon=0.1, eta0=0.0, fit_intercept=True,\n",
       "              l1_ratio=0.15, learning_rate='optimal', loss='log', max_iter=1000,\n",
       "              n_iter_no_change=5, n_jobs=None, penalty='l1', power_t=0.5,\n",
       "              random_state=None, shuffle=True, tol=0.001,\n",
       "              validation_fraction=0.1, verbose=0, warm_start=False)"
      ]
     },
     "execution_count": 74,
     "metadata": {},
     "output_type": "execute_result"
    }
   ],
   "source": [
    "# Training the SGD Classification model on the Training set\n",
    "from sklearn.linear_model import SGDClassifier\n",
    "classifier_SGD = SGDClassifier(loss= 'log', penalty='l1', alpha=0.001, max_iter= 1000, random_state = 0)\n",
    "classifier_SGD.fit(X_train_ovr, y_train_ovr)"
   ]
  },
  {
   "cell_type": "markdown",
   "metadata": {},
   "source": [
    "# Prediction on TestSet"
   ]
  },
  {
   "cell_type": "code",
   "execution_count": 76,
   "metadata": {},
   "outputs": [],
   "source": [
    "# Predicting the Test set results\n",
    "y_results_SGD = classifier_SGD.predict(X_test)"
   ]
  },
  {
   "cell_type": "code",
   "execution_count": 77,
   "metadata": {},
   "outputs": [
    {
     "name": "stdout",
     "output_type": "stream",
     "text": [
      "[[1 1]\n",
      " [1 1]\n",
      " [1 1]\n",
      " ...\n",
      " [8 8]\n",
      " [8 8]\n",
      " [8 8]]\n"
     ]
    }
   ],
   "source": [
    "print(np.concatenate((y_results_SGD.reshape(len(y_results_SGD),1), y_test.reshape(len(y_test),1)),1))"
   ]
  },
  {
   "cell_type": "markdown",
   "metadata": {},
   "source": [
    "# Model Evaluation"
   ]
  },
  {
   "cell_type": "code",
   "execution_count": 79,
   "metadata": {},
   "outputs": [
    {
     "data": {
      "text/plain": [
       "<matplotlib.axes._subplots.AxesSubplot at 0x26e0eb33988>"
      ]
     },
     "execution_count": 79,
     "metadata": {},
     "output_type": "execute_result"
    },
    {
     "data": {
      "image/png": "[encoded data removed]",
      "text/plain": [
       "<Figure size 720x576 with 2 Axes>"
      ]
     },
     "metadata": {
      "needs_background": "light"
     },
     "output_type": "display_data"
    }
   ],
   "source": [
    "#confusion matrix\n",
    "from sklearn.metrics import confusion_matrix\n",
    "    \n",
    "#confusion matrix   \n",
    "cm_sgd = confusion_matrix(y_test, y_results_SGD)\n",
    "array = cm_sgd\n",
    "df_cm = pd.DataFrame(array, index = [i for i in \"12345678\"],\n",
    "                  columns = [i for i in \"12345678\"])\n",
    "plt.figure(figsize = (10,8))\n",
    "sn.heatmap(df_cm, annot=True)\n"
   ]
  },
  {
   "cell_type": "code",
   "execution_count": 80,
   "metadata": {},
   "outputs": [
    {
     "name": "stdout",
     "output_type": "stream",
     "text": [
      "accuracy:0.9691761363636363\n",
      "f1_score:0.9691040520291064\n",
      "recall_score:0.9691761363636363\n",
      "precision_score:0.9691761363636363\n"
     ]
    }
   ],
   "source": [
    "#accuracy_score, f1_score, recall_score,precision_score metrics\n",
    "from sklearn.metrics import accuracy_score, f1_score, recall_score,precision_score\n",
    "#accuracy\n",
    "accuracy_sgd = accuracy_score(y_test, y_results_SGD)\n",
    "print(\"accuracy:{}\".format(accuracy_sgd))\n",
    "#F1 score    \n",
    "f1_score_sgd = f1_score(y_test, y_results_SGD, average='weighted')\n",
    "print(\"f1_score:{}\".format(f1_score_sgd))\n",
    "#Recall score\n",
    "recall_score_sgd = recall_score(y_test, y_results_SGD, average='micro')\n",
    "print(\"recall_score:{}\".format(recall_score_sgd))\n",
    "#Precision score\n",
    "precision_score_sgd = precision_score(y_test, y_results_SGD, average='micro')\n",
    "print(\"precision_score:{}\".format(precision_score_sgd))"
   ]
  },
  {
   "cell_type": "code",
   "execution_count": 81,
   "metadata": {},
   "outputs": [
    {
     "name": "stdout",
     "output_type": "stream",
     "text": [
      "              precision    recall  f1-score   support\n",
      "\n",
      "           1  0.99771429 0.99317406 0.99543900       879\n",
      "           2  0.98878924 0.99324324 0.99101124       888\n",
      "           3  0.98175599 0.98063781 0.98119658       878\n",
      "           4  0.91897891 0.92307692 0.92102336       897\n",
      "           5  0.98862344 0.99427918 0.99144324       874\n",
      "           6  0.95393258 0.96149490 0.95769882       883\n",
      "           7  0.93714286 0.91314031 0.92498590       898\n",
      "           8  0.98824912 0.99762752 0.99291617       843\n",
      "\n",
      "    accuracy                      0.96917614      7040\n",
      "   macro avg  0.96939830 0.96958424 0.96946429      7040\n",
      "weighted avg  0.96908653 0.96917614 0.96910405      7040\n",
      "\n"
     ]
    }
   ],
   "source": [
    "from sklearn import metrics\n",
    "print(metrics.classification_report(y_test, y_results_SGD, digits = 8))"
   ]
  },
  {
   "cell_type": "markdown",
   "metadata": {},
   "source": [
    "# 3. Logistic Regression Classifier"
   ]
  },
  {
   "cell_type": "markdown",
   "metadata": {},
   "source": [
    "# Model Tuning"
   ]
  },
  {
   "cell_type": "code",
   "execution_count": 99,
   "metadata": {},
   "outputs": [
    {
     "name": "stdout",
     "output_type": "stream",
     "text": [
      "# Tuning hyper-parameters for Logistic Regression Classifier\n",
      "\n",
      "Best parameters set found on training set:\n",
      "\n",
      "{'C': 0.1, 'max_iter': 250, 'solver': 'newton-cg'}\n",
      "\n",
      "Grid scores on training set:\n",
      "\n",
      "0.772 (+/-0.012) for {'C': 0.001, 'max_iter': 250, 'solver': 'newton-cg'}\n",
      "0.772 (+/-0.012) for {'C': 0.001, 'max_iter': 500, 'solver': 'newton-cg'}\n",
      "0.772 (+/-0.012) for {'C': 0.001, 'max_iter': 1000, 'solver': 'newton-cg'}\n",
      "0.772 (+/-0.012) for {'C': 0.001, 'max_iter': 1500, 'solver': 'newton-cg'}\n",
      "0.772 (+/-0.012) for {'C': 0.001, 'max_iter': 2000, 'solver': 'newton-cg'}\n",
      "0.789 (+/-0.025) for {'C': 0.01, 'max_iter': 250, 'solver': 'newton-cg'}\n",
      "0.789 (+/-0.025) for {'C': 0.01, 'max_iter': 500, 'solver': 'newton-cg'}\n",
      "0.789 (+/-0.025) for {'C': 0.01, 'max_iter': 1000, 'solver': 'newton-cg'}\n",
      "0.789 (+/-0.025) for {'C': 0.01, 'max_iter': 1500, 'solver': 'newton-cg'}\n",
      "0.789 (+/-0.025) for {'C': 0.01, 'max_iter': 2000, 'solver': 'newton-cg'}\n",
      "0.790 (+/-0.030) for {'C': 0.1, 'max_iter': 250, 'solver': 'newton-cg'}\n",
      "0.790 (+/-0.030) for {'C': 0.1, 'max_iter': 500, 'solver': 'newton-cg'}\n",
      "0.790 (+/-0.030) for {'C': 0.1, 'max_iter': 1000, 'solver': 'newton-cg'}\n",
      "0.790 (+/-0.030) for {'C': 0.1, 'max_iter': 1500, 'solver': 'newton-cg'}\n",
      "0.790 (+/-0.030) for {'C': 0.1, 'max_iter': 2000, 'solver': 'newton-cg'}\n",
      "0.783 (+/-0.015) for {'C': 1, 'max_iter': 250, 'solver': 'newton-cg'}\n",
      "0.783 (+/-0.015) for {'C': 1, 'max_iter': 500, 'solver': 'newton-cg'}\n",
      "0.783 (+/-0.015) for {'C': 1, 'max_iter': 1000, 'solver': 'newton-cg'}\n",
      "0.783 (+/-0.015) for {'C': 1, 'max_iter': 1500, 'solver': 'newton-cg'}\n",
      "0.783 (+/-0.015) for {'C': 1, 'max_iter': 2000, 'solver': 'newton-cg'}\n",
      "0.768 (+/-0.012) for {'C': 10, 'max_iter': 250, 'solver': 'newton-cg'}\n",
      "0.768 (+/-0.012) for {'C': 10, 'max_iter': 500, 'solver': 'newton-cg'}\n",
      "0.768 (+/-0.012) for {'C': 10, 'max_iter': 1000, 'solver': 'newton-cg'}\n",
      "0.768 (+/-0.012) for {'C': 10, 'max_iter': 1500, 'solver': 'newton-cg'}\n",
      "0.768 (+/-0.012) for {'C': 10, 'max_iter': 2000, 'solver': 'newton-cg'}\n",
      "0.755 (+/-0.026) for {'C': 100, 'max_iter': 250, 'solver': 'newton-cg'}\n",
      "0.755 (+/-0.026) for {'C': 100, 'max_iter': 500, 'solver': 'newton-cg'}\n",
      "0.755 (+/-0.026) for {'C': 100, 'max_iter': 1000, 'solver': 'newton-cg'}\n",
      "0.755 (+/-0.026) for {'C': 100, 'max_iter': 1500, 'solver': 'newton-cg'}\n",
      "0.755 (+/-0.026) for {'C': 100, 'max_iter': 2000, 'solver': 'newton-cg'}\n",
      "0.750 (+/-0.040) for {'C': 1000, 'max_iter': 250, 'solver': 'newton-cg'}\n",
      "0.750 (+/-0.040) for {'C': 1000, 'max_iter': 500, 'solver': 'newton-cg'}\n",
      "0.750 (+/-0.040) for {'C': 1000, 'max_iter': 1000, 'solver': 'newton-cg'}\n",
      "0.750 (+/-0.040) for {'C': 1000, 'max_iter': 1500, 'solver': 'newton-cg'}\n",
      "0.750 (+/-0.040) for {'C': 1000, 'max_iter': 2000, 'solver': 'newton-cg'}\n",
      "\n",
      "Detailed classification report:\n",
      "\n",
      "The model is trained on the full training set.\n",
      "The scores are computed on the full development set.\n",
      "\n",
      "              precision    recall  f1-score   support\n",
      "\n",
      "           1       1.00      1.00      1.00       894\n",
      "           2       1.00      1.00      1.00       882\n",
      "           3       0.98      1.00      0.99       878\n",
      "           4       0.94      0.92      0.93       881\n",
      "           5       0.99      1.00      1.00       884\n",
      "           6       0.97      0.98      0.98       895\n",
      "           7       0.93      0.94      0.93       878\n",
      "           8       1.00      0.98      0.99       848\n",
      "\n",
      "    accuracy                           0.98      7040\n",
      "   macro avg       0.98      0.98      0.98      7040\n",
      "weighted avg       0.98      0.98      0.98      7040\n",
      "\n",
      "\n"
     ]
    }
   ],
   "source": [
    "from sklearn.model_selection import GridSearchCV\n",
    "from sklearn.metrics import classification_report\n",
    "from sklearn.linear_model import LogisticRegression\n",
    "\n",
    "# Set the parameters by cross-validation\n",
    "tuned_parameters = [{ \"solver\" : ['newton-cg'],\"C\" : [0.001, 0.01, 0.1, 1, 10, 100, 1000],\"max_iter\":[250,500,1000,1500,2000]}]\n",
    "             \n",
    "\n",
    "print(\"# Tuning hyper-parameters for Logistic Regression Classifier\")\n",
    "print()\n",
    "\n",
    "clf = GridSearchCV(LogisticRegression(random_state = 0, max_iter = 1500), tuned_parameters, scoring='accuracy', cv = 2)\n",
    "\n",
    "clf.fit(X_train, y_train)\n",
    "\n",
    "print(\"Best parameters set found on training set:\")\n",
    "print()\n",
    "print(clf.best_params_)\n",
    "print()\n",
    "print(\"Grid scores on training set:\")\n",
    "print()\n",
    "means = clf.cv_results_['mean_test_score']\n",
    "stds = clf.cv_results_['std_test_score']\n",
    "for mean, std, params in zip(means, stds, clf.cv_results_['params']):\n",
    "    print(\"%0.3f (+/-%0.03f) for %r\"\n",
    "            % (mean, std * 2, params))\n",
    "print()\n",
    "\n",
    "print(\"Detailed classification report:\")\n",
    "print()\n",
    "print(\"The model is trained on the full training set.\")\n",
    "print(\"The scores are computed on the full development set.\")\n",
    "print()\n",
    "y_true, y_pred = y_dev, clf.predict(X_dev)\n",
    "print(classification_report(y_true, y_pred))\n",
    "print()"
   ]
  },
  {
   "cell_type": "code",
   "execution_count": 89,
   "metadata": {},
   "outputs": [],
   "source": [
    "#Best parameters set found on training set:\n",
    "      #{'C': 0.1, 'max_iter': 250, 'solver': 'newton-cg'}\n",
    "    \n",
    "#Note:\n",
    "#reason for dropping other solvers\n",
    "        #‘lbfgs’,‘sag’,‘saga’ : during earlier grid searches these solvers could not converge for feasible max_iters values\n",
    "        #‘liblinear’: ‘liblinear’ is limited to one-versus-rest schemes and is not suitable in handling handle multinomial loss\n",
    "                       # so not used in this multi-class problem"
   ]
  },
  {
   "cell_type": "markdown",
   "metadata": {},
   "source": [
    "# Training the Model with tuned parameters"
   ]
  },
  {
   "cell_type": "code",
   "execution_count": 100,
   "metadata": {},
   "outputs": [
    {
     "data": {
      "text/plain": [
       "LogisticRegression(C=0.1, class_weight=None, dual=False, fit_intercept=True,\n",
       "                   intercept_scaling=1, l1_ratio=None, max_iter=250,\n",
       "                   multi_class='auto', n_jobs=None, penalty='l2',\n",
       "                   random_state=0, solver='newton-cg', tol=0.0001, verbose=0,\n",
       "                   warm_start=False)"
      ]
     },
     "execution_count": 100,
     "metadata": {},
     "output_type": "execute_result"
    }
   ],
   "source": [
    "# Training the Logistic Regression classfication model on the Training set\n",
    "from sklearn.linear_model import LogisticRegression\n",
    "classifier_logreg = LogisticRegression(C= 0.1, penalty='l2', solver= 'newton-cg', max_iter= 250, random_state=0)\n",
    "classifier_logreg.fit(X_train_ovr, y_train_ovr)"
   ]
  },
  {
   "cell_type": "markdown",
   "metadata": {},
   "source": [
    "# Predicting on Test set"
   ]
  },
  {
   "cell_type": "code",
   "execution_count": 101,
   "metadata": {},
   "outputs": [],
   "source": [
    "# Predicting the Test set results\n",
    "y_results_logreg = classifier_logreg.predict(X_test)"
   ]
  },
  {
   "cell_type": "code",
   "execution_count": 102,
   "metadata": {},
   "outputs": [
    {
     "name": "stdout",
     "output_type": "stream",
     "text": [
      "[[1 1]\n",
      " [1 1]\n",
      " [1 1]\n",
      " ...\n",
      " [8 8]\n",
      " [8 8]\n",
      " [8 8]]\n"
     ]
    }
   ],
   "source": [
    "print(np.concatenate((y_results_logreg.reshape(len(y_results_logreg),1), y_test.reshape(len(y_test),1)),1))"
   ]
  },
  {
   "cell_type": "markdown",
   "metadata": {},
   "source": [
    "# Model Evalation"
   ]
  },
  {
   "cell_type": "code",
   "execution_count": 104,
   "metadata": {},
   "outputs": [
    {
     "data": {
      "text/plain": [
       "<matplotlib.axes._subplots.AxesSubplot at 0x26e0f11a948>"
      ]
     },
     "execution_count": 104,
     "metadata": {},
     "output_type": "execute_result"
    },
    {
     "data": {
      "image/png": "[encoded data removed]",
      "text/plain": [
       "<Figure size 720x576 with 2 Axes>"
      ]
     },
     "metadata": {
      "needs_background": "light"
     },
     "output_type": "display_data"
    }
   ],
   "source": [
    "#Model Evalation For Logistic Regression Classification Model\n",
    "from sklearn.metrics import confusion_matrix\n",
    "    \n",
    "#confusion matrix\n",
    "\n",
    "cm_logreg = confusion_matrix(y_test, y_results_logreg)\n",
    "array = cm_logreg \n",
    "df_cm = pd.DataFrame(array, index = [i for i in \"12345678\"],\n",
    "                  columns = [i for i in \"12345678\"])\n",
    "plt.figure(figsize = (10,8))\n",
    "sn.heatmap(df_cm, annot=True)"
   ]
  },
  {
   "cell_type": "code",
   "execution_count": 105,
   "metadata": {},
   "outputs": [
    {
     "name": "stdout",
     "output_type": "stream",
     "text": [
      "accuracy:0.9795454545454545\n",
      "f1_score:0.9794936341056684\n",
      "recall_score:0.9795454545454545\n",
      "precision_score:0.9795454545454545\n"
     ]
    }
   ],
   "source": [
    "#accuracy_score, f1_score, recall_score,precision_score metrics\n",
    "from sklearn.metrics import accuracy_score, f1_score, recall_score,precision_score\n",
    "#accuracy\n",
    "accuracy_logreg = accuracy_score(y_test, y_results_logreg)\n",
    "print(\"accuracy:{}\".format(accuracy_logreg))\n",
    "#F1 score    \n",
    "f1_score_logreg = f1_score(y_test, y_results_logreg, average='weighted')\n",
    "print(\"f1_score:{}\".format(f1_score_logreg))\n",
    "#Recall score\n",
    "recall_score_logreg = recall_score(y_test, y_results_logreg, average='micro')\n",
    "print(\"recall_score:{}\".format(recall_score_logreg))\n",
    "#Precision score\n",
    "precision_score_logreg = precision_score(y_test, y_results_logreg, average='micro')\n",
    "print(\"precision_score:{}\".format(precision_score_logreg))"
   ]
  },
  {
   "cell_type": "code",
   "execution_count": 106,
   "metadata": {},
   "outputs": [
    {
     "name": "stdout",
     "output_type": "stream",
     "text": [
      "              precision    recall  f1-score   support\n",
      "\n",
      "           1  1.00000000 1.00000000 1.00000000       879\n",
      "           2  0.99551066 0.99887387 0.99718943       888\n",
      "           3  0.98979592 0.99430524 0.99204545       878\n",
      "           4  0.94915254 0.93645485 0.94276094       897\n",
      "           5  0.99429875 0.99771167 0.99600228       874\n",
      "           6  0.97624434 0.97734994 0.97679683       883\n",
      "           7  0.93750000 0.93541203 0.93645485       898\n",
      "           8  0.99527187 0.99881376 0.99703967       843\n",
      "\n",
      "    accuracy                      0.97954545      7040\n",
      "   macro avg  0.97972176 0.97986517 0.97978618      7040\n",
      "weighted avg  0.97945656 0.97954545 0.97949363      7040\n",
      "\n"
     ]
    }
   ],
   "source": [
    "from sklearn import metrics\n",
    "print(metrics.classification_report(y_test, y_results_logreg, digits = 8))"
   ]
  },
  {
   "cell_type": "markdown",
   "metadata": {},
   "source": [
    "# 4.KNN Classifier"
   ]
  },
  {
   "cell_type": "markdown",
   "metadata": {},
   "source": [
    "# Model Tuning"
   ]
  },
  {
   "cell_type": "code",
   "execution_count": 108,
   "metadata": {},
   "outputs": [
    {
     "name": "stdout",
     "output_type": "stream",
     "text": [
      "# Tuning hyper-parameters for KNN Classifier\n",
      "\n",
      "Best parameters set found on training set:\n",
      "\n",
      "{'metric': 'manhattan', 'n_neighbors': 5, 'weights': 'distance'}\n",
      "\n",
      "Grid scores on training set:\n",
      "\n",
      "0.726 (+/-0.070) for {'metric': 'euclidean', 'n_neighbors': 5, 'weights': 'uniform'}\n",
      "0.727 (+/-0.064) for {'metric': 'euclidean', 'n_neighbors': 5, 'weights': 'distance'}\n",
      "0.727 (+/-0.066) for {'metric': 'euclidean', 'n_neighbors': 10, 'weights': 'uniform'}\n",
      "0.728 (+/-0.062) for {'metric': 'euclidean', 'n_neighbors': 10, 'weights': 'distance'}\n",
      "0.728 (+/-0.070) for {'metric': 'euclidean', 'n_neighbors': 20, 'weights': 'uniform'}\n",
      "0.729 (+/-0.065) for {'metric': 'euclidean', 'n_neighbors': 20, 'weights': 'distance'}\n",
      "0.724 (+/-0.069) for {'metric': 'euclidean', 'n_neighbors': 50, 'weights': 'uniform'}\n",
      "0.725 (+/-0.068) for {'metric': 'euclidean', 'n_neighbors': 50, 'weights': 'distance'}\n",
      "0.721 (+/-0.070) for {'metric': 'euclidean', 'n_neighbors': 100, 'weights': 'uniform'}\n",
      "0.722 (+/-0.069) for {'metric': 'euclidean', 'n_neighbors': 100, 'weights': 'distance'}\n",
      "0.718 (+/-0.074) for {'metric': 'euclidean', 'n_neighbors': 200, 'weights': 'uniform'}\n",
      "0.720 (+/-0.074) for {'metric': 'euclidean', 'n_neighbors': 200, 'weights': 'distance'}\n",
      "0.716 (+/-0.074) for {'metric': 'euclidean', 'n_neighbors': 250, 'weights': 'uniform'}\n",
      "0.718 (+/-0.073) for {'metric': 'euclidean', 'n_neighbors': 250, 'weights': 'distance'}\n",
      "0.729 (+/-0.076) for {'metric': 'manhattan', 'n_neighbors': 5, 'weights': 'uniform'}\n",
      "0.730 (+/-0.069) for {'metric': 'manhattan', 'n_neighbors': 5, 'weights': 'distance'}\n",
      "0.729 (+/-0.074) for {'metric': 'manhattan', 'n_neighbors': 10, 'weights': 'uniform'}\n",
      "0.729 (+/-0.071) for {'metric': 'manhattan', 'n_neighbors': 10, 'weights': 'distance'}\n",
      "0.728 (+/-0.074) for {'metric': 'manhattan', 'n_neighbors': 20, 'weights': 'uniform'}\n",
      "0.729 (+/-0.074) for {'metric': 'manhattan', 'n_neighbors': 20, 'weights': 'distance'}\n",
      "0.727 (+/-0.072) for {'metric': 'manhattan', 'n_neighbors': 50, 'weights': 'uniform'}\n",
      "0.727 (+/-0.070) for {'metric': 'manhattan', 'n_neighbors': 50, 'weights': 'distance'}\n",
      "0.725 (+/-0.072) for {'metric': 'manhattan', 'n_neighbors': 100, 'weights': 'uniform'}\n",
      "0.726 (+/-0.072) for {'metric': 'manhattan', 'n_neighbors': 100, 'weights': 'distance'}\n",
      "0.718 (+/-0.075) for {'metric': 'manhattan', 'n_neighbors': 200, 'weights': 'uniform'}\n",
      "0.720 (+/-0.074) for {'metric': 'manhattan', 'n_neighbors': 200, 'weights': 'distance'}\n",
      "0.717 (+/-0.077) for {'metric': 'manhattan', 'n_neighbors': 250, 'weights': 'uniform'}\n",
      "0.719 (+/-0.075) for {'metric': 'manhattan', 'n_neighbors': 250, 'weights': 'distance'}\n",
      "0.695 (+/-0.053) for {'metric': 'chebyshev', 'n_neighbors': 5, 'weights': 'uniform'}\n",
      "0.698 (+/-0.043) for {'metric': 'chebyshev', 'n_neighbors': 5, 'weights': 'distance'}\n",
      "0.696 (+/-0.050) for {'metric': 'chebyshev', 'n_neighbors': 10, 'weights': 'uniform'}\n",
      "0.696 (+/-0.044) for {'metric': 'chebyshev', 'n_neighbors': 10, 'weights': 'distance'}\n",
      "0.691 (+/-0.047) for {'metric': 'chebyshev', 'n_neighbors': 20, 'weights': 'uniform'}\n",
      "0.693 (+/-0.043) for {'metric': 'chebyshev', 'n_neighbors': 20, 'weights': 'distance'}\n",
      "0.677 (+/-0.038) for {'metric': 'chebyshev', 'n_neighbors': 50, 'weights': 'uniform'}\n",
      "0.680 (+/-0.038) for {'metric': 'chebyshev', 'n_neighbors': 50, 'weights': 'distance'}\n",
      "0.664 (+/-0.032) for {'metric': 'chebyshev', 'n_neighbors': 100, 'weights': 'uniform'}\n",
      "0.669 (+/-0.032) for {'metric': 'chebyshev', 'n_neighbors': 100, 'weights': 'distance'}\n",
      "0.645 (+/-0.034) for {'metric': 'chebyshev', 'n_neighbors': 200, 'weights': 'uniform'}\n",
      "0.650 (+/-0.035) for {'metric': 'chebyshev', 'n_neighbors': 200, 'weights': 'distance'}\n",
      "0.637 (+/-0.032) for {'metric': 'chebyshev', 'n_neighbors': 250, 'weights': 'uniform'}\n",
      "0.643 (+/-0.035) for {'metric': 'chebyshev', 'n_neighbors': 250, 'weights': 'distance'}\n",
      "\n",
      "Detailed classification report:\n",
      "\n",
      "The model is trained on the full training set.\n",
      "The scores are computed on the full development set.\n",
      "\n",
      "              precision    recall  f1-score   support\n",
      "\n",
      "           1       1.00      1.00      1.00       894\n",
      "           2       0.99      1.00      0.99       882\n",
      "           3       0.98      1.00      0.99       878\n",
      "           4       0.89      0.91      0.90       881\n",
      "           5       0.99      0.98      0.98       884\n",
      "           6       0.94      0.93      0.93       895\n",
      "           7       0.92      0.90      0.91       878\n",
      "           8       1.00      0.97      0.98       848\n",
      "\n",
      "    accuracy                           0.96      7040\n",
      "   macro avg       0.96      0.96      0.96      7040\n",
      "weighted avg       0.96      0.96      0.96      7040\n",
      "\n",
      "\n"
     ]
    }
   ],
   "source": [
    "from sklearn.model_selection import GridSearchCV\n",
    "from sklearn.metrics import classification_report\n",
    "from sklearn.neighbors import KNeighborsClassifier\n",
    "\n",
    "# Set the parameters by cross-validation\n",
    "tuned_parameters = [ {\"metric\":['euclidean'], \"n_neighbors\":[5, 10, 20, 50, 100, 200, 250], \"weights\":['uniform','distance']},\n",
    "                     {\"metric\":['manhattan'], \"n_neighbors\":[5, 10, 20, 50, 100, 200, 250], \"weights\":['uniform','distance']},\n",
    "                     {\"metric\":['chebyshev'], \"n_neighbors\":[5, 10, 20, 50, 100, 200, 250], \"weights\":['uniform','distance']}\n",
    "                     ]\n",
    "             \n",
    "\n",
    "print(\"# Tuning hyper-parameters for KNN Classifier\")\n",
    "print()\n",
    "\n",
    "clf = GridSearchCV(KNeighborsClassifier(), tuned_parameters, scoring='accuracy', cv = 2)\n",
    "\n",
    "clf.fit(X_train, y_train)\n",
    "\n",
    "print(\"Best parameters set found on training set:\")\n",
    "print()\n",
    "print(clf.best_params_)\n",
    "print()\n",
    "print(\"Grid scores on training set:\")\n",
    "print()\n",
    "means = clf.cv_results_['mean_test_score']\n",
    "stds = clf.cv_results_['std_test_score']\n",
    "for mean, std, params in zip(means, stds, clf.cv_results_['params']):\n",
    "    print(\"%0.3f (+/-%0.03f) for %r\"\n",
    "            % (mean, std * 2, params))\n",
    "print()\n",
    "\n",
    "print(\"Detailed classification report:\")\n",
    "print()\n",
    "print(\"The model is trained on the full training set.\")\n",
    "print(\"The scores are computed on the full development set.\")\n",
    "print()\n",
    "y_true, y_pred = y_dev, clf.predict(X_dev)\n",
    "print(classification_report(y_true, y_pred))\n",
    "print()"
   ]
  },
  {
   "cell_type": "code",
   "execution_count": null,
   "metadata": {},
   "outputs": [],
   "source": [
    "#Best parameters set found on training set:\n",
    "     #{'metric': 'manhattan', 'n_neighbors': 5, 'weights': 'distance'}"
   ]
  },
  {
   "cell_type": "markdown",
   "metadata": {},
   "source": [
    "# Training the Model with tuned parameters"
   ]
  },
  {
   "cell_type": "code",
   "execution_count": 115,
   "metadata": {},
   "outputs": [
    {
     "data": {
      "text/plain": [
       "KNeighborsClassifier(algorithm='auto', leaf_size=30, metric='manhattan',\n",
       "                     metric_params=None, n_jobs=None, n_neighbors=5, p=2,\n",
       "                     weights='distance')"
      ]
     },
     "execution_count": 115,
     "metadata": {},
     "output_type": "execute_result"
    }
   ],
   "source": [
    "from sklearn.neighbors import KNeighborsClassifier\n",
    "# Training the Logistic Regression classfication model on the Training set\n",
    "classifier_knn = KNeighborsClassifier( metric = 'manhattan', n_neighbors = 5, weights= 'distance')\n",
    "# fitting the model\n",
    "classifier_knn.fit(X_train_ovr,y_train_ovr)"
   ]
  },
  {
   "cell_type": "markdown",
   "metadata": {},
   "source": [
    "# Predicting results for Test set"
   ]
  },
  {
   "cell_type": "code",
   "execution_count": 116,
   "metadata": {},
   "outputs": [],
   "source": [
    "# Predicting the Test set results\n",
    "y_results_knn = classifier_knn.predict(X_test)"
   ]
  },
  {
   "cell_type": "code",
   "execution_count": 117,
   "metadata": {},
   "outputs": [
    {
     "name": "stdout",
     "output_type": "stream",
     "text": [
      "[[1 1]\n",
      " [1 1]\n",
      " [1 1]\n",
      " ...\n",
      " [8 8]\n",
      " [8 8]\n",
      " [8 8]]\n"
     ]
    }
   ],
   "source": [
    "print(np.concatenate((y_results_knn.reshape(len(y_results_knn),1), y_test.reshape(len(y_test),1)),1))"
   ]
  },
  {
   "cell_type": "markdown",
   "metadata": {},
   "source": [
    "# Model Evaluation"
   ]
  },
  {
   "cell_type": "code",
   "execution_count": 118,
   "metadata": {},
   "outputs": [
    {
     "data": {
      "text/plain": [
       "<matplotlib.axes._subplots.AxesSubplot at 0x26e1397a6c8>"
      ]
     },
     "execution_count": 118,
     "metadata": {},
     "output_type": "execute_result"
    },
    {
     "data": {
      "image/png": "[encoded data removed]",
      "text/plain": [
       "<Figure size 720x576 with 2 Axes>"
      ]
     },
     "metadata": {
      "needs_background": "light"
     },
     "output_type": "display_data"
    }
   ],
   "source": [
    "#Model Evalation For Logistic Regression Classification Model\n",
    "from sklearn.metrics import confusion_matrix\n",
    "    \n",
    "#confusion matrix\n",
    "\n",
    "cm_logreg = confusion_matrix(y_test, y_results_knn)\n",
    "array = cm_logreg \n",
    "df_cm = pd.DataFrame(array, index = [i for i in \"12345678\"],\n",
    "                  columns = [i for i in \"12345678\"])\n",
    "plt.figure(figsize = (10,8))\n",
    "sn.heatmap(df_cm, annot=True)"
   ]
  },
  {
   "cell_type": "code",
   "execution_count": 119,
   "metadata": {},
   "outputs": [
    {
     "name": "stdout",
     "output_type": "stream",
     "text": [
      "accuracy:0.9764204545454546\n",
      "f1_score:0.9763387227549893\n",
      "recall_score:0.9764204545454546\n",
      "precision_score:0.9764204545454546\n"
     ]
    }
   ],
   "source": [
    "#accuracy_score, f1_score, recall_score,precision_score metrics\n",
    "from sklearn.metrics import accuracy_score, f1_score, recall_score,precision_score\n",
    "#accuracy\n",
    "accuracy_logreg = accuracy_score(y_test, y_results_knn)\n",
    "print(\"accuracy:{}\".format(accuracy_logreg))\n",
    "#F1 score    \n",
    "f1_score_logreg = f1_score(y_test, y_results_knn, average='weighted')\n",
    "print(\"f1_score:{}\".format(f1_score_logreg))\n",
    "#Recall score\n",
    "recall_score_logreg = recall_score(y_test, y_results_knn, average='micro')\n",
    "print(\"recall_score:{}\".format(recall_score_logreg))\n",
    "#Precision score\n",
    "precision_score_logreg = precision_score(y_test, y_results_knn, average='micro')\n",
    "print(\"precision_score:{}\".format(precision_score_logreg))"
   ]
  },
  {
   "cell_type": "code",
   "execution_count": 120,
   "metadata": {},
   "outputs": [
    {
     "name": "stdout",
     "output_type": "stream",
     "text": [
      "              precision    recall  f1-score   support\n",
      "\n",
      "           1  1.00000000 1.00000000 1.00000000       879\n",
      "           2  0.99662542 0.99774775 0.99718627       888\n",
      "           3  0.98871332 0.99772210 0.99319728       878\n",
      "           4  0.93282774 0.95986622 0.94615385       897\n",
      "           5  0.99195402 0.98741419 0.98967890       874\n",
      "           6  0.95195531 0.96489241 0.95838020       883\n",
      "           7  0.95204678 0.90645880 0.92869367       898\n",
      "           8  1.00000000 1.00000000 1.00000000       843\n",
      "\n",
      "    accuracy                      0.97642045      7040\n",
      "   macro avg  0.97676532 0.97676268 0.97666127      7040\n",
      "weighted avg  0.97646627 0.97642045 0.97633872      7040\n",
      "\n"
     ]
    }
   ],
   "source": [
    "#Classification report\n",
    "from sklearn import metrics\n",
    "print(metrics.classification_report(y_test, y_results_knn, digits = 8))"
   ]
  },
  {
   "cell_type": "markdown",
   "metadata": {},
   "source": [
    "# SUMMARY"
   ]
  },
  {
   "cell_type": "markdown",
   "metadata": {},
   "source": [
    "NOTES:\n",
    "    1. Accuracy is a better metric in indicating the performance in this application as there is negligible class imbalance.\n",
    "    2. GridSearchCV was used to search through parameters & get the best set of parameters for the above models.\n",
    "    3. Modified train set i.e train set & dev set were created on which models with tuned parameters were trained.\n",
    "    4. Finally prediction was done on test set.\n",
    "    5. Accuracy obtained for different models are as follows:\n",
    "              1. SVM Classifier --------------------> 99.289%\n",
    "              2. SGD Classifier --------------------> 96.917%\n",
    "              3. Logistics Regression Classifier ---> 97.954%\n",
    "              4. KNN Classifier --------------------> 97.642% "
   ]
  }
 ],
 "metadata": {
  "kernelspec": {
   "display_name": "Python 3",
   "language": "python",
   "name": "python3"
  },
  "language_info": {
   "codemirror_mode": {
    "name": "ipython",
    "version": 3
   },
   "file_extension": ".py",
   "mimetype": "text/x-python",
   "name": "python",
   "nbconvert_exporter": "python",
   "pygments_lexer": "ipython3",
   "version": "3.7.6"
  }
 },
 "nbformat": 4,
 "nbformat_minor": 4
}
