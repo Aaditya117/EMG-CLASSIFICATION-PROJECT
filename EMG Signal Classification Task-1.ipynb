{
 "cells": [
  {
   "cell_type": "markdown",
   "metadata": {},
   "source": [
    "# ML MODELS FOR EMG CLASSIFICATION"
   ]
  },
  {
   "cell_type": "markdown",
   "metadata": {},
   "source": [
    "# Importing the libraries"
   ]
  },
  {
   "cell_type": "code",
   "execution_count": 2,
   "metadata": {},
   "outputs": [],
   "source": [
    "# Importing the libraries\n",
    "import numpy as np\n",
    "import pandas as pd\n",
    "import seaborn as sn\n",
    "import matplotlib.pyplot as plt"
   ]
  },
  {
   "cell_type": "markdown",
   "metadata": {},
   "source": [
    "# Importing the dataset"
   ]
  },
  {
   "cell_type": "code",
   "execution_count": 3,
   "metadata": {},
   "outputs": [],
   "source": [
    "# Importing the train_set\n",
    "train_dataset = pd.read_csv('trainset_60.csv')\n",
    "X_train = train_dataset.iloc[:, :-1].values\n",
    "y_train = train_dataset.iloc[:, -1].values"
   ]
  },
  {
   "cell_type": "code",
   "execution_count": 4,
   "metadata": {},
   "outputs": [],
   "source": [
    "# Importing the dev_set\n",
    "dev_dataset = pd.read_csv('validate_20.csv')\n",
    "X_dev = dev_dataset.iloc[:, :-1].values\n",
    "y_dev = dev_dataset.iloc[:, -1].values"
   ]
  },
  {
   "cell_type": "code",
   "execution_count": 5,
   "metadata": {},
   "outputs": [],
   "source": [
    "# Importing the test_set\n",
    "test_dataset = pd.read_csv('testset_20.csv')\n",
    "X_test = test_dataset.iloc[:, :-1].values\n",
    "y_test = test_dataset.iloc[:, -1].values"
   ]
  },
  {
   "cell_type": "markdown",
   "metadata": {},
   "source": [
    "# Feature Scaling"
   ]
  },
  {
   "cell_type": "code",
   "execution_count": 6,
   "metadata": {},
   "outputs": [],
   "source": [
    "# Feature Scaling\n",
    "from sklearn.preprocessing import StandardScaler\n",
    "sc = StandardScaler()\n",
    "X_train = sc.fit_transform(X_train)\n",
    "X_dev = sc.fit_transform(X_dev)\n",
    "X_test = sc.transform(X_test)"
   ]
  },
  {
   "cell_type": "markdown",
   "metadata": {},
   "source": [
    "# Dataset Analysis"
   ]
  },
  {
   "cell_type": "code",
   "execution_count": 7,
   "metadata": {},
   "outputs": [
    {
     "name": "stdout",
     "output_type": "stream",
     "text": [
      "[[-1.90815765 -2.07145225 -1.65976075 ...  0.28777429  0.10169213\n",
      "  -1.28297814]\n",
      " [-1.54060044 -1.75309426 -1.23159258 ...  0.48136172 -0.06873272\n",
      "  -1.59648631]\n",
      " [-1.57129911 -2.08981807 -1.46895219 ...  0.27404184 -0.73910521\n",
      "  -0.12443136]\n",
      " ...\n",
      " [ 2.13391584  1.78339061  2.18649685 ... -0.3352874   0.51414358\n",
      "  -1.78324017]\n",
      " [ 1.67669939  1.44978949  1.9996626  ...  0.09095603  0.40732187\n",
      "  -1.40817977]\n",
      " [ 1.67393146  1.64460677  2.12679152 ...  0.09353653  0.32284431\n",
      "  -2.13229583]]\n"
     ]
    }
   ],
   "source": [
    "print(X_train)"
   ]
  },
  {
   "cell_type": "code",
   "execution_count": 8,
   "metadata": {},
   "outputs": [
    {
     "name": "stdout",
     "output_type": "stream",
     "text": [
      "[[-1.61878804 -1.96346788 -1.51493239 ...  0.42753289 -0.58065494\n",
      "  -1.47258398]\n",
      " [-1.11283496 -2.08258309 -1.4206058  ...  0.42297098 -0.13847814\n",
      "  -0.29632955]\n",
      " [-0.91098495 -1.98802451 -1.42193222 ...  0.29841291  0.37169066\n",
      "  -0.88285218]\n",
      " ...\n",
      " [ 1.87246561  2.00294689  2.3221959  ... -0.08439382  0.33340883\n",
      "  -2.70096261]\n",
      " [ 1.64101472  1.78724614  2.54077962 ... -0.55195137  0.22116299\n",
      "  -1.68610678]\n",
      " [ 1.59631904  1.61827611  2.17404237 ... -0.06295117  0.25410034\n",
      "  -1.93063644]]\n"
     ]
    }
   ],
   "source": [
    "print(X_dev)"
   ]
  },
  {
   "cell_type": "code",
   "execution_count": 9,
   "metadata": {},
   "outputs": [
    {
     "name": "stdout",
     "output_type": "stream",
     "text": [
      "[[-0.91792421 -1.83075678 -1.4311876  ...  0.20600426  0.34229093\n",
      "  -1.17610739]\n",
      " [-0.84517292 -1.92407844 -1.40438908 ...  0.25326965 -0.85664689\n",
      "  -1.03121374]\n",
      " [-1.35877182 -2.07581788 -1.40230985 ...  0.43330661 -0.30244812\n",
      "  -1.47309306]\n",
      " ...\n",
      " [ 1.61851352  1.40961467  2.12820158 ...  0.03408372  0.15318471\n",
      "  -2.18941563]\n",
      " [ 1.66925428  1.64115399  2.33362096 ... -0.31589099  0.55278223\n",
      "  -2.17871956]\n",
      " [ 1.9255842   1.62686538  2.61796835 ...  0.08216561  0.47762526\n",
      "  -1.65086725]]\n"
     ]
    }
   ],
   "source": [
    "print(X_test)"
   ]
  },
  {
   "cell_type": "code",
   "execution_count": 10,
   "metadata": {},
   "outputs": [
    {
     "data": {
      "text/plain": [
       "(19776, 42)"
      ]
     },
     "execution_count": 10,
     "metadata": {},
     "output_type": "execute_result"
    }
   ],
   "source": [
    "np.shape(X_train)"
   ]
  },
  {
   "cell_type": "code",
   "execution_count": 11,
   "metadata": {},
   "outputs": [
    {
     "data": {
      "text/plain": [
       "(7040, 42)"
      ]
     },
     "execution_count": 11,
     "metadata": {},
     "output_type": "execute_result"
    }
   ],
   "source": [
    "np.shape(X_dev)"
   ]
  },
  {
   "cell_type": "code",
   "execution_count": 12,
   "metadata": {},
   "outputs": [
    {
     "data": {
      "text/plain": [
       "(7040, 42)"
      ]
     },
     "execution_count": 12,
     "metadata": {},
     "output_type": "execute_result"
    }
   ],
   "source": [
    "np.shape(X_test)"
   ]
  },
  {
   "cell_type": "code",
   "execution_count": 13,
   "metadata": {},
   "outputs": [
    {
     "data": {
      "text/plain": [
       "(19776,)"
      ]
     },
     "execution_count": 13,
     "metadata": {},
     "output_type": "execute_result"
    }
   ],
   "source": [
    "np.shape(y_train)"
   ]
  },
  {
   "cell_type": "code",
   "execution_count": 14,
   "metadata": {},
   "outputs": [
    {
     "data": {
      "text/plain": [
       "array([1, 1, 1, ..., 8, 8, 8], dtype=int64)"
      ]
     },
     "execution_count": 14,
     "metadata": {},
     "output_type": "execute_result"
    }
   ],
   "source": [
    "y_train"
   ]
  },
  {
   "cell_type": "code",
   "execution_count": 15,
   "metadata": {},
   "outputs": [
    {
     "data": {
      "text/plain": [
       "(7040,)"
      ]
     },
     "execution_count": 15,
     "metadata": {},
     "output_type": "execute_result"
    }
   ],
   "source": [
    "np.shape(y_dev)"
   ]
  },
  {
   "cell_type": "code",
   "execution_count": 16,
   "metadata": {},
   "outputs": [
    {
     "data": {
      "text/plain": [
       "(7040,)"
      ]
     },
     "execution_count": 16,
     "metadata": {},
     "output_type": "execute_result"
    }
   ],
   "source": [
    "np.shape(y_test)"
   ]
  },
  {
   "cell_type": "code",
   "execution_count": 17,
   "metadata": {},
   "outputs": [
    {
     "data": {
      "text/plain": [
       "array([1, 1, 1, ..., 8, 8, 8], dtype=int64)"
      ]
     },
     "execution_count": 17,
     "metadata": {},
     "output_type": "execute_result"
    }
   ],
   "source": [
    "y_test"
   ]
  },
  {
   "cell_type": "markdown",
   "metadata": {},
   "source": [
    "# 1. SVM Classifier"
   ]
  },
  {
   "cell_type": "markdown",
   "metadata": {},
   "source": [
    "# MODEL TUNING"
   ]
  },
  {
   "cell_type": "code",
   "execution_count": 82,
   "metadata": {},
   "outputs": [
    {
     "name": "stdout",
     "output_type": "stream",
     "text": [
      "# Tuning hyper-parameters for SVC\n",
      "\n",
      "Best parameters set found on training set:\n",
      "\n",
      "{'C': 100, 'gamma': 'auto', 'kernel': 'rbf'}\n",
      "\n",
      "Grid scores on training set:\n",
      "\n",
      "0.771 (+/-0.064) for {'C': 1, 'gamma': 'scale', 'kernel': 'rbf'}\n",
      "0.771 (+/-0.063) for {'C': 1, 'gamma': 'auto', 'kernel': 'rbf'}\n",
      "0.355 (+/-0.095) for {'C': 1, 'gamma': 1e-05, 'kernel': 'rbf'}\n",
      "0.728 (+/-0.012) for {'C': 1, 'gamma': 0.0001, 'kernel': 'rbf'}\n",
      "0.756 (+/-0.027) for {'C': 1, 'gamma': 0.001, 'kernel': 'rbf'}\n",
      "0.775 (+/-0.068) for {'C': 10, 'gamma': 'scale', 'kernel': 'rbf'}\n",
      "0.775 (+/-0.068) for {'C': 10, 'gamma': 'auto', 'kernel': 'rbf'}\n",
      "0.728 (+/-0.013) for {'C': 10, 'gamma': 1e-05, 'kernel': 'rbf'}\n",
      "0.754 (+/-0.029) for {'C': 10, 'gamma': 0.0001, 'kernel': 'rbf'}\n",
      "0.769 (+/-0.009) for {'C': 10, 'gamma': 0.001, 'kernel': 'rbf'}\n",
      "0.778 (+/-0.073) for {'C': 100, 'gamma': 'scale', 'kernel': 'rbf'}\n",
      "0.779 (+/-0.073) for {'C': 100, 'gamma': 'auto', 'kernel': 'rbf'}\n",
      "0.754 (+/-0.029) for {'C': 100, 'gamma': 1e-05, 'kernel': 'rbf'}\n",
      "0.769 (+/-0.014) for {'C': 100, 'gamma': 0.0001, 'kernel': 'rbf'}\n",
      "0.774 (+/-0.001) for {'C': 100, 'gamma': 0.001, 'kernel': 'rbf'}\n",
      "0.778 (+/-0.072) for {'C': 1000, 'gamma': 'scale', 'kernel': 'rbf'}\n",
      "0.778 (+/-0.072) for {'C': 1000, 'gamma': 'auto', 'kernel': 'rbf'}\n",
      "0.769 (+/-0.015) for {'C': 1000, 'gamma': 1e-05, 'kernel': 'rbf'}\n",
      "0.774 (+/-0.003) for {'C': 1000, 'gamma': 0.0001, 'kernel': 'rbf'}\n",
      "0.773 (+/-0.020) for {'C': 1000, 'gamma': 0.001, 'kernel': 'rbf'}\n",
      "0.774 (+/-0.000) for {'C': 1, 'kernel': 'linear'}\n",
      "0.772 (+/-0.008) for {'C': 10, 'kernel': 'linear'}\n",
      "0.769 (+/-0.017) for {'C': 100, 'kernel': 'linear'}\n",
      "0.769 (+/-0.015) for {'C': 1000, 'kernel': 'linear'}\n",
      "0.691 (+/-0.006) for {'C': 1, 'degree': 2, 'gamma': 'scale', 'kernel': 'poly'}\n",
      "0.690 (+/-0.007) for {'C': 1, 'degree': 2, 'gamma': 'auto', 'kernel': 'poly'}\n",
      "0.126 (+/-0.000) for {'C': 1, 'degree': 2, 'gamma': 1e-05, 'kernel': 'poly'}\n",
      "0.126 (+/-0.000) for {'C': 1, 'degree': 2, 'gamma': 0.0001, 'kernel': 'poly'}\n",
      "0.281 (+/-0.018) for {'C': 1, 'degree': 2, 'gamma': 0.001, 'kernel': 'poly'}\n",
      "0.671 (+/-0.041) for {'C': 1, 'degree': 3, 'gamma': 'scale', 'kernel': 'poly'}\n",
      "0.670 (+/-0.038) for {'C': 1, 'degree': 3, 'gamma': 'auto', 'kernel': 'poly'}\n",
      "0.126 (+/-0.000) for {'C': 1, 'degree': 3, 'gamma': 1e-05, 'kernel': 'poly'}\n",
      "0.126 (+/-0.000) for {'C': 1, 'degree': 3, 'gamma': 0.0001, 'kernel': 'poly'}\n",
      "0.156 (+/-0.019) for {'C': 1, 'degree': 3, 'gamma': 0.001, 'kernel': 'poly'}\n",
      "0.555 (+/-0.042) for {'C': 1, 'degree': 5, 'gamma': 'scale', 'kernel': 'poly'}\n",
      "0.545 (+/-0.029) for {'C': 1, 'degree': 5, 'gamma': 'auto', 'kernel': 'poly'}\n",
      "0.126 (+/-0.000) for {'C': 1, 'degree': 5, 'gamma': 1e-05, 'kernel': 'poly'}\n",
      "0.126 (+/-0.000) for {'C': 1, 'degree': 5, 'gamma': 0.0001, 'kernel': 'poly'}\n",
      "0.126 (+/-0.000) for {'C': 1, 'degree': 5, 'gamma': 0.001, 'kernel': 'poly'}\n",
      "0.709 (+/-0.014) for {'C': 10, 'degree': 2, 'gamma': 'scale', 'kernel': 'poly'}\n",
      "0.709 (+/-0.014) for {'C': 10, 'degree': 2, 'gamma': 'auto', 'kernel': 'poly'}\n",
      "0.126 (+/-0.000) for {'C': 10, 'degree': 2, 'gamma': 1e-05, 'kernel': 'poly'}\n",
      "0.147 (+/-0.031) for {'C': 10, 'degree': 2, 'gamma': 0.0001, 'kernel': 'poly'}\n",
      "0.552 (+/-0.045) for {'C': 10, 'degree': 2, 'gamma': 0.001, 'kernel': 'poly'}\n",
      "0.707 (+/-0.003) for {'C': 10, 'degree': 3, 'gamma': 'scale', 'kernel': 'poly'}\n",
      "0.707 (+/-0.002) for {'C': 10, 'degree': 3, 'gamma': 'auto', 'kernel': 'poly'}\n",
      "0.126 (+/-0.000) for {'C': 10, 'degree': 3, 'gamma': 1e-05, 'kernel': 'poly'}\n",
      "0.126 (+/-0.000) for {'C': 10, 'degree': 3, 'gamma': 0.0001, 'kernel': 'poly'}\n",
      "0.217 (+/-0.023) for {'C': 10, 'degree': 3, 'gamma': 0.001, 'kernel': 'poly'}\n",
      "0.606 (+/-0.033) for {'C': 10, 'degree': 5, 'gamma': 'scale', 'kernel': 'poly'}\n",
      "0.605 (+/-0.025) for {'C': 10, 'degree': 5, 'gamma': 'auto', 'kernel': 'poly'}\n",
      "0.126 (+/-0.000) for {'C': 10, 'degree': 5, 'gamma': 1e-05, 'kernel': 'poly'}\n",
      "0.126 (+/-0.000) for {'C': 10, 'degree': 5, 'gamma': 0.0001, 'kernel': 'poly'}\n",
      "0.126 (+/-0.000) for {'C': 10, 'degree': 5, 'gamma': 0.001, 'kernel': 'poly'}\n",
      "0.718 (+/-0.022) for {'C': 100, 'degree': 2, 'gamma': 'scale', 'kernel': 'poly'}\n",
      "0.718 (+/-0.022) for {'C': 100, 'degree': 2, 'gamma': 'auto', 'kernel': 'poly'}\n",
      "0.126 (+/-0.000) for {'C': 100, 'degree': 2, 'gamma': 1e-05, 'kernel': 'poly'}\n",
      "0.281 (+/-0.018) for {'C': 100, 'degree': 2, 'gamma': 0.0001, 'kernel': 'poly'}\n",
      "0.660 (+/-0.008) for {'C': 100, 'degree': 2, 'gamma': 0.001, 'kernel': 'poly'}\n",
      "0.722 (+/-0.008) for {'C': 100, 'degree': 3, 'gamma': 'scale', 'kernel': 'poly'}\n",
      "0.722 (+/-0.008) for {'C': 100, 'degree': 3, 'gamma': 'auto', 'kernel': 'poly'}\n",
      "0.126 (+/-0.000) for {'C': 100, 'degree': 3, 'gamma': 1e-05, 'kernel': 'poly'}\n",
      "0.126 (+/-0.000) for {'C': 100, 'degree': 3, 'gamma': 0.0001, 'kernel': 'poly'}\n",
      "0.361 (+/-0.026) for {'C': 100, 'degree': 3, 'gamma': 0.001, 'kernel': 'poly'}\n",
      "0.662 (+/-0.015) for {'C': 100, 'degree': 5, 'gamma': 'scale', 'kernel': 'poly'}\n",
      "0.661 (+/-0.010) for {'C': 100, 'degree': 5, 'gamma': 'auto', 'kernel': 'poly'}\n",
      "0.126 (+/-0.000) for {'C': 100, 'degree': 5, 'gamma': 1e-05, 'kernel': 'poly'}\n",
      "0.126 (+/-0.000) for {'C': 100, 'degree': 5, 'gamma': 0.0001, 'kernel': 'poly'}\n",
      "0.160 (+/-0.011) for {'C': 100, 'degree': 5, 'gamma': 0.001, 'kernel': 'poly'}\n",
      "0.719 (+/-0.018) for {'C': 1000, 'degree': 2, 'gamma': 'scale', 'kernel': 'poly'}\n",
      "0.719 (+/-0.018) for {'C': 1000, 'degree': 2, 'gamma': 'auto', 'kernel': 'poly'}\n",
      "0.147 (+/-0.031) for {'C': 1000, 'degree': 2, 'gamma': 1e-05, 'kernel': 'poly'}\n",
      "0.552 (+/-0.045) for {'C': 1000, 'degree': 2, 'gamma': 0.0001, 'kernel': 'poly'}\n",
      "0.697 (+/-0.006) for {'C': 1000, 'degree': 2, 'gamma': 0.001, 'kernel': 'poly'}\n",
      "0.725 (+/-0.002) for {'C': 1000, 'degree': 3, 'gamma': 'scale', 'kernel': 'poly'}\n",
      "0.725 (+/-0.002) for {'C': 1000, 'degree': 3, 'gamma': 'auto', 'kernel': 'poly'}\n",
      "0.126 (+/-0.000) for {'C': 1000, 'degree': 3, 'gamma': 1e-05, 'kernel': 'poly'}\n",
      "0.156 (+/-0.019) for {'C': 1000, 'degree': 3, 'gamma': 0.0001, 'kernel': 'poly'}\n",
      "0.570 (+/-0.029) for {'C': 1000, 'degree': 3, 'gamma': 0.001, 'kernel': 'poly'}\n",
      "0.676 (+/-0.009) for {'C': 1000, 'degree': 5, 'gamma': 'scale', 'kernel': 'poly'}\n",
      "0.676 (+/-0.008) for {'C': 1000, 'degree': 5, 'gamma': 'auto', 'kernel': 'poly'}\n",
      "0.126 (+/-0.000) for {'C': 1000, 'degree': 5, 'gamma': 1e-05, 'kernel': 'poly'}\n",
      "0.126 (+/-0.000) for {'C': 1000, 'degree': 5, 'gamma': 0.0001, 'kernel': 'poly'}\n",
      "0.183 (+/-0.005) for {'C': 1000, 'degree': 5, 'gamma': 0.001, 'kernel': 'poly'}\n",
      "0.672 (+/-0.043) for {'C': 1, 'gamma': 'scale', 'kernel': 'sigmoid'}\n",
      "0.671 (+/-0.051) for {'C': 1, 'gamma': 'auto', 'kernel': 'sigmoid'}\n",
      "0.193 (+/-0.054) for {'C': 1, 'gamma': 1e-05, 'kernel': 'sigmoid'}\n",
      "0.693 (+/-0.007) for {'C': 1, 'gamma': 0.0001, 'kernel': 'sigmoid'}\n",
      "0.747 (+/-0.033) for {'C': 1, 'gamma': 0.001, 'kernel': 'sigmoid'}\n",
      "0.647 (+/-0.027) for {'C': 10, 'gamma': 'scale', 'kernel': 'sigmoid'}\n",
      "0.645 (+/-0.040) for {'C': 10, 'gamma': 'auto', 'kernel': 'sigmoid'}\n",
      "0.693 (+/-0.007) for {'C': 10, 'gamma': 1e-05, 'kernel': 'sigmoid'}\n",
      "0.747 (+/-0.034) for {'C': 10, 'gamma': 0.0001, 'kernel': 'sigmoid'}\n",
      "0.766 (+/-0.018) for {'C': 10, 'gamma': 0.001, 'kernel': 'sigmoid'}\n",
      "0.670 (+/-0.012) for {'C': 100, 'gamma': 'scale', 'kernel': 'sigmoid'}\n",
      "0.670 (+/-0.006) for {'C': 100, 'gamma': 'auto', 'kernel': 'sigmoid'}\n",
      "0.747 (+/-0.034) for {'C': 100, 'gamma': 1e-05, 'kernel': 'sigmoid'}\n",
      "0.766 (+/-0.018) for {'C': 100, 'gamma': 0.0001, 'kernel': 'sigmoid'}\n",
      "0.771 (+/-0.010) for {'C': 100, 'gamma': 0.001, 'kernel': 'sigmoid'}\n",
      "0.668 (+/-0.012) for {'C': 1000, 'gamma': 'scale', 'kernel': 'sigmoid'}\n",
      "0.647 (+/-0.035) for {'C': 1000, 'gamma': 'auto', 'kernel': 'sigmoid'}\n",
      "0.766 (+/-0.018) for {'C': 1000, 'gamma': 1e-05, 'kernel': 'sigmoid'}\n",
      "0.770 (+/-0.010) for {'C': 1000, 'gamma': 0.0001, 'kernel': 'sigmoid'}\n",
      "0.774 (+/-0.000) for {'C': 1000, 'gamma': 0.001, 'kernel': 'sigmoid'}\n",
      "\n",
      "Detailed classification report:\n",
      "\n",
      "The model is trained on the full training set.\n",
      "The scores are computed on the full development set.\n",
      "\n",
      "              precision    recall  f1-score   support\n",
      "\n",
      "           1       1.00      1.00      1.00       894\n",
      "           2       1.00      1.00      1.00       882\n",
      "           3       0.98      1.00      0.99       878\n",
      "           4       0.91      0.95      0.93       881\n",
      "           5       1.00      1.00      1.00       884\n",
      "           6       0.98      0.98      0.98       895\n",
      "           7       0.94      0.93      0.94       878\n",
      "           8       1.00      0.95      0.97       848\n",
      "\n",
      "    accuracy                           0.98      7040\n",
      "   macro avg       0.98      0.98      0.98      7040\n",
      "weighted avg       0.98      0.98      0.98      7040\n",
      "\n",
      "\n"
     ]
    }
   ],
   "source": [
    "from sklearn.model_selection import GridSearchCV\n",
    "from sklearn.metrics import classification_report\n",
    "from sklearn.svm import SVC\n",
    "\n",
    "# Set the parameters by cross-validation\n",
    "tuned_parameters = [{'C': [1,10,100,1000], 'kernel': ['rbf'],'gamma': ['scale','auto', 0.00001, 0.0001, 0.001]},\n",
    "             {'C': [1,10,100,1000], 'kernel': ['linear']},\n",
    "             {'C': [1,10,100,1000], 'kernel': ['poly'],'degree': [2,3,5],'gamma': ['scale', 'auto', 0.00001, 0.0001, 0.001]},\n",
    "             {'C': [1,10,100,1000], 'kernel': ['sigmoid'],'gamma': ['scale', 'auto', 0.00001, 0.0001, 0.001]}]          \n",
    "             \n",
    "\n",
    "print(\"# Tuning hyper-parameters for SVC\")\n",
    "print()\n",
    "\n",
    "clf = GridSearchCV(SVC(random_state = 0), tuned_parameters, scoring='accuracy', cv = 2)\n",
    "\n",
    "clf.fit(X_train, y_train)\n",
    "\n",
    "print(\"Best parameters set found on training set:\")\n",
    "print()\n",
    "print(clf.best_params_)\n",
    "print()\n",
    "print(\"Grid scores on training set:\")\n",
    "print()\n",
    "means = clf.cv_results_['mean_test_score']\n",
    "stds = clf.cv_results_['std_test_score']\n",
    "for mean, std, params in zip(means, stds, clf.cv_results_['params']):\n",
    "    print(\"%0.3f (+/-%0.03f) for %r\"\n",
    "            % (mean, std * 2, params))\n",
    "print()\n",
    "\n",
    "print(\"Detailed classification report:\")\n",
    "print()\n",
    "print(\"The model is trained on the full training set.\")\n",
    "print(\"The scores are computed on the full development set.\")\n",
    "print()\n",
    "y_true, y_pred = y_dev, clf.predict(X_dev)\n",
    "print(classification_report(y_true, y_pred))\n",
    "print()"
   ]
  },
  {
   "cell_type": "code",
   "execution_count": 17,
   "metadata": {},
   "outputs": [],
   "source": [
    "#model was tuned to check for best params and it was found that among all the Kernels checked the rbf kernel \n",
    "#had the best accuracy while predicting on Development set\n",
    "#Best parameters set found on development set:\n",
    "          #{'C': 100, 'gamma': 'auto', 'kernel': 'rbf'}"
   ]
  },
  {
   "cell_type": "markdown",
   "metadata": {},
   "source": [
    "# Modified Training Set"
   ]
  },
  {
   "cell_type": "code",
   "execution_count": 18,
   "metadata": {},
   "outputs": [],
   "source": [
    "#TRAINING DATA(for final model): X_train_ovr: X_train + X_dev, y_train_ovr=y_train+y_dev\n",
    "#TEST DATA: X_test,y_test\n",
    "X_train_ovr = np.concatenate((X_train,X_dev),0)\n",
    "y_train_ovr = np.concatenate((y_train,y_dev),0)"
   ]
  },
  {
   "cell_type": "code",
   "execution_count": 19,
   "metadata": {},
   "outputs": [
    {
     "data": {
      "text/plain": [
       "(26816, 42)"
      ]
     },
     "execution_count": 19,
     "metadata": {},
     "output_type": "execute_result"
    }
   ],
   "source": [
    "np.shape(X_train_ovr)"
   ]
  },
  {
   "cell_type": "code",
   "execution_count": 20,
   "metadata": {},
   "outputs": [
    {
     "data": {
      "text/plain": [
       "(26816,)"
      ]
     },
     "execution_count": 20,
     "metadata": {},
     "output_type": "execute_result"
    }
   ],
   "source": [
    "np.shape(y_train_ovr)"
   ]
  },
  {
   "cell_type": "markdown",
   "metadata": {},
   "source": [
    "# Training with tuned parameters"
   ]
  },
  {
   "cell_type": "code",
   "execution_count": 21,
   "metadata": {},
   "outputs": [
    {
     "data": {
      "text/plain": [
       "SVC(C=100, break_ties=False, cache_size=200, class_weight='balanced', coef0=0.0,\n",
       "    decision_function_shape='ovr', degree=3, gamma='auto', kernel='rbf',\n",
       "    max_iter=-1, probability=False, random_state=0, shrinking=True, tol=0.001,\n",
       "    verbose=False)"
      ]
     },
     "execution_count": 21,
     "metadata": {},
     "output_type": "execute_result"
    }
   ],
   "source": [
    "# Training the Kernel SVM model on the Training set\n",
    "from sklearn.svm import SVC\n",
    "classifier_SVM = SVC(kernel = 'rbf', C = 100, gamma= 'auto', class_weight = 'balanced', random_state = 0)\n",
    "classifier_SVM.fit(X_train_ovr, y_train_ovr)"
   ]
  },
  {
   "cell_type": "markdown",
   "metadata": {},
   "source": [
    "# Predicting results for Test Set"
   ]
  },
  {
   "cell_type": "code",
   "execution_count": 22,
   "metadata": {},
   "outputs": [],
   "source": [
    "# Predicting the Test set results\n",
    "y_results_SVM = classifier_SVM.predict(X_test)"
   ]
  },
  {
   "cell_type": "code",
   "execution_count": 23,
   "metadata": {},
   "outputs": [
    {
     "name": "stdout",
     "output_type": "stream",
     "text": [
      "[[1 1]\n",
      " [1 1]\n",
      " [1 1]\n",
      " ...\n",
      " [8 8]\n",
      " [8 8]\n",
      " [8 8]]\n"
     ]
    }
   ],
   "source": [
    "print(np.concatenate((y_results_SVM.reshape(len(y_results_SVM),1), y_test.reshape(len(y_test),1)),1))"
   ]
  },
  {
   "cell_type": "markdown",
   "metadata": {},
   "source": [
    "# Model Evaluation"
   ]
  },
  {
   "cell_type": "code",
   "execution_count": 24,
   "metadata": {},
   "outputs": [
    {
     "data": {
      "text/plain": [
       "<matplotlib.axes._subplots.AxesSubplot at 0x17743bc3b88>"
      ]
     },
     "execution_count": 24,
     "metadata": {},
     "output_type": "execute_result"
    },
    {
     "data": {
      "image/png": "[encoded data removed]",
      "text/plain": [
       "<Figure size 720x576 with 2 Axes>"
      ]
     },
     "metadata": {
      "needs_background": "light"
     },
     "output_type": "display_data"
    }
   ],
   "source": [
    "#Cross Validation metrics\n",
    "from sklearn.metrics import confusion_matrix\n",
    "    \n",
    "#confusion matrix   \n",
    "cm_svm = confusion_matrix(y_test, y_results_SVM)\n",
    "array = cm_svm \n",
    "df_cm = pd.DataFrame(array, index = [i for i in \"12345678\"],\n",
    "                  columns = [i for i in \"12345678\"])\n",
    "plt.figure(figsize = (10,8))\n",
    "sn.heatmap(df_cm, annot=True)"
   ]
  },
  {
   "cell_type": "code",
   "execution_count": 25,
   "metadata": {},
   "outputs": [
    {
     "name": "stdout",
     "output_type": "stream",
     "text": [
      "accuracy:0.9928977272727273\n",
      "f1_score:0.9928977272727273\n",
      "recall_score:0.9928977272727273\n",
      "precision_score:0.9928977272727273\n"
     ]
    }
   ],
   "source": [
    "#accuracy_score, f1_score, recall_score,precision_score metrics\n",
    "from sklearn.metrics import accuracy_score, f1_score, recall_score,precision_score\n",
    "#accuracy\n",
    "accuracy_svm = accuracy_score(y_test, y_results_SVM)\n",
    "print(\"accuracy:{}\".format(accuracy_svm))\n",
    "\n",
    "#F1 score    \n",
    "f1_score_svm = f1_score(y_test, y_results_SVM, average='micro')\n",
    "print(\"f1_score:{}\".format(f1_score_svm))\n",
    "\n",
    "#Recall score\n",
    "recall_score_svm = recall_score(y_test, y_results_SVM, average='micro')\n",
    "print(\"recall_score:{}\".format(recall_score_svm))\n",
    "\n",
    "#Precision score\n",
    "precision_score_svm = precision_score(y_test, y_results_SVM, average='micro')\n",
    "print(\"precision_score:{}\".format(precision_score_svm))"
   ]
  },
  {
   "cell_type": "code",
   "execution_count": 26,
   "metadata": {},
   "outputs": [
    {
     "name": "stdout",
     "output_type": "stream",
     "text": [
      "              precision    recall  f1-score   support\n",
      "\n",
      "           1  1.00000000 1.00000000 1.00000000       879\n",
      "           2  1.00000000 1.00000000 1.00000000       888\n",
      "           3  0.99772727 1.00000000 0.99886234       878\n",
      "           4  0.96936543 0.98773690 0.97846494       897\n",
      "           5  1.00000000 0.99885584 0.99942759       874\n",
      "           6  0.99100112 0.99773499 0.99435666       883\n",
      "           7  0.98628571 0.96102450 0.97349126       898\n",
      "           8  1.00000000 0.99881376 0.99940653       843\n",
      "\n",
      "    accuracy                      0.99289773      7040\n",
      "   macro avg  0.99304744 0.99302075 0.99300116      7040\n",
      "weighted avg  0.99293521 0.99289773 0.99288291      7040\n",
      "\n"
     ]
    }
   ],
   "source": [
    "#classification report\n",
    "from sklearn import metrics\n",
    "print(metrics.classification_report(y_test, y_results_SVM, digits = 8))"
   ]
  },
  {
   "cell_type": "markdown",
   "metadata": {},
   "source": [
    "# 2. SGD Classifier"
   ]
  },
  {
   "cell_type": "markdown",
   "metadata": {},
   "source": [
    "# Model Tuning"
   ]
  },
  {
   "cell_type": "code",
   "execution_count": null,
   "metadata": {},
   "outputs": [],
   "source": [
    "from sklearn.model_selection import GridSearchCV\n",
    "from sklearn.metrics import classification_report\n",
    "from sklearn.linear_model import SGDClassifier\n",
    "\n",
    "# Set the parameters by cross-validation\n",
    "tuned_parameters = [{\"alpha\" : [0.0001, 0.001, 0.01, 0.1], 'loss': [\"hinge\"],\"penalty\" : [\"l2\", \"l1\"],\n",
    "                     \"max_iter\" : [1000]},\n",
    "                    {\"alpha\" : [0.0001, 0.001, 0.01, 0.1], 'loss': [\"log\"], \"penalty\" : [\"l2\", \"l1\"],\n",
    "                    \"max_iter\" : [1000]},\n",
    "                    {\"alpha\" : [0.0001, 0.001, 0.01, 0.1], 'loss': [\"perceptron\"],\"penalty\" : [\"l2\", \"l1\"],\n",
    "                    \"max_iter\" : [ 1000]},\n",
    "                    {\"alpha\" : [0.0001, 0.001, 0.01, 0.1], 'loss': [\"squared_hinge\"],\"penalty\" : [\"l2\", \"l1\"],\n",
    "                    \"max_iter\" : [1000]},\n",
    "                    {\"alpha\" : [0.0001, 0.001, 0.01, 0.1], 'loss': [\"modified_huber\"],\"penalty\" : [\"l2\", \"l1\"],\n",
    "                    \"max_iter\" : [1000]}]\n",
    "\n",
    "print(\"# Tuning hyper-parameters for SGD Classifier\")\n",
    "print()\n",
    "\n",
    "clf = GridSearchCV(SGDClassifier(random_state = 0), tuned_parameters, scoring='accuracy', cv = 2)\n",
    "\n",
    "clf.fit(X_train, y_train)\n",
    "\n",
    "print(\"Best parameters set found on training set:\")\n",
    "print()\n",
    "print(clf.best_params_)\n",
    "print()\n",
    "print(\"Grid scores on training set:\")\n",
    "print()\n",
    "means = clf.cv_results_['mean_test_score']\n",
    "stds = clf.cv_results_['std_test_score']\n",
    "for mean, std, params in zip(means, stds, clf.cv_results_['params']):\n",
    "    print(\"%0.3f (+/-%0.03f) for %r\"\n",
    "            % (mean, std * 2, params))\n",
    "print()\n",
    "\n",
    "print(\"Detailed classification report:\")\n",
    "print()\n",
    "print(\"The model is trained on the full training set.\")\n",
    "print(\"The scores are computed on the full development set.\")\n",
    "print()\n",
    "y_true, y_pred = y_dev, clf.predict(X_dev)\n",
    "print(classification_report(y_true, y_pred))\n",
    "print()"
   ]
  },
  {
   "cell_type": "code",
   "execution_count": null,
   "metadata": {},
   "outputs": [],
   "source": [
    "#Best parameters set found on training set:\n",
    "#{'alpha': 0.001, 'loss': 'log', 'max_iter': 1000, 'penalty': 'l1'}"
   ]
  },
  {
   "cell_type": "markdown",
   "metadata": {},
   "source": [
    "# Training with tuned parameters"
   ]
  },
  {
   "cell_type": "code",
   "execution_count": 27,
   "metadata": {},
   "outputs": [
    {
     "data": {
      "text/plain": [
       "SGDClassifier(alpha=0.001, average=False, class_weight=None,\n",
       "              early_stopping=False, epsilon=0.1, eta0=0.0, fit_intercept=True,\n",
       "              l1_ratio=0.15, learning_rate='optimal', loss='log', max_iter=1000,\n",
       "              n_iter_no_change=5, n_jobs=None, penalty='l1', power_t=0.5,\n",
       "              random_state=0, shuffle=True, tol=0.001, validation_fraction=0.1,\n",
       "              verbose=0, warm_start=False)"
      ]
     },
     "execution_count": 27,
     "metadata": {},
     "output_type": "execute_result"
    }
   ],
   "source": [
    "# Training the SGD Classification model on the Training set\n",
    "from sklearn.linear_model import SGDClassifier\n",
    "classifier_SGD = SGDClassifier(loss= 'log', penalty='l1', alpha=0.001, max_iter= 1000, random_state = 0)\n",
    "classifier_SGD.fit(X_train_ovr, y_train_ovr)"
   ]
  },
  {
   "cell_type": "markdown",
   "metadata": {},
   "source": [
    "# Prediction on TestSet"
   ]
  },
  {
   "cell_type": "code",
   "execution_count": 28,
   "metadata": {},
   "outputs": [],
   "source": [
    "# Predicting the Test set results\n",
    "y_results_SGD = classifier_SGD.predict(X_test)"
   ]
  },
  {
   "cell_type": "code",
   "execution_count": 29,
   "metadata": {},
   "outputs": [
    {
     "name": "stdout",
     "output_type": "stream",
     "text": [
      "[[1 1]\n",
      " [1 1]\n",
      " [1 1]\n",
      " ...\n",
      " [8 8]\n",
      " [8 8]\n",
      " [8 8]]\n"
     ]
    }
   ],
   "source": [
    "print(np.concatenate((y_results_SGD.reshape(len(y_results_SGD),1), y_test.reshape(len(y_test),1)),1))"
   ]
  },
  {
   "cell_type": "markdown",
   "metadata": {},
   "source": [
    "# Model Evaluation"
   ]
  },
  {
   "cell_type": "code",
   "execution_count": 30,
   "metadata": {},
   "outputs": [
    {
     "data": {
      "text/plain": [
       "<matplotlib.axes._subplots.AxesSubplot at 0x17745464e08>"
      ]
     },
     "execution_count": 30,
     "metadata": {},
     "output_type": "execute_result"
    },
    {
     "data": {
      "image/png": "[encoded data removed]",
      "text/plain": [
       "<Figure size 720x576 with 2 Axes>"
      ]
     },
     "metadata": {
      "needs_background": "light"
     },
     "output_type": "display_data"
    }
   ],
   "source": [
    "#confusion matrix\n",
    "from sklearn.metrics import confusion_matrix\n",
    "    \n",
    "#confusion matrix   \n",
    "cm_sgd = confusion_matrix(y_test, y_results_SGD)\n",
    "array = cm_sgd\n",
    "df_cm = pd.DataFrame(array, index = [i for i in \"12345678\"],\n",
    "                  columns = [i for i in \"12345678\"])\n",
    "plt.figure(figsize = (10,8))\n",
    "sn.heatmap(df_cm, annot=True)\n"
   ]
  },
  {
   "cell_type": "code",
   "execution_count": 31,
   "metadata": {},
   "outputs": [
    {
     "name": "stdout",
     "output_type": "stream",
     "text": [
      "accuracy:0.9643465909090909\n",
      "f1_score:0.9643576440234586\n",
      "recall_score:0.9643465909090909\n",
      "precision_score:0.9643465909090909\n"
     ]
    }
   ],
   "source": [
    "#accuracy_score, f1_score, recall_score,precision_score metrics\n",
    "from sklearn.metrics import accuracy_score, f1_score, recall_score,precision_score\n",
    "#accuracy\n",
    "accuracy_sgd = accuracy_score(y_test, y_results_SGD)\n",
    "print(\"accuracy:{}\".format(accuracy_sgd))\n",
    "#F1 score    \n",
    "f1_score_sgd = f1_score(y_test, y_results_SGD, average='weighted')\n",
    "print(\"f1_score:{}\".format(f1_score_sgd))\n",
    "#Recall score\n",
    "recall_score_sgd = recall_score(y_test, y_results_SGD, average='micro')\n",
    "print(\"recall_score:{}\".format(recall_score_sgd))\n",
    "#Precision score\n",
    "precision_score_sgd = precision_score(y_test, y_results_SGD, average='micro')\n",
    "print(\"precision_score:{}\".format(precision_score_sgd))"
   ]
  },
  {
   "cell_type": "code",
   "execution_count": 32,
   "metadata": {},
   "outputs": [
    {
     "name": "stdout",
     "output_type": "stream",
     "text": [
      "              precision    recall  f1-score   support\n",
      "\n",
      "           1  0.99770642 0.98976109 0.99371788       879\n",
      "           2  0.99774011 0.99436937 0.99605189       888\n",
      "           3  0.97706422 0.97038724 0.97371429       878\n",
      "           4  0.88888889 0.91861761 0.90350877       897\n",
      "           5  0.98308906 0.99771167 0.99034639       874\n",
      "           6  0.95895097 0.95243488 0.95568182       883\n",
      "           7  0.92758621 0.89866370 0.91289593       898\n",
      "           8  0.98823529 0.99644128 0.99232132       843\n",
      "\n",
      "    accuracy                      0.96434659      7040\n",
      "   macro avg  0.96490765 0.96479836 0.96477979      7040\n",
      "weighted avg  0.96451722 0.96434659 0.96435764      7040\n",
      "\n"
     ]
    }
   ],
   "source": [
    "from sklearn import metrics\n",
    "print(metrics.classification_report(y_test, y_results_SGD, digits = 8))"
   ]
  },
  {
   "cell_type": "markdown",
   "metadata": {},
   "source": [
    "# 3. Logistic Regression Classifier"
   ]
  },
  {
   "cell_type": "markdown",
   "metadata": {},
   "source": [
    "# Model Tuning"
   ]
  },
  {
   "cell_type": "code",
   "execution_count": null,
   "metadata": {},
   "outputs": [],
   "source": [
    "from sklearn.model_selection import GridSearchCV\n",
    "from sklearn.metrics import classification_report\n",
    "from sklearn.linear_model import LogisticRegression\n",
    "\n",
    "# Set the parameters by cross-validation\n",
    "tuned_parameters = [{ \"solver\" : ['newton-cg'],\"C\" : [0.001, 0.01, 0.1, 1, 10, 100, 1000],\"max_iter\":[250,500,1000,1500,2000]}]\n",
    "             \n",
    "\n",
    "print(\"# Tuning hyper-parameters for Logistic Regression Classifier\")\n",
    "print()\n",
    "\n",
    "clf = GridSearchCV(LogisticRegression(random_state = 0, max_iter = 1500), tuned_parameters, scoring='accuracy', cv = 2)\n",
    "\n",
    "clf.fit(X_train, y_train)\n",
    "\n",
    "print(\"Best parameters set found on training set:\")\n",
    "print()\n",
    "print(clf.best_params_)\n",
    "print()\n",
    "print(\"Grid scores on training set:\")\n",
    "print()\n",
    "means = clf.cv_results_['mean_test_score']\n",
    "stds = clf.cv_results_['std_test_score']\n",
    "for mean, std, params in zip(means, stds, clf.cv_results_['params']):\n",
    "    print(\"%0.3f (+/-%0.03f) for %r\"\n",
    "            % (mean, std * 2, params))\n",
    "print()\n",
    "\n",
    "print(\"Detailed classification report:\")\n",
    "print()\n",
    "print(\"The model is trained on the full training set.\")\n",
    "print(\"The scores are computed on the full development set.\")\n",
    "print()\n",
    "y_true, y_pred = y_dev, clf.predict(X_dev)\n",
    "print(classification_report(y_true, y_pred))\n",
    "print()"
   ]
  },
  {
   "cell_type": "code",
   "execution_count": 34,
   "metadata": {},
   "outputs": [],
   "source": [
    "#Best parameters set found on training set:\n",
    "      #{'C': 0.1, 'max_iter': 250, 'solver': 'newton-cg'}\n",
    "    \n",
    "#Note:\n",
    "#reason for dropping other solvers\n",
    "        #‘lbfgs’,‘sag’,‘saga’ : during earlier grid searches these solvers could not converge for feasible max_iters values\n",
    "        #‘liblinear’: ‘liblinear’ is limited to one-versus-rest schemes and is not suitable in handling handle multinomial loss\n",
    "                       # so not used in this multi-class problem"
   ]
  },
  {
   "cell_type": "markdown",
   "metadata": {},
   "source": [
    "# Training the Model with tuned parameters"
   ]
  },
  {
   "cell_type": "code",
   "execution_count": 33,
   "metadata": {},
   "outputs": [
    {
     "data": {
      "text/plain": [
       "LogisticRegression(C=0.1, class_weight=None, dual=False, fit_intercept=True,\n",
       "                   intercept_scaling=1, l1_ratio=None, max_iter=250,\n",
       "                   multi_class='auto', n_jobs=None, penalty='l2',\n",
       "                   random_state=0, solver='newton-cg', tol=0.0001, verbose=0,\n",
       "                   warm_start=False)"
      ]
     },
     "execution_count": 33,
     "metadata": {},
     "output_type": "execute_result"
    }
   ],
   "source": [
    "# Training the Logistic Regression classfication model on the Training set\n",
    "from sklearn.linear_model import LogisticRegression\n",
    "classifier_logreg = LogisticRegression(C= 0.1, penalty='l2', solver= 'newton-cg', max_iter= 250, random_state=0)\n",
    "classifier_logreg.fit(X_train_ovr, y_train_ovr)"
   ]
  },
  {
   "cell_type": "markdown",
   "metadata": {},
   "source": [
    "# Predicting on Test set"
   ]
  },
  {
   "cell_type": "code",
   "execution_count": 34,
   "metadata": {},
   "outputs": [],
   "source": [
    "# Predicting the Test set results\n",
    "y_results_logreg = classifier_logreg.predict(X_test)"
   ]
  },
  {
   "cell_type": "code",
   "execution_count": 35,
   "metadata": {},
   "outputs": [
    {
     "name": "stdout",
     "output_type": "stream",
     "text": [
      "[[1 1]\n",
      " [1 1]\n",
      " [1 1]\n",
      " ...\n",
      " [8 8]\n",
      " [8 8]\n",
      " [8 8]]\n"
     ]
    }
   ],
   "source": [
    "print(np.concatenate((y_results_logreg.reshape(len(y_results_logreg),1), y_test.reshape(len(y_test),1)),1))"
   ]
  },
  {
   "cell_type": "markdown",
   "metadata": {},
   "source": [
    "# Model Evalation"
   ]
  },
  {
   "cell_type": "code",
   "execution_count": 36,
   "metadata": {},
   "outputs": [
    {
     "data": {
      "text/plain": [
       "<matplotlib.axes._subplots.AxesSubplot at 0x177455fbfc8>"
      ]
     },
     "execution_count": 36,
     "metadata": {},
     "output_type": "execute_result"
    },
    {
     "data": {
      "image/png": "[encoded data removed]",
      "text/plain": [
       "<Figure size 720x576 with 2 Axes>"
      ]
     },
     "metadata": {
      "needs_background": "light"
     },
     "output_type": "display_data"
    }
   ],
   "source": [
    "#Model Evalation For Logistic Regression Classification Model\n",
    "from sklearn.metrics import confusion_matrix\n",
    "    \n",
    "#confusion matrix\n",
    "\n",
    "cm_logreg = confusion_matrix(y_test, y_results_logreg)\n",
    "array = cm_logreg \n",
    "df_cm = pd.DataFrame(array, index = [i for i in \"12345678\"],\n",
    "                  columns = [i for i in \"12345678\"])\n",
    "plt.figure(figsize = (10,8))\n",
    "sn.heatmap(df_cm, annot=True)"
   ]
  },
  {
   "cell_type": "code",
   "execution_count": 37,
   "metadata": {},
   "outputs": [
    {
     "name": "stdout",
     "output_type": "stream",
     "text": [
      "accuracy:0.9795454545454545\n",
      "f1_score:0.9794936341056684\n",
      "recall_score:0.9795454545454545\n",
      "precision_score:0.9795454545454545\n"
     ]
    }
   ],
   "source": [
    "#accuracy_score, f1_score, recall_score,precision_score metrics\n",
    "from sklearn.metrics import accuracy_score, f1_score, recall_score,precision_score\n",
    "#accuracy\n",
    "accuracy_logreg = accuracy_score(y_test, y_results_logreg)\n",
    "print(\"accuracy:{}\".format(accuracy_logreg))\n",
    "#F1 score    \n",
    "f1_score_logreg = f1_score(y_test, y_results_logreg, average='weighted')\n",
    "print(\"f1_score:{}\".format(f1_score_logreg))\n",
    "#Recall score\n",
    "recall_score_logreg = recall_score(y_test, y_results_logreg, average='micro')\n",
    "print(\"recall_score:{}\".format(recall_score_logreg))\n",
    "#Precision score\n",
    "precision_score_logreg = precision_score(y_test, y_results_logreg, average='micro')\n",
    "print(\"precision_score:{}\".format(precision_score_logreg))"
   ]
  },
  {
   "cell_type": "code",
   "execution_count": 38,
   "metadata": {},
   "outputs": [
    {
     "name": "stdout",
     "output_type": "stream",
     "text": [
      "              precision    recall  f1-score   support\n",
      "\n",
      "           1  1.00000000 1.00000000 1.00000000       879\n",
      "           2  0.99551066 0.99887387 0.99718943       888\n",
      "           3  0.98979592 0.99430524 0.99204545       878\n",
      "           4  0.94915254 0.93645485 0.94276094       897\n",
      "           5  0.99429875 0.99771167 0.99600228       874\n",
      "           6  0.97624434 0.97734994 0.97679683       883\n",
      "           7  0.93750000 0.93541203 0.93645485       898\n",
      "           8  0.99527187 0.99881376 0.99703967       843\n",
      "\n",
      "    accuracy                      0.97954545      7040\n",
      "   macro avg  0.97972176 0.97986517 0.97978618      7040\n",
      "weighted avg  0.97945656 0.97954545 0.97949363      7040\n",
      "\n"
     ]
    }
   ],
   "source": [
    "from sklearn import metrics\n",
    "print(metrics.classification_report(y_test, y_results_logreg, digits = 8))"
   ]
  },
  {
   "cell_type": "markdown",
   "metadata": {},
   "source": [
    "# 4.KNN Classifier"
   ]
  },
  {
   "cell_type": "markdown",
   "metadata": {},
   "source": [
    "# Model Tuning"
   ]
  },
  {
   "cell_type": "code",
   "execution_count": 38,
   "metadata": {},
   "outputs": [
    {
     "name": "stdout",
     "output_type": "stream",
     "text": [
      "# Tuning hyper-parameters for KNN Classifier\n",
      "\n"
     ]
    },
    {
     "ename": "KeyboardInterrupt",
     "evalue": "",
     "output_type": "error",
     "traceback": [
      "\u001b[1;31m---------------------------------------------------------------------------\u001b[0m",
      "\u001b[1;31mKeyboardInterrupt\u001b[0m                         Traceback (most recent call last)",
      "\u001b[1;32m<ipython-input-38-2a6fd6f45f59>\u001b[0m in \u001b[0;36m<module>\u001b[1;34m\u001b[0m\n\u001b[0;32m     15\u001b[0m \u001b[0mclf\u001b[0m \u001b[1;33m=\u001b[0m \u001b[0mGridSearchCV\u001b[0m\u001b[1;33m(\u001b[0m\u001b[0mKNeighborsClassifier\u001b[0m\u001b[1;33m(\u001b[0m\u001b[1;33m)\u001b[0m\u001b[1;33m,\u001b[0m \u001b[0mtuned_parameters\u001b[0m\u001b[1;33m,\u001b[0m \u001b[0mscoring\u001b[0m\u001b[1;33m=\u001b[0m\u001b[1;34m'accuracy'\u001b[0m\u001b[1;33m,\u001b[0m \u001b[0mcv\u001b[0m \u001b[1;33m=\u001b[0m \u001b[1;36m2\u001b[0m\u001b[1;33m)\u001b[0m\u001b[1;33m\u001b[0m\u001b[1;33m\u001b[0m\u001b[0m\n\u001b[0;32m     16\u001b[0m \u001b[1;33m\u001b[0m\u001b[0m\n\u001b[1;32m---> 17\u001b[1;33m \u001b[0mclf\u001b[0m\u001b[1;33m.\u001b[0m\u001b[0mfit\u001b[0m\u001b[1;33m(\u001b[0m\u001b[0mX_train\u001b[0m\u001b[1;33m,\u001b[0m \u001b[0my_train\u001b[0m\u001b[1;33m)\u001b[0m\u001b[1;33m\u001b[0m\u001b[1;33m\u001b[0m\u001b[0m\n\u001b[0m\u001b[0;32m     18\u001b[0m \u001b[1;33m\u001b[0m\u001b[0m\n\u001b[0;32m     19\u001b[0m \u001b[0mprint\u001b[0m\u001b[1;33m(\u001b[0m\u001b[1;34m\"Best parameters set found on training set:\"\u001b[0m\u001b[1;33m)\u001b[0m\u001b[1;33m\u001b[0m\u001b[1;33m\u001b[0m\u001b[0m\n",
      "\u001b[1;32m~\\anaconda3\\lib\\site-packages\\sklearn\\model_selection\\_search.py\u001b[0m in \u001b[0;36mfit\u001b[1;34m(self, X, y, groups, **fit_params)\u001b[0m\n\u001b[0;32m    708\u001b[0m                 \u001b[1;32mreturn\u001b[0m \u001b[0mresults\u001b[0m\u001b[1;33m\u001b[0m\u001b[1;33m\u001b[0m\u001b[0m\n\u001b[0;32m    709\u001b[0m \u001b[1;33m\u001b[0m\u001b[0m\n\u001b[1;32m--> 710\u001b[1;33m             \u001b[0mself\u001b[0m\u001b[1;33m.\u001b[0m\u001b[0m_run_search\u001b[0m\u001b[1;33m(\u001b[0m\u001b[0mevaluate_candidates\u001b[0m\u001b[1;33m)\u001b[0m\u001b[1;33m\u001b[0m\u001b[1;33m\u001b[0m\u001b[0m\n\u001b[0m\u001b[0;32m    711\u001b[0m \u001b[1;33m\u001b[0m\u001b[0m\n\u001b[0;32m    712\u001b[0m         \u001b[1;31m# For multi-metric evaluation, store the best_index_, best_params_ and\u001b[0m\u001b[1;33m\u001b[0m\u001b[1;33m\u001b[0m\u001b[1;33m\u001b[0m\u001b[0m\n",
      "\u001b[1;32m~\\anaconda3\\lib\\site-packages\\sklearn\\model_selection\\_search.py\u001b[0m in \u001b[0;36m_run_search\u001b[1;34m(self, evaluate_candidates)\u001b[0m\n\u001b[0;32m   1149\u001b[0m     \u001b[1;32mdef\u001b[0m \u001b[0m_run_search\u001b[0m\u001b[1;33m(\u001b[0m\u001b[0mself\u001b[0m\u001b[1;33m,\u001b[0m \u001b[0mevaluate_candidates\u001b[0m\u001b[1;33m)\u001b[0m\u001b[1;33m:\u001b[0m\u001b[1;33m\u001b[0m\u001b[1;33m\u001b[0m\u001b[0m\n\u001b[0;32m   1150\u001b[0m         \u001b[1;34m\"\"\"Search all candidates in param_grid\"\"\"\u001b[0m\u001b[1;33m\u001b[0m\u001b[1;33m\u001b[0m\u001b[0m\n\u001b[1;32m-> 1151\u001b[1;33m         \u001b[0mevaluate_candidates\u001b[0m\u001b[1;33m(\u001b[0m\u001b[0mParameterGrid\u001b[0m\u001b[1;33m(\u001b[0m\u001b[0mself\u001b[0m\u001b[1;33m.\u001b[0m\u001b[0mparam_grid\u001b[0m\u001b[1;33m)\u001b[0m\u001b[1;33m)\u001b[0m\u001b[1;33m\u001b[0m\u001b[1;33m\u001b[0m\u001b[0m\n\u001b[0m\u001b[0;32m   1152\u001b[0m \u001b[1;33m\u001b[0m\u001b[0m\n\u001b[0;32m   1153\u001b[0m \u001b[1;33m\u001b[0m\u001b[0m\n",
      "\u001b[1;32m~\\anaconda3\\lib\\site-packages\\sklearn\\model_selection\\_search.py\u001b[0m in \u001b[0;36mevaluate_candidates\u001b[1;34m(candidate_params)\u001b[0m\n\u001b[0;32m    687\u001b[0m                                \u001b[1;32mfor\u001b[0m \u001b[0mparameters\u001b[0m\u001b[1;33m,\u001b[0m \u001b[1;33m(\u001b[0m\u001b[0mtrain\u001b[0m\u001b[1;33m,\u001b[0m \u001b[0mtest\u001b[0m\u001b[1;33m)\u001b[0m\u001b[1;33m\u001b[0m\u001b[1;33m\u001b[0m\u001b[0m\n\u001b[0;32m    688\u001b[0m                                in product(candidate_params,\n\u001b[1;32m--> 689\u001b[1;33m                                           cv.split(X, y, groups)))\n\u001b[0m\u001b[0;32m    690\u001b[0m \u001b[1;33m\u001b[0m\u001b[0m\n\u001b[0;32m    691\u001b[0m                 \u001b[1;32mif\u001b[0m \u001b[0mlen\u001b[0m\u001b[1;33m(\u001b[0m\u001b[0mout\u001b[0m\u001b[1;33m)\u001b[0m \u001b[1;33m<\u001b[0m \u001b[1;36m1\u001b[0m\u001b[1;33m:\u001b[0m\u001b[1;33m\u001b[0m\u001b[1;33m\u001b[0m\u001b[0m\n",
      "\u001b[1;32m~\\anaconda3\\lib\\site-packages\\joblib\\parallel.py\u001b[0m in \u001b[0;36m__call__\u001b[1;34m(self, iterable)\u001b[0m\n\u001b[0;32m   1005\u001b[0m                 \u001b[0mself\u001b[0m\u001b[1;33m.\u001b[0m\u001b[0m_iterating\u001b[0m \u001b[1;33m=\u001b[0m \u001b[0mself\u001b[0m\u001b[1;33m.\u001b[0m\u001b[0m_original_iterator\u001b[0m \u001b[1;32mis\u001b[0m \u001b[1;32mnot\u001b[0m \u001b[1;32mNone\u001b[0m\u001b[1;33m\u001b[0m\u001b[1;33m\u001b[0m\u001b[0m\n\u001b[0;32m   1006\u001b[0m \u001b[1;33m\u001b[0m\u001b[0m\n\u001b[1;32m-> 1007\u001b[1;33m             \u001b[1;32mwhile\u001b[0m \u001b[0mself\u001b[0m\u001b[1;33m.\u001b[0m\u001b[0mdispatch_one_batch\u001b[0m\u001b[1;33m(\u001b[0m\u001b[0miterator\u001b[0m\u001b[1;33m)\u001b[0m\u001b[1;33m:\u001b[0m\u001b[1;33m\u001b[0m\u001b[1;33m\u001b[0m\u001b[0m\n\u001b[0m\u001b[0;32m   1008\u001b[0m                 \u001b[1;32mpass\u001b[0m\u001b[1;33m\u001b[0m\u001b[1;33m\u001b[0m\u001b[0m\n\u001b[0;32m   1009\u001b[0m \u001b[1;33m\u001b[0m\u001b[0m\n",
      "\u001b[1;32m~\\anaconda3\\lib\\site-packages\\joblib\\parallel.py\u001b[0m in \u001b[0;36mdispatch_one_batch\u001b[1;34m(self, iterator)\u001b[0m\n\u001b[0;32m    833\u001b[0m                 \u001b[1;32mreturn\u001b[0m \u001b[1;32mFalse\u001b[0m\u001b[1;33m\u001b[0m\u001b[1;33m\u001b[0m\u001b[0m\n\u001b[0;32m    834\u001b[0m             \u001b[1;32melse\u001b[0m\u001b[1;33m:\u001b[0m\u001b[1;33m\u001b[0m\u001b[1;33m\u001b[0m\u001b[0m\n\u001b[1;32m--> 835\u001b[1;33m                 \u001b[0mself\u001b[0m\u001b[1;33m.\u001b[0m\u001b[0m_dispatch\u001b[0m\u001b[1;33m(\u001b[0m\u001b[0mtasks\u001b[0m\u001b[1;33m)\u001b[0m\u001b[1;33m\u001b[0m\u001b[1;33m\u001b[0m\u001b[0m\n\u001b[0m\u001b[0;32m    836\u001b[0m                 \u001b[1;32mreturn\u001b[0m \u001b[1;32mTrue\u001b[0m\u001b[1;33m\u001b[0m\u001b[1;33m\u001b[0m\u001b[0m\n\u001b[0;32m    837\u001b[0m \u001b[1;33m\u001b[0m\u001b[0m\n",
      "\u001b[1;32m~\\anaconda3\\lib\\site-packages\\joblib\\parallel.py\u001b[0m in \u001b[0;36m_dispatch\u001b[1;34m(self, batch)\u001b[0m\n\u001b[0;32m    752\u001b[0m         \u001b[1;32mwith\u001b[0m \u001b[0mself\u001b[0m\u001b[1;33m.\u001b[0m\u001b[0m_lock\u001b[0m\u001b[1;33m:\u001b[0m\u001b[1;33m\u001b[0m\u001b[1;33m\u001b[0m\u001b[0m\n\u001b[0;32m    753\u001b[0m             \u001b[0mjob_idx\u001b[0m \u001b[1;33m=\u001b[0m \u001b[0mlen\u001b[0m\u001b[1;33m(\u001b[0m\u001b[0mself\u001b[0m\u001b[1;33m.\u001b[0m\u001b[0m_jobs\u001b[0m\u001b[1;33m)\u001b[0m\u001b[1;33m\u001b[0m\u001b[1;33m\u001b[0m\u001b[0m\n\u001b[1;32m--> 754\u001b[1;33m             \u001b[0mjob\u001b[0m \u001b[1;33m=\u001b[0m \u001b[0mself\u001b[0m\u001b[1;33m.\u001b[0m\u001b[0m_backend\u001b[0m\u001b[1;33m.\u001b[0m\u001b[0mapply_async\u001b[0m\u001b[1;33m(\u001b[0m\u001b[0mbatch\u001b[0m\u001b[1;33m,\u001b[0m \u001b[0mcallback\u001b[0m\u001b[1;33m=\u001b[0m\u001b[0mcb\u001b[0m\u001b[1;33m)\u001b[0m\u001b[1;33m\u001b[0m\u001b[1;33m\u001b[0m\u001b[0m\n\u001b[0m\u001b[0;32m    755\u001b[0m             \u001b[1;31m# A job can complete so quickly than its callback is\u001b[0m\u001b[1;33m\u001b[0m\u001b[1;33m\u001b[0m\u001b[1;33m\u001b[0m\u001b[0m\n\u001b[0;32m    756\u001b[0m             \u001b[1;31m# called before we get here, causing self._jobs to\u001b[0m\u001b[1;33m\u001b[0m\u001b[1;33m\u001b[0m\u001b[1;33m\u001b[0m\u001b[0m\n",
      "\u001b[1;32m~\\anaconda3\\lib\\site-packages\\joblib\\_parallel_backends.py\u001b[0m in \u001b[0;36mapply_async\u001b[1;34m(self, func, callback)\u001b[0m\n\u001b[0;32m    207\u001b[0m     \u001b[1;32mdef\u001b[0m \u001b[0mapply_async\u001b[0m\u001b[1;33m(\u001b[0m\u001b[0mself\u001b[0m\u001b[1;33m,\u001b[0m \u001b[0mfunc\u001b[0m\u001b[1;33m,\u001b[0m \u001b[0mcallback\u001b[0m\u001b[1;33m=\u001b[0m\u001b[1;32mNone\u001b[0m\u001b[1;33m)\u001b[0m\u001b[1;33m:\u001b[0m\u001b[1;33m\u001b[0m\u001b[1;33m\u001b[0m\u001b[0m\n\u001b[0;32m    208\u001b[0m         \u001b[1;34m\"\"\"Schedule a func to be run\"\"\"\u001b[0m\u001b[1;33m\u001b[0m\u001b[1;33m\u001b[0m\u001b[0m\n\u001b[1;32m--> 209\u001b[1;33m         \u001b[0mresult\u001b[0m \u001b[1;33m=\u001b[0m \u001b[0mImmediateResult\u001b[0m\u001b[1;33m(\u001b[0m\u001b[0mfunc\u001b[0m\u001b[1;33m)\u001b[0m\u001b[1;33m\u001b[0m\u001b[1;33m\u001b[0m\u001b[0m\n\u001b[0m\u001b[0;32m    210\u001b[0m         \u001b[1;32mif\u001b[0m \u001b[0mcallback\u001b[0m\u001b[1;33m:\u001b[0m\u001b[1;33m\u001b[0m\u001b[1;33m\u001b[0m\u001b[0m\n\u001b[0;32m    211\u001b[0m             \u001b[0mcallback\u001b[0m\u001b[1;33m(\u001b[0m\u001b[0mresult\u001b[0m\u001b[1;33m)\u001b[0m\u001b[1;33m\u001b[0m\u001b[1;33m\u001b[0m\u001b[0m\n",
      "\u001b[1;32m~\\anaconda3\\lib\\site-packages\\joblib\\_parallel_backends.py\u001b[0m in \u001b[0;36m__init__\u001b[1;34m(self, batch)\u001b[0m\n\u001b[0;32m    588\u001b[0m         \u001b[1;31m# Don't delay the application, to avoid keeping the input\u001b[0m\u001b[1;33m\u001b[0m\u001b[1;33m\u001b[0m\u001b[1;33m\u001b[0m\u001b[0m\n\u001b[0;32m    589\u001b[0m         \u001b[1;31m# arguments in memory\u001b[0m\u001b[1;33m\u001b[0m\u001b[1;33m\u001b[0m\u001b[1;33m\u001b[0m\u001b[0m\n\u001b[1;32m--> 590\u001b[1;33m         \u001b[0mself\u001b[0m\u001b[1;33m.\u001b[0m\u001b[0mresults\u001b[0m \u001b[1;33m=\u001b[0m \u001b[0mbatch\u001b[0m\u001b[1;33m(\u001b[0m\u001b[1;33m)\u001b[0m\u001b[1;33m\u001b[0m\u001b[1;33m\u001b[0m\u001b[0m\n\u001b[0m\u001b[0;32m    591\u001b[0m \u001b[1;33m\u001b[0m\u001b[0m\n\u001b[0;32m    592\u001b[0m     \u001b[1;32mdef\u001b[0m \u001b[0mget\u001b[0m\u001b[1;33m(\u001b[0m\u001b[0mself\u001b[0m\u001b[1;33m)\u001b[0m\u001b[1;33m:\u001b[0m\u001b[1;33m\u001b[0m\u001b[1;33m\u001b[0m\u001b[0m\n",
      "\u001b[1;32m~\\anaconda3\\lib\\site-packages\\joblib\\parallel.py\u001b[0m in \u001b[0;36m__call__\u001b[1;34m(self)\u001b[0m\n\u001b[0;32m    254\u001b[0m         \u001b[1;32mwith\u001b[0m \u001b[0mparallel_backend\u001b[0m\u001b[1;33m(\u001b[0m\u001b[0mself\u001b[0m\u001b[1;33m.\u001b[0m\u001b[0m_backend\u001b[0m\u001b[1;33m,\u001b[0m \u001b[0mn_jobs\u001b[0m\u001b[1;33m=\u001b[0m\u001b[0mself\u001b[0m\u001b[1;33m.\u001b[0m\u001b[0m_n_jobs\u001b[0m\u001b[1;33m)\u001b[0m\u001b[1;33m:\u001b[0m\u001b[1;33m\u001b[0m\u001b[1;33m\u001b[0m\u001b[0m\n\u001b[0;32m    255\u001b[0m             return [func(*args, **kwargs)\n\u001b[1;32m--> 256\u001b[1;33m                     for func, args, kwargs in self.items]\n\u001b[0m\u001b[0;32m    257\u001b[0m \u001b[1;33m\u001b[0m\u001b[0m\n\u001b[0;32m    258\u001b[0m     \u001b[1;32mdef\u001b[0m \u001b[0m__len__\u001b[0m\u001b[1;33m(\u001b[0m\u001b[0mself\u001b[0m\u001b[1;33m)\u001b[0m\u001b[1;33m:\u001b[0m\u001b[1;33m\u001b[0m\u001b[1;33m\u001b[0m\u001b[0m\n",
      "\u001b[1;32m~\\anaconda3\\lib\\site-packages\\joblib\\parallel.py\u001b[0m in \u001b[0;36m<listcomp>\u001b[1;34m(.0)\u001b[0m\n\u001b[0;32m    254\u001b[0m         \u001b[1;32mwith\u001b[0m \u001b[0mparallel_backend\u001b[0m\u001b[1;33m(\u001b[0m\u001b[0mself\u001b[0m\u001b[1;33m.\u001b[0m\u001b[0m_backend\u001b[0m\u001b[1;33m,\u001b[0m \u001b[0mn_jobs\u001b[0m\u001b[1;33m=\u001b[0m\u001b[0mself\u001b[0m\u001b[1;33m.\u001b[0m\u001b[0m_n_jobs\u001b[0m\u001b[1;33m)\u001b[0m\u001b[1;33m:\u001b[0m\u001b[1;33m\u001b[0m\u001b[1;33m\u001b[0m\u001b[0m\n\u001b[0;32m    255\u001b[0m             return [func(*args, **kwargs)\n\u001b[1;32m--> 256\u001b[1;33m                     for func, args, kwargs in self.items]\n\u001b[0m\u001b[0;32m    257\u001b[0m \u001b[1;33m\u001b[0m\u001b[0m\n\u001b[0;32m    258\u001b[0m     \u001b[1;32mdef\u001b[0m \u001b[0m__len__\u001b[0m\u001b[1;33m(\u001b[0m\u001b[0mself\u001b[0m\u001b[1;33m)\u001b[0m\u001b[1;33m:\u001b[0m\u001b[1;33m\u001b[0m\u001b[1;33m\u001b[0m\u001b[0m\n",
      "\u001b[1;32m~\\anaconda3\\lib\\site-packages\\sklearn\\model_selection\\_validation.py\u001b[0m in \u001b[0;36m_fit_and_score\u001b[1;34m(estimator, X, y, scorer, train, test, verbose, parameters, fit_params, return_train_score, return_parameters, return_n_test_samples, return_times, return_estimator, error_score)\u001b[0m\n\u001b[0;32m    542\u001b[0m     \u001b[1;32melse\u001b[0m\u001b[1;33m:\u001b[0m\u001b[1;33m\u001b[0m\u001b[1;33m\u001b[0m\u001b[0m\n\u001b[0;32m    543\u001b[0m         \u001b[0mfit_time\u001b[0m \u001b[1;33m=\u001b[0m \u001b[0mtime\u001b[0m\u001b[1;33m.\u001b[0m\u001b[0mtime\u001b[0m\u001b[1;33m(\u001b[0m\u001b[1;33m)\u001b[0m \u001b[1;33m-\u001b[0m \u001b[0mstart_time\u001b[0m\u001b[1;33m\u001b[0m\u001b[1;33m\u001b[0m\u001b[0m\n\u001b[1;32m--> 544\u001b[1;33m         \u001b[0mtest_scores\u001b[0m \u001b[1;33m=\u001b[0m \u001b[0m_score\u001b[0m\u001b[1;33m(\u001b[0m\u001b[0mestimator\u001b[0m\u001b[1;33m,\u001b[0m \u001b[0mX_test\u001b[0m\u001b[1;33m,\u001b[0m \u001b[0my_test\u001b[0m\u001b[1;33m,\u001b[0m \u001b[0mscorer\u001b[0m\u001b[1;33m)\u001b[0m\u001b[1;33m\u001b[0m\u001b[1;33m\u001b[0m\u001b[0m\n\u001b[0m\u001b[0;32m    545\u001b[0m         \u001b[0mscore_time\u001b[0m \u001b[1;33m=\u001b[0m \u001b[0mtime\u001b[0m\u001b[1;33m.\u001b[0m\u001b[0mtime\u001b[0m\u001b[1;33m(\u001b[0m\u001b[1;33m)\u001b[0m \u001b[1;33m-\u001b[0m \u001b[0mstart_time\u001b[0m \u001b[1;33m-\u001b[0m \u001b[0mfit_time\u001b[0m\u001b[1;33m\u001b[0m\u001b[1;33m\u001b[0m\u001b[0m\n\u001b[0;32m    546\u001b[0m         \u001b[1;32mif\u001b[0m \u001b[0mreturn_train_score\u001b[0m\u001b[1;33m:\u001b[0m\u001b[1;33m\u001b[0m\u001b[1;33m\u001b[0m\u001b[0m\n",
      "\u001b[1;32m~\\anaconda3\\lib\\site-packages\\sklearn\\model_selection\\_validation.py\u001b[0m in \u001b[0;36m_score\u001b[1;34m(estimator, X_test, y_test, scorer)\u001b[0m\n\u001b[0;32m    589\u001b[0m         \u001b[0mscores\u001b[0m \u001b[1;33m=\u001b[0m \u001b[0mscorer\u001b[0m\u001b[1;33m(\u001b[0m\u001b[0mestimator\u001b[0m\u001b[1;33m,\u001b[0m \u001b[0mX_test\u001b[0m\u001b[1;33m)\u001b[0m\u001b[1;33m\u001b[0m\u001b[1;33m\u001b[0m\u001b[0m\n\u001b[0;32m    590\u001b[0m     \u001b[1;32melse\u001b[0m\u001b[1;33m:\u001b[0m\u001b[1;33m\u001b[0m\u001b[1;33m\u001b[0m\u001b[0m\n\u001b[1;32m--> 591\u001b[1;33m         \u001b[0mscores\u001b[0m \u001b[1;33m=\u001b[0m \u001b[0mscorer\u001b[0m\u001b[1;33m(\u001b[0m\u001b[0mestimator\u001b[0m\u001b[1;33m,\u001b[0m \u001b[0mX_test\u001b[0m\u001b[1;33m,\u001b[0m \u001b[0my_test\u001b[0m\u001b[1;33m)\u001b[0m\u001b[1;33m\u001b[0m\u001b[1;33m\u001b[0m\u001b[0m\n\u001b[0m\u001b[0;32m    592\u001b[0m \u001b[1;33m\u001b[0m\u001b[0m\n\u001b[0;32m    593\u001b[0m     error_msg = (\"scoring must return a number, got %s (%s) \"\n",
      "\u001b[1;32m~\\anaconda3\\lib\\site-packages\\sklearn\\metrics\\_scorer.py\u001b[0m in \u001b[0;36m__call__\u001b[1;34m(self, estimator, *args, **kwargs)\u001b[0m\n\u001b[0;32m     85\u001b[0m             \u001b[1;32mif\u001b[0m \u001b[0misinstance\u001b[0m\u001b[1;33m(\u001b[0m\u001b[0mscorer\u001b[0m\u001b[1;33m,\u001b[0m \u001b[0m_BaseScorer\u001b[0m\u001b[1;33m)\u001b[0m\u001b[1;33m:\u001b[0m\u001b[1;33m\u001b[0m\u001b[1;33m\u001b[0m\u001b[0m\n\u001b[0;32m     86\u001b[0m                 score = scorer._score(cached_call, estimator,\n\u001b[1;32m---> 87\u001b[1;33m                                       *args, **kwargs)\n\u001b[0m\u001b[0;32m     88\u001b[0m             \u001b[1;32melse\u001b[0m\u001b[1;33m:\u001b[0m\u001b[1;33m\u001b[0m\u001b[1;33m\u001b[0m\u001b[0m\n\u001b[0;32m     89\u001b[0m                 \u001b[0mscore\u001b[0m \u001b[1;33m=\u001b[0m \u001b[0mscorer\u001b[0m\u001b[1;33m(\u001b[0m\u001b[0mestimator\u001b[0m\u001b[1;33m,\u001b[0m \u001b[1;33m*\u001b[0m\u001b[0margs\u001b[0m\u001b[1;33m,\u001b[0m \u001b[1;33m**\u001b[0m\u001b[0mkwargs\u001b[0m\u001b[1;33m)\u001b[0m\u001b[1;33m\u001b[0m\u001b[1;33m\u001b[0m\u001b[0m\n",
      "\u001b[1;32m~\\anaconda3\\lib\\site-packages\\sklearn\\metrics\\_scorer.py\u001b[0m in \u001b[0;36m_score\u001b[1;34m(self, method_caller, estimator, X, y_true, sample_weight)\u001b[0m\n\u001b[0;32m    203\u001b[0m         \"\"\"\n\u001b[0;32m    204\u001b[0m \u001b[1;33m\u001b[0m\u001b[0m\n\u001b[1;32m--> 205\u001b[1;33m         \u001b[0my_pred\u001b[0m \u001b[1;33m=\u001b[0m \u001b[0mmethod_caller\u001b[0m\u001b[1;33m(\u001b[0m\u001b[0mestimator\u001b[0m\u001b[1;33m,\u001b[0m \u001b[1;34m\"predict\"\u001b[0m\u001b[1;33m,\u001b[0m \u001b[0mX\u001b[0m\u001b[1;33m)\u001b[0m\u001b[1;33m\u001b[0m\u001b[1;33m\u001b[0m\u001b[0m\n\u001b[0m\u001b[0;32m    206\u001b[0m         \u001b[1;32mif\u001b[0m \u001b[0msample_weight\u001b[0m \u001b[1;32mis\u001b[0m \u001b[1;32mnot\u001b[0m \u001b[1;32mNone\u001b[0m\u001b[1;33m:\u001b[0m\u001b[1;33m\u001b[0m\u001b[1;33m\u001b[0m\u001b[0m\n\u001b[0;32m    207\u001b[0m             return self._sign * self._score_func(y_true, y_pred,\n",
      "\u001b[1;32m~\\anaconda3\\lib\\site-packages\\sklearn\\metrics\\_scorer.py\u001b[0m in \u001b[0;36m_cached_call\u001b[1;34m(cache, estimator, method, *args, **kwargs)\u001b[0m\n\u001b[0;32m     50\u001b[0m     \u001b[1;34m\"\"\"Call estimator with method and args and kwargs.\"\"\"\u001b[0m\u001b[1;33m\u001b[0m\u001b[1;33m\u001b[0m\u001b[0m\n\u001b[0;32m     51\u001b[0m     \u001b[1;32mif\u001b[0m \u001b[0mcache\u001b[0m \u001b[1;32mis\u001b[0m \u001b[1;32mNone\u001b[0m\u001b[1;33m:\u001b[0m\u001b[1;33m\u001b[0m\u001b[1;33m\u001b[0m\u001b[0m\n\u001b[1;32m---> 52\u001b[1;33m         \u001b[1;32mreturn\u001b[0m \u001b[0mgetattr\u001b[0m\u001b[1;33m(\u001b[0m\u001b[0mestimator\u001b[0m\u001b[1;33m,\u001b[0m \u001b[0mmethod\u001b[0m\u001b[1;33m)\u001b[0m\u001b[1;33m(\u001b[0m\u001b[1;33m*\u001b[0m\u001b[0margs\u001b[0m\u001b[1;33m,\u001b[0m \u001b[1;33m**\u001b[0m\u001b[0mkwargs\u001b[0m\u001b[1;33m)\u001b[0m\u001b[1;33m\u001b[0m\u001b[1;33m\u001b[0m\u001b[0m\n\u001b[0m\u001b[0;32m     53\u001b[0m \u001b[1;33m\u001b[0m\u001b[0m\n\u001b[0;32m     54\u001b[0m     \u001b[1;32mtry\u001b[0m\u001b[1;33m:\u001b[0m\u001b[1;33m\u001b[0m\u001b[1;33m\u001b[0m\u001b[0m\n",
      "\u001b[1;32m~\\anaconda3\\lib\\site-packages\\sklearn\\neighbors\\_classification.py\u001b[0m in \u001b[0;36mpredict\u001b[1;34m(self, X)\u001b[0m\n\u001b[0;32m    171\u001b[0m         \u001b[0mX\u001b[0m \u001b[1;33m=\u001b[0m \u001b[0mcheck_array\u001b[0m\u001b[1;33m(\u001b[0m\u001b[0mX\u001b[0m\u001b[1;33m,\u001b[0m \u001b[0maccept_sparse\u001b[0m\u001b[1;33m=\u001b[0m\u001b[1;34m'csr'\u001b[0m\u001b[1;33m)\u001b[0m\u001b[1;33m\u001b[0m\u001b[1;33m\u001b[0m\u001b[0m\n\u001b[0;32m    172\u001b[0m \u001b[1;33m\u001b[0m\u001b[0m\n\u001b[1;32m--> 173\u001b[1;33m         \u001b[0mneigh_dist\u001b[0m\u001b[1;33m,\u001b[0m \u001b[0mneigh_ind\u001b[0m \u001b[1;33m=\u001b[0m \u001b[0mself\u001b[0m\u001b[1;33m.\u001b[0m\u001b[0mkneighbors\u001b[0m\u001b[1;33m(\u001b[0m\u001b[0mX\u001b[0m\u001b[1;33m)\u001b[0m\u001b[1;33m\u001b[0m\u001b[1;33m\u001b[0m\u001b[0m\n\u001b[0m\u001b[0;32m    174\u001b[0m         \u001b[0mclasses_\u001b[0m \u001b[1;33m=\u001b[0m \u001b[0mself\u001b[0m\u001b[1;33m.\u001b[0m\u001b[0mclasses_\u001b[0m\u001b[1;33m\u001b[0m\u001b[1;33m\u001b[0m\u001b[0m\n\u001b[0;32m    175\u001b[0m         \u001b[0m_y\u001b[0m \u001b[1;33m=\u001b[0m \u001b[0mself\u001b[0m\u001b[1;33m.\u001b[0m\u001b[0m_y\u001b[0m\u001b[1;33m\u001b[0m\u001b[1;33m\u001b[0m\u001b[0m\n",
      "\u001b[1;32m~\\anaconda3\\lib\\site-packages\\sklearn\\neighbors\\_base.py\u001b[0m in \u001b[0;36mkneighbors\u001b[1;34m(self, X, n_neighbors, return_distance)\u001b[0m\n\u001b[0;32m    661\u001b[0m                 delayed_query(\n\u001b[0;32m    662\u001b[0m                     self._tree, X[s], n_neighbors, return_distance)\n\u001b[1;32m--> 663\u001b[1;33m                 \u001b[1;32mfor\u001b[0m \u001b[0ms\u001b[0m \u001b[1;32min\u001b[0m \u001b[0mgen_even_slices\u001b[0m\u001b[1;33m(\u001b[0m\u001b[0mX\u001b[0m\u001b[1;33m.\u001b[0m\u001b[0mshape\u001b[0m\u001b[1;33m[\u001b[0m\u001b[1;36m0\u001b[0m\u001b[1;33m]\u001b[0m\u001b[1;33m,\u001b[0m \u001b[0mn_jobs\u001b[0m\u001b[1;33m)\u001b[0m\u001b[1;33m\u001b[0m\u001b[1;33m\u001b[0m\u001b[0m\n\u001b[0m\u001b[0;32m    664\u001b[0m             )\n\u001b[0;32m    665\u001b[0m         \u001b[1;32melse\u001b[0m\u001b[1;33m:\u001b[0m\u001b[1;33m\u001b[0m\u001b[1;33m\u001b[0m\u001b[0m\n",
      "\u001b[1;32m~\\anaconda3\\lib\\site-packages\\joblib\\parallel.py\u001b[0m in \u001b[0;36m__call__\u001b[1;34m(self, iterable)\u001b[0m\n\u001b[0;32m   1002\u001b[0m             \u001b[1;31m# remaining jobs.\u001b[0m\u001b[1;33m\u001b[0m\u001b[1;33m\u001b[0m\u001b[1;33m\u001b[0m\u001b[0m\n\u001b[0;32m   1003\u001b[0m             \u001b[0mself\u001b[0m\u001b[1;33m.\u001b[0m\u001b[0m_iterating\u001b[0m \u001b[1;33m=\u001b[0m \u001b[1;32mFalse\u001b[0m\u001b[1;33m\u001b[0m\u001b[1;33m\u001b[0m\u001b[0m\n\u001b[1;32m-> 1004\u001b[1;33m             \u001b[1;32mif\u001b[0m \u001b[0mself\u001b[0m\u001b[1;33m.\u001b[0m\u001b[0mdispatch_one_batch\u001b[0m\u001b[1;33m(\u001b[0m\u001b[0miterator\u001b[0m\u001b[1;33m)\u001b[0m\u001b[1;33m:\u001b[0m\u001b[1;33m\u001b[0m\u001b[1;33m\u001b[0m\u001b[0m\n\u001b[0m\u001b[0;32m   1005\u001b[0m                 \u001b[0mself\u001b[0m\u001b[1;33m.\u001b[0m\u001b[0m_iterating\u001b[0m \u001b[1;33m=\u001b[0m \u001b[0mself\u001b[0m\u001b[1;33m.\u001b[0m\u001b[0m_original_iterator\u001b[0m \u001b[1;32mis\u001b[0m \u001b[1;32mnot\u001b[0m \u001b[1;32mNone\u001b[0m\u001b[1;33m\u001b[0m\u001b[1;33m\u001b[0m\u001b[0m\n\u001b[0;32m   1006\u001b[0m \u001b[1;33m\u001b[0m\u001b[0m\n",
      "\u001b[1;32m~\\anaconda3\\lib\\site-packages\\joblib\\parallel.py\u001b[0m in \u001b[0;36mdispatch_one_batch\u001b[1;34m(self, iterator)\u001b[0m\n\u001b[0;32m    833\u001b[0m                 \u001b[1;32mreturn\u001b[0m \u001b[1;32mFalse\u001b[0m\u001b[1;33m\u001b[0m\u001b[1;33m\u001b[0m\u001b[0m\n\u001b[0;32m    834\u001b[0m             \u001b[1;32melse\u001b[0m\u001b[1;33m:\u001b[0m\u001b[1;33m\u001b[0m\u001b[1;33m\u001b[0m\u001b[0m\n\u001b[1;32m--> 835\u001b[1;33m                 \u001b[0mself\u001b[0m\u001b[1;33m.\u001b[0m\u001b[0m_dispatch\u001b[0m\u001b[1;33m(\u001b[0m\u001b[0mtasks\u001b[0m\u001b[1;33m)\u001b[0m\u001b[1;33m\u001b[0m\u001b[1;33m\u001b[0m\u001b[0m\n\u001b[0m\u001b[0;32m    836\u001b[0m                 \u001b[1;32mreturn\u001b[0m \u001b[1;32mTrue\u001b[0m\u001b[1;33m\u001b[0m\u001b[1;33m\u001b[0m\u001b[0m\n\u001b[0;32m    837\u001b[0m \u001b[1;33m\u001b[0m\u001b[0m\n",
      "\u001b[1;32m~\\anaconda3\\lib\\site-packages\\joblib\\parallel.py\u001b[0m in \u001b[0;36m_dispatch\u001b[1;34m(self, batch)\u001b[0m\n\u001b[0;32m    752\u001b[0m         \u001b[1;32mwith\u001b[0m \u001b[0mself\u001b[0m\u001b[1;33m.\u001b[0m\u001b[0m_lock\u001b[0m\u001b[1;33m:\u001b[0m\u001b[1;33m\u001b[0m\u001b[1;33m\u001b[0m\u001b[0m\n\u001b[0;32m    753\u001b[0m             \u001b[0mjob_idx\u001b[0m \u001b[1;33m=\u001b[0m \u001b[0mlen\u001b[0m\u001b[1;33m(\u001b[0m\u001b[0mself\u001b[0m\u001b[1;33m.\u001b[0m\u001b[0m_jobs\u001b[0m\u001b[1;33m)\u001b[0m\u001b[1;33m\u001b[0m\u001b[1;33m\u001b[0m\u001b[0m\n\u001b[1;32m--> 754\u001b[1;33m             \u001b[0mjob\u001b[0m \u001b[1;33m=\u001b[0m \u001b[0mself\u001b[0m\u001b[1;33m.\u001b[0m\u001b[0m_backend\u001b[0m\u001b[1;33m.\u001b[0m\u001b[0mapply_async\u001b[0m\u001b[1;33m(\u001b[0m\u001b[0mbatch\u001b[0m\u001b[1;33m,\u001b[0m \u001b[0mcallback\u001b[0m\u001b[1;33m=\u001b[0m\u001b[0mcb\u001b[0m\u001b[1;33m)\u001b[0m\u001b[1;33m\u001b[0m\u001b[1;33m\u001b[0m\u001b[0m\n\u001b[0m\u001b[0;32m    755\u001b[0m             \u001b[1;31m# A job can complete so quickly than its callback is\u001b[0m\u001b[1;33m\u001b[0m\u001b[1;33m\u001b[0m\u001b[1;33m\u001b[0m\u001b[0m\n\u001b[0;32m    756\u001b[0m             \u001b[1;31m# called before we get here, causing self._jobs to\u001b[0m\u001b[1;33m\u001b[0m\u001b[1;33m\u001b[0m\u001b[1;33m\u001b[0m\u001b[0m\n",
      "\u001b[1;32m~\\anaconda3\\lib\\site-packages\\joblib\\_parallel_backends.py\u001b[0m in \u001b[0;36mapply_async\u001b[1;34m(self, func, callback)\u001b[0m\n\u001b[0;32m    207\u001b[0m     \u001b[1;32mdef\u001b[0m \u001b[0mapply_async\u001b[0m\u001b[1;33m(\u001b[0m\u001b[0mself\u001b[0m\u001b[1;33m,\u001b[0m \u001b[0mfunc\u001b[0m\u001b[1;33m,\u001b[0m \u001b[0mcallback\u001b[0m\u001b[1;33m=\u001b[0m\u001b[1;32mNone\u001b[0m\u001b[1;33m)\u001b[0m\u001b[1;33m:\u001b[0m\u001b[1;33m\u001b[0m\u001b[1;33m\u001b[0m\u001b[0m\n\u001b[0;32m    208\u001b[0m         \u001b[1;34m\"\"\"Schedule a func to be run\"\"\"\u001b[0m\u001b[1;33m\u001b[0m\u001b[1;33m\u001b[0m\u001b[0m\n\u001b[1;32m--> 209\u001b[1;33m         \u001b[0mresult\u001b[0m \u001b[1;33m=\u001b[0m \u001b[0mImmediateResult\u001b[0m\u001b[1;33m(\u001b[0m\u001b[0mfunc\u001b[0m\u001b[1;33m)\u001b[0m\u001b[1;33m\u001b[0m\u001b[1;33m\u001b[0m\u001b[0m\n\u001b[0m\u001b[0;32m    210\u001b[0m         \u001b[1;32mif\u001b[0m \u001b[0mcallback\u001b[0m\u001b[1;33m:\u001b[0m\u001b[1;33m\u001b[0m\u001b[1;33m\u001b[0m\u001b[0m\n\u001b[0;32m    211\u001b[0m             \u001b[0mcallback\u001b[0m\u001b[1;33m(\u001b[0m\u001b[0mresult\u001b[0m\u001b[1;33m)\u001b[0m\u001b[1;33m\u001b[0m\u001b[1;33m\u001b[0m\u001b[0m\n",
      "\u001b[1;32m~\\anaconda3\\lib\\site-packages\\joblib\\_parallel_backends.py\u001b[0m in \u001b[0;36m__init__\u001b[1;34m(self, batch)\u001b[0m\n\u001b[0;32m    588\u001b[0m         \u001b[1;31m# Don't delay the application, to avoid keeping the input\u001b[0m\u001b[1;33m\u001b[0m\u001b[1;33m\u001b[0m\u001b[1;33m\u001b[0m\u001b[0m\n\u001b[0;32m    589\u001b[0m         \u001b[1;31m# arguments in memory\u001b[0m\u001b[1;33m\u001b[0m\u001b[1;33m\u001b[0m\u001b[1;33m\u001b[0m\u001b[0m\n\u001b[1;32m--> 590\u001b[1;33m         \u001b[0mself\u001b[0m\u001b[1;33m.\u001b[0m\u001b[0mresults\u001b[0m \u001b[1;33m=\u001b[0m \u001b[0mbatch\u001b[0m\u001b[1;33m(\u001b[0m\u001b[1;33m)\u001b[0m\u001b[1;33m\u001b[0m\u001b[1;33m\u001b[0m\u001b[0m\n\u001b[0m\u001b[0;32m    591\u001b[0m \u001b[1;33m\u001b[0m\u001b[0m\n\u001b[0;32m    592\u001b[0m     \u001b[1;32mdef\u001b[0m \u001b[0mget\u001b[0m\u001b[1;33m(\u001b[0m\u001b[0mself\u001b[0m\u001b[1;33m)\u001b[0m\u001b[1;33m:\u001b[0m\u001b[1;33m\u001b[0m\u001b[1;33m\u001b[0m\u001b[0m\n",
      "\u001b[1;32m~\\anaconda3\\lib\\site-packages\\joblib\\parallel.py\u001b[0m in \u001b[0;36m__call__\u001b[1;34m(self)\u001b[0m\n\u001b[0;32m    254\u001b[0m         \u001b[1;32mwith\u001b[0m \u001b[0mparallel_backend\u001b[0m\u001b[1;33m(\u001b[0m\u001b[0mself\u001b[0m\u001b[1;33m.\u001b[0m\u001b[0m_backend\u001b[0m\u001b[1;33m,\u001b[0m \u001b[0mn_jobs\u001b[0m\u001b[1;33m=\u001b[0m\u001b[0mself\u001b[0m\u001b[1;33m.\u001b[0m\u001b[0m_n_jobs\u001b[0m\u001b[1;33m)\u001b[0m\u001b[1;33m:\u001b[0m\u001b[1;33m\u001b[0m\u001b[1;33m\u001b[0m\u001b[0m\n\u001b[0;32m    255\u001b[0m             return [func(*args, **kwargs)\n\u001b[1;32m--> 256\u001b[1;33m                     for func, args, kwargs in self.items]\n\u001b[0m\u001b[0;32m    257\u001b[0m \u001b[1;33m\u001b[0m\u001b[0m\n\u001b[0;32m    258\u001b[0m     \u001b[1;32mdef\u001b[0m \u001b[0m__len__\u001b[0m\u001b[1;33m(\u001b[0m\u001b[0mself\u001b[0m\u001b[1;33m)\u001b[0m\u001b[1;33m:\u001b[0m\u001b[1;33m\u001b[0m\u001b[1;33m\u001b[0m\u001b[0m\n",
      "\u001b[1;32m~\\anaconda3\\lib\\site-packages\\joblib\\parallel.py\u001b[0m in \u001b[0;36m<listcomp>\u001b[1;34m(.0)\u001b[0m\n\u001b[0;32m    254\u001b[0m         \u001b[1;32mwith\u001b[0m \u001b[0mparallel_backend\u001b[0m\u001b[1;33m(\u001b[0m\u001b[0mself\u001b[0m\u001b[1;33m.\u001b[0m\u001b[0m_backend\u001b[0m\u001b[1;33m,\u001b[0m \u001b[0mn_jobs\u001b[0m\u001b[1;33m=\u001b[0m\u001b[0mself\u001b[0m\u001b[1;33m.\u001b[0m\u001b[0m_n_jobs\u001b[0m\u001b[1;33m)\u001b[0m\u001b[1;33m:\u001b[0m\u001b[1;33m\u001b[0m\u001b[1;33m\u001b[0m\u001b[0m\n\u001b[0;32m    255\u001b[0m             return [func(*args, **kwargs)\n\u001b[1;32m--> 256\u001b[1;33m                     for func, args, kwargs in self.items]\n\u001b[0m\u001b[0;32m    257\u001b[0m \u001b[1;33m\u001b[0m\u001b[0m\n\u001b[0;32m    258\u001b[0m     \u001b[1;32mdef\u001b[0m \u001b[0m__len__\u001b[0m\u001b[1;33m(\u001b[0m\u001b[0mself\u001b[0m\u001b[1;33m)\u001b[0m\u001b[1;33m:\u001b[0m\u001b[1;33m\u001b[0m\u001b[1;33m\u001b[0m\u001b[0m\n",
      "\u001b[1;32m~\\anaconda3\\lib\\site-packages\\sklearn\\neighbors\\_base.py\u001b[0m in \u001b[0;36m_tree_query_parallel_helper\u001b[1;34m(tree, *args, **kwargs)\u001b[0m\n\u001b[0;32m    488\u001b[0m     \u001b[0munder\u001b[0m \u001b[0mPyPy\u001b[0m\u001b[1;33m.\u001b[0m\u001b[1;33m\u001b[0m\u001b[1;33m\u001b[0m\u001b[0m\n\u001b[0;32m    489\u001b[0m     \"\"\"\n\u001b[1;32m--> 490\u001b[1;33m     \u001b[1;32mreturn\u001b[0m \u001b[0mtree\u001b[0m\u001b[1;33m.\u001b[0m\u001b[0mquery\u001b[0m\u001b[1;33m(\u001b[0m\u001b[1;33m*\u001b[0m\u001b[0margs\u001b[0m\u001b[1;33m,\u001b[0m \u001b[1;33m**\u001b[0m\u001b[0mkwargs\u001b[0m\u001b[1;33m)\u001b[0m\u001b[1;33m\u001b[0m\u001b[1;33m\u001b[0m\u001b[0m\n\u001b[0m\u001b[0;32m    491\u001b[0m \u001b[1;33m\u001b[0m\u001b[0m\n\u001b[0;32m    492\u001b[0m \u001b[1;33m\u001b[0m\u001b[0m\n",
      "\u001b[1;31mKeyboardInterrupt\u001b[0m: "
     ]
    }
   ],
   "source": [
    "from sklearn.model_selection import GridSearchCV\n",
    "from sklearn.metrics import classification_report\n",
    "from sklearn.neighbors import KNeighborsClassifier\n",
    "\n",
    "# Set the parameters by cross-validation\n",
    "tuned_parameters = [ {\"metric\":['euclidean'], \"n_neighbors\":[5, 10, 20, 50, 100, 200, 250], \"weights\":['uniform','distance']},\n",
    "                     {\"metric\":['manhattan'], \"n_neighbors\":[5, 10, 20, 50, 100, 200, 250], \"weights\":['uniform','distance']},\n",
    "                     {\"metric\":['chebyshev'], \"n_neighbors\":[5, 10, 20, 50, 100, 200, 250], \"weights\":['uniform','distance']}\n",
    "                     ]\n",
    "             \n",
    "\n",
    "print(\"# Tuning hyper-parameters for KNN Classifier\")\n",
    "print()\n",
    "\n",
    "clf = GridSearchCV(KNeighborsClassifier(), tuned_parameters, scoring='accuracy', cv = 2)\n",
    "\n",
    "clf.fit(X_train, y_train)\n",
    "\n",
    "print(\"Best parameters set found on training set:\")\n",
    "print()\n",
    "print(clf.best_params_)\n",
    "print()\n",
    "print(\"Grid scores on training set:\")\n",
    "print()\n",
    "means = clf.cv_results_['mean_test_score']\n",
    "stds = clf.cv_results_['std_test_score']\n",
    "for mean, std, params in zip(means, stds, clf.cv_results_['params']):\n",
    "    print(\"%0.3f (+/-%0.03f) for %r\"\n",
    "            % (mean, std * 2, params))\n",
    "print()\n",
    "\n",
    "print(\"Detailed classification report:\")\n",
    "print()\n",
    "print(\"The model is trained on the full training set.\")\n",
    "print(\"The scores are computed on the full development set.\")\n",
    "print()\n",
    "y_true, y_pred = y_dev, clf.predict(X_dev)\n",
    "print(classification_report(y_true, y_pred))\n",
    "print()"
   ]
  },
  {
   "cell_type": "code",
   "execution_count": 39,
   "metadata": {},
   "outputs": [],
   "source": [
    "#Best parameters set found on training set:\n",
    "     #{'metric': 'manhattan', 'n_neighbors': 5, 'weights': 'distance'}"
   ]
  },
  {
   "cell_type": "markdown",
   "metadata": {},
   "source": [
    "# Training the Model with tuned parameters"
   ]
  },
  {
   "cell_type": "code",
   "execution_count": 39,
   "metadata": {},
   "outputs": [
    {
     "data": {
      "text/plain": [
       "KNeighborsClassifier(algorithm='auto', leaf_size=30, metric='manhattan',\n",
       "                     metric_params=None, n_jobs=None, n_neighbors=5, p=2,\n",
       "                     weights='distance')"
      ]
     },
     "execution_count": 39,
     "metadata": {},
     "output_type": "execute_result"
    }
   ],
   "source": [
    "from sklearn.neighbors import KNeighborsClassifier\n",
    "# Training the KNN classfication model on the Training set\n",
    "classifier_knn = KNeighborsClassifier( metric = 'manhattan', n_neighbors = 5, weights= 'distance')\n",
    "# fitting the model\n",
    "classifier_knn.fit(X_train_ovr,y_train_ovr)"
   ]
  },
  {
   "cell_type": "markdown",
   "metadata": {},
   "source": [
    "# Predicting results for Test set"
   ]
  },
  {
   "cell_type": "code",
   "execution_count": 40,
   "metadata": {},
   "outputs": [],
   "source": [
    "# Predicting the Test set results\n",
    "y_results_knn = classifier_knn.predict(X_test)"
   ]
  },
  {
   "cell_type": "code",
   "execution_count": 41,
   "metadata": {},
   "outputs": [
    {
     "name": "stdout",
     "output_type": "stream",
     "text": [
      "[[1 1]\n",
      " [1 1]\n",
      " [1 1]\n",
      " ...\n",
      " [8 8]\n",
      " [8 8]\n",
      " [8 8]]\n"
     ]
    }
   ],
   "source": [
    "print(np.concatenate((y_results_knn.reshape(len(y_results_knn),1), y_test.reshape(len(y_test),1)),1))"
   ]
  },
  {
   "cell_type": "markdown",
   "metadata": {},
   "source": [
    "# Model Evaluation"
   ]
  },
  {
   "cell_type": "code",
   "execution_count": 42,
   "metadata": {},
   "outputs": [
    {
     "data": {
      "text/plain": [
       "<matplotlib.axes._subplots.AxesSubplot at 0x177455fb848>"
      ]
     },
     "execution_count": 42,
     "metadata": {},
     "output_type": "execute_result"
    },
    {
     "data": {
      "image/png": "[encoded data removed]",
      "text/plain": [
       "<Figure size 720x576 with 2 Axes>"
      ]
     },
     "metadata": {
      "needs_background": "light"
     },
     "output_type": "display_data"
    }
   ],
   "source": [
    "#Model Evalation For Logistic Regression Classification Model\n",
    "from sklearn.metrics import confusion_matrix\n",
    "    \n",
    "#confusion matrix\n",
    "\n",
    "cm_knn = confusion_matrix(y_test, y_results_knn)\n",
    "array = cm_knn \n",
    "df_cm = pd.DataFrame(array, index = [i for i in \"12345678\"],\n",
    "                  columns = [i for i in \"12345678\"])\n",
    "plt.figure(figsize = (10,8))\n",
    "sn.heatmap(df_cm, annot=True)"
   ]
  },
  {
   "cell_type": "code",
   "execution_count": 43,
   "metadata": {},
   "outputs": [
    {
     "name": "stdout",
     "output_type": "stream",
     "text": [
      "accuracy:0.9764204545454546\n",
      "f1_score:0.9763387227549893\n",
      "recall_score:0.9764204545454546\n",
      "precision_score:0.9764204545454546\n"
     ]
    }
   ],
   "source": [
    "#accuracy_score, f1_score, recall_score,precision_score metrics\n",
    "from sklearn.metrics import accuracy_score, f1_score, recall_score,precision_score\n",
    "#accuracy\n",
    "accuracy_knn = accuracy_score(y_test, y_results_knn)\n",
    "print(\"accuracy:{}\".format(accuracy_knn))\n",
    "#F1 score    \n",
    "f1_score_knn = f1_score(y_test, y_results_knn, average='weighted')\n",
    "print(\"f1_score:{}\".format(f1_score_knn))\n",
    "#Recall score\n",
    "recall_score_knn = recall_score(y_test, y_results_knn, average='micro')\n",
    "print(\"recall_score:{}\".format(recall_score_knn))\n",
    "#Precision score\n",
    "precision_score_knn = precision_score(y_test, y_results_knn, average='micro')\n",
    "print(\"precision_score:{}\".format(precision_score_knn))"
   ]
  },
  {
   "cell_type": "code",
   "execution_count": 44,
   "metadata": {},
   "outputs": [
    {
     "name": "stdout",
     "output_type": "stream",
     "text": [
      "              precision    recall  f1-score   support\n",
      "\n",
      "           1  1.00000000 1.00000000 1.00000000       879\n",
      "           2  0.99662542 0.99774775 0.99718627       888\n",
      "           3  0.98871332 0.99772210 0.99319728       878\n",
      "           4  0.93282774 0.95986622 0.94615385       897\n",
      "           5  0.99195402 0.98741419 0.98967890       874\n",
      "           6  0.95195531 0.96489241 0.95838020       883\n",
      "           7  0.95204678 0.90645880 0.92869367       898\n",
      "           8  1.00000000 1.00000000 1.00000000       843\n",
      "\n",
      "    accuracy                      0.97642045      7040\n",
      "   macro avg  0.97676532 0.97676268 0.97666127      7040\n",
      "weighted avg  0.97646627 0.97642045 0.97633872      7040\n",
      "\n"
     ]
    }
   ],
   "source": [
    "#Classification report\n",
    "from sklearn import metrics\n",
    "print(metrics.classification_report(y_test, y_results_knn, digits = 8))"
   ]
  },
  {
   "cell_type": "markdown",
   "metadata": {},
   "source": [
    "# 5. Decision Tree Classifier:"
   ]
  },
  {
   "cell_type": "markdown",
   "metadata": {},
   "source": [
    "# MODEL TUNING"
   ]
  },
  {
   "cell_type": "code",
   "execution_count": 59,
   "metadata": {},
   "outputs": [
    {
     "name": "stdout",
     "output_type": "stream",
     "text": [
      "# Tuning hyper-parameters for Decision Tree Classifier\n",
      "\n",
      "Best parameters set found on training set:\n",
      "\n",
      "{'criterion': 'gini', 'max_depth': 100, 'min_samples_leaf': 1, 'min_samples_split': 2, 'splitter': 'random'}\n",
      "\n",
      "Grid scores on training set:\n",
      "\n",
      "0.605 (+/-0.007) for {'criterion': 'gini', 'max_depth': 10, 'min_samples_leaf': 1, 'min_samples_split': 2, 'splitter': 'best'}\n",
      "0.636 (+/-0.009) for {'criterion': 'gini', 'max_depth': 10, 'min_samples_leaf': 1, 'min_samples_split': 2, 'splitter': 'random'}\n",
      "0.596 (+/-0.017) for {'criterion': 'gini', 'max_depth': 10, 'min_samples_leaf': 1, 'min_samples_split': 5, 'splitter': 'best'}\n",
      "0.646 (+/-0.028) for {'criterion': 'gini', 'max_depth': 10, 'min_samples_leaf': 1, 'min_samples_split': 5, 'splitter': 'random'}\n",
      "0.596 (+/-0.027) for {'criterion': 'gini', 'max_depth': 10, 'min_samples_leaf': 1, 'min_samples_split': 10, 'splitter': 'best'}\n",
      "0.589 (+/-0.074) for {'criterion': 'gini', 'max_depth': 10, 'min_samples_leaf': 1, 'min_samples_split': 10, 'splitter': 'random'}\n",
      "0.597 (+/-0.025) for {'criterion': 'gini', 'max_depth': 10, 'min_samples_leaf': 1, 'min_samples_split': 15, 'splitter': 'best'}\n",
      "0.574 (+/-0.078) for {'criterion': 'gini', 'max_depth': 10, 'min_samples_leaf': 1, 'min_samples_split': 15, 'splitter': 'random'}\n",
      "0.604 (+/-0.016) for {'criterion': 'gini', 'max_depth': 10, 'min_samples_leaf': 1, 'min_samples_split': 25, 'splitter': 'best'}\n",
      "0.647 (+/-0.032) for {'criterion': 'gini', 'max_depth': 10, 'min_samples_leaf': 1, 'min_samples_split': 25, 'splitter': 'random'}\n",
      "0.606 (+/-0.007) for {'criterion': 'gini', 'max_depth': 10, 'min_samples_leaf': 1, 'min_samples_split': 40, 'splitter': 'best'}\n",
      "0.613 (+/-0.004) for {'criterion': 'gini', 'max_depth': 10, 'min_samples_leaf': 1, 'min_samples_split': 40, 'splitter': 'random'}\n",
      "0.582 (+/-0.015) for {'criterion': 'gini', 'max_depth': 10, 'min_samples_leaf': 2, 'min_samples_split': 2, 'splitter': 'best'}\n",
      "0.613 (+/-0.011) for {'criterion': 'gini', 'max_depth': 10, 'min_samples_leaf': 2, 'min_samples_split': 2, 'splitter': 'random'}\n",
      "0.586 (+/-0.011) for {'criterion': 'gini', 'max_depth': 10, 'min_samples_leaf': 2, 'min_samples_split': 5, 'splitter': 'best'}\n",
      "0.650 (+/-0.061) for {'criterion': 'gini', 'max_depth': 10, 'min_samples_leaf': 2, 'min_samples_split': 5, 'splitter': 'random'}\n",
      "0.588 (+/-0.012) for {'criterion': 'gini', 'max_depth': 10, 'min_samples_leaf': 2, 'min_samples_split': 10, 'splitter': 'best'}\n",
      "0.581 (+/-0.049) for {'criterion': 'gini', 'max_depth': 10, 'min_samples_leaf': 2, 'min_samples_split': 10, 'splitter': 'random'}\n",
      "0.586 (+/-0.010) for {'criterion': 'gini', 'max_depth': 10, 'min_samples_leaf': 2, 'min_samples_split': 15, 'splitter': 'best'}\n",
      "0.551 (+/-0.038) for {'criterion': 'gini', 'max_depth': 10, 'min_samples_leaf': 2, 'min_samples_split': 15, 'splitter': 'random'}\n",
      "0.593 (+/-0.007) for {'criterion': 'gini', 'max_depth': 10, 'min_samples_leaf': 2, 'min_samples_split': 25, 'splitter': 'best'}\n",
      "0.613 (+/-0.019) for {'criterion': 'gini', 'max_depth': 10, 'min_samples_leaf': 2, 'min_samples_split': 25, 'splitter': 'random'}\n",
      "0.598 (+/-0.005) for {'criterion': 'gini', 'max_depth': 10, 'min_samples_leaf': 2, 'min_samples_split': 40, 'splitter': 'best'}\n",
      "0.580 (+/-0.034) for {'criterion': 'gini', 'max_depth': 10, 'min_samples_leaf': 2, 'min_samples_split': 40, 'splitter': 'random'}\n",
      "0.605 (+/-0.028) for {'criterion': 'gini', 'max_depth': 10, 'min_samples_leaf': 5, 'min_samples_split': 2, 'splitter': 'best'}\n",
      "0.629 (+/-0.019) for {'criterion': 'gini', 'max_depth': 10, 'min_samples_leaf': 5, 'min_samples_split': 2, 'splitter': 'random'}\n",
      "0.605 (+/-0.028) for {'criterion': 'gini', 'max_depth': 10, 'min_samples_leaf': 5, 'min_samples_split': 5, 'splitter': 'best'}\n",
      "0.629 (+/-0.019) for {'criterion': 'gini', 'max_depth': 10, 'min_samples_leaf': 5, 'min_samples_split': 5, 'splitter': 'random'}\n",
      "0.605 (+/-0.028) for {'criterion': 'gini', 'max_depth': 10, 'min_samples_leaf': 5, 'min_samples_split': 10, 'splitter': 'best'}\n",
      "0.629 (+/-0.019) for {'criterion': 'gini', 'max_depth': 10, 'min_samples_leaf': 5, 'min_samples_split': 10, 'splitter': 'random'}\n",
      "0.604 (+/-0.012) for {'criterion': 'gini', 'max_depth': 10, 'min_samples_leaf': 5, 'min_samples_split': 15, 'splitter': 'best'}\n",
      "0.613 (+/-0.057) for {'criterion': 'gini', 'max_depth': 10, 'min_samples_leaf': 5, 'min_samples_split': 15, 'splitter': 'random'}\n",
      "0.603 (+/-0.021) for {'criterion': 'gini', 'max_depth': 10, 'min_samples_leaf': 5, 'min_samples_split': 25, 'splitter': 'best'}\n",
      "0.651 (+/-0.019) for {'criterion': 'gini', 'max_depth': 10, 'min_samples_leaf': 5, 'min_samples_split': 25, 'splitter': 'random'}\n",
      "0.595 (+/-0.004) for {'criterion': 'gini', 'max_depth': 10, 'min_samples_leaf': 5, 'min_samples_split': 40, 'splitter': 'best'}\n",
      "0.627 (+/-0.055) for {'criterion': 'gini', 'max_depth': 10, 'min_samples_leaf': 5, 'min_samples_split': 40, 'splitter': 'random'}\n",
      "0.581 (+/-0.015) for {'criterion': 'gini', 'max_depth': 10, 'min_samples_leaf': 10, 'min_samples_split': 2, 'splitter': 'best'}\n",
      "0.611 (+/-0.011) for {'criterion': 'gini', 'max_depth': 10, 'min_samples_leaf': 10, 'min_samples_split': 2, 'splitter': 'random'}\n",
      "0.581 (+/-0.015) for {'criterion': 'gini', 'max_depth': 10, 'min_samples_leaf': 10, 'min_samples_split': 5, 'splitter': 'best'}\n",
      "0.611 (+/-0.011) for {'criterion': 'gini', 'max_depth': 10, 'min_samples_leaf': 10, 'min_samples_split': 5, 'splitter': 'random'}\n",
      "0.581 (+/-0.015) for {'criterion': 'gini', 'max_depth': 10, 'min_samples_leaf': 10, 'min_samples_split': 10, 'splitter': 'best'}\n",
      "0.611 (+/-0.011) for {'criterion': 'gini', 'max_depth': 10, 'min_samples_leaf': 10, 'min_samples_split': 10, 'splitter': 'random'}\n",
      "0.581 (+/-0.015) for {'criterion': 'gini', 'max_depth': 10, 'min_samples_leaf': 10, 'min_samples_split': 15, 'splitter': 'best'}\n",
      "0.611 (+/-0.011) for {'criterion': 'gini', 'max_depth': 10, 'min_samples_leaf': 10, 'min_samples_split': 15, 'splitter': 'random'}\n",
      "0.602 (+/-0.002) for {'criterion': 'gini', 'max_depth': 10, 'min_samples_leaf': 10, 'min_samples_split': 25, 'splitter': 'best'}\n",
      "0.626 (+/-0.080) for {'criterion': 'gini', 'max_depth': 10, 'min_samples_leaf': 10, 'min_samples_split': 25, 'splitter': 'random'}\n",
      "0.606 (+/-0.010) for {'criterion': 'gini', 'max_depth': 10, 'min_samples_leaf': 10, 'min_samples_split': 40, 'splitter': 'best'}\n",
      "0.569 (+/-0.053) for {'criterion': 'gini', 'max_depth': 10, 'min_samples_leaf': 10, 'min_samples_split': 40, 'splitter': 'random'}\n",
      "0.607 (+/-0.001) for {'criterion': 'gini', 'max_depth': 10, 'min_samples_leaf': 20, 'min_samples_split': 2, 'splitter': 'best'}\n",
      "0.595 (+/-0.089) for {'criterion': 'gini', 'max_depth': 10, 'min_samples_leaf': 20, 'min_samples_split': 2, 'splitter': 'random'}\n",
      "0.607 (+/-0.001) for {'criterion': 'gini', 'max_depth': 10, 'min_samples_leaf': 20, 'min_samples_split': 5, 'splitter': 'best'}\n",
      "0.595 (+/-0.089) for {'criterion': 'gini', 'max_depth': 10, 'min_samples_leaf': 20, 'min_samples_split': 5, 'splitter': 'random'}\n",
      "0.607 (+/-0.001) for {'criterion': 'gini', 'max_depth': 10, 'min_samples_leaf': 20, 'min_samples_split': 10, 'splitter': 'best'}\n",
      "0.595 (+/-0.089) for {'criterion': 'gini', 'max_depth': 10, 'min_samples_leaf': 20, 'min_samples_split': 10, 'splitter': 'random'}\n",
      "0.607 (+/-0.001) for {'criterion': 'gini', 'max_depth': 10, 'min_samples_leaf': 20, 'min_samples_split': 15, 'splitter': 'best'}\n",
      "0.595 (+/-0.089) for {'criterion': 'gini', 'max_depth': 10, 'min_samples_leaf': 20, 'min_samples_split': 15, 'splitter': 'random'}\n",
      "0.607 (+/-0.001) for {'criterion': 'gini', 'max_depth': 10, 'min_samples_leaf': 20, 'min_samples_split': 25, 'splitter': 'best'}\n",
      "0.595 (+/-0.089) for {'criterion': 'gini', 'max_depth': 10, 'min_samples_leaf': 20, 'min_samples_split': 25, 'splitter': 'random'}\n",
      "0.607 (+/-0.001) for {'criterion': 'gini', 'max_depth': 10, 'min_samples_leaf': 20, 'min_samples_split': 40, 'splitter': 'best'}\n",
      "0.595 (+/-0.089) for {'criterion': 'gini', 'max_depth': 10, 'min_samples_leaf': 20, 'min_samples_split': 40, 'splitter': 'random'}\n",
      "0.609 (+/-0.017) for {'criterion': 'gini', 'max_depth': 100, 'min_samples_leaf': 1, 'min_samples_split': 2, 'splitter': 'best'}\n",
      "0.676 (+/-0.027) for {'criterion': 'gini', 'max_depth': 100, 'min_samples_leaf': 1, 'min_samples_split': 2, 'splitter': 'random'}\n",
      "0.605 (+/-0.002) for {'criterion': 'gini', 'max_depth': 100, 'min_samples_leaf': 1, 'min_samples_split': 5, 'splitter': 'best'}\n",
      "0.663 (+/-0.083) for {'criterion': 'gini', 'max_depth': 100, 'min_samples_leaf': 1, 'min_samples_split': 5, 'splitter': 'random'}\n",
      "0.609 (+/-0.031) for {'criterion': 'gini', 'max_depth': 100, 'min_samples_leaf': 1, 'min_samples_split': 10, 'splitter': 'best'}\n",
      "0.624 (+/-0.004) for {'criterion': 'gini', 'max_depth': 100, 'min_samples_leaf': 1, 'min_samples_split': 10, 'splitter': 'random'}\n",
      "0.607 (+/-0.036) for {'criterion': 'gini', 'max_depth': 100, 'min_samples_leaf': 1, 'min_samples_split': 15, 'splitter': 'best'}\n",
      "0.601 (+/-0.001) for {'criterion': 'gini', 'max_depth': 100, 'min_samples_leaf': 1, 'min_samples_split': 15, 'splitter': 'random'}\n",
      "0.613 (+/-0.028) for {'criterion': 'gini', 'max_depth': 100, 'min_samples_leaf': 1, 'min_samples_split': 25, 'splitter': 'best'}\n",
      "0.622 (+/-0.050) for {'criterion': 'gini', 'max_depth': 100, 'min_samples_leaf': 1, 'min_samples_split': 25, 'splitter': 'random'}\n",
      "0.614 (+/-0.021) for {'criterion': 'gini', 'max_depth': 100, 'min_samples_leaf': 1, 'min_samples_split': 40, 'splitter': 'best'}\n",
      "0.621 (+/-0.092) for {'criterion': 'gini', 'max_depth': 100, 'min_samples_leaf': 1, 'min_samples_split': 40, 'splitter': 'random'}\n",
      "0.590 (+/-0.001) for {'criterion': 'gini', 'max_depth': 100, 'min_samples_leaf': 2, 'min_samples_split': 2, 'splitter': 'best'}\n",
      "0.628 (+/-0.025) for {'criterion': 'gini', 'max_depth': 100, 'min_samples_leaf': 2, 'min_samples_split': 2, 'splitter': 'random'}\n",
      "0.590 (+/-0.005) for {'criterion': 'gini', 'max_depth': 100, 'min_samples_leaf': 2, 'min_samples_split': 5, 'splitter': 'best'}\n",
      "0.640 (+/-0.115) for {'criterion': 'gini', 'max_depth': 100, 'min_samples_leaf': 2, 'min_samples_split': 5, 'splitter': 'random'}\n",
      "0.591 (+/-0.013) for {'criterion': 'gini', 'max_depth': 100, 'min_samples_leaf': 2, 'min_samples_split': 10, 'splitter': 'best'}\n",
      "0.623 (+/-0.008) for {'criterion': 'gini', 'max_depth': 100, 'min_samples_leaf': 2, 'min_samples_split': 10, 'splitter': 'random'}\n",
      "0.586 (+/-0.009) for {'criterion': 'gini', 'max_depth': 100, 'min_samples_leaf': 2, 'min_samples_split': 15, 'splitter': 'best'}\n",
      "0.606 (+/-0.003) for {'criterion': 'gini', 'max_depth': 100, 'min_samples_leaf': 2, 'min_samples_split': 15, 'splitter': 'random'}\n",
      "0.590 (+/-0.009) for {'criterion': 'gini', 'max_depth': 100, 'min_samples_leaf': 2, 'min_samples_split': 25, 'splitter': 'best'}\n",
      "0.603 (+/-0.021) for {'criterion': 'gini', 'max_depth': 100, 'min_samples_leaf': 2, 'min_samples_split': 25, 'splitter': 'random'}\n",
      "0.599 (+/-0.016) for {'criterion': 'gini', 'max_depth': 100, 'min_samples_leaf': 2, 'min_samples_split': 40, 'splitter': 'best'}\n",
      "0.629 (+/-0.068) for {'criterion': 'gini', 'max_depth': 100, 'min_samples_leaf': 2, 'min_samples_split': 40, 'splitter': 'random'}\n",
      "0.603 (+/-0.016) for {'criterion': 'gini', 'max_depth': 100, 'min_samples_leaf': 5, 'min_samples_split': 2, 'splitter': 'best'}\n",
      "0.607 (+/-0.020) for {'criterion': 'gini', 'max_depth': 100, 'min_samples_leaf': 5, 'min_samples_split': 2, 'splitter': 'random'}\n",
      "0.603 (+/-0.016) for {'criterion': 'gini', 'max_depth': 100, 'min_samples_leaf': 5, 'min_samples_split': 5, 'splitter': 'best'}\n",
      "0.607 (+/-0.020) for {'criterion': 'gini', 'max_depth': 100, 'min_samples_leaf': 5, 'min_samples_split': 5, 'splitter': 'random'}\n",
      "0.603 (+/-0.016) for {'criterion': 'gini', 'max_depth': 100, 'min_samples_leaf': 5, 'min_samples_split': 10, 'splitter': 'best'}\n",
      "0.607 (+/-0.020) for {'criterion': 'gini', 'max_depth': 100, 'min_samples_leaf': 5, 'min_samples_split': 10, 'splitter': 'random'}\n",
      "0.603 (+/-0.014) for {'criterion': 'gini', 'max_depth': 100, 'min_samples_leaf': 5, 'min_samples_split': 15, 'splitter': 'best'}\n",
      "0.610 (+/-0.003) for {'criterion': 'gini', 'max_depth': 100, 'min_samples_leaf': 5, 'min_samples_split': 15, 'splitter': 'random'}\n",
      "0.600 (+/-0.009) for {'criterion': 'gini', 'max_depth': 100, 'min_samples_leaf': 5, 'min_samples_split': 25, 'splitter': 'best'}\n",
      "0.630 (+/-0.004) for {'criterion': 'gini', 'max_depth': 100, 'min_samples_leaf': 5, 'min_samples_split': 25, 'splitter': 'random'}\n",
      "0.597 (+/-0.014) for {'criterion': 'gini', 'max_depth': 100, 'min_samples_leaf': 5, 'min_samples_split': 40, 'splitter': 'best'}\n",
      "0.613 (+/-0.048) for {'criterion': 'gini', 'max_depth': 100, 'min_samples_leaf': 5, 'min_samples_split': 40, 'splitter': 'random'}\n",
      "0.595 (+/-0.039) for {'criterion': 'gini', 'max_depth': 100, 'min_samples_leaf': 10, 'min_samples_split': 2, 'splitter': 'best'}\n",
      "0.611 (+/-0.073) for {'criterion': 'gini', 'max_depth': 100, 'min_samples_leaf': 10, 'min_samples_split': 2, 'splitter': 'random'}\n",
      "0.595 (+/-0.039) for {'criterion': 'gini', 'max_depth': 100, 'min_samples_leaf': 10, 'min_samples_split': 5, 'splitter': 'best'}\n",
      "0.611 (+/-0.073) for {'criterion': 'gini', 'max_depth': 100, 'min_samples_leaf': 10, 'min_samples_split': 5, 'splitter': 'random'}\n",
      "0.595 (+/-0.039) for {'criterion': 'gini', 'max_depth': 100, 'min_samples_leaf': 10, 'min_samples_split': 10, 'splitter': 'best'}\n",
      "0.611 (+/-0.073) for {'criterion': 'gini', 'max_depth': 100, 'min_samples_leaf': 10, 'min_samples_split': 10, 'splitter': 'random'}\n",
      "0.595 (+/-0.039) for {'criterion': 'gini', 'max_depth': 100, 'min_samples_leaf': 10, 'min_samples_split': 15, 'splitter': 'best'}\n",
      "0.611 (+/-0.073) for {'criterion': 'gini', 'max_depth': 100, 'min_samples_leaf': 10, 'min_samples_split': 15, 'splitter': 'random'}\n",
      "0.595 (+/-0.018) for {'criterion': 'gini', 'max_depth': 100, 'min_samples_leaf': 10, 'min_samples_split': 25, 'splitter': 'best'}\n",
      "0.605 (+/-0.022) for {'criterion': 'gini', 'max_depth': 100, 'min_samples_leaf': 10, 'min_samples_split': 25, 'splitter': 'random'}\n",
      "0.602 (+/-0.004) for {'criterion': 'gini', 'max_depth': 100, 'min_samples_leaf': 10, 'min_samples_split': 40, 'splitter': 'best'}\n",
      "0.600 (+/-0.046) for {'criterion': 'gini', 'max_depth': 100, 'min_samples_leaf': 10, 'min_samples_split': 40, 'splitter': 'random'}\n",
      "0.610 (+/-0.007) for {'criterion': 'gini', 'max_depth': 100, 'min_samples_leaf': 20, 'min_samples_split': 2, 'splitter': 'best'}\n",
      "0.583 (+/-0.004) for {'criterion': 'gini', 'max_depth': 100, 'min_samples_leaf': 20, 'min_samples_split': 2, 'splitter': 'random'}\n",
      "0.610 (+/-0.007) for {'criterion': 'gini', 'max_depth': 100, 'min_samples_leaf': 20, 'min_samples_split': 5, 'splitter': 'best'}\n",
      "0.583 (+/-0.004) for {'criterion': 'gini', 'max_depth': 100, 'min_samples_leaf': 20, 'min_samples_split': 5, 'splitter': 'random'}\n",
      "0.610 (+/-0.007) for {'criterion': 'gini', 'max_depth': 100, 'min_samples_leaf': 20, 'min_samples_split': 10, 'splitter': 'best'}\n",
      "0.583 (+/-0.004) for {'criterion': 'gini', 'max_depth': 100, 'min_samples_leaf': 20, 'min_samples_split': 10, 'splitter': 'random'}\n",
      "0.610 (+/-0.007) for {'criterion': 'gini', 'max_depth': 100, 'min_samples_leaf': 20, 'min_samples_split': 15, 'splitter': 'best'}\n",
      "0.583 (+/-0.004) for {'criterion': 'gini', 'max_depth': 100, 'min_samples_leaf': 20, 'min_samples_split': 15, 'splitter': 'random'}\n",
      "0.610 (+/-0.007) for {'criterion': 'gini', 'max_depth': 100, 'min_samples_leaf': 20, 'min_samples_split': 25, 'splitter': 'best'}\n",
      "0.583 (+/-0.004) for {'criterion': 'gini', 'max_depth': 100, 'min_samples_leaf': 20, 'min_samples_split': 25, 'splitter': 'random'}\n",
      "0.610 (+/-0.007) for {'criterion': 'gini', 'max_depth': 100, 'min_samples_leaf': 20, 'min_samples_split': 40, 'splitter': 'best'}\n",
      "0.583 (+/-0.004) for {'criterion': 'gini', 'max_depth': 100, 'min_samples_leaf': 20, 'min_samples_split': 40, 'splitter': 'random'}\n",
      "0.609 (+/-0.017) for {'criterion': 'gini', 'max_depth': 500, 'min_samples_leaf': 1, 'min_samples_split': 2, 'splitter': 'best'}\n",
      "0.676 (+/-0.027) for {'criterion': 'gini', 'max_depth': 500, 'min_samples_leaf': 1, 'min_samples_split': 2, 'splitter': 'random'}\n",
      "0.605 (+/-0.002) for {'criterion': 'gini', 'max_depth': 500, 'min_samples_leaf': 1, 'min_samples_split': 5, 'splitter': 'best'}\n",
      "0.663 (+/-0.083) for {'criterion': 'gini', 'max_depth': 500, 'min_samples_leaf': 1, 'min_samples_split': 5, 'splitter': 'random'}\n",
      "0.609 (+/-0.031) for {'criterion': 'gini', 'max_depth': 500, 'min_samples_leaf': 1, 'min_samples_split': 10, 'splitter': 'best'}\n",
      "0.624 (+/-0.004) for {'criterion': 'gini', 'max_depth': 500, 'min_samples_leaf': 1, 'min_samples_split': 10, 'splitter': 'random'}\n",
      "0.607 (+/-0.036) for {'criterion': 'gini', 'max_depth': 500, 'min_samples_leaf': 1, 'min_samples_split': 15, 'splitter': 'best'}\n",
      "0.601 (+/-0.001) for {'criterion': 'gini', 'max_depth': 500, 'min_samples_leaf': 1, 'min_samples_split': 15, 'splitter': 'random'}\n",
      "0.613 (+/-0.028) for {'criterion': 'gini', 'max_depth': 500, 'min_samples_leaf': 1, 'min_samples_split': 25, 'splitter': 'best'}\n",
      "0.622 (+/-0.050) for {'criterion': 'gini', 'max_depth': 500, 'min_samples_leaf': 1, 'min_samples_split': 25, 'splitter': 'random'}\n",
      "0.614 (+/-0.021) for {'criterion': 'gini', 'max_depth': 500, 'min_samples_leaf': 1, 'min_samples_split': 40, 'splitter': 'best'}\n",
      "0.621 (+/-0.092) for {'criterion': 'gini', 'max_depth': 500, 'min_samples_leaf': 1, 'min_samples_split': 40, 'splitter': 'random'}\n",
      "0.590 (+/-0.001) for {'criterion': 'gini', 'max_depth': 500, 'min_samples_leaf': 2, 'min_samples_split': 2, 'splitter': 'best'}\n",
      "0.628 (+/-0.025) for {'criterion': 'gini', 'max_depth': 500, 'min_samples_leaf': 2, 'min_samples_split': 2, 'splitter': 'random'}\n",
      "0.590 (+/-0.005) for {'criterion': 'gini', 'max_depth': 500, 'min_samples_leaf': 2, 'min_samples_split': 5, 'splitter': 'best'}\n",
      "0.640 (+/-0.115) for {'criterion': 'gini', 'max_depth': 500, 'min_samples_leaf': 2, 'min_samples_split': 5, 'splitter': 'random'}\n",
      "0.591 (+/-0.013) for {'criterion': 'gini', 'max_depth': 500, 'min_samples_leaf': 2, 'min_samples_split': 10, 'splitter': 'best'}\n",
      "0.623 (+/-0.008) for {'criterion': 'gini', 'max_depth': 500, 'min_samples_leaf': 2, 'min_samples_split': 10, 'splitter': 'random'}\n",
      "0.586 (+/-0.009) for {'criterion': 'gini', 'max_depth': 500, 'min_samples_leaf': 2, 'min_samples_split': 15, 'splitter': 'best'}\n",
      "0.606 (+/-0.003) for {'criterion': 'gini', 'max_depth': 500, 'min_samples_leaf': 2, 'min_samples_split': 15, 'splitter': 'random'}\n",
      "0.590 (+/-0.009) for {'criterion': 'gini', 'max_depth': 500, 'min_samples_leaf': 2, 'min_samples_split': 25, 'splitter': 'best'}\n",
      "0.603 (+/-0.021) for {'criterion': 'gini', 'max_depth': 500, 'min_samples_leaf': 2, 'min_samples_split': 25, 'splitter': 'random'}\n",
      "0.599 (+/-0.016) for {'criterion': 'gini', 'max_depth': 500, 'min_samples_leaf': 2, 'min_samples_split': 40, 'splitter': 'best'}\n",
      "0.629 (+/-0.068) for {'criterion': 'gini', 'max_depth': 500, 'min_samples_leaf': 2, 'min_samples_split': 40, 'splitter': 'random'}\n",
      "0.603 (+/-0.016) for {'criterion': 'gini', 'max_depth': 500, 'min_samples_leaf': 5, 'min_samples_split': 2, 'splitter': 'best'}\n",
      "0.607 (+/-0.020) for {'criterion': 'gini', 'max_depth': 500, 'min_samples_leaf': 5, 'min_samples_split': 2, 'splitter': 'random'}\n",
      "0.603 (+/-0.016) for {'criterion': 'gini', 'max_depth': 500, 'min_samples_leaf': 5, 'min_samples_split': 5, 'splitter': 'best'}\n",
      "0.607 (+/-0.020) for {'criterion': 'gini', 'max_depth': 500, 'min_samples_leaf': 5, 'min_samples_split': 5, 'splitter': 'random'}\n",
      "0.603 (+/-0.016) for {'criterion': 'gini', 'max_depth': 500, 'min_samples_leaf': 5, 'min_samples_split': 10, 'splitter': 'best'}\n",
      "0.607 (+/-0.020) for {'criterion': 'gini', 'max_depth': 500, 'min_samples_leaf': 5, 'min_samples_split': 10, 'splitter': 'random'}\n",
      "0.603 (+/-0.014) for {'criterion': 'gini', 'max_depth': 500, 'min_samples_leaf': 5, 'min_samples_split': 15, 'splitter': 'best'}\n",
      "0.610 (+/-0.003) for {'criterion': 'gini', 'max_depth': 500, 'min_samples_leaf': 5, 'min_samples_split': 15, 'splitter': 'random'}\n",
      "0.600 (+/-0.009) for {'criterion': 'gini', 'max_depth': 500, 'min_samples_leaf': 5, 'min_samples_split': 25, 'splitter': 'best'}\n",
      "0.630 (+/-0.004) for {'criterion': 'gini', 'max_depth': 500, 'min_samples_leaf': 5, 'min_samples_split': 25, 'splitter': 'random'}\n",
      "0.597 (+/-0.014) for {'criterion': 'gini', 'max_depth': 500, 'min_samples_leaf': 5, 'min_samples_split': 40, 'splitter': 'best'}\n",
      "0.613 (+/-0.048) for {'criterion': 'gini', 'max_depth': 500, 'min_samples_leaf': 5, 'min_samples_split': 40, 'splitter': 'random'}\n",
      "0.595 (+/-0.039) for {'criterion': 'gini', 'max_depth': 500, 'min_samples_leaf': 10, 'min_samples_split': 2, 'splitter': 'best'}\n",
      "0.611 (+/-0.073) for {'criterion': 'gini', 'max_depth': 500, 'min_samples_leaf': 10, 'min_samples_split': 2, 'splitter': 'random'}\n",
      "0.595 (+/-0.039) for {'criterion': 'gini', 'max_depth': 500, 'min_samples_leaf': 10, 'min_samples_split': 5, 'splitter': 'best'}\n",
      "0.611 (+/-0.073) for {'criterion': 'gini', 'max_depth': 500, 'min_samples_leaf': 10, 'min_samples_split': 5, 'splitter': 'random'}\n",
      "0.595 (+/-0.039) for {'criterion': 'gini', 'max_depth': 500, 'min_samples_leaf': 10, 'min_samples_split': 10, 'splitter': 'best'}\n",
      "0.611 (+/-0.073) for {'criterion': 'gini', 'max_depth': 500, 'min_samples_leaf': 10, 'min_samples_split': 10, 'splitter': 'random'}\n",
      "0.595 (+/-0.039) for {'criterion': 'gini', 'max_depth': 500, 'min_samples_leaf': 10, 'min_samples_split': 15, 'splitter': 'best'}\n",
      "0.611 (+/-0.073) for {'criterion': 'gini', 'max_depth': 500, 'min_samples_leaf': 10, 'min_samples_split': 15, 'splitter': 'random'}\n",
      "0.595 (+/-0.018) for {'criterion': 'gini', 'max_depth': 500, 'min_samples_leaf': 10, 'min_samples_split': 25, 'splitter': 'best'}\n",
      "0.605 (+/-0.022) for {'criterion': 'gini', 'max_depth': 500, 'min_samples_leaf': 10, 'min_samples_split': 25, 'splitter': 'random'}\n",
      "0.602 (+/-0.004) for {'criterion': 'gini', 'max_depth': 500, 'min_samples_leaf': 10, 'min_samples_split': 40, 'splitter': 'best'}\n",
      "0.600 (+/-0.046) for {'criterion': 'gini', 'max_depth': 500, 'min_samples_leaf': 10, 'min_samples_split': 40, 'splitter': 'random'}\n",
      "0.610 (+/-0.007) for {'criterion': 'gini', 'max_depth': 500, 'min_samples_leaf': 20, 'min_samples_split': 2, 'splitter': 'best'}\n",
      "0.583 (+/-0.004) for {'criterion': 'gini', 'max_depth': 500, 'min_samples_leaf': 20, 'min_samples_split': 2, 'splitter': 'random'}\n",
      "0.610 (+/-0.007) for {'criterion': 'gini', 'max_depth': 500, 'min_samples_leaf': 20, 'min_samples_split': 5, 'splitter': 'best'}\n",
      "0.583 (+/-0.004) for {'criterion': 'gini', 'max_depth': 500, 'min_samples_leaf': 20, 'min_samples_split': 5, 'splitter': 'random'}\n",
      "0.610 (+/-0.007) for {'criterion': 'gini', 'max_depth': 500, 'min_samples_leaf': 20, 'min_samples_split': 10, 'splitter': 'best'}\n",
      "0.583 (+/-0.004) for {'criterion': 'gini', 'max_depth': 500, 'min_samples_leaf': 20, 'min_samples_split': 10, 'splitter': 'random'}\n",
      "0.610 (+/-0.007) for {'criterion': 'gini', 'max_depth': 500, 'min_samples_leaf': 20, 'min_samples_split': 15, 'splitter': 'best'}\n",
      "0.583 (+/-0.004) for {'criterion': 'gini', 'max_depth': 500, 'min_samples_leaf': 20, 'min_samples_split': 15, 'splitter': 'random'}\n",
      "0.610 (+/-0.007) for {'criterion': 'gini', 'max_depth': 500, 'min_samples_leaf': 20, 'min_samples_split': 25, 'splitter': 'best'}\n",
      "0.583 (+/-0.004) for {'criterion': 'gini', 'max_depth': 500, 'min_samples_leaf': 20, 'min_samples_split': 25, 'splitter': 'random'}\n",
      "0.610 (+/-0.007) for {'criterion': 'gini', 'max_depth': 500, 'min_samples_leaf': 20, 'min_samples_split': 40, 'splitter': 'best'}\n",
      "0.583 (+/-0.004) for {'criterion': 'gini', 'max_depth': 500, 'min_samples_leaf': 20, 'min_samples_split': 40, 'splitter': 'random'}\n",
      "0.609 (+/-0.017) for {'criterion': 'gini', 'max_depth': 1000, 'min_samples_leaf': 1, 'min_samples_split': 2, 'splitter': 'best'}\n",
      "0.676 (+/-0.027) for {'criterion': 'gini', 'max_depth': 1000, 'min_samples_leaf': 1, 'min_samples_split': 2, 'splitter': 'random'}\n",
      "0.605 (+/-0.002) for {'criterion': 'gini', 'max_depth': 1000, 'min_samples_leaf': 1, 'min_samples_split': 5, 'splitter': 'best'}\n",
      "0.663 (+/-0.083) for {'criterion': 'gini', 'max_depth': 1000, 'min_samples_leaf': 1, 'min_samples_split': 5, 'splitter': 'random'}\n",
      "0.609 (+/-0.031) for {'criterion': 'gini', 'max_depth': 1000, 'min_samples_leaf': 1, 'min_samples_split': 10, 'splitter': 'best'}\n",
      "0.624 (+/-0.004) for {'criterion': 'gini', 'max_depth': 1000, 'min_samples_leaf': 1, 'min_samples_split': 10, 'splitter': 'random'}\n",
      "0.607 (+/-0.036) for {'criterion': 'gini', 'max_depth': 1000, 'min_samples_leaf': 1, 'min_samples_split': 15, 'splitter': 'best'}\n",
      "0.601 (+/-0.001) for {'criterion': 'gini', 'max_depth': 1000, 'min_samples_leaf': 1, 'min_samples_split': 15, 'splitter': 'random'}\n",
      "0.613 (+/-0.028) for {'criterion': 'gini', 'max_depth': 1000, 'min_samples_leaf': 1, 'min_samples_split': 25, 'splitter': 'best'}\n",
      "0.622 (+/-0.050) for {'criterion': 'gini', 'max_depth': 1000, 'min_samples_leaf': 1, 'min_samples_split': 25, 'splitter': 'random'}\n",
      "0.614 (+/-0.021) for {'criterion': 'gini', 'max_depth': 1000, 'min_samples_leaf': 1, 'min_samples_split': 40, 'splitter': 'best'}\n",
      "0.621 (+/-0.092) for {'criterion': 'gini', 'max_depth': 1000, 'min_samples_leaf': 1, 'min_samples_split': 40, 'splitter': 'random'}\n",
      "0.590 (+/-0.001) for {'criterion': 'gini', 'max_depth': 1000, 'min_samples_leaf': 2, 'min_samples_split': 2, 'splitter': 'best'}\n",
      "0.628 (+/-0.025) for {'criterion': 'gini', 'max_depth': 1000, 'min_samples_leaf': 2, 'min_samples_split': 2, 'splitter': 'random'}\n",
      "0.590 (+/-0.005) for {'criterion': 'gini', 'max_depth': 1000, 'min_samples_leaf': 2, 'min_samples_split': 5, 'splitter': 'best'}\n",
      "0.640 (+/-0.115) for {'criterion': 'gini', 'max_depth': 1000, 'min_samples_leaf': 2, 'min_samples_split': 5, 'splitter': 'random'}\n",
      "0.591 (+/-0.013) for {'criterion': 'gini', 'max_depth': 1000, 'min_samples_leaf': 2, 'min_samples_split': 10, 'splitter': 'best'}\n",
      "0.623 (+/-0.008) for {'criterion': 'gini', 'max_depth': 1000, 'min_samples_leaf': 2, 'min_samples_split': 10, 'splitter': 'random'}\n",
      "0.586 (+/-0.009) for {'criterion': 'gini', 'max_depth': 1000, 'min_samples_leaf': 2, 'min_samples_split': 15, 'splitter': 'best'}\n",
      "0.606 (+/-0.003) for {'criterion': 'gini', 'max_depth': 1000, 'min_samples_leaf': 2, 'min_samples_split': 15, 'splitter': 'random'}\n",
      "0.590 (+/-0.009) for {'criterion': 'gini', 'max_depth': 1000, 'min_samples_leaf': 2, 'min_samples_split': 25, 'splitter': 'best'}\n",
      "0.603 (+/-0.021) for {'criterion': 'gini', 'max_depth': 1000, 'min_samples_leaf': 2, 'min_samples_split': 25, 'splitter': 'random'}\n",
      "0.599 (+/-0.016) for {'criterion': 'gini', 'max_depth': 1000, 'min_samples_leaf': 2, 'min_samples_split': 40, 'splitter': 'best'}\n",
      "0.629 (+/-0.068) for {'criterion': 'gini', 'max_depth': 1000, 'min_samples_leaf': 2, 'min_samples_split': 40, 'splitter': 'random'}\n",
      "0.603 (+/-0.016) for {'criterion': 'gini', 'max_depth': 1000, 'min_samples_leaf': 5, 'min_samples_split': 2, 'splitter': 'best'}\n",
      "0.607 (+/-0.020) for {'criterion': 'gini', 'max_depth': 1000, 'min_samples_leaf': 5, 'min_samples_split': 2, 'splitter': 'random'}\n",
      "0.603 (+/-0.016) for {'criterion': 'gini', 'max_depth': 1000, 'min_samples_leaf': 5, 'min_samples_split': 5, 'splitter': 'best'}\n",
      "0.607 (+/-0.020) for {'criterion': 'gini', 'max_depth': 1000, 'min_samples_leaf': 5, 'min_samples_split': 5, 'splitter': 'random'}\n",
      "0.603 (+/-0.016) for {'criterion': 'gini', 'max_depth': 1000, 'min_samples_leaf': 5, 'min_samples_split': 10, 'splitter': 'best'}\n",
      "0.607 (+/-0.020) for {'criterion': 'gini', 'max_depth': 1000, 'min_samples_leaf': 5, 'min_samples_split': 10, 'splitter': 'random'}\n",
      "0.603 (+/-0.014) for {'criterion': 'gini', 'max_depth': 1000, 'min_samples_leaf': 5, 'min_samples_split': 15, 'splitter': 'best'}\n",
      "0.610 (+/-0.003) for {'criterion': 'gini', 'max_depth': 1000, 'min_samples_leaf': 5, 'min_samples_split': 15, 'splitter': 'random'}\n",
      "0.600 (+/-0.009) for {'criterion': 'gini', 'max_depth': 1000, 'min_samples_leaf': 5, 'min_samples_split': 25, 'splitter': 'best'}\n",
      "0.630 (+/-0.004) for {'criterion': 'gini', 'max_depth': 1000, 'min_samples_leaf': 5, 'min_samples_split': 25, 'splitter': 'random'}\n",
      "0.597 (+/-0.014) for {'criterion': 'gini', 'max_depth': 1000, 'min_samples_leaf': 5, 'min_samples_split': 40, 'splitter': 'best'}\n",
      "0.613 (+/-0.048) for {'criterion': 'gini', 'max_depth': 1000, 'min_samples_leaf': 5, 'min_samples_split': 40, 'splitter': 'random'}\n",
      "0.595 (+/-0.039) for {'criterion': 'gini', 'max_depth': 1000, 'min_samples_leaf': 10, 'min_samples_split': 2, 'splitter': 'best'}\n",
      "0.611 (+/-0.073) for {'criterion': 'gini', 'max_depth': 1000, 'min_samples_leaf': 10, 'min_samples_split': 2, 'splitter': 'random'}\n",
      "0.595 (+/-0.039) for {'criterion': 'gini', 'max_depth': 1000, 'min_samples_leaf': 10, 'min_samples_split': 5, 'splitter': 'best'}\n",
      "0.611 (+/-0.073) for {'criterion': 'gini', 'max_depth': 1000, 'min_samples_leaf': 10, 'min_samples_split': 5, 'splitter': 'random'}\n",
      "0.595 (+/-0.039) for {'criterion': 'gini', 'max_depth': 1000, 'min_samples_leaf': 10, 'min_samples_split': 10, 'splitter': 'best'}\n",
      "0.611 (+/-0.073) for {'criterion': 'gini', 'max_depth': 1000, 'min_samples_leaf': 10, 'min_samples_split': 10, 'splitter': 'random'}\n",
      "0.595 (+/-0.039) for {'criterion': 'gini', 'max_depth': 1000, 'min_samples_leaf': 10, 'min_samples_split': 15, 'splitter': 'best'}\n",
      "0.611 (+/-0.073) for {'criterion': 'gini', 'max_depth': 1000, 'min_samples_leaf': 10, 'min_samples_split': 15, 'splitter': 'random'}\n",
      "0.595 (+/-0.018) for {'criterion': 'gini', 'max_depth': 1000, 'min_samples_leaf': 10, 'min_samples_split': 25, 'splitter': 'best'}\n",
      "0.605 (+/-0.022) for {'criterion': 'gini', 'max_depth': 1000, 'min_samples_leaf': 10, 'min_samples_split': 25, 'splitter': 'random'}\n",
      "0.602 (+/-0.004) for {'criterion': 'gini', 'max_depth': 1000, 'min_samples_leaf': 10, 'min_samples_split': 40, 'splitter': 'best'}\n",
      "0.600 (+/-0.046) for {'criterion': 'gini', 'max_depth': 1000, 'min_samples_leaf': 10, 'min_samples_split': 40, 'splitter': 'random'}\n",
      "0.610 (+/-0.007) for {'criterion': 'gini', 'max_depth': 1000, 'min_samples_leaf': 20, 'min_samples_split': 2, 'splitter': 'best'}\n",
      "0.583 (+/-0.004) for {'criterion': 'gini', 'max_depth': 1000, 'min_samples_leaf': 20, 'min_samples_split': 2, 'splitter': 'random'}\n",
      "0.610 (+/-0.007) for {'criterion': 'gini', 'max_depth': 1000, 'min_samples_leaf': 20, 'min_samples_split': 5, 'splitter': 'best'}\n",
      "0.583 (+/-0.004) for {'criterion': 'gini', 'max_depth': 1000, 'min_samples_leaf': 20, 'min_samples_split': 5, 'splitter': 'random'}\n",
      "0.610 (+/-0.007) for {'criterion': 'gini', 'max_depth': 1000, 'min_samples_leaf': 20, 'min_samples_split': 10, 'splitter': 'best'}\n",
      "0.583 (+/-0.004) for {'criterion': 'gini', 'max_depth': 1000, 'min_samples_leaf': 20, 'min_samples_split': 10, 'splitter': 'random'}\n",
      "0.610 (+/-0.007) for {'criterion': 'gini', 'max_depth': 1000, 'min_samples_leaf': 20, 'min_samples_split': 15, 'splitter': 'best'}\n",
      "0.583 (+/-0.004) for {'criterion': 'gini', 'max_depth': 1000, 'min_samples_leaf': 20, 'min_samples_split': 15, 'splitter': 'random'}\n",
      "0.610 (+/-0.007) for {'criterion': 'gini', 'max_depth': 1000, 'min_samples_leaf': 20, 'min_samples_split': 25, 'splitter': 'best'}\n",
      "0.583 (+/-0.004) for {'criterion': 'gini', 'max_depth': 1000, 'min_samples_leaf': 20, 'min_samples_split': 25, 'splitter': 'random'}\n",
      "0.610 (+/-0.007) for {'criterion': 'gini', 'max_depth': 1000, 'min_samples_leaf': 20, 'min_samples_split': 40, 'splitter': 'best'}\n",
      "0.583 (+/-0.004) for {'criterion': 'gini', 'max_depth': 1000, 'min_samples_leaf': 20, 'min_samples_split': 40, 'splitter': 'random'}\n",
      "0.609 (+/-0.017) for {'criterion': 'gini', 'max_depth': 50000, 'min_samples_leaf': 1, 'min_samples_split': 2, 'splitter': 'best'}\n",
      "0.676 (+/-0.027) for {'criterion': 'gini', 'max_depth': 50000, 'min_samples_leaf': 1, 'min_samples_split': 2, 'splitter': 'random'}\n",
      "0.605 (+/-0.002) for {'criterion': 'gini', 'max_depth': 50000, 'min_samples_leaf': 1, 'min_samples_split': 5, 'splitter': 'best'}\n",
      "0.663 (+/-0.083) for {'criterion': 'gini', 'max_depth': 50000, 'min_samples_leaf': 1, 'min_samples_split': 5, 'splitter': 'random'}\n",
      "0.609 (+/-0.031) for {'criterion': 'gini', 'max_depth': 50000, 'min_samples_leaf': 1, 'min_samples_split': 10, 'splitter': 'best'}\n",
      "0.624 (+/-0.004) for {'criterion': 'gini', 'max_depth': 50000, 'min_samples_leaf': 1, 'min_samples_split': 10, 'splitter': 'random'}\n",
      "0.607 (+/-0.036) for {'criterion': 'gini', 'max_depth': 50000, 'min_samples_leaf': 1, 'min_samples_split': 15, 'splitter': 'best'}\n",
      "0.601 (+/-0.001) for {'criterion': 'gini', 'max_depth': 50000, 'min_samples_leaf': 1, 'min_samples_split': 15, 'splitter': 'random'}\n",
      "0.613 (+/-0.028) for {'criterion': 'gini', 'max_depth': 50000, 'min_samples_leaf': 1, 'min_samples_split': 25, 'splitter': 'best'}\n",
      "0.622 (+/-0.050) for {'criterion': 'gini', 'max_depth': 50000, 'min_samples_leaf': 1, 'min_samples_split': 25, 'splitter': 'random'}\n",
      "0.614 (+/-0.021) for {'criterion': 'gini', 'max_depth': 50000, 'min_samples_leaf': 1, 'min_samples_split': 40, 'splitter': 'best'}\n",
      "0.621 (+/-0.092) for {'criterion': 'gini', 'max_depth': 50000, 'min_samples_leaf': 1, 'min_samples_split': 40, 'splitter': 'random'}\n",
      "0.590 (+/-0.001) for {'criterion': 'gini', 'max_depth': 50000, 'min_samples_leaf': 2, 'min_samples_split': 2, 'splitter': 'best'}\n",
      "0.628 (+/-0.025) for {'criterion': 'gini', 'max_depth': 50000, 'min_samples_leaf': 2, 'min_samples_split': 2, 'splitter': 'random'}\n",
      "0.590 (+/-0.005) for {'criterion': 'gini', 'max_depth': 50000, 'min_samples_leaf': 2, 'min_samples_split': 5, 'splitter': 'best'}\n",
      "0.640 (+/-0.115) for {'criterion': 'gini', 'max_depth': 50000, 'min_samples_leaf': 2, 'min_samples_split': 5, 'splitter': 'random'}\n",
      "0.591 (+/-0.013) for {'criterion': 'gini', 'max_depth': 50000, 'min_samples_leaf': 2, 'min_samples_split': 10, 'splitter': 'best'}\n",
      "0.623 (+/-0.008) for {'criterion': 'gini', 'max_depth': 50000, 'min_samples_leaf': 2, 'min_samples_split': 10, 'splitter': 'random'}\n",
      "0.586 (+/-0.009) for {'criterion': 'gini', 'max_depth': 50000, 'min_samples_leaf': 2, 'min_samples_split': 15, 'splitter': 'best'}\n",
      "0.606 (+/-0.003) for {'criterion': 'gini', 'max_depth': 50000, 'min_samples_leaf': 2, 'min_samples_split': 15, 'splitter': 'random'}\n",
      "0.590 (+/-0.009) for {'criterion': 'gini', 'max_depth': 50000, 'min_samples_leaf': 2, 'min_samples_split': 25, 'splitter': 'best'}\n",
      "0.603 (+/-0.021) for {'criterion': 'gini', 'max_depth': 50000, 'min_samples_leaf': 2, 'min_samples_split': 25, 'splitter': 'random'}\n",
      "0.599 (+/-0.016) for {'criterion': 'gini', 'max_depth': 50000, 'min_samples_leaf': 2, 'min_samples_split': 40, 'splitter': 'best'}\n",
      "0.629 (+/-0.068) for {'criterion': 'gini', 'max_depth': 50000, 'min_samples_leaf': 2, 'min_samples_split': 40, 'splitter': 'random'}\n",
      "0.603 (+/-0.016) for {'criterion': 'gini', 'max_depth': 50000, 'min_samples_leaf': 5, 'min_samples_split': 2, 'splitter': 'best'}\n",
      "0.607 (+/-0.020) for {'criterion': 'gini', 'max_depth': 50000, 'min_samples_leaf': 5, 'min_samples_split': 2, 'splitter': 'random'}\n",
      "0.603 (+/-0.016) for {'criterion': 'gini', 'max_depth': 50000, 'min_samples_leaf': 5, 'min_samples_split': 5, 'splitter': 'best'}\n",
      "0.607 (+/-0.020) for {'criterion': 'gini', 'max_depth': 50000, 'min_samples_leaf': 5, 'min_samples_split': 5, 'splitter': 'random'}\n",
      "0.603 (+/-0.016) for {'criterion': 'gini', 'max_depth': 50000, 'min_samples_leaf': 5, 'min_samples_split': 10, 'splitter': 'best'}\n",
      "0.607 (+/-0.020) for {'criterion': 'gini', 'max_depth': 50000, 'min_samples_leaf': 5, 'min_samples_split': 10, 'splitter': 'random'}\n",
      "0.603 (+/-0.014) for {'criterion': 'gini', 'max_depth': 50000, 'min_samples_leaf': 5, 'min_samples_split': 15, 'splitter': 'best'}\n",
      "0.610 (+/-0.003) for {'criterion': 'gini', 'max_depth': 50000, 'min_samples_leaf': 5, 'min_samples_split': 15, 'splitter': 'random'}\n",
      "0.600 (+/-0.009) for {'criterion': 'gini', 'max_depth': 50000, 'min_samples_leaf': 5, 'min_samples_split': 25, 'splitter': 'best'}\n",
      "0.630 (+/-0.004) for {'criterion': 'gini', 'max_depth': 50000, 'min_samples_leaf': 5, 'min_samples_split': 25, 'splitter': 'random'}\n",
      "0.597 (+/-0.014) for {'criterion': 'gini', 'max_depth': 50000, 'min_samples_leaf': 5, 'min_samples_split': 40, 'splitter': 'best'}\n",
      "0.613 (+/-0.048) for {'criterion': 'gini', 'max_depth': 50000, 'min_samples_leaf': 5, 'min_samples_split': 40, 'splitter': 'random'}\n",
      "0.595 (+/-0.039) for {'criterion': 'gini', 'max_depth': 50000, 'min_samples_leaf': 10, 'min_samples_split': 2, 'splitter': 'best'}\n",
      "0.611 (+/-0.073) for {'criterion': 'gini', 'max_depth': 50000, 'min_samples_leaf': 10, 'min_samples_split': 2, 'splitter': 'random'}\n",
      "0.595 (+/-0.039) for {'criterion': 'gini', 'max_depth': 50000, 'min_samples_leaf': 10, 'min_samples_split': 5, 'splitter': 'best'}\n",
      "0.611 (+/-0.073) for {'criterion': 'gini', 'max_depth': 50000, 'min_samples_leaf': 10, 'min_samples_split': 5, 'splitter': 'random'}\n",
      "0.595 (+/-0.039) for {'criterion': 'gini', 'max_depth': 50000, 'min_samples_leaf': 10, 'min_samples_split': 10, 'splitter': 'best'}\n",
      "0.611 (+/-0.073) for {'criterion': 'gini', 'max_depth': 50000, 'min_samples_leaf': 10, 'min_samples_split': 10, 'splitter': 'random'}\n",
      "0.595 (+/-0.039) for {'criterion': 'gini', 'max_depth': 50000, 'min_samples_leaf': 10, 'min_samples_split': 15, 'splitter': 'best'}\n",
      "0.611 (+/-0.073) for {'criterion': 'gini', 'max_depth': 50000, 'min_samples_leaf': 10, 'min_samples_split': 15, 'splitter': 'random'}\n",
      "0.595 (+/-0.018) for {'criterion': 'gini', 'max_depth': 50000, 'min_samples_leaf': 10, 'min_samples_split': 25, 'splitter': 'best'}\n",
      "0.605 (+/-0.022) for {'criterion': 'gini', 'max_depth': 50000, 'min_samples_leaf': 10, 'min_samples_split': 25, 'splitter': 'random'}\n",
      "0.602 (+/-0.004) for {'criterion': 'gini', 'max_depth': 50000, 'min_samples_leaf': 10, 'min_samples_split': 40, 'splitter': 'best'}\n",
      "0.600 (+/-0.046) for {'criterion': 'gini', 'max_depth': 50000, 'min_samples_leaf': 10, 'min_samples_split': 40, 'splitter': 'random'}\n",
      "0.610 (+/-0.007) for {'criterion': 'gini', 'max_depth': 50000, 'min_samples_leaf': 20, 'min_samples_split': 2, 'splitter': 'best'}\n",
      "0.583 (+/-0.004) for {'criterion': 'gini', 'max_depth': 50000, 'min_samples_leaf': 20, 'min_samples_split': 2, 'splitter': 'random'}\n",
      "0.610 (+/-0.007) for {'criterion': 'gini', 'max_depth': 50000, 'min_samples_leaf': 20, 'min_samples_split': 5, 'splitter': 'best'}\n",
      "0.583 (+/-0.004) for {'criterion': 'gini', 'max_depth': 50000, 'min_samples_leaf': 20, 'min_samples_split': 5, 'splitter': 'random'}\n",
      "0.610 (+/-0.007) for {'criterion': 'gini', 'max_depth': 50000, 'min_samples_leaf': 20, 'min_samples_split': 10, 'splitter': 'best'}\n",
      "0.583 (+/-0.004) for {'criterion': 'gini', 'max_depth': 50000, 'min_samples_leaf': 20, 'min_samples_split': 10, 'splitter': 'random'}\n",
      "0.610 (+/-0.007) for {'criterion': 'gini', 'max_depth': 50000, 'min_samples_leaf': 20, 'min_samples_split': 15, 'splitter': 'best'}\n",
      "0.583 (+/-0.004) for {'criterion': 'gini', 'max_depth': 50000, 'min_samples_leaf': 20, 'min_samples_split': 15, 'splitter': 'random'}\n",
      "0.610 (+/-0.007) for {'criterion': 'gini', 'max_depth': 50000, 'min_samples_leaf': 20, 'min_samples_split': 25, 'splitter': 'best'}\n",
      "0.583 (+/-0.004) for {'criterion': 'gini', 'max_depth': 50000, 'min_samples_leaf': 20, 'min_samples_split': 25, 'splitter': 'random'}\n",
      "0.610 (+/-0.007) for {'criterion': 'gini', 'max_depth': 50000, 'min_samples_leaf': 20, 'min_samples_split': 40, 'splitter': 'best'}\n",
      "0.583 (+/-0.004) for {'criterion': 'gini', 'max_depth': 50000, 'min_samples_leaf': 20, 'min_samples_split': 40, 'splitter': 'random'}\n",
      "0.609 (+/-0.017) for {'criterion': 'gini', 'max_depth': 10000, 'min_samples_leaf': 1, 'min_samples_split': 2, 'splitter': 'best'}\n",
      "0.676 (+/-0.027) for {'criterion': 'gini', 'max_depth': 10000, 'min_samples_leaf': 1, 'min_samples_split': 2, 'splitter': 'random'}\n",
      "0.605 (+/-0.002) for {'criterion': 'gini', 'max_depth': 10000, 'min_samples_leaf': 1, 'min_samples_split': 5, 'splitter': 'best'}\n",
      "0.663 (+/-0.083) for {'criterion': 'gini', 'max_depth': 10000, 'min_samples_leaf': 1, 'min_samples_split': 5, 'splitter': 'random'}\n",
      "0.609 (+/-0.031) for {'criterion': 'gini', 'max_depth': 10000, 'min_samples_leaf': 1, 'min_samples_split': 10, 'splitter': 'best'}\n",
      "0.624 (+/-0.004) for {'criterion': 'gini', 'max_depth': 10000, 'min_samples_leaf': 1, 'min_samples_split': 10, 'splitter': 'random'}\n",
      "0.607 (+/-0.036) for {'criterion': 'gini', 'max_depth': 10000, 'min_samples_leaf': 1, 'min_samples_split': 15, 'splitter': 'best'}\n",
      "0.601 (+/-0.001) for {'criterion': 'gini', 'max_depth': 10000, 'min_samples_leaf': 1, 'min_samples_split': 15, 'splitter': 'random'}\n",
      "0.613 (+/-0.028) for {'criterion': 'gini', 'max_depth': 10000, 'min_samples_leaf': 1, 'min_samples_split': 25, 'splitter': 'best'}\n",
      "0.622 (+/-0.050) for {'criterion': 'gini', 'max_depth': 10000, 'min_samples_leaf': 1, 'min_samples_split': 25, 'splitter': 'random'}\n",
      "0.614 (+/-0.021) for {'criterion': 'gini', 'max_depth': 10000, 'min_samples_leaf': 1, 'min_samples_split': 40, 'splitter': 'best'}\n",
      "0.621 (+/-0.092) for {'criterion': 'gini', 'max_depth': 10000, 'min_samples_leaf': 1, 'min_samples_split': 40, 'splitter': 'random'}\n",
      "0.590 (+/-0.001) for {'criterion': 'gini', 'max_depth': 10000, 'min_samples_leaf': 2, 'min_samples_split': 2, 'splitter': 'best'}\n",
      "0.628 (+/-0.025) for {'criterion': 'gini', 'max_depth': 10000, 'min_samples_leaf': 2, 'min_samples_split': 2, 'splitter': 'random'}\n",
      "0.590 (+/-0.005) for {'criterion': 'gini', 'max_depth': 10000, 'min_samples_leaf': 2, 'min_samples_split': 5, 'splitter': 'best'}\n",
      "0.640 (+/-0.115) for {'criterion': 'gini', 'max_depth': 10000, 'min_samples_leaf': 2, 'min_samples_split': 5, 'splitter': 'random'}\n",
      "0.591 (+/-0.013) for {'criterion': 'gini', 'max_depth': 10000, 'min_samples_leaf': 2, 'min_samples_split': 10, 'splitter': 'best'}\n",
      "0.623 (+/-0.008) for {'criterion': 'gini', 'max_depth': 10000, 'min_samples_leaf': 2, 'min_samples_split': 10, 'splitter': 'random'}\n",
      "0.586 (+/-0.009) for {'criterion': 'gini', 'max_depth': 10000, 'min_samples_leaf': 2, 'min_samples_split': 15, 'splitter': 'best'}\n",
      "0.606 (+/-0.003) for {'criterion': 'gini', 'max_depth': 10000, 'min_samples_leaf': 2, 'min_samples_split': 15, 'splitter': 'random'}\n",
      "0.590 (+/-0.009) for {'criterion': 'gini', 'max_depth': 10000, 'min_samples_leaf': 2, 'min_samples_split': 25, 'splitter': 'best'}\n",
      "0.603 (+/-0.021) for {'criterion': 'gini', 'max_depth': 10000, 'min_samples_leaf': 2, 'min_samples_split': 25, 'splitter': 'random'}\n",
      "0.599 (+/-0.016) for {'criterion': 'gini', 'max_depth': 10000, 'min_samples_leaf': 2, 'min_samples_split': 40, 'splitter': 'best'}\n",
      "0.629 (+/-0.068) for {'criterion': 'gini', 'max_depth': 10000, 'min_samples_leaf': 2, 'min_samples_split': 40, 'splitter': 'random'}\n",
      "0.603 (+/-0.016) for {'criterion': 'gini', 'max_depth': 10000, 'min_samples_leaf': 5, 'min_samples_split': 2, 'splitter': 'best'}\n",
      "0.607 (+/-0.020) for {'criterion': 'gini', 'max_depth': 10000, 'min_samples_leaf': 5, 'min_samples_split': 2, 'splitter': 'random'}\n",
      "0.603 (+/-0.016) for {'criterion': 'gini', 'max_depth': 10000, 'min_samples_leaf': 5, 'min_samples_split': 5, 'splitter': 'best'}\n",
      "0.607 (+/-0.020) for {'criterion': 'gini', 'max_depth': 10000, 'min_samples_leaf': 5, 'min_samples_split': 5, 'splitter': 'random'}\n",
      "0.603 (+/-0.016) for {'criterion': 'gini', 'max_depth': 10000, 'min_samples_leaf': 5, 'min_samples_split': 10, 'splitter': 'best'}\n",
      "0.607 (+/-0.020) for {'criterion': 'gini', 'max_depth': 10000, 'min_samples_leaf': 5, 'min_samples_split': 10, 'splitter': 'random'}\n",
      "0.603 (+/-0.014) for {'criterion': 'gini', 'max_depth': 10000, 'min_samples_leaf': 5, 'min_samples_split': 15, 'splitter': 'best'}\n",
      "0.610 (+/-0.003) for {'criterion': 'gini', 'max_depth': 10000, 'min_samples_leaf': 5, 'min_samples_split': 15, 'splitter': 'random'}\n",
      "0.600 (+/-0.009) for {'criterion': 'gini', 'max_depth': 10000, 'min_samples_leaf': 5, 'min_samples_split': 25, 'splitter': 'best'}\n",
      "0.630 (+/-0.004) for {'criterion': 'gini', 'max_depth': 10000, 'min_samples_leaf': 5, 'min_samples_split': 25, 'splitter': 'random'}\n",
      "0.597 (+/-0.014) for {'criterion': 'gini', 'max_depth': 10000, 'min_samples_leaf': 5, 'min_samples_split': 40, 'splitter': 'best'}\n",
      "0.613 (+/-0.048) for {'criterion': 'gini', 'max_depth': 10000, 'min_samples_leaf': 5, 'min_samples_split': 40, 'splitter': 'random'}\n",
      "0.595 (+/-0.039) for {'criterion': 'gini', 'max_depth': 10000, 'min_samples_leaf': 10, 'min_samples_split': 2, 'splitter': 'best'}\n",
      "0.611 (+/-0.073) for {'criterion': 'gini', 'max_depth': 10000, 'min_samples_leaf': 10, 'min_samples_split': 2, 'splitter': 'random'}\n",
      "0.595 (+/-0.039) for {'criterion': 'gini', 'max_depth': 10000, 'min_samples_leaf': 10, 'min_samples_split': 5, 'splitter': 'best'}\n",
      "0.611 (+/-0.073) for {'criterion': 'gini', 'max_depth': 10000, 'min_samples_leaf': 10, 'min_samples_split': 5, 'splitter': 'random'}\n",
      "0.595 (+/-0.039) for {'criterion': 'gini', 'max_depth': 10000, 'min_samples_leaf': 10, 'min_samples_split': 10, 'splitter': 'best'}\n",
      "0.611 (+/-0.073) for {'criterion': 'gini', 'max_depth': 10000, 'min_samples_leaf': 10, 'min_samples_split': 10, 'splitter': 'random'}\n",
      "0.595 (+/-0.039) for {'criterion': 'gini', 'max_depth': 10000, 'min_samples_leaf': 10, 'min_samples_split': 15, 'splitter': 'best'}\n",
      "0.611 (+/-0.073) for {'criterion': 'gini', 'max_depth': 10000, 'min_samples_leaf': 10, 'min_samples_split': 15, 'splitter': 'random'}\n",
      "0.595 (+/-0.018) for {'criterion': 'gini', 'max_depth': 10000, 'min_samples_leaf': 10, 'min_samples_split': 25, 'splitter': 'best'}\n",
      "0.605 (+/-0.022) for {'criterion': 'gini', 'max_depth': 10000, 'min_samples_leaf': 10, 'min_samples_split': 25, 'splitter': 'random'}\n",
      "0.602 (+/-0.004) for {'criterion': 'gini', 'max_depth': 10000, 'min_samples_leaf': 10, 'min_samples_split': 40, 'splitter': 'best'}\n",
      "0.600 (+/-0.046) for {'criterion': 'gini', 'max_depth': 10000, 'min_samples_leaf': 10, 'min_samples_split': 40, 'splitter': 'random'}\n",
      "0.610 (+/-0.007) for {'criterion': 'gini', 'max_depth': 10000, 'min_samples_leaf': 20, 'min_samples_split': 2, 'splitter': 'best'}\n",
      "0.583 (+/-0.004) for {'criterion': 'gini', 'max_depth': 10000, 'min_samples_leaf': 20, 'min_samples_split': 2, 'splitter': 'random'}\n",
      "0.610 (+/-0.007) for {'criterion': 'gini', 'max_depth': 10000, 'min_samples_leaf': 20, 'min_samples_split': 5, 'splitter': 'best'}\n",
      "0.583 (+/-0.004) for {'criterion': 'gini', 'max_depth': 10000, 'min_samples_leaf': 20, 'min_samples_split': 5, 'splitter': 'random'}\n",
      "0.610 (+/-0.007) for {'criterion': 'gini', 'max_depth': 10000, 'min_samples_leaf': 20, 'min_samples_split': 10, 'splitter': 'best'}\n",
      "0.583 (+/-0.004) for {'criterion': 'gini', 'max_depth': 10000, 'min_samples_leaf': 20, 'min_samples_split': 10, 'splitter': 'random'}\n",
      "0.610 (+/-0.007) for {'criterion': 'gini', 'max_depth': 10000, 'min_samples_leaf': 20, 'min_samples_split': 15, 'splitter': 'best'}\n",
      "0.583 (+/-0.004) for {'criterion': 'gini', 'max_depth': 10000, 'min_samples_leaf': 20, 'min_samples_split': 15, 'splitter': 'random'}\n",
      "0.610 (+/-0.007) for {'criterion': 'gini', 'max_depth': 10000, 'min_samples_leaf': 20, 'min_samples_split': 25, 'splitter': 'best'}\n",
      "0.583 (+/-0.004) for {'criterion': 'gini', 'max_depth': 10000, 'min_samples_leaf': 20, 'min_samples_split': 25, 'splitter': 'random'}\n",
      "0.610 (+/-0.007) for {'criterion': 'gini', 'max_depth': 10000, 'min_samples_leaf': 20, 'min_samples_split': 40, 'splitter': 'best'}\n",
      "0.583 (+/-0.004) for {'criterion': 'gini', 'max_depth': 10000, 'min_samples_leaf': 20, 'min_samples_split': 40, 'splitter': 'random'}\n",
      "0.613 (+/-0.029) for {'criterion': 'entropy', 'max_depth': 10, 'min_samples_leaf': 1, 'min_samples_split': 2, 'splitter': 'best'}\n",
      "0.592 (+/-0.035) for {'criterion': 'entropy', 'max_depth': 10, 'min_samples_leaf': 1, 'min_samples_split': 2, 'splitter': 'random'}\n",
      "0.609 (+/-0.042) for {'criterion': 'entropy', 'max_depth': 10, 'min_samples_leaf': 1, 'min_samples_split': 5, 'splitter': 'best'}\n",
      "0.626 (+/-0.030) for {'criterion': 'entropy', 'max_depth': 10, 'min_samples_leaf': 1, 'min_samples_split': 5, 'splitter': 'random'}\n",
      "0.613 (+/-0.046) for {'criterion': 'entropy', 'max_depth': 10, 'min_samples_leaf': 1, 'min_samples_split': 10, 'splitter': 'best'}\n",
      "0.594 (+/-0.011) for {'criterion': 'entropy', 'max_depth': 10, 'min_samples_leaf': 1, 'min_samples_split': 10, 'splitter': 'random'}\n",
      "0.610 (+/-0.050) for {'criterion': 'entropy', 'max_depth': 10, 'min_samples_leaf': 1, 'min_samples_split': 15, 'splitter': 'best'}\n",
      "0.617 (+/-0.005) for {'criterion': 'entropy', 'max_depth': 10, 'min_samples_leaf': 1, 'min_samples_split': 15, 'splitter': 'random'}\n",
      "0.614 (+/-0.064) for {'criterion': 'entropy', 'max_depth': 10, 'min_samples_leaf': 1, 'min_samples_split': 25, 'splitter': 'best'}\n",
      "0.624 (+/-0.067) for {'criterion': 'entropy', 'max_depth': 10, 'min_samples_leaf': 1, 'min_samples_split': 25, 'splitter': 'random'}\n",
      "0.622 (+/-0.071) for {'criterion': 'entropy', 'max_depth': 10, 'min_samples_leaf': 1, 'min_samples_split': 40, 'splitter': 'best'}\n",
      "0.652 (+/-0.003) for {'criterion': 'entropy', 'max_depth': 10, 'min_samples_leaf': 1, 'min_samples_split': 40, 'splitter': 'random'}\n",
      "0.609 (+/-0.045) for {'criterion': 'entropy', 'max_depth': 10, 'min_samples_leaf': 2, 'min_samples_split': 2, 'splitter': 'best'}\n",
      "0.657 (+/-0.032) for {'criterion': 'entropy', 'max_depth': 10, 'min_samples_leaf': 2, 'min_samples_split': 2, 'splitter': 'random'}\n",
      "0.605 (+/-0.047) for {'criterion': 'entropy', 'max_depth': 10, 'min_samples_leaf': 2, 'min_samples_split': 5, 'splitter': 'best'}\n",
      "0.626 (+/-0.029) for {'criterion': 'entropy', 'max_depth': 10, 'min_samples_leaf': 2, 'min_samples_split': 5, 'splitter': 'random'}\n",
      "0.612 (+/-0.046) for {'criterion': 'entropy', 'max_depth': 10, 'min_samples_leaf': 2, 'min_samples_split': 10, 'splitter': 'best'}\n",
      "0.626 (+/-0.021) for {'criterion': 'entropy', 'max_depth': 10, 'min_samples_leaf': 2, 'min_samples_split': 10, 'splitter': 'random'}\n",
      "0.610 (+/-0.050) for {'criterion': 'entropy', 'max_depth': 10, 'min_samples_leaf': 2, 'min_samples_split': 15, 'splitter': 'best'}\n",
      "0.631 (+/-0.066) for {'criterion': 'entropy', 'max_depth': 10, 'min_samples_leaf': 2, 'min_samples_split': 15, 'splitter': 'random'}\n",
      "0.614 (+/-0.064) for {'criterion': 'entropy', 'max_depth': 10, 'min_samples_leaf': 2, 'min_samples_split': 25, 'splitter': 'best'}\n",
      "0.617 (+/-0.053) for {'criterion': 'entropy', 'max_depth': 10, 'min_samples_leaf': 2, 'min_samples_split': 25, 'splitter': 'random'}\n",
      "0.617 (+/-0.075) for {'criterion': 'entropy', 'max_depth': 10, 'min_samples_leaf': 2, 'min_samples_split': 40, 'splitter': 'best'}\n",
      "0.652 (+/-0.000) for {'criterion': 'entropy', 'max_depth': 10, 'min_samples_leaf': 2, 'min_samples_split': 40, 'splitter': 'random'}\n",
      "0.613 (+/-0.048) for {'criterion': 'entropy', 'max_depth': 10, 'min_samples_leaf': 5, 'min_samples_split': 2, 'splitter': 'best'}\n",
      "0.606 (+/-0.010) for {'criterion': 'entropy', 'max_depth': 10, 'min_samples_leaf': 5, 'min_samples_split': 2, 'splitter': 'random'}\n",
      "0.613 (+/-0.048) for {'criterion': 'entropy', 'max_depth': 10, 'min_samples_leaf': 5, 'min_samples_split': 5, 'splitter': 'best'}\n",
      "0.606 (+/-0.010) for {'criterion': 'entropy', 'max_depth': 10, 'min_samples_leaf': 5, 'min_samples_split': 5, 'splitter': 'random'}\n",
      "0.613 (+/-0.048) for {'criterion': 'entropy', 'max_depth': 10, 'min_samples_leaf': 5, 'min_samples_split': 10, 'splitter': 'best'}\n",
      "0.606 (+/-0.010) for {'criterion': 'entropy', 'max_depth': 10, 'min_samples_leaf': 5, 'min_samples_split': 10, 'splitter': 'random'}\n",
      "0.612 (+/-0.047) for {'criterion': 'entropy', 'max_depth': 10, 'min_samples_leaf': 5, 'min_samples_split': 15, 'splitter': 'best'}\n",
      "0.616 (+/-0.066) for {'criterion': 'entropy', 'max_depth': 10, 'min_samples_leaf': 5, 'min_samples_split': 15, 'splitter': 'random'}\n",
      "0.617 (+/-0.054) for {'criterion': 'entropy', 'max_depth': 10, 'min_samples_leaf': 5, 'min_samples_split': 25, 'splitter': 'best'}\n",
      "0.606 (+/-0.026) for {'criterion': 'entropy', 'max_depth': 10, 'min_samples_leaf': 5, 'min_samples_split': 25, 'splitter': 'random'}\n",
      "0.623 (+/-0.064) for {'criterion': 'entropy', 'max_depth': 10, 'min_samples_leaf': 5, 'min_samples_split': 40, 'splitter': 'best'}\n",
      "0.652 (+/-0.000) for {'criterion': 'entropy', 'max_depth': 10, 'min_samples_leaf': 5, 'min_samples_split': 40, 'splitter': 'random'}\n",
      "0.608 (+/-0.033) for {'criterion': 'entropy', 'max_depth': 10, 'min_samples_leaf': 10, 'min_samples_split': 2, 'splitter': 'best'}\n",
      "0.638 (+/-0.042) for {'criterion': 'entropy', 'max_depth': 10, 'min_samples_leaf': 10, 'min_samples_split': 2, 'splitter': 'random'}\n",
      "0.608 (+/-0.033) for {'criterion': 'entropy', 'max_depth': 10, 'min_samples_leaf': 10, 'min_samples_split': 5, 'splitter': 'best'}\n",
      "0.638 (+/-0.042) for {'criterion': 'entropy', 'max_depth': 10, 'min_samples_leaf': 10, 'min_samples_split': 5, 'splitter': 'random'}\n",
      "0.608 (+/-0.033) for {'criterion': 'entropy', 'max_depth': 10, 'min_samples_leaf': 10, 'min_samples_split': 10, 'splitter': 'best'}\n",
      "0.638 (+/-0.042) for {'criterion': 'entropy', 'max_depth': 10, 'min_samples_leaf': 10, 'min_samples_split': 10, 'splitter': 'random'}\n",
      "0.608 (+/-0.033) for {'criterion': 'entropy', 'max_depth': 10, 'min_samples_leaf': 10, 'min_samples_split': 15, 'splitter': 'best'}\n",
      "0.638 (+/-0.042) for {'criterion': 'entropy', 'max_depth': 10, 'min_samples_leaf': 10, 'min_samples_split': 15, 'splitter': 'random'}\n",
      "0.616 (+/-0.050) for {'criterion': 'entropy', 'max_depth': 10, 'min_samples_leaf': 10, 'min_samples_split': 25, 'splitter': 'best'}\n",
      "0.652 (+/-0.065) for {'criterion': 'entropy', 'max_depth': 10, 'min_samples_leaf': 10, 'min_samples_split': 25, 'splitter': 'random'}\n",
      "0.622 (+/-0.064) for {'criterion': 'entropy', 'max_depth': 10, 'min_samples_leaf': 10, 'min_samples_split': 40, 'splitter': 'best'}\n",
      "0.641 (+/-0.016) for {'criterion': 'entropy', 'max_depth': 10, 'min_samples_leaf': 10, 'min_samples_split': 40, 'splitter': 'random'}\n",
      "0.616 (+/-0.049) for {'criterion': 'entropy', 'max_depth': 10, 'min_samples_leaf': 20, 'min_samples_split': 2, 'splitter': 'best'}\n",
      "0.629 (+/-0.108) for {'criterion': 'entropy', 'max_depth': 10, 'min_samples_leaf': 20, 'min_samples_split': 2, 'splitter': 'random'}\n",
      "0.616 (+/-0.049) for {'criterion': 'entropy', 'max_depth': 10, 'min_samples_leaf': 20, 'min_samples_split': 5, 'splitter': 'best'}\n",
      "0.629 (+/-0.108) for {'criterion': 'entropy', 'max_depth': 10, 'min_samples_leaf': 20, 'min_samples_split': 5, 'splitter': 'random'}\n",
      "0.616 (+/-0.049) for {'criterion': 'entropy', 'max_depth': 10, 'min_samples_leaf': 20, 'min_samples_split': 10, 'splitter': 'best'}\n",
      "0.629 (+/-0.108) for {'criterion': 'entropy', 'max_depth': 10, 'min_samples_leaf': 20, 'min_samples_split': 10, 'splitter': 'random'}\n",
      "0.616 (+/-0.049) for {'criterion': 'entropy', 'max_depth': 10, 'min_samples_leaf': 20, 'min_samples_split': 15, 'splitter': 'best'}\n",
      "0.629 (+/-0.108) for {'criterion': 'entropy', 'max_depth': 10, 'min_samples_leaf': 20, 'min_samples_split': 15, 'splitter': 'random'}\n",
      "0.616 (+/-0.049) for {'criterion': 'entropy', 'max_depth': 10, 'min_samples_leaf': 20, 'min_samples_split': 25, 'splitter': 'best'}\n",
      "0.629 (+/-0.108) for {'criterion': 'entropy', 'max_depth': 10, 'min_samples_leaf': 20, 'min_samples_split': 25, 'splitter': 'random'}\n",
      "0.616 (+/-0.049) for {'criterion': 'entropy', 'max_depth': 10, 'min_samples_leaf': 20, 'min_samples_split': 40, 'splitter': 'best'}\n",
      "0.629 (+/-0.108) for {'criterion': 'entropy', 'max_depth': 10, 'min_samples_leaf': 20, 'min_samples_split': 40, 'splitter': 'random'}\n",
      "0.617 (+/-0.032) for {'criterion': 'entropy', 'max_depth': 100, 'min_samples_leaf': 1, 'min_samples_split': 2, 'splitter': 'best'}\n",
      "0.610 (+/-0.022) for {'criterion': 'entropy', 'max_depth': 100, 'min_samples_leaf': 1, 'min_samples_split': 2, 'splitter': 'random'}\n",
      "0.621 (+/-0.034) for {'criterion': 'entropy', 'max_depth': 100, 'min_samples_leaf': 1, 'min_samples_split': 5, 'splitter': 'best'}\n",
      "0.636 (+/-0.058) for {'criterion': 'entropy', 'max_depth': 100, 'min_samples_leaf': 1, 'min_samples_split': 5, 'splitter': 'random'}\n",
      "0.623 (+/-0.038) for {'criterion': 'entropy', 'max_depth': 100, 'min_samples_leaf': 1, 'min_samples_split': 10, 'splitter': 'best'}\n",
      "0.622 (+/-0.050) for {'criterion': 'entropy', 'max_depth': 100, 'min_samples_leaf': 1, 'min_samples_split': 10, 'splitter': 'random'}\n",
      "0.625 (+/-0.062) for {'criterion': 'entropy', 'max_depth': 100, 'min_samples_leaf': 1, 'min_samples_split': 15, 'splitter': 'best'}\n",
      "0.629 (+/-0.022) for {'criterion': 'entropy', 'max_depth': 100, 'min_samples_leaf': 1, 'min_samples_split': 15, 'splitter': 'random'}\n",
      "0.624 (+/-0.074) for {'criterion': 'entropy', 'max_depth': 100, 'min_samples_leaf': 1, 'min_samples_split': 25, 'splitter': 'best'}\n",
      "0.606 (+/-0.017) for {'criterion': 'entropy', 'max_depth': 100, 'min_samples_leaf': 1, 'min_samples_split': 25, 'splitter': 'random'}\n",
      "0.626 (+/-0.064) for {'criterion': 'entropy', 'max_depth': 100, 'min_samples_leaf': 1, 'min_samples_split': 40, 'splitter': 'best'}\n",
      "0.624 (+/-0.081) for {'criterion': 'entropy', 'max_depth': 100, 'min_samples_leaf': 1, 'min_samples_split': 40, 'splitter': 'random'}\n",
      "0.615 (+/-0.019) for {'criterion': 'entropy', 'max_depth': 100, 'min_samples_leaf': 2, 'min_samples_split': 2, 'splitter': 'best'}\n",
      "0.633 (+/-0.054) for {'criterion': 'entropy', 'max_depth': 100, 'min_samples_leaf': 2, 'min_samples_split': 2, 'splitter': 'random'}\n",
      "0.619 (+/-0.044) for {'criterion': 'entropy', 'max_depth': 100, 'min_samples_leaf': 2, 'min_samples_split': 5, 'splitter': 'best'}\n",
      "0.647 (+/-0.025) for {'criterion': 'entropy', 'max_depth': 100, 'min_samples_leaf': 2, 'min_samples_split': 5, 'splitter': 'random'}\n",
      "0.622 (+/-0.039) for {'criterion': 'entropy', 'max_depth': 100, 'min_samples_leaf': 2, 'min_samples_split': 10, 'splitter': 'best'}\n",
      "0.593 (+/-0.015) for {'criterion': 'entropy', 'max_depth': 100, 'min_samples_leaf': 2, 'min_samples_split': 10, 'splitter': 'random'}\n",
      "0.627 (+/-0.059) for {'criterion': 'entropy', 'max_depth': 100, 'min_samples_leaf': 2, 'min_samples_split': 15, 'splitter': 'best'}\n",
      "0.641 (+/-0.079) for {'criterion': 'entropy', 'max_depth': 100, 'min_samples_leaf': 2, 'min_samples_split': 15, 'splitter': 'random'}\n",
      "0.623 (+/-0.074) for {'criterion': 'entropy', 'max_depth': 100, 'min_samples_leaf': 2, 'min_samples_split': 25, 'splitter': 'best'}\n",
      "0.618 (+/-0.041) for {'criterion': 'entropy', 'max_depth': 100, 'min_samples_leaf': 2, 'min_samples_split': 25, 'splitter': 'random'}\n",
      "0.622 (+/-0.073) for {'criterion': 'entropy', 'max_depth': 100, 'min_samples_leaf': 2, 'min_samples_split': 40, 'splitter': 'best'}\n",
      "0.654 (+/-0.030) for {'criterion': 'entropy', 'max_depth': 100, 'min_samples_leaf': 2, 'min_samples_split': 40, 'splitter': 'random'}\n",
      "0.627 (+/-0.047) for {'criterion': 'entropy', 'max_depth': 100, 'min_samples_leaf': 5, 'min_samples_split': 2, 'splitter': 'best'}\n",
      "0.656 (+/-0.047) for {'criterion': 'entropy', 'max_depth': 100, 'min_samples_leaf': 5, 'min_samples_split': 2, 'splitter': 'random'}\n",
      "0.627 (+/-0.047) for {'criterion': 'entropy', 'max_depth': 100, 'min_samples_leaf': 5, 'min_samples_split': 5, 'splitter': 'best'}\n",
      "0.656 (+/-0.047) for {'criterion': 'entropy', 'max_depth': 100, 'min_samples_leaf': 5, 'min_samples_split': 5, 'splitter': 'random'}\n",
      "0.627 (+/-0.047) for {'criterion': 'entropy', 'max_depth': 100, 'min_samples_leaf': 5, 'min_samples_split': 10, 'splitter': 'best'}\n",
      "0.656 (+/-0.047) for {'criterion': 'entropy', 'max_depth': 100, 'min_samples_leaf': 5, 'min_samples_split': 10, 'splitter': 'random'}\n",
      "0.626 (+/-0.048) for {'criterion': 'entropy', 'max_depth': 100, 'min_samples_leaf': 5, 'min_samples_split': 15, 'splitter': 'best'}\n",
      "0.601 (+/-0.014) for {'criterion': 'entropy', 'max_depth': 100, 'min_samples_leaf': 5, 'min_samples_split': 15, 'splitter': 'random'}\n",
      "0.627 (+/-0.060) for {'criterion': 'entropy', 'max_depth': 100, 'min_samples_leaf': 5, 'min_samples_split': 25, 'splitter': 'best'}\n",
      "0.638 (+/-0.115) for {'criterion': 'entropy', 'max_depth': 100, 'min_samples_leaf': 5, 'min_samples_split': 25, 'splitter': 'random'}\n",
      "0.628 (+/-0.060) for {'criterion': 'entropy', 'max_depth': 100, 'min_samples_leaf': 5, 'min_samples_split': 40, 'splitter': 'best'}\n",
      "0.658 (+/-0.040) for {'criterion': 'entropy', 'max_depth': 100, 'min_samples_leaf': 5, 'min_samples_split': 40, 'splitter': 'random'}\n",
      "0.624 (+/-0.047) for {'criterion': 'entropy', 'max_depth': 100, 'min_samples_leaf': 10, 'min_samples_split': 2, 'splitter': 'best'}\n",
      "0.612 (+/-0.083) for {'criterion': 'entropy', 'max_depth': 100, 'min_samples_leaf': 10, 'min_samples_split': 2, 'splitter': 'random'}\n",
      "0.624 (+/-0.047) for {'criterion': 'entropy', 'max_depth': 100, 'min_samples_leaf': 10, 'min_samples_split': 5, 'splitter': 'best'}\n",
      "0.612 (+/-0.083) for {'criterion': 'entropy', 'max_depth': 100, 'min_samples_leaf': 10, 'min_samples_split': 5, 'splitter': 'random'}\n",
      "0.624 (+/-0.047) for {'criterion': 'entropy', 'max_depth': 100, 'min_samples_leaf': 10, 'min_samples_split': 10, 'splitter': 'best'}\n",
      "0.612 (+/-0.083) for {'criterion': 'entropy', 'max_depth': 100, 'min_samples_leaf': 10, 'min_samples_split': 10, 'splitter': 'random'}\n",
      "0.624 (+/-0.047) for {'criterion': 'entropy', 'max_depth': 100, 'min_samples_leaf': 10, 'min_samples_split': 15, 'splitter': 'best'}\n",
      "0.612 (+/-0.083) for {'criterion': 'entropy', 'max_depth': 100, 'min_samples_leaf': 10, 'min_samples_split': 15, 'splitter': 'random'}\n",
      "0.626 (+/-0.055) for {'criterion': 'entropy', 'max_depth': 100, 'min_samples_leaf': 10, 'min_samples_split': 25, 'splitter': 'best'}\n",
      "0.612 (+/-0.054) for {'criterion': 'entropy', 'max_depth': 100, 'min_samples_leaf': 10, 'min_samples_split': 25, 'splitter': 'random'}\n",
      "0.633 (+/-0.071) for {'criterion': 'entropy', 'max_depth': 100, 'min_samples_leaf': 10, 'min_samples_split': 40, 'splitter': 'best'}\n",
      "0.610 (+/-0.067) for {'criterion': 'entropy', 'max_depth': 100, 'min_samples_leaf': 10, 'min_samples_split': 40, 'splitter': 'random'}\n",
      "0.620 (+/-0.042) for {'criterion': 'entropy', 'max_depth': 100, 'min_samples_leaf': 20, 'min_samples_split': 2, 'splitter': 'best'}\n",
      "0.640 (+/-0.046) for {'criterion': 'entropy', 'max_depth': 100, 'min_samples_leaf': 20, 'min_samples_split': 2, 'splitter': 'random'}\n",
      "0.620 (+/-0.042) for {'criterion': 'entropy', 'max_depth': 100, 'min_samples_leaf': 20, 'min_samples_split': 5, 'splitter': 'best'}\n",
      "0.640 (+/-0.046) for {'criterion': 'entropy', 'max_depth': 100, 'min_samples_leaf': 20, 'min_samples_split': 5, 'splitter': 'random'}\n",
      "0.620 (+/-0.042) for {'criterion': 'entropy', 'max_depth': 100, 'min_samples_leaf': 20, 'min_samples_split': 10, 'splitter': 'best'}\n",
      "0.640 (+/-0.046) for {'criterion': 'entropy', 'max_depth': 100, 'min_samples_leaf': 20, 'min_samples_split': 10, 'splitter': 'random'}\n",
      "0.620 (+/-0.042) for {'criterion': 'entropy', 'max_depth': 100, 'min_samples_leaf': 20, 'min_samples_split': 15, 'splitter': 'best'}\n",
      "0.640 (+/-0.046) for {'criterion': 'entropy', 'max_depth': 100, 'min_samples_leaf': 20, 'min_samples_split': 15, 'splitter': 'random'}\n",
      "0.620 (+/-0.042) for {'criterion': 'entropy', 'max_depth': 100, 'min_samples_leaf': 20, 'min_samples_split': 25, 'splitter': 'best'}\n",
      "0.640 (+/-0.046) for {'criterion': 'entropy', 'max_depth': 100, 'min_samples_leaf': 20, 'min_samples_split': 25, 'splitter': 'random'}\n",
      "0.620 (+/-0.042) for {'criterion': 'entropy', 'max_depth': 100, 'min_samples_leaf': 20, 'min_samples_split': 40, 'splitter': 'best'}\n",
      "0.640 (+/-0.046) for {'criterion': 'entropy', 'max_depth': 100, 'min_samples_leaf': 20, 'min_samples_split': 40, 'splitter': 'random'}\n",
      "0.617 (+/-0.032) for {'criterion': 'entropy', 'max_depth': 500, 'min_samples_leaf': 1, 'min_samples_split': 2, 'splitter': 'best'}\n",
      "0.610 (+/-0.022) for {'criterion': 'entropy', 'max_depth': 500, 'min_samples_leaf': 1, 'min_samples_split': 2, 'splitter': 'random'}\n",
      "0.621 (+/-0.034) for {'criterion': 'entropy', 'max_depth': 500, 'min_samples_leaf': 1, 'min_samples_split': 5, 'splitter': 'best'}\n",
      "0.636 (+/-0.058) for {'criterion': 'entropy', 'max_depth': 500, 'min_samples_leaf': 1, 'min_samples_split': 5, 'splitter': 'random'}\n",
      "0.623 (+/-0.038) for {'criterion': 'entropy', 'max_depth': 500, 'min_samples_leaf': 1, 'min_samples_split': 10, 'splitter': 'best'}\n",
      "0.622 (+/-0.050) for {'criterion': 'entropy', 'max_depth': 500, 'min_samples_leaf': 1, 'min_samples_split': 10, 'splitter': 'random'}\n",
      "0.625 (+/-0.062) for {'criterion': 'entropy', 'max_depth': 500, 'min_samples_leaf': 1, 'min_samples_split': 15, 'splitter': 'best'}\n",
      "0.629 (+/-0.022) for {'criterion': 'entropy', 'max_depth': 500, 'min_samples_leaf': 1, 'min_samples_split': 15, 'splitter': 'random'}\n",
      "0.624 (+/-0.074) for {'criterion': 'entropy', 'max_depth': 500, 'min_samples_leaf': 1, 'min_samples_split': 25, 'splitter': 'best'}\n",
      "0.606 (+/-0.017) for {'criterion': 'entropy', 'max_depth': 500, 'min_samples_leaf': 1, 'min_samples_split': 25, 'splitter': 'random'}\n",
      "0.626 (+/-0.064) for {'criterion': 'entropy', 'max_depth': 500, 'min_samples_leaf': 1, 'min_samples_split': 40, 'splitter': 'best'}\n",
      "0.624 (+/-0.081) for {'criterion': 'entropy', 'max_depth': 500, 'min_samples_leaf': 1, 'min_samples_split': 40, 'splitter': 'random'}\n",
      "0.615 (+/-0.019) for {'criterion': 'entropy', 'max_depth': 500, 'min_samples_leaf': 2, 'min_samples_split': 2, 'splitter': 'best'}\n",
      "0.633 (+/-0.054) for {'criterion': 'entropy', 'max_depth': 500, 'min_samples_leaf': 2, 'min_samples_split': 2, 'splitter': 'random'}\n",
      "0.619 (+/-0.044) for {'criterion': 'entropy', 'max_depth': 500, 'min_samples_leaf': 2, 'min_samples_split': 5, 'splitter': 'best'}\n",
      "0.647 (+/-0.025) for {'criterion': 'entropy', 'max_depth': 500, 'min_samples_leaf': 2, 'min_samples_split': 5, 'splitter': 'random'}\n",
      "0.622 (+/-0.039) for {'criterion': 'entropy', 'max_depth': 500, 'min_samples_leaf': 2, 'min_samples_split': 10, 'splitter': 'best'}\n",
      "0.593 (+/-0.015) for {'criterion': 'entropy', 'max_depth': 500, 'min_samples_leaf': 2, 'min_samples_split': 10, 'splitter': 'random'}\n",
      "0.627 (+/-0.059) for {'criterion': 'entropy', 'max_depth': 500, 'min_samples_leaf': 2, 'min_samples_split': 15, 'splitter': 'best'}\n",
      "0.641 (+/-0.079) for {'criterion': 'entropy', 'max_depth': 500, 'min_samples_leaf': 2, 'min_samples_split': 15, 'splitter': 'random'}\n",
      "0.623 (+/-0.074) for {'criterion': 'entropy', 'max_depth': 500, 'min_samples_leaf': 2, 'min_samples_split': 25, 'splitter': 'best'}\n",
      "0.618 (+/-0.041) for {'criterion': 'entropy', 'max_depth': 500, 'min_samples_leaf': 2, 'min_samples_split': 25, 'splitter': 'random'}\n",
      "0.622 (+/-0.073) for {'criterion': 'entropy', 'max_depth': 500, 'min_samples_leaf': 2, 'min_samples_split': 40, 'splitter': 'best'}\n",
      "0.654 (+/-0.030) for {'criterion': 'entropy', 'max_depth': 500, 'min_samples_leaf': 2, 'min_samples_split': 40, 'splitter': 'random'}\n",
      "0.627 (+/-0.047) for {'criterion': 'entropy', 'max_depth': 500, 'min_samples_leaf': 5, 'min_samples_split': 2, 'splitter': 'best'}\n",
      "0.656 (+/-0.047) for {'criterion': 'entropy', 'max_depth': 500, 'min_samples_leaf': 5, 'min_samples_split': 2, 'splitter': 'random'}\n",
      "0.627 (+/-0.047) for {'criterion': 'entropy', 'max_depth': 500, 'min_samples_leaf': 5, 'min_samples_split': 5, 'splitter': 'best'}\n",
      "0.656 (+/-0.047) for {'criterion': 'entropy', 'max_depth': 500, 'min_samples_leaf': 5, 'min_samples_split': 5, 'splitter': 'random'}\n",
      "0.627 (+/-0.047) for {'criterion': 'entropy', 'max_depth': 500, 'min_samples_leaf': 5, 'min_samples_split': 10, 'splitter': 'best'}\n",
      "0.656 (+/-0.047) for {'criterion': 'entropy', 'max_depth': 500, 'min_samples_leaf': 5, 'min_samples_split': 10, 'splitter': 'random'}\n",
      "0.626 (+/-0.048) for {'criterion': 'entropy', 'max_depth': 500, 'min_samples_leaf': 5, 'min_samples_split': 15, 'splitter': 'best'}\n",
      "0.601 (+/-0.014) for {'criterion': 'entropy', 'max_depth': 500, 'min_samples_leaf': 5, 'min_samples_split': 15, 'splitter': 'random'}\n",
      "0.627 (+/-0.060) for {'criterion': 'entropy', 'max_depth': 500, 'min_samples_leaf': 5, 'min_samples_split': 25, 'splitter': 'best'}\n",
      "0.638 (+/-0.115) for {'criterion': 'entropy', 'max_depth': 500, 'min_samples_leaf': 5, 'min_samples_split': 25, 'splitter': 'random'}\n",
      "0.628 (+/-0.060) for {'criterion': 'entropy', 'max_depth': 500, 'min_samples_leaf': 5, 'min_samples_split': 40, 'splitter': 'best'}\n",
      "0.658 (+/-0.040) for {'criterion': 'entropy', 'max_depth': 500, 'min_samples_leaf': 5, 'min_samples_split': 40, 'splitter': 'random'}\n",
      "0.624 (+/-0.047) for {'criterion': 'entropy', 'max_depth': 500, 'min_samples_leaf': 10, 'min_samples_split': 2, 'splitter': 'best'}\n",
      "0.612 (+/-0.083) for {'criterion': 'entropy', 'max_depth': 500, 'min_samples_leaf': 10, 'min_samples_split': 2, 'splitter': 'random'}\n",
      "0.624 (+/-0.047) for {'criterion': 'entropy', 'max_depth': 500, 'min_samples_leaf': 10, 'min_samples_split': 5, 'splitter': 'best'}\n",
      "0.612 (+/-0.083) for {'criterion': 'entropy', 'max_depth': 500, 'min_samples_leaf': 10, 'min_samples_split': 5, 'splitter': 'random'}\n",
      "0.624 (+/-0.047) for {'criterion': 'entropy', 'max_depth': 500, 'min_samples_leaf': 10, 'min_samples_split': 10, 'splitter': 'best'}\n",
      "0.612 (+/-0.083) for {'criterion': 'entropy', 'max_depth': 500, 'min_samples_leaf': 10, 'min_samples_split': 10, 'splitter': 'random'}\n",
      "0.624 (+/-0.047) for {'criterion': 'entropy', 'max_depth': 500, 'min_samples_leaf': 10, 'min_samples_split': 15, 'splitter': 'best'}\n",
      "0.612 (+/-0.083) for {'criterion': 'entropy', 'max_depth': 500, 'min_samples_leaf': 10, 'min_samples_split': 15, 'splitter': 'random'}\n",
      "0.626 (+/-0.055) for {'criterion': 'entropy', 'max_depth': 500, 'min_samples_leaf': 10, 'min_samples_split': 25, 'splitter': 'best'}\n",
      "0.612 (+/-0.054) for {'criterion': 'entropy', 'max_depth': 500, 'min_samples_leaf': 10, 'min_samples_split': 25, 'splitter': 'random'}\n",
      "0.633 (+/-0.071) for {'criterion': 'entropy', 'max_depth': 500, 'min_samples_leaf': 10, 'min_samples_split': 40, 'splitter': 'best'}\n",
      "0.610 (+/-0.067) for {'criterion': 'entropy', 'max_depth': 500, 'min_samples_leaf': 10, 'min_samples_split': 40, 'splitter': 'random'}\n",
      "0.620 (+/-0.042) for {'criterion': 'entropy', 'max_depth': 500, 'min_samples_leaf': 20, 'min_samples_split': 2, 'splitter': 'best'}\n",
      "0.640 (+/-0.046) for {'criterion': 'entropy', 'max_depth': 500, 'min_samples_leaf': 20, 'min_samples_split': 2, 'splitter': 'random'}\n",
      "0.620 (+/-0.042) for {'criterion': 'entropy', 'max_depth': 500, 'min_samples_leaf': 20, 'min_samples_split': 5, 'splitter': 'best'}\n",
      "0.640 (+/-0.046) for {'criterion': 'entropy', 'max_depth': 500, 'min_samples_leaf': 20, 'min_samples_split': 5, 'splitter': 'random'}\n",
      "0.620 (+/-0.042) for {'criterion': 'entropy', 'max_depth': 500, 'min_samples_leaf': 20, 'min_samples_split': 10, 'splitter': 'best'}\n",
      "0.640 (+/-0.046) for {'criterion': 'entropy', 'max_depth': 500, 'min_samples_leaf': 20, 'min_samples_split': 10, 'splitter': 'random'}\n",
      "0.620 (+/-0.042) for {'criterion': 'entropy', 'max_depth': 500, 'min_samples_leaf': 20, 'min_samples_split': 15, 'splitter': 'best'}\n",
      "0.640 (+/-0.046) for {'criterion': 'entropy', 'max_depth': 500, 'min_samples_leaf': 20, 'min_samples_split': 15, 'splitter': 'random'}\n",
      "0.620 (+/-0.042) for {'criterion': 'entropy', 'max_depth': 500, 'min_samples_leaf': 20, 'min_samples_split': 25, 'splitter': 'best'}\n",
      "0.640 (+/-0.046) for {'criterion': 'entropy', 'max_depth': 500, 'min_samples_leaf': 20, 'min_samples_split': 25, 'splitter': 'random'}\n",
      "0.620 (+/-0.042) for {'criterion': 'entropy', 'max_depth': 500, 'min_samples_leaf': 20, 'min_samples_split': 40, 'splitter': 'best'}\n",
      "0.640 (+/-0.046) for {'criterion': 'entropy', 'max_depth': 500, 'min_samples_leaf': 20, 'min_samples_split': 40, 'splitter': 'random'}\n",
      "0.617 (+/-0.032) for {'criterion': 'entropy', 'max_depth': 1000, 'min_samples_leaf': 1, 'min_samples_split': 2, 'splitter': 'best'}\n",
      "0.610 (+/-0.022) for {'criterion': 'entropy', 'max_depth': 1000, 'min_samples_leaf': 1, 'min_samples_split': 2, 'splitter': 'random'}\n",
      "0.621 (+/-0.034) for {'criterion': 'entropy', 'max_depth': 1000, 'min_samples_leaf': 1, 'min_samples_split': 5, 'splitter': 'best'}\n",
      "0.636 (+/-0.058) for {'criterion': 'entropy', 'max_depth': 1000, 'min_samples_leaf': 1, 'min_samples_split': 5, 'splitter': 'random'}\n",
      "0.623 (+/-0.038) for {'criterion': 'entropy', 'max_depth': 1000, 'min_samples_leaf': 1, 'min_samples_split': 10, 'splitter': 'best'}\n",
      "0.622 (+/-0.050) for {'criterion': 'entropy', 'max_depth': 1000, 'min_samples_leaf': 1, 'min_samples_split': 10, 'splitter': 'random'}\n",
      "0.625 (+/-0.062) for {'criterion': 'entropy', 'max_depth': 1000, 'min_samples_leaf': 1, 'min_samples_split': 15, 'splitter': 'best'}\n",
      "0.629 (+/-0.022) for {'criterion': 'entropy', 'max_depth': 1000, 'min_samples_leaf': 1, 'min_samples_split': 15, 'splitter': 'random'}\n",
      "0.624 (+/-0.074) for {'criterion': 'entropy', 'max_depth': 1000, 'min_samples_leaf': 1, 'min_samples_split': 25, 'splitter': 'best'}\n",
      "0.606 (+/-0.017) for {'criterion': 'entropy', 'max_depth': 1000, 'min_samples_leaf': 1, 'min_samples_split': 25, 'splitter': 'random'}\n",
      "0.626 (+/-0.064) for {'criterion': 'entropy', 'max_depth': 1000, 'min_samples_leaf': 1, 'min_samples_split': 40, 'splitter': 'best'}\n",
      "0.624 (+/-0.081) for {'criterion': 'entropy', 'max_depth': 1000, 'min_samples_leaf': 1, 'min_samples_split': 40, 'splitter': 'random'}\n",
      "0.615 (+/-0.019) for {'criterion': 'entropy', 'max_depth': 1000, 'min_samples_leaf': 2, 'min_samples_split': 2, 'splitter': 'best'}\n",
      "0.633 (+/-0.054) for {'criterion': 'entropy', 'max_depth': 1000, 'min_samples_leaf': 2, 'min_samples_split': 2, 'splitter': 'random'}\n",
      "0.619 (+/-0.044) for {'criterion': 'entropy', 'max_depth': 1000, 'min_samples_leaf': 2, 'min_samples_split': 5, 'splitter': 'best'}\n",
      "0.647 (+/-0.025) for {'criterion': 'entropy', 'max_depth': 1000, 'min_samples_leaf': 2, 'min_samples_split': 5, 'splitter': 'random'}\n",
      "0.622 (+/-0.039) for {'criterion': 'entropy', 'max_depth': 1000, 'min_samples_leaf': 2, 'min_samples_split': 10, 'splitter': 'best'}\n",
      "0.593 (+/-0.015) for {'criterion': 'entropy', 'max_depth': 1000, 'min_samples_leaf': 2, 'min_samples_split': 10, 'splitter': 'random'}\n",
      "0.627 (+/-0.059) for {'criterion': 'entropy', 'max_depth': 1000, 'min_samples_leaf': 2, 'min_samples_split': 15, 'splitter': 'best'}\n",
      "0.641 (+/-0.079) for {'criterion': 'entropy', 'max_depth': 1000, 'min_samples_leaf': 2, 'min_samples_split': 15, 'splitter': 'random'}\n",
      "0.623 (+/-0.074) for {'criterion': 'entropy', 'max_depth': 1000, 'min_samples_leaf': 2, 'min_samples_split': 25, 'splitter': 'best'}\n",
      "0.618 (+/-0.041) for {'criterion': 'entropy', 'max_depth': 1000, 'min_samples_leaf': 2, 'min_samples_split': 25, 'splitter': 'random'}\n",
      "0.622 (+/-0.073) for {'criterion': 'entropy', 'max_depth': 1000, 'min_samples_leaf': 2, 'min_samples_split': 40, 'splitter': 'best'}\n",
      "0.654 (+/-0.030) for {'criterion': 'entropy', 'max_depth': 1000, 'min_samples_leaf': 2, 'min_samples_split': 40, 'splitter': 'random'}\n",
      "0.627 (+/-0.047) for {'criterion': 'entropy', 'max_depth': 1000, 'min_samples_leaf': 5, 'min_samples_split': 2, 'splitter': 'best'}\n",
      "0.656 (+/-0.047) for {'criterion': 'entropy', 'max_depth': 1000, 'min_samples_leaf': 5, 'min_samples_split': 2, 'splitter': 'random'}\n",
      "0.627 (+/-0.047) for {'criterion': 'entropy', 'max_depth': 1000, 'min_samples_leaf': 5, 'min_samples_split': 5, 'splitter': 'best'}\n",
      "0.656 (+/-0.047) for {'criterion': 'entropy', 'max_depth': 1000, 'min_samples_leaf': 5, 'min_samples_split': 5, 'splitter': 'random'}\n",
      "0.627 (+/-0.047) for {'criterion': 'entropy', 'max_depth': 1000, 'min_samples_leaf': 5, 'min_samples_split': 10, 'splitter': 'best'}\n",
      "0.656 (+/-0.047) for {'criterion': 'entropy', 'max_depth': 1000, 'min_samples_leaf': 5, 'min_samples_split': 10, 'splitter': 'random'}\n",
      "0.626 (+/-0.048) for {'criterion': 'entropy', 'max_depth': 1000, 'min_samples_leaf': 5, 'min_samples_split': 15, 'splitter': 'best'}\n",
      "0.601 (+/-0.014) for {'criterion': 'entropy', 'max_depth': 1000, 'min_samples_leaf': 5, 'min_samples_split': 15, 'splitter': 'random'}\n",
      "0.627 (+/-0.060) for {'criterion': 'entropy', 'max_depth': 1000, 'min_samples_leaf': 5, 'min_samples_split': 25, 'splitter': 'best'}\n",
      "0.638 (+/-0.115) for {'criterion': 'entropy', 'max_depth': 1000, 'min_samples_leaf': 5, 'min_samples_split': 25, 'splitter': 'random'}\n",
      "0.628 (+/-0.060) for {'criterion': 'entropy', 'max_depth': 1000, 'min_samples_leaf': 5, 'min_samples_split': 40, 'splitter': 'best'}\n",
      "0.658 (+/-0.040) for {'criterion': 'entropy', 'max_depth': 1000, 'min_samples_leaf': 5, 'min_samples_split': 40, 'splitter': 'random'}\n",
      "0.624 (+/-0.047) for {'criterion': 'entropy', 'max_depth': 1000, 'min_samples_leaf': 10, 'min_samples_split': 2, 'splitter': 'best'}\n",
      "0.612 (+/-0.083) for {'criterion': 'entropy', 'max_depth': 1000, 'min_samples_leaf': 10, 'min_samples_split': 2, 'splitter': 'random'}\n",
      "0.624 (+/-0.047) for {'criterion': 'entropy', 'max_depth': 1000, 'min_samples_leaf': 10, 'min_samples_split': 5, 'splitter': 'best'}\n",
      "0.612 (+/-0.083) for {'criterion': 'entropy', 'max_depth': 1000, 'min_samples_leaf': 10, 'min_samples_split': 5, 'splitter': 'random'}\n",
      "0.624 (+/-0.047) for {'criterion': 'entropy', 'max_depth': 1000, 'min_samples_leaf': 10, 'min_samples_split': 10, 'splitter': 'best'}\n",
      "0.612 (+/-0.083) for {'criterion': 'entropy', 'max_depth': 1000, 'min_samples_leaf': 10, 'min_samples_split': 10, 'splitter': 'random'}\n",
      "0.624 (+/-0.047) for {'criterion': 'entropy', 'max_depth': 1000, 'min_samples_leaf': 10, 'min_samples_split': 15, 'splitter': 'best'}\n",
      "0.612 (+/-0.083) for {'criterion': 'entropy', 'max_depth': 1000, 'min_samples_leaf': 10, 'min_samples_split': 15, 'splitter': 'random'}\n",
      "0.626 (+/-0.055) for {'criterion': 'entropy', 'max_depth': 1000, 'min_samples_leaf': 10, 'min_samples_split': 25, 'splitter': 'best'}\n",
      "0.612 (+/-0.054) for {'criterion': 'entropy', 'max_depth': 1000, 'min_samples_leaf': 10, 'min_samples_split': 25, 'splitter': 'random'}\n",
      "0.633 (+/-0.071) for {'criterion': 'entropy', 'max_depth': 1000, 'min_samples_leaf': 10, 'min_samples_split': 40, 'splitter': 'best'}\n",
      "0.610 (+/-0.067) for {'criterion': 'entropy', 'max_depth': 1000, 'min_samples_leaf': 10, 'min_samples_split': 40, 'splitter': 'random'}\n",
      "0.620 (+/-0.042) for {'criterion': 'entropy', 'max_depth': 1000, 'min_samples_leaf': 20, 'min_samples_split': 2, 'splitter': 'best'}\n",
      "0.640 (+/-0.046) for {'criterion': 'entropy', 'max_depth': 1000, 'min_samples_leaf': 20, 'min_samples_split': 2, 'splitter': 'random'}\n",
      "0.620 (+/-0.042) for {'criterion': 'entropy', 'max_depth': 1000, 'min_samples_leaf': 20, 'min_samples_split': 5, 'splitter': 'best'}\n",
      "0.640 (+/-0.046) for {'criterion': 'entropy', 'max_depth': 1000, 'min_samples_leaf': 20, 'min_samples_split': 5, 'splitter': 'random'}\n",
      "0.620 (+/-0.042) for {'criterion': 'entropy', 'max_depth': 1000, 'min_samples_leaf': 20, 'min_samples_split': 10, 'splitter': 'best'}\n",
      "0.640 (+/-0.046) for {'criterion': 'entropy', 'max_depth': 1000, 'min_samples_leaf': 20, 'min_samples_split': 10, 'splitter': 'random'}\n",
      "0.620 (+/-0.042) for {'criterion': 'entropy', 'max_depth': 1000, 'min_samples_leaf': 20, 'min_samples_split': 15, 'splitter': 'best'}\n",
      "0.640 (+/-0.046) for {'criterion': 'entropy', 'max_depth': 1000, 'min_samples_leaf': 20, 'min_samples_split': 15, 'splitter': 'random'}\n",
      "0.620 (+/-0.042) for {'criterion': 'entropy', 'max_depth': 1000, 'min_samples_leaf': 20, 'min_samples_split': 25, 'splitter': 'best'}\n",
      "0.640 (+/-0.046) for {'criterion': 'entropy', 'max_depth': 1000, 'min_samples_leaf': 20, 'min_samples_split': 25, 'splitter': 'random'}\n",
      "0.620 (+/-0.042) for {'criterion': 'entropy', 'max_depth': 1000, 'min_samples_leaf': 20, 'min_samples_split': 40, 'splitter': 'best'}\n",
      "0.640 (+/-0.046) for {'criterion': 'entropy', 'max_depth': 1000, 'min_samples_leaf': 20, 'min_samples_split': 40, 'splitter': 'random'}\n",
      "0.617 (+/-0.032) for {'criterion': 'entropy', 'max_depth': 50000, 'min_samples_leaf': 1, 'min_samples_split': 2, 'splitter': 'best'}\n",
      "0.610 (+/-0.022) for {'criterion': 'entropy', 'max_depth': 50000, 'min_samples_leaf': 1, 'min_samples_split': 2, 'splitter': 'random'}\n",
      "0.621 (+/-0.034) for {'criterion': 'entropy', 'max_depth': 50000, 'min_samples_leaf': 1, 'min_samples_split': 5, 'splitter': 'best'}\n",
      "0.636 (+/-0.058) for {'criterion': 'entropy', 'max_depth': 50000, 'min_samples_leaf': 1, 'min_samples_split': 5, 'splitter': 'random'}\n",
      "0.623 (+/-0.038) for {'criterion': 'entropy', 'max_depth': 50000, 'min_samples_leaf': 1, 'min_samples_split': 10, 'splitter': 'best'}\n",
      "0.622 (+/-0.050) for {'criterion': 'entropy', 'max_depth': 50000, 'min_samples_leaf': 1, 'min_samples_split': 10, 'splitter': 'random'}\n",
      "0.625 (+/-0.062) for {'criterion': 'entropy', 'max_depth': 50000, 'min_samples_leaf': 1, 'min_samples_split': 15, 'splitter': 'best'}\n",
      "0.629 (+/-0.022) for {'criterion': 'entropy', 'max_depth': 50000, 'min_samples_leaf': 1, 'min_samples_split': 15, 'splitter': 'random'}\n",
      "0.624 (+/-0.074) for {'criterion': 'entropy', 'max_depth': 50000, 'min_samples_leaf': 1, 'min_samples_split': 25, 'splitter': 'best'}\n",
      "0.606 (+/-0.017) for {'criterion': 'entropy', 'max_depth': 50000, 'min_samples_leaf': 1, 'min_samples_split': 25, 'splitter': 'random'}\n",
      "0.626 (+/-0.064) for {'criterion': 'entropy', 'max_depth': 50000, 'min_samples_leaf': 1, 'min_samples_split': 40, 'splitter': 'best'}\n",
      "0.624 (+/-0.081) for {'criterion': 'entropy', 'max_depth': 50000, 'min_samples_leaf': 1, 'min_samples_split': 40, 'splitter': 'random'}\n",
      "0.615 (+/-0.019) for {'criterion': 'entropy', 'max_depth': 50000, 'min_samples_leaf': 2, 'min_samples_split': 2, 'splitter': 'best'}\n",
      "0.633 (+/-0.054) for {'criterion': 'entropy', 'max_depth': 50000, 'min_samples_leaf': 2, 'min_samples_split': 2, 'splitter': 'random'}\n",
      "0.619 (+/-0.044) for {'criterion': 'entropy', 'max_depth': 50000, 'min_samples_leaf': 2, 'min_samples_split': 5, 'splitter': 'best'}\n",
      "0.647 (+/-0.025) for {'criterion': 'entropy', 'max_depth': 50000, 'min_samples_leaf': 2, 'min_samples_split': 5, 'splitter': 'random'}\n",
      "0.622 (+/-0.039) for {'criterion': 'entropy', 'max_depth': 50000, 'min_samples_leaf': 2, 'min_samples_split': 10, 'splitter': 'best'}\n",
      "0.593 (+/-0.015) for {'criterion': 'entropy', 'max_depth': 50000, 'min_samples_leaf': 2, 'min_samples_split': 10, 'splitter': 'random'}\n",
      "0.627 (+/-0.059) for {'criterion': 'entropy', 'max_depth': 50000, 'min_samples_leaf': 2, 'min_samples_split': 15, 'splitter': 'best'}\n",
      "0.641 (+/-0.079) for {'criterion': 'entropy', 'max_depth': 50000, 'min_samples_leaf': 2, 'min_samples_split': 15, 'splitter': 'random'}\n",
      "0.623 (+/-0.074) for {'criterion': 'entropy', 'max_depth': 50000, 'min_samples_leaf': 2, 'min_samples_split': 25, 'splitter': 'best'}\n",
      "0.618 (+/-0.041) for {'criterion': 'entropy', 'max_depth': 50000, 'min_samples_leaf': 2, 'min_samples_split': 25, 'splitter': 'random'}\n",
      "0.622 (+/-0.073) for {'criterion': 'entropy', 'max_depth': 50000, 'min_samples_leaf': 2, 'min_samples_split': 40, 'splitter': 'best'}\n",
      "0.654 (+/-0.030) for {'criterion': 'entropy', 'max_depth': 50000, 'min_samples_leaf': 2, 'min_samples_split': 40, 'splitter': 'random'}\n",
      "0.627 (+/-0.047) for {'criterion': 'entropy', 'max_depth': 50000, 'min_samples_leaf': 5, 'min_samples_split': 2, 'splitter': 'best'}\n",
      "0.656 (+/-0.047) for {'criterion': 'entropy', 'max_depth': 50000, 'min_samples_leaf': 5, 'min_samples_split': 2, 'splitter': 'random'}\n",
      "0.627 (+/-0.047) for {'criterion': 'entropy', 'max_depth': 50000, 'min_samples_leaf': 5, 'min_samples_split': 5, 'splitter': 'best'}\n",
      "0.656 (+/-0.047) for {'criterion': 'entropy', 'max_depth': 50000, 'min_samples_leaf': 5, 'min_samples_split': 5, 'splitter': 'random'}\n",
      "0.627 (+/-0.047) for {'criterion': 'entropy', 'max_depth': 50000, 'min_samples_leaf': 5, 'min_samples_split': 10, 'splitter': 'best'}\n",
      "0.656 (+/-0.047) for {'criterion': 'entropy', 'max_depth': 50000, 'min_samples_leaf': 5, 'min_samples_split': 10, 'splitter': 'random'}\n",
      "0.626 (+/-0.048) for {'criterion': 'entropy', 'max_depth': 50000, 'min_samples_leaf': 5, 'min_samples_split': 15, 'splitter': 'best'}\n",
      "0.601 (+/-0.014) for {'criterion': 'entropy', 'max_depth': 50000, 'min_samples_leaf': 5, 'min_samples_split': 15, 'splitter': 'random'}\n",
      "0.627 (+/-0.060) for {'criterion': 'entropy', 'max_depth': 50000, 'min_samples_leaf': 5, 'min_samples_split': 25, 'splitter': 'best'}\n",
      "0.638 (+/-0.115) for {'criterion': 'entropy', 'max_depth': 50000, 'min_samples_leaf': 5, 'min_samples_split': 25, 'splitter': 'random'}\n",
      "0.628 (+/-0.060) for {'criterion': 'entropy', 'max_depth': 50000, 'min_samples_leaf': 5, 'min_samples_split': 40, 'splitter': 'best'}\n",
      "0.658 (+/-0.040) for {'criterion': 'entropy', 'max_depth': 50000, 'min_samples_leaf': 5, 'min_samples_split': 40, 'splitter': 'random'}\n",
      "0.624 (+/-0.047) for {'criterion': 'entropy', 'max_depth': 50000, 'min_samples_leaf': 10, 'min_samples_split': 2, 'splitter': 'best'}\n",
      "0.612 (+/-0.083) for {'criterion': 'entropy', 'max_depth': 50000, 'min_samples_leaf': 10, 'min_samples_split': 2, 'splitter': 'random'}\n",
      "0.624 (+/-0.047) for {'criterion': 'entropy', 'max_depth': 50000, 'min_samples_leaf': 10, 'min_samples_split': 5, 'splitter': 'best'}\n",
      "0.612 (+/-0.083) for {'criterion': 'entropy', 'max_depth': 50000, 'min_samples_leaf': 10, 'min_samples_split': 5, 'splitter': 'random'}\n",
      "0.624 (+/-0.047) for {'criterion': 'entropy', 'max_depth': 50000, 'min_samples_leaf': 10, 'min_samples_split': 10, 'splitter': 'best'}\n",
      "0.612 (+/-0.083) for {'criterion': 'entropy', 'max_depth': 50000, 'min_samples_leaf': 10, 'min_samples_split': 10, 'splitter': 'random'}\n",
      "0.624 (+/-0.047) for {'criterion': 'entropy', 'max_depth': 50000, 'min_samples_leaf': 10, 'min_samples_split': 15, 'splitter': 'best'}\n",
      "0.612 (+/-0.083) for {'criterion': 'entropy', 'max_depth': 50000, 'min_samples_leaf': 10, 'min_samples_split': 15, 'splitter': 'random'}\n",
      "0.626 (+/-0.055) for {'criterion': 'entropy', 'max_depth': 50000, 'min_samples_leaf': 10, 'min_samples_split': 25, 'splitter': 'best'}\n",
      "0.612 (+/-0.054) for {'criterion': 'entropy', 'max_depth': 50000, 'min_samples_leaf': 10, 'min_samples_split': 25, 'splitter': 'random'}\n",
      "0.633 (+/-0.071) for {'criterion': 'entropy', 'max_depth': 50000, 'min_samples_leaf': 10, 'min_samples_split': 40, 'splitter': 'best'}\n",
      "0.610 (+/-0.067) for {'criterion': 'entropy', 'max_depth': 50000, 'min_samples_leaf': 10, 'min_samples_split': 40, 'splitter': 'random'}\n",
      "0.620 (+/-0.042) for {'criterion': 'entropy', 'max_depth': 50000, 'min_samples_leaf': 20, 'min_samples_split': 2, 'splitter': 'best'}\n",
      "0.640 (+/-0.046) for {'criterion': 'entropy', 'max_depth': 50000, 'min_samples_leaf': 20, 'min_samples_split': 2, 'splitter': 'random'}\n",
      "0.620 (+/-0.042) for {'criterion': 'entropy', 'max_depth': 50000, 'min_samples_leaf': 20, 'min_samples_split': 5, 'splitter': 'best'}\n",
      "0.640 (+/-0.046) for {'criterion': 'entropy', 'max_depth': 50000, 'min_samples_leaf': 20, 'min_samples_split': 5, 'splitter': 'random'}\n",
      "0.620 (+/-0.042) for {'criterion': 'entropy', 'max_depth': 50000, 'min_samples_leaf': 20, 'min_samples_split': 10, 'splitter': 'best'}\n",
      "0.640 (+/-0.046) for {'criterion': 'entropy', 'max_depth': 50000, 'min_samples_leaf': 20, 'min_samples_split': 10, 'splitter': 'random'}\n",
      "0.620 (+/-0.042) for {'criterion': 'entropy', 'max_depth': 50000, 'min_samples_leaf': 20, 'min_samples_split': 15, 'splitter': 'best'}\n",
      "0.640 (+/-0.046) for {'criterion': 'entropy', 'max_depth': 50000, 'min_samples_leaf': 20, 'min_samples_split': 15, 'splitter': 'random'}\n",
      "0.620 (+/-0.042) for {'criterion': 'entropy', 'max_depth': 50000, 'min_samples_leaf': 20, 'min_samples_split': 25, 'splitter': 'best'}\n",
      "0.640 (+/-0.046) for {'criterion': 'entropy', 'max_depth': 50000, 'min_samples_leaf': 20, 'min_samples_split': 25, 'splitter': 'random'}\n",
      "0.620 (+/-0.042) for {'criterion': 'entropy', 'max_depth': 50000, 'min_samples_leaf': 20, 'min_samples_split': 40, 'splitter': 'best'}\n",
      "0.640 (+/-0.046) for {'criterion': 'entropy', 'max_depth': 50000, 'min_samples_leaf': 20, 'min_samples_split': 40, 'splitter': 'random'}\n",
      "0.617 (+/-0.032) for {'criterion': 'entropy', 'max_depth': 10000, 'min_samples_leaf': 1, 'min_samples_split': 2, 'splitter': 'best'}\n",
      "0.610 (+/-0.022) for {'criterion': 'entropy', 'max_depth': 10000, 'min_samples_leaf': 1, 'min_samples_split': 2, 'splitter': 'random'}\n",
      "0.621 (+/-0.034) for {'criterion': 'entropy', 'max_depth': 10000, 'min_samples_leaf': 1, 'min_samples_split': 5, 'splitter': 'best'}\n",
      "0.636 (+/-0.058) for {'criterion': 'entropy', 'max_depth': 10000, 'min_samples_leaf': 1, 'min_samples_split': 5, 'splitter': 'random'}\n",
      "0.623 (+/-0.038) for {'criterion': 'entropy', 'max_depth': 10000, 'min_samples_leaf': 1, 'min_samples_split': 10, 'splitter': 'best'}\n",
      "0.622 (+/-0.050) for {'criterion': 'entropy', 'max_depth': 10000, 'min_samples_leaf': 1, 'min_samples_split': 10, 'splitter': 'random'}\n",
      "0.625 (+/-0.062) for {'criterion': 'entropy', 'max_depth': 10000, 'min_samples_leaf': 1, 'min_samples_split': 15, 'splitter': 'best'}\n",
      "0.629 (+/-0.022) for {'criterion': 'entropy', 'max_depth': 10000, 'min_samples_leaf': 1, 'min_samples_split': 15, 'splitter': 'random'}\n",
      "0.624 (+/-0.074) for {'criterion': 'entropy', 'max_depth': 10000, 'min_samples_leaf': 1, 'min_samples_split': 25, 'splitter': 'best'}\n",
      "0.606 (+/-0.017) for {'criterion': 'entropy', 'max_depth': 10000, 'min_samples_leaf': 1, 'min_samples_split': 25, 'splitter': 'random'}\n",
      "0.626 (+/-0.064) for {'criterion': 'entropy', 'max_depth': 10000, 'min_samples_leaf': 1, 'min_samples_split': 40, 'splitter': 'best'}\n",
      "0.624 (+/-0.081) for {'criterion': 'entropy', 'max_depth': 10000, 'min_samples_leaf': 1, 'min_samples_split': 40, 'splitter': 'random'}\n",
      "0.615 (+/-0.019) for {'criterion': 'entropy', 'max_depth': 10000, 'min_samples_leaf': 2, 'min_samples_split': 2, 'splitter': 'best'}\n",
      "0.633 (+/-0.054) for {'criterion': 'entropy', 'max_depth': 10000, 'min_samples_leaf': 2, 'min_samples_split': 2, 'splitter': 'random'}\n",
      "0.619 (+/-0.044) for {'criterion': 'entropy', 'max_depth': 10000, 'min_samples_leaf': 2, 'min_samples_split': 5, 'splitter': 'best'}\n",
      "0.647 (+/-0.025) for {'criterion': 'entropy', 'max_depth': 10000, 'min_samples_leaf': 2, 'min_samples_split': 5, 'splitter': 'random'}\n",
      "0.622 (+/-0.039) for {'criterion': 'entropy', 'max_depth': 10000, 'min_samples_leaf': 2, 'min_samples_split': 10, 'splitter': 'best'}\n",
      "0.593 (+/-0.015) for {'criterion': 'entropy', 'max_depth': 10000, 'min_samples_leaf': 2, 'min_samples_split': 10, 'splitter': 'random'}\n",
      "0.627 (+/-0.059) for {'criterion': 'entropy', 'max_depth': 10000, 'min_samples_leaf': 2, 'min_samples_split': 15, 'splitter': 'best'}\n",
      "0.641 (+/-0.079) for {'criterion': 'entropy', 'max_depth': 10000, 'min_samples_leaf': 2, 'min_samples_split': 15, 'splitter': 'random'}\n",
      "0.623 (+/-0.074) for {'criterion': 'entropy', 'max_depth': 10000, 'min_samples_leaf': 2, 'min_samples_split': 25, 'splitter': 'best'}\n",
      "0.618 (+/-0.041) for {'criterion': 'entropy', 'max_depth': 10000, 'min_samples_leaf': 2, 'min_samples_split': 25, 'splitter': 'random'}\n",
      "0.622 (+/-0.073) for {'criterion': 'entropy', 'max_depth': 10000, 'min_samples_leaf': 2, 'min_samples_split': 40, 'splitter': 'best'}\n",
      "0.654 (+/-0.030) for {'criterion': 'entropy', 'max_depth': 10000, 'min_samples_leaf': 2, 'min_samples_split': 40, 'splitter': 'random'}\n",
      "0.627 (+/-0.047) for {'criterion': 'entropy', 'max_depth': 10000, 'min_samples_leaf': 5, 'min_samples_split': 2, 'splitter': 'best'}\n",
      "0.656 (+/-0.047) for {'criterion': 'entropy', 'max_depth': 10000, 'min_samples_leaf': 5, 'min_samples_split': 2, 'splitter': 'random'}\n",
      "0.627 (+/-0.047) for {'criterion': 'entropy', 'max_depth': 10000, 'min_samples_leaf': 5, 'min_samples_split': 5, 'splitter': 'best'}\n",
      "0.656 (+/-0.047) for {'criterion': 'entropy', 'max_depth': 10000, 'min_samples_leaf': 5, 'min_samples_split': 5, 'splitter': 'random'}\n",
      "0.627 (+/-0.047) for {'criterion': 'entropy', 'max_depth': 10000, 'min_samples_leaf': 5, 'min_samples_split': 10, 'splitter': 'best'}\n",
      "0.656 (+/-0.047) for {'criterion': 'entropy', 'max_depth': 10000, 'min_samples_leaf': 5, 'min_samples_split': 10, 'splitter': 'random'}\n",
      "0.626 (+/-0.048) for {'criterion': 'entropy', 'max_depth': 10000, 'min_samples_leaf': 5, 'min_samples_split': 15, 'splitter': 'best'}\n",
      "0.601 (+/-0.014) for {'criterion': 'entropy', 'max_depth': 10000, 'min_samples_leaf': 5, 'min_samples_split': 15, 'splitter': 'random'}\n",
      "0.627 (+/-0.060) for {'criterion': 'entropy', 'max_depth': 10000, 'min_samples_leaf': 5, 'min_samples_split': 25, 'splitter': 'best'}\n",
      "0.638 (+/-0.115) for {'criterion': 'entropy', 'max_depth': 10000, 'min_samples_leaf': 5, 'min_samples_split': 25, 'splitter': 'random'}\n",
      "0.628 (+/-0.060) for {'criterion': 'entropy', 'max_depth': 10000, 'min_samples_leaf': 5, 'min_samples_split': 40, 'splitter': 'best'}\n",
      "0.658 (+/-0.040) for {'criterion': 'entropy', 'max_depth': 10000, 'min_samples_leaf': 5, 'min_samples_split': 40, 'splitter': 'random'}\n",
      "0.624 (+/-0.047) for {'criterion': 'entropy', 'max_depth': 10000, 'min_samples_leaf': 10, 'min_samples_split': 2, 'splitter': 'best'}\n",
      "0.612 (+/-0.083) for {'criterion': 'entropy', 'max_depth': 10000, 'min_samples_leaf': 10, 'min_samples_split': 2, 'splitter': 'random'}\n",
      "0.624 (+/-0.047) for {'criterion': 'entropy', 'max_depth': 10000, 'min_samples_leaf': 10, 'min_samples_split': 5, 'splitter': 'best'}\n",
      "0.612 (+/-0.083) for {'criterion': 'entropy', 'max_depth': 10000, 'min_samples_leaf': 10, 'min_samples_split': 5, 'splitter': 'random'}\n",
      "0.624 (+/-0.047) for {'criterion': 'entropy', 'max_depth': 10000, 'min_samples_leaf': 10, 'min_samples_split': 10, 'splitter': 'best'}\n",
      "0.612 (+/-0.083) for {'criterion': 'entropy', 'max_depth': 10000, 'min_samples_leaf': 10, 'min_samples_split': 10, 'splitter': 'random'}\n",
      "0.624 (+/-0.047) for {'criterion': 'entropy', 'max_depth': 10000, 'min_samples_leaf': 10, 'min_samples_split': 15, 'splitter': 'best'}\n",
      "0.612 (+/-0.083) for {'criterion': 'entropy', 'max_depth': 10000, 'min_samples_leaf': 10, 'min_samples_split': 15, 'splitter': 'random'}\n",
      "0.626 (+/-0.055) for {'criterion': 'entropy', 'max_depth': 10000, 'min_samples_leaf': 10, 'min_samples_split': 25, 'splitter': 'best'}\n",
      "0.612 (+/-0.054) for {'criterion': 'entropy', 'max_depth': 10000, 'min_samples_leaf': 10, 'min_samples_split': 25, 'splitter': 'random'}\n",
      "0.633 (+/-0.071) for {'criterion': 'entropy', 'max_depth': 10000, 'min_samples_leaf': 10, 'min_samples_split': 40, 'splitter': 'best'}\n",
      "0.610 (+/-0.067) for {'criterion': 'entropy', 'max_depth': 10000, 'min_samples_leaf': 10, 'min_samples_split': 40, 'splitter': 'random'}\n",
      "0.620 (+/-0.042) for {'criterion': 'entropy', 'max_depth': 10000, 'min_samples_leaf': 20, 'min_samples_split': 2, 'splitter': 'best'}\n",
      "0.640 (+/-0.046) for {'criterion': 'entropy', 'max_depth': 10000, 'min_samples_leaf': 20, 'min_samples_split': 2, 'splitter': 'random'}\n",
      "0.620 (+/-0.042) for {'criterion': 'entropy', 'max_depth': 10000, 'min_samples_leaf': 20, 'min_samples_split': 5, 'splitter': 'best'}\n",
      "0.640 (+/-0.046) for {'criterion': 'entropy', 'max_depth': 10000, 'min_samples_leaf': 20, 'min_samples_split': 5, 'splitter': 'random'}\n",
      "0.620 (+/-0.042) for {'criterion': 'entropy', 'max_depth': 10000, 'min_samples_leaf': 20, 'min_samples_split': 10, 'splitter': 'best'}\n",
      "0.640 (+/-0.046) for {'criterion': 'entropy', 'max_depth': 10000, 'min_samples_leaf': 20, 'min_samples_split': 10, 'splitter': 'random'}\n",
      "0.620 (+/-0.042) for {'criterion': 'entropy', 'max_depth': 10000, 'min_samples_leaf': 20, 'min_samples_split': 15, 'splitter': 'best'}\n",
      "0.640 (+/-0.046) for {'criterion': 'entropy', 'max_depth': 10000, 'min_samples_leaf': 20, 'min_samples_split': 15, 'splitter': 'random'}\n",
      "0.620 (+/-0.042) for {'criterion': 'entropy', 'max_depth': 10000, 'min_samples_leaf': 20, 'min_samples_split': 25, 'splitter': 'best'}\n",
      "0.640 (+/-0.046) for {'criterion': 'entropy', 'max_depth': 10000, 'min_samples_leaf': 20, 'min_samples_split': 25, 'splitter': 'random'}\n",
      "0.620 (+/-0.042) for {'criterion': 'entropy', 'max_depth': 10000, 'min_samples_leaf': 20, 'min_samples_split': 40, 'splitter': 'best'}\n",
      "0.640 (+/-0.046) for {'criterion': 'entropy', 'max_depth': 10000, 'min_samples_leaf': 20, 'min_samples_split': 40, 'splitter': 'random'}\n",
      "\n",
      "Detailed classification report:\n",
      "\n",
      "The model is trained on the full training set.\n",
      "The scores are computed on the full development set.\n",
      "\n",
      "              precision    recall  f1-score   support\n",
      "\n",
      "           1       0.99      0.99      0.99       894\n",
      "           2       0.95      0.97      0.96       882\n",
      "           3       0.94      0.95      0.95       878\n",
      "           4       0.77      0.78      0.77       881\n",
      "           5       0.94      0.97      0.95       884\n",
      "           6       0.89      0.83      0.86       895\n",
      "           7       0.80      0.83      0.82       878\n",
      "           8       0.99      0.95      0.97       848\n",
      "\n",
      "    accuracy                           0.91      7040\n",
      "   macro avg       0.91      0.91      0.91      7040\n",
      "weighted avg       0.91      0.91      0.91      7040\n",
      "\n",
      "\n"
     ]
    }
   ],
   "source": [
    "from sklearn.model_selection import GridSearchCV\n",
    "from sklearn.metrics import classification_report\n",
    "from sklearn.tree import DecisionTreeClassifier\n",
    "\n",
    "# Set the parameters by cross-validation\n",
    "tuned_parameters = [{\"criterion\":[\"gini\",\"entropy\"],\"splitter\":[\"best\",\"random\"],\"max_depth\":[10,100,500,1000,50000,10000],\n",
    "                    \"min_samples_split\": [2,5,10,15,25,40] , \"min_samples_leaf\":[1,2,5,10,20]}]\n",
    "             \n",
    "\n",
    "print(\"# Tuning hyper-parameters for Decision Tree Classifier\")\n",
    "print()\n",
    "\n",
    "clf = GridSearchCV(DecisionTreeClassifier(random_state=0), tuned_parameters, scoring='accuracy', cv = 2)\n",
    "\n",
    "clf.fit(X_train, y_train)\n",
    "\n",
    "print(\"Best parameters set found on training set:\")\n",
    "print()\n",
    "print(clf.best_params_)\n",
    "print()\n",
    "print(\"Grid scores on training set:\")\n",
    "print()\n",
    "means = clf.cv_results_['mean_test_score']\n",
    "stds = clf.cv_results_['std_test_score']\n",
    "for mean, std, params in zip(means, stds, clf.cv_results_['params']):\n",
    "    print(\"%0.3f (+/-%0.03f) for %r\"\n",
    "            % (mean, std * 2, params))\n",
    "print()\n",
    "\n",
    "print(\"Detailed classification report:\")\n",
    "print()\n",
    "print(\"The model is trained on the full training set.\")\n",
    "print(\"The scores are computed on the full development set.\")\n",
    "print()\n",
    "y_true, y_pred = y_dev, clf.predict(X_dev)\n",
    "print(classification_report(y_true, y_pred))\n",
    "print()"
   ]
  },
  {
   "cell_type": "markdown",
   "metadata": {},
   "source": [
    "# Training the Model with tuned parameters"
   ]
  },
  {
   "cell_type": "code",
   "execution_count": 45,
   "metadata": {},
   "outputs": [
    {
     "data": {
      "text/plain": [
       "DecisionTreeClassifier(ccp_alpha=0.0, class_weight=None, criterion='gini',\n",
       "                       max_depth=100, max_features=None, max_leaf_nodes=None,\n",
       "                       min_impurity_decrease=0.0, min_impurity_split=None,\n",
       "                       min_samples_leaf=1, min_samples_split=2,\n",
       "                       min_weight_fraction_leaf=0.0, presort='deprecated',\n",
       "                       random_state=0, splitter='random')"
      ]
     },
     "execution_count": 45,
     "metadata": {},
     "output_type": "execute_result"
    }
   ],
   "source": [
    "from sklearn.tree import DecisionTreeClassifier\n",
    "# Training the Decision Tree classfication model on the Training set\n",
    "classifier_dt = DecisionTreeClassifier(criterion = 'gini', max_depth = 100, min_samples_leaf=1, min_samples_split=2, \n",
    "                                       splitter = 'random', random_state= 0)\n",
    "# fitting the model\n",
    "classifier_dt.fit(X_train_ovr,y_train_ovr)"
   ]
  },
  {
   "cell_type": "markdown",
   "metadata": {},
   "source": [
    "# Predicting results for Test set"
   ]
  },
  {
   "cell_type": "code",
   "execution_count": 46,
   "metadata": {},
   "outputs": [],
   "source": [
    "# Predicting the Test set results\n",
    "y_results_dt = classifier_dt.predict(X_test)"
   ]
  },
  {
   "cell_type": "code",
   "execution_count": 47,
   "metadata": {},
   "outputs": [
    {
     "name": "stdout",
     "output_type": "stream",
     "text": [
      "[[1 1]\n",
      " [1 1]\n",
      " [1 1]\n",
      " ...\n",
      " [8 8]\n",
      " [8 8]\n",
      " [8 8]]\n"
     ]
    }
   ],
   "source": [
    "print(np.concatenate((y_results_dt.reshape(len(y_results_dt),1), y_test.reshape(len(y_test),1)),1))"
   ]
  },
  {
   "cell_type": "markdown",
   "metadata": {},
   "source": [
    "# Model Evaluation"
   ]
  },
  {
   "cell_type": "code",
   "execution_count": 48,
   "metadata": {},
   "outputs": [
    {
     "data": {
      "text/plain": [
       "<matplotlib.axes._subplots.AxesSubplot at 0x1774589d108>"
      ]
     },
     "execution_count": 48,
     "metadata": {},
     "output_type": "execute_result"
    },
    {
     "data": {
      "image/png": "[encoded data removed]",
      "text/plain": [
       "<Figure size 720x576 with 2 Axes>"
      ]
     },
     "metadata": {
      "needs_background": "light"
     },
     "output_type": "display_data"
    }
   ],
   "source": [
    "#Model Evalation For Logistic Regression Classification Model\n",
    "from sklearn.metrics import confusion_matrix\n",
    "    \n",
    "#confusion matrix\n",
    "\n",
    "cm_dt = confusion_matrix(y_test, y_results_dt)\n",
    "array = cm_dt \n",
    "df_cm = pd.DataFrame(array, index = [i for i in \"12345678\"],\n",
    "                  columns = [i for i in \"12345678\"])\n",
    "plt.figure(figsize = (10,8))\n",
    "sn.heatmap(df_cm, annot=True)"
   ]
  },
  {
   "cell_type": "code",
   "execution_count": 49,
   "metadata": {},
   "outputs": [
    {
     "name": "stdout",
     "output_type": "stream",
     "text": [
      "accuracy:0.934375\n",
      "f1_score:0.9343210604517996\n",
      "recall_score:0.934375\n",
      "precision_score:0.934375\n"
     ]
    }
   ],
   "source": [
    "#accuracy_score, f1_score, recall_score,precision_score metrics\n",
    "from sklearn.metrics import accuracy_score, f1_score, recall_score,precision_score\n",
    "#accuracy\n",
    "accuracy_dt = accuracy_score(y_test, y_results_dt)\n",
    "print(\"accuracy:{}\".format(accuracy_dt))\n",
    "#F1 score    \n",
    "f1_score_dt = f1_score(y_test, y_results_dt, average='weighted')\n",
    "print(\"f1_score:{}\".format(f1_score_dt))\n",
    "#Recall score\n",
    "recall_score_dt = recall_score(y_test, y_results_dt, average='micro')\n",
    "print(\"recall_score:{}\".format(recall_score_dt))\n",
    "#Precision score\n",
    "precision_score_dt = precision_score(y_test, y_results_dt, average='micro')\n",
    "print(\"precision_score:{}\".format(precision_score_dt))"
   ]
  },
  {
   "cell_type": "code",
   "execution_count": 50,
   "metadata": {},
   "outputs": [
    {
     "name": "stdout",
     "output_type": "stream",
     "text": [
      "              precision    recall  f1-score   support\n",
      "\n",
      "           1  0.99541284 0.98748578 0.99143347       879\n",
      "           2  0.96509009 0.96509009 0.96509009       888\n",
      "           3  0.95715896 0.96697039 0.96203966       878\n",
      "           4  0.87315968 0.85953177 0.86629213       897\n",
      "           5  0.96058559 0.97597254 0.96821793       874\n",
      "           6  0.90104773 0.87655719 0.88863375       883\n",
      "           7  0.83877996 0.85746102 0.84801762       898\n",
      "           8  0.98934911 0.99169632 0.99052133       843\n",
      "\n",
      "    accuracy                      0.93437500      7040\n",
      "   macro avg  0.93507300 0.93509564 0.93503075      7040\n",
      "weighted avg  0.93437505 0.93437500 0.93432106      7040\n",
      "\n"
     ]
    }
   ],
   "source": [
    "#Classification report\n",
    "from sklearn import metrics\n",
    "print(metrics.classification_report(y_test, y_results_dt, digits = 8))"
   ]
  },
  {
   "cell_type": "code",
   "execution_count": null,
   "metadata": {},
   "outputs": [],
   "source": []
  },
  {
   "cell_type": "markdown",
   "metadata": {},
   "source": [
    "# 6.Random Forest Classifier:"
   ]
  },
  {
   "cell_type": "markdown",
   "metadata": {},
   "source": [
    "# MODEL TUNING"
   ]
  },
  {
   "cell_type": "code",
   "execution_count": null,
   "metadata": {},
   "outputs": [],
   "source": [
    "from sklearn.model_selection import GridSearchCV\n",
    "from sklearn.metrics import classification_report\n",
    "from sklearn.ensemble import RandomForestClassifier\n",
    "\n",
    "# Set the parameters by cross-validation\n",
    "tuned_parameters = [{\"criterion\":[\"gini\",\"entropy\"],\n",
    "               'max_depth': [80,  100, 120]}]\n",
    "               #'n_estimators': [100, 200, 500, 1000, 2000]}]\n",
    "             \n",
    "\n",
    "print(\"# Tuning hyper-parameters for Random Forest Classifier\")\n",
    "print()\n",
    "\n",
    "clf = GridSearchCV(RandomForestClassifier(random_state=0), tuned_parameters, scoring='accuracy', cv = 2)\n",
    "\n",
    "clf.fit(X_train, y_train)\n",
    "\n",
    "print(\"Best parameters set found on training set:\")\n",
    "print()\n",
    "print(clf.best_params_)\n",
    "print()\n",
    "print(\"Grid scores on training set:\")\n",
    "print()\n",
    "means = clf.cv_results_['mean_test_score']\n",
    "stds = clf.cv_results_['std_test_score']\n",
    "for mean, std, params in zip(means, stds, clf.cv_results_['params']):\n",
    "    print(\"%0.3f (+/-%0.03f) for %r\"\n",
    "            % (mean, std * 2, params))\n",
    "print()\n",
    "\n",
    "print(\"Detailed classification report:\")\n",
    "print()\n",
    "print(\"The model is trained on the full training set.\")\n",
    "print(\"The scores are computed on the full development set.\")\n",
    "print()\n",
    "y_true, y_pred = y_dev, clf.predict(X_dev)\n",
    "print(classification_report(y_true, y_pred))\n",
    "print()"
   ]
  },
  {
   "cell_type": "markdown",
   "metadata": {},
   "source": [
    "# Training the Model with tuned parameters"
   ]
  },
  {
   "cell_type": "code",
   "execution_count": 51,
   "metadata": {},
   "outputs": [
    {
     "data": {
      "text/plain": [
       "RandomForestClassifier(bootstrap=True, ccp_alpha=0.0, class_weight=None,\n",
       "                       criterion='gini', max_depth=80, max_features='log2',\n",
       "                       max_leaf_nodes=None, max_samples=None,\n",
       "                       min_impurity_decrease=0.0, min_impurity_split=None,\n",
       "                       min_samples_leaf=1, min_samples_split=2,\n",
       "                       min_weight_fraction_leaf=0.0, n_estimators=500,\n",
       "                       n_jobs=None, oob_score=False, random_state=0, verbose=0,\n",
       "                       warm_start=False)"
      ]
     },
     "execution_count": 51,
     "metadata": {},
     "output_type": "execute_result"
    }
   ],
   "source": [
    "from sklearn.ensemble import RandomForestClassifier\n",
    "# Training the random forest classfication model on the Training set\n",
    "classifier_rf = RandomForestClassifier(random_state=0,criterion = 'gini', max_depth = 80, \n",
    "                                       max_features = 'log2', n_estimators = 500)\n",
    "# fitting the model\n",
    "classifier_rf.fit(X_train_ovr,y_train_ovr)"
   ]
  },
  {
   "cell_type": "markdown",
   "metadata": {},
   "source": [
    "# Predicting results for Test set"
   ]
  },
  {
   "cell_type": "code",
   "execution_count": 52,
   "metadata": {},
   "outputs": [],
   "source": [
    "# Predicting the Test set results\n",
    "y_results_rf = classifier_rf.predict(X_test)"
   ]
  },
  {
   "cell_type": "code",
   "execution_count": 53,
   "metadata": {},
   "outputs": [
    {
     "name": "stdout",
     "output_type": "stream",
     "text": [
      "[[1 1]\n",
      " [1 1]\n",
      " [1 1]\n",
      " ...\n",
      " [8 8]\n",
      " [8 8]\n",
      " [8 8]]\n"
     ]
    }
   ],
   "source": [
    "print(np.concatenate((y_results_rf.reshape(len(y_results_rf),1), y_test.reshape(len(y_test),1)),1))"
   ]
  },
  {
   "cell_type": "markdown",
   "metadata": {},
   "source": [
    "# Model Evaluation"
   ]
  },
  {
   "cell_type": "code",
   "execution_count": 54,
   "metadata": {},
   "outputs": [
    {
     "data": {
      "text/plain": [
       "<matplotlib.axes._subplots.AxesSubplot at 0x17747c6b708>"
      ]
     },
     "execution_count": 54,
     "metadata": {},
     "output_type": "execute_result"
    },
    {
     "data": {
      "image/png": "[encoded data removed]",
      "text/plain": [
       "<Figure size 720x576 with 2 Axes>"
      ]
     },
     "metadata": {
      "needs_background": "light"
     },
     "output_type": "display_data"
    }
   ],
   "source": [
    "#Model Evalation For Logistic Regression Classification Model\n",
    "from sklearn.metrics import confusion_matrix\n",
    "    \n",
    "#confusion matrix\n",
    "\n",
    "cm_rf = confusion_matrix(y_test, y_results_rf)\n",
    "array = cm_rf \n",
    "df_cm = pd.DataFrame(array, index = [i for i in \"12345678\"],\n",
    "                  columns = [i for i in \"12345678\"])\n",
    "plt.figure(figsize = (10,8))\n",
    "sn.heatmap(df_cm, annot=True)"
   ]
  },
  {
   "cell_type": "code",
   "execution_count": 55,
   "metadata": {},
   "outputs": [
    {
     "name": "stdout",
     "output_type": "stream",
     "text": [
      "accuracy:0.9832386363636364\n",
      "f1_score:0.9831764040163682\n",
      "recall_score:0.9832386363636364\n",
      "precision_score:0.9832386363636364\n"
     ]
    }
   ],
   "source": [
    "#accuracy_score, f1_score, recall_score,precision_score metrics\n",
    "from sklearn.metrics import accuracy_score, f1_score, recall_score,precision_score\n",
    "#accuracy\n",
    "accuracy_rf = accuracy_score(y_test, y_results_rf)\n",
    "print(\"accuracy:{}\".format(accuracy_rf))\n",
    "#F1 score    \n",
    "f1_score_rf = f1_score(y_test, y_results_rf, average='weighted')\n",
    "print(\"f1_score:{}\".format(f1_score_rf))\n",
    "#Recall score\n",
    "recall_score_rf = recall_score(y_test, y_results_rf, average='micro')\n",
    "print(\"recall_score:{}\".format(recall_score_rf))\n",
    "#Precision score\n",
    "precision_score_rf = precision_score(y_test, y_results_rf, average='micro')\n",
    "print(\"precision_score:{}\".format(precision_score_rf))"
   ]
  },
  {
   "cell_type": "code",
   "execution_count": 56,
   "metadata": {},
   "outputs": [
    {
     "name": "stdout",
     "output_type": "stream",
     "text": [
      "              precision    recall  f1-score   support\n",
      "\n",
      "           1  0.99886364 1.00000000 0.99943150       879\n",
      "           2  0.99440090 1.00000000 0.99719259       888\n",
      "           3  0.99206349 0.99658314 0.99431818       878\n",
      "           4  0.95932203 0.94648829 0.95286195       897\n",
      "           5  0.99318182 1.00000000 0.99657925       874\n",
      "           6  0.97966102 0.98187995 0.98076923       883\n",
      "           7  0.95280899 0.94432071 0.94854586       898\n",
      "           8  0.99644970 0.99881376 0.99763033       843\n",
      "\n",
      "    accuracy                      0.98323864      7040\n",
      "   macro avg  0.98334395 0.98351073 0.98341611      7040\n",
      "weighted avg  0.98313692 0.98323864 0.98317640      7040\n",
      "\n"
     ]
    }
   ],
   "source": [
    "#Classification report\n",
    "from sklearn import metrics\n",
    "print(metrics.classification_report(y_test, y_results_rf, digits = 8))"
   ]
  },
  {
   "cell_type": "code",
   "execution_count": null,
   "metadata": {},
   "outputs": [],
   "source": []
  },
  {
   "cell_type": "markdown",
   "metadata": {},
   "source": [
    "# 7.Extra Trees"
   ]
  },
  {
   "cell_type": "markdown",
   "metadata": {},
   "source": [
    "# MODEL TUNING"
   ]
  },
  {
   "cell_type": "code",
   "execution_count": null,
   "metadata": {},
   "outputs": [],
   "source": [
    "from sklearn.model_selection import GridSearchCV\n",
    "from sklearn.metrics import classification_report\n",
    "from sklearn.ensemble import ExtraTreesClassifier\n",
    "\n",
    "# Set the parameters by cross-validation\n",
    "tuned_parameters = [ {'criterion': [\"gini\"],\n",
    "    'max_depth': [80, 100, 120],\n",
    "    'max_features': [\"auto\",\"log2\",\"sqrt\"],\n",
    "    'n_estimators': [100, 200, 500, 1000]}]\n",
    "             \n",
    "\n",
    "print(\"# Tuning hyper-parameters for Extra Trees Classifier\")\n",
    "print()\n",
    "\n",
    "clf = GridSearchCV(ExtraTreesClassifier(random_state=0), tuned_parameters, scoring='accuracy', cv = 2)\n",
    "\n",
    "clf.fit(X_train, y_train)\n",
    "\n",
    "print(\"Best parameters set found on training set:\")\n",
    "print()\n",
    "print(clf.best_params_)\n",
    "print()\n",
    "print(\"Grid scores on training set:\")\n",
    "print()\n",
    "means = clf.cv_results_['mean_test_score']\n",
    "stds = clf.cv_results_['std_test_score']\n",
    "for mean, std, params in zip(means, stds, clf.cv_results_['params']):\n",
    "    print(\"%0.3f (+/-%0.03f) for %r\"\n",
    "            % (mean, std * 2, params))\n",
    "print()\n",
    "\n",
    "print(\"Detailed classification report:\")\n",
    "print()\n",
    "print(\"The model is trained on the full training set.\")\n",
    "print(\"The scores are computed on the full development set.\")\n",
    "print()\n",
    "y_true, y_pred = y_dev, clf.predict(X_dev)\n",
    "print(classification_report(y_true, y_pred))\n",
    "print()"
   ]
  },
  {
   "cell_type": "code",
   "execution_count": 58,
   "metadata": {},
   "outputs": [],
   "source": [
    "#Best parameters set found on training set:\n",
    "\n",
    "    #{'criterion': 'gini', 'max_depth': 80, 'max_features': 'log2', 'n_estimators': 500}"
   ]
  },
  {
   "cell_type": "markdown",
   "metadata": {},
   "source": [
    "# Training the Model with tuned parameters"
   ]
  },
  {
   "cell_type": "code",
   "execution_count": 57,
   "metadata": {},
   "outputs": [
    {
     "data": {
      "text/plain": [
       "ExtraTreesClassifier(bootstrap=False, ccp_alpha=0.0, class_weight=None,\n",
       "                     criterion='gini', max_depth=80, max_features='log2',\n",
       "                     max_leaf_nodes=None, max_samples=None,\n",
       "                     min_impurity_decrease=0.0, min_impurity_split=None,\n",
       "                     min_samples_leaf=1, min_samples_split=2,\n",
       "                     min_weight_fraction_leaf=0.0, n_estimators=500,\n",
       "                     n_jobs=None, oob_score=False, random_state=0, verbose=0,\n",
       "                     warm_start=False)"
      ]
     },
     "execution_count": 57,
     "metadata": {},
     "output_type": "execute_result"
    }
   ],
   "source": [
    "from sklearn.ensemble import ExtraTreesClassifier\n",
    "# Training the random forest classfication model on the Training set\n",
    "classifier_xt = ExtraTreesClassifier(random_state = 0,n_estimators=500,criterion ='gini', max_depth= 80, \n",
    "                                     max_features = 'log2')\n",
    "# fitting the model\n",
    "classifier_xt.fit(X_train_ovr,y_train_ovr)"
   ]
  },
  {
   "cell_type": "markdown",
   "metadata": {},
   "source": [
    "# Predicting the Test set results"
   ]
  },
  {
   "cell_type": "code",
   "execution_count": 58,
   "metadata": {},
   "outputs": [],
   "source": [
    "# Predicting the Test set results\n",
    "y_results_xt = classifier_xt.predict(X_test)"
   ]
  },
  {
   "cell_type": "code",
   "execution_count": 59,
   "metadata": {},
   "outputs": [
    {
     "name": "stdout",
     "output_type": "stream",
     "text": [
      "[[1 1]\n",
      " [1 1]\n",
      " [1 1]\n",
      " ...\n",
      " [8 8]\n",
      " [8 8]\n",
      " [8 8]]\n"
     ]
    }
   ],
   "source": [
    "print(np.concatenate((y_results_xt.reshape(len(y_results_xt),1), y_test.reshape(len(y_test),1)),1))"
   ]
  },
  {
   "cell_type": "markdown",
   "metadata": {},
   "source": [
    "# Model Evalation"
   ]
  },
  {
   "cell_type": "code",
   "execution_count": 60,
   "metadata": {},
   "outputs": [
    {
     "data": {
      "text/plain": [
       "<matplotlib.axes._subplots.AxesSubplot at 0x17747d27b88>"
      ]
     },
     "execution_count": 60,
     "metadata": {},
     "output_type": "execute_result"
    },
    {
     "data": {
      "image/png": "[encoded data removed]",
      "text/plain": [
       "<Figure size 720x576 with 2 Axes>"
      ]
     },
     "metadata": {
      "needs_background": "light"
     },
     "output_type": "display_data"
    }
   ],
   "source": [
    "#Model Evalation For Logistic Regression Classification Model\n",
    "from sklearn.metrics import confusion_matrix\n",
    "    \n",
    "#confusion matrix\n",
    "\n",
    "cm_xt = confusion_matrix(y_test, y_results_xt)\n",
    "array = cm_xt \n",
    "df_cm = pd.DataFrame(array, index = [i for i in \"12345678\"],\n",
    "                  columns = [i for i in \"12345678\"])\n",
    "plt.figure(figsize = (10,8))\n",
    "sn.heatmap(df_cm, annot=True)"
   ]
  },
  {
   "cell_type": "code",
   "execution_count": 61,
   "metadata": {},
   "outputs": [
    {
     "name": "stdout",
     "output_type": "stream",
     "text": [
      "accuracy:0.984375\n",
      "f1_score:0.9843209009220472\n",
      "recall_score:0.984375\n",
      "precision_score:0.984375\n"
     ]
    }
   ],
   "source": [
    "#accuracy_score, f1_score, recall_score,precision_score metrics\n",
    "from sklearn.metrics import accuracy_score, f1_score, recall_score,precision_score\n",
    "#accuracy\n",
    "accuracy_xt = accuracy_score(y_test, y_results_xt)\n",
    "print(\"accuracy:{}\".format(accuracy_xt))\n",
    "#F1 score    \n",
    "f1_score_xt = f1_score(y_test, y_results_xt, average='weighted')\n",
    "print(\"f1_score:{}\".format(f1_score_xt))\n",
    "#Recall score\n",
    "recall_score_xt = recall_score(y_test, y_results_xt, average='micro')\n",
    "print(\"recall_score:{}\".format(recall_score_xt))\n",
    "#Precision score\n",
    "precision_score_xt = precision_score(y_test, y_results_xt, average='micro')\n",
    "print(\"precision_score:{}\".format(precision_score_xt))"
   ]
  },
  {
   "cell_type": "code",
   "execution_count": 62,
   "metadata": {},
   "outputs": [
    {
     "name": "stdout",
     "output_type": "stream",
     "text": [
      "              precision    recall  f1-score   support\n",
      "\n",
      "           1  1.00000000 1.00000000 1.00000000       879\n",
      "           2  0.99663300 1.00000000 0.99831366       888\n",
      "           3  0.99207248 0.99772210 0.99488927       878\n",
      "           4  0.96062992 0.95206243 0.95632699       897\n",
      "           5  0.99543900 0.99885584 0.99714449       874\n",
      "           6  0.97645740 0.98640997 0.98140845       883\n",
      "           7  0.95485327 0.94209354 0.94843049       898\n",
      "           8  1.00000000 1.00000000 1.00000000       843\n",
      "\n",
      "    accuracy                      0.98437500      7040\n",
      "   macro avg  0.98451063 0.98464298 0.98456417      7040\n",
      "weighted avg  0.98429241 0.98437500 0.98432090      7040\n",
      "\n"
     ]
    }
   ],
   "source": [
    "#Classification report\n",
    "from sklearn import metrics\n",
    "print(metrics.classification_report(y_test, y_results_xt, digits = 8))"
   ]
  },
  {
   "cell_type": "code",
   "execution_count": null,
   "metadata": {},
   "outputs": [],
   "source": []
  },
  {
   "cell_type": "markdown",
   "metadata": {},
   "source": [
    "# SUMMARY"
   ]
  },
  {
   "cell_type": "markdown",
   "metadata": {},
   "source": [
    "NOTES:\n",
    "    1. Accuracy is a better metric in indicating the performance in this application as there is negligible class imbalance.\n",
    "    2. GridSearchCV was used to search through parameters & get the best set of parameters for the above models.\n",
    "    3. Modified train set i.e train set & dev set were created on which models with tuned parameters were trained.\n",
    "    4. Finally prediction was done on test set.\n",
    "    5. Accuracy obtained for different models are as follows:\n",
    "              1. SVM Classifier --------------------> 99.289%\n",
    "              2. SGD Classifier --------------------> 96.917%\n",
    "              3. Logistics Regression Classifier ---> 97.954%\n",
    "              4. KNN Classifier --------------------> 97.642%\n",
    "              5. Decision Tree Classifier --------->  93.437%\n",
    "              6. Random Forest Classifier ----------> 98.323%\n",
    "              7. Extra Trees Classifier ------------> 98.437%"
   ]
  },
  {
   "cell_type": "markdown",
   "metadata": {},
   "source": [
    "# ENSEMBLING TECHNIQUES"
   ]
  },
  {
   "cell_type": "code",
   "execution_count": 63,
   "metadata": {},
   "outputs": [],
   "source": [
    "#1.Voting"
   ]
  },
  {
   "cell_type": "code",
   "execution_count": 67,
   "metadata": {},
   "outputs": [],
   "source": [
    "from sklearn.ensemble import VotingClassifier\n",
    "eclf1 = VotingClassifier(estimators=[('lr', classifier_logreg), ('rf', classifier_rf), ('svm', classifier_SVM),\n",
    "                                     ('dt', classifier_dt),('knn', classifier_knn),('sgd', classifier_SGD),\n",
    "                                     ('xt', classifier_xt)], voting='hard')\n",
    "eclf1 = eclf1.fit(X_train_ovr, y_train_ovr)"
   ]
  },
  {
   "cell_type": "code",
   "execution_count": 68,
   "metadata": {},
   "outputs": [],
   "source": [
    "y_res_1 = eclf1.predict(X_test)"
   ]
  },
  {
   "cell_type": "code",
   "execution_count": 69,
   "metadata": {},
   "outputs": [
    {
     "name": "stdout",
     "output_type": "stream",
     "text": [
      "              precision    recall  f1-score   support\n",
      "\n",
      "           1  1.00000000 1.00000000 1.00000000       879\n",
      "           2  0.99887514 1.00000000 0.99943725       888\n",
      "           3  0.99319728 0.99772210 0.99545455       878\n",
      "           4  0.96230599 0.96767001 0.96498054       897\n",
      "           5  0.99885584 0.99885584 0.99885584       874\n",
      "           6  0.98089888 0.98867497 0.98477157       883\n",
      "           7  0.96818182 0.94877506 0.95838020       898\n",
      "           8  0.99881517 1.00000000 0.99940723       843\n",
      "\n",
      "    accuracy                      0.98750000      7040\n",
      "   macro avg  0.98764126 0.98771225 0.98766090      7040\n",
      "weighted avg  0.98746860 0.98750000 0.98746817      7040\n",
      "\n"
     ]
    }
   ],
   "source": [
    "from sklearn import metrics\n",
    "print(metrics.classification_report(y_test, y_res_1, digits = 8))"
   ]
  },
  {
   "cell_type": "code",
   "execution_count": null,
   "metadata": {},
   "outputs": [],
   "source": [
    "#not weighted"
   ]
  },
  {
   "cell_type": "code",
   "execution_count": null,
   "metadata": {},
   "outputs": [],
   "source": [
    "eclf2 = VotingClassifier(estimators=[('lr', classifier_logreg), ('rf', classifier_rf), ('svm', classifier_SVM),\n",
    "                                     ('dt', classifier_dt),('knn', classifier_knn),('sgd', classifier_SGD),\n",
    "                                     ('xt', classifier_xt)],voting='soft',flatten_transform = True)\n",
    "eclf2 = eclf2.fit_transform(X_train_ovr,y_train_ovr)"
   ]
  },
  {
   "cell_type": "code",
   "execution_count": null,
   "metadata": {},
   "outputs": [],
   "source": [
    "y_res_2 = eclf2.score(X_test)"
   ]
  },
  {
   "cell_type": "code",
   "execution_count": null,
   "metadata": {},
   "outputs": [],
   "source": []
  },
  {
   "cell_type": "code",
   "execution_count": null,
   "metadata": {},
   "outputs": [],
   "source": [
    "#weights"
   ]
  },
  {
   "cell_type": "code",
   "execution_count": null,
   "metadata": {},
   "outputs": [],
   "source": [
    "eclf3 = VotingClassifier(estimators=[('lr', classifier_logreg), ('rf', classifier_rf), ('svm', classifier_SVM),\n",
    "                                     ('dt', classifier_dt),('knn', classifier_knn),('sgd', classifier_SGD),\n",
    "                                     ('xt', classifier_xt)], voting='soft', weights=[1,2,4,1,2,3,2],\n",
    "                         flatten_transform=True)\n",
    "eclf3 = eclf3.fit(X_train_ovr, y_train_ovr)"
   ]
  },
  {
   "cell_type": "code",
   "execution_count": null,
   "metadata": {},
   "outputs": [],
   "source": [
    "y_res_3 = eclf3.score(X_test)"
   ]
  },
  {
   "cell_type": "code",
   "execution_count": null,
   "metadata": {},
   "outputs": [],
   "source": []
  },
  {
   "cell_type": "code",
   "execution_count": null,
   "metadata": {},
   "outputs": [],
   "source": []
  },
  {
   "cell_type": "code",
   "execution_count": 193,
   "metadata": {},
   "outputs": [],
   "source": [
    "#2.Bagging"
   ]
  },
  {
   "cell_type": "markdown",
   "metadata": {},
   "source": [
    "\n",
    "class sklearn.ensemble.BaggingClassifier(base_estimator=None, n_estimators=10, *, max_samples=1.0, \n",
    "                                         max_features=1.0, bootstrap=True, bootstrap_features=False, \n",
    "                                         oob_score=False, warm_start=False, n_jobs=None, random_state=None,\n",
    "                                         verbose=0)\n"
   ]
  },
  {
   "cell_type": "code",
   "execution_count": 75,
   "metadata": {},
   "outputs": [
    {
     "data": {
      "text/plain": [
       "BaggingClassifier(base_estimator=SVC(C=1.0, break_ties=False, cache_size=200,\n",
       "                                     class_weight=None, coef0=0.0,\n",
       "                                     decision_function_shape='ovr', degree=3,\n",
       "                                     gamma='scale', kernel='rbf', max_iter=-1,\n",
       "                                     probability=False, random_state=None,\n",
       "                                     shrinking=True, tol=0.001, verbose=False),\n",
       "                  bootstrap=True, bootstrap_features=False, max_features=1.0,\n",
       "                  max_samples=1.0, n_estimators=20, n_jobs=None,\n",
       "                  oob_score=False, random_state=0, verbose=0, warm_start=False)"
      ]
     },
     "execution_count": 75,
     "metadata": {},
     "output_type": "execute_result"
    }
   ],
   "source": [
    "from sklearn.svm import SVC\n",
    "from sklearn.ensemble import BaggingClassifier\n",
    "\n",
    "eclf4 = BaggingClassifier(base_estimator=SVC(),\n",
    "                         n_estimators=20, random_state=0)\n",
    "eclf4.fit(X_train_ovr, y_train_ovr)"
   ]
  },
  {
   "cell_type": "code",
   "execution_count": 76,
   "metadata": {},
   "outputs": [],
   "source": [
    "y_res_4=eclf4.predict(X_test)"
   ]
  },
  {
   "cell_type": "code",
   "execution_count": 77,
   "metadata": {},
   "outputs": [
    {
     "name": "stdout",
     "output_type": "stream",
     "text": [
      "              precision    recall  f1-score   support\n",
      "\n",
      "           1  1.00000000 1.00000000 1.00000000       879\n",
      "           2  0.99887514 1.00000000 0.99943725       888\n",
      "           3  0.99320498 0.99886105 0.99602499       878\n",
      "           4  0.95264317 0.96432553 0.95844875       897\n",
      "           5  1.00000000 0.99885584 0.99942759       874\n",
      "           6  0.98651685 0.99433749 0.99041173       883\n",
      "           7  0.96575342 0.94209354 0.95377678       898\n",
      "           8  1.00000000 0.99881376 0.99940653       843\n",
      "\n",
      "    accuracy                      0.98693182      7040\n",
      "   macro avg  0.98712420 0.98716090 0.98711670      7040\n",
      "weighted avg  0.98691719 0.98693182 0.98689819      7040\n",
      "\n"
     ]
    }
   ],
   "source": [
    "from sklearn import metrics\n",
    "print(metrics.classification_report(y_test, y_res_4, digits = 8))"
   ]
  },
  {
   "cell_type": "code",
   "execution_count": null,
   "metadata": {},
   "outputs": [],
   "source": [
    "#3.Boosting"
   ]
  },
  {
   "cell_type": "code",
   "execution_count": null,
   "metadata": {},
   "outputs": [],
   "source": [
    "#Adaboost"
   ]
  },
  {
   "cell_type": "code",
   "execution_count": 134,
   "metadata": {},
   "outputs": [
    {
     "data": {
      "text/plain": [
       "AdaBoostClassifier(algorithm='SAMME',\n",
       "                   base_estimator=SVC(C=100, break_ties=False, cache_size=200,\n",
       "                                      class_weight='balanced', coef0=0.0,\n",
       "                                      decision_function_shape='ovr', degree=3,\n",
       "                                      gamma='auto', kernel='rbf', max_iter=-1,\n",
       "                                      probability=False, random_state=0,\n",
       "                                      shrinking=True, tol=0.001,\n",
       "                                      verbose=False),\n",
       "                   learning_rate=1.0, n_estimators=5, random_state=0)"
      ]
     },
     "execution_count": 134,
     "metadata": {},
     "output_type": "execute_result"
    }
   ],
   "source": [
    "from sklearn.svm import SVC\n",
    "from sklearn.ensemble import AdaBoostClassifier\n",
    "eclf5 = AdaBoostClassifier(base_estimator= classifier_SVM, n_estimators=5, random_state=0,algorithm='SAMME')\n",
    "eclf5.fit(X_train_ovr, y_train_ovr)"
   ]
  },
  {
   "cell_type": "code",
   "execution_count": 135,
   "metadata": {},
   "outputs": [],
   "source": [
    "y_res_5=eclf5.predict(X_test)"
   ]
  },
  {
   "cell_type": "code",
   "execution_count": 137,
   "metadata": {},
   "outputs": [
    {
     "name": "stdout",
     "output_type": "stream",
     "text": [
      "              precision    recall  f1-score   support\n",
      "\n",
      "           1  1.00000000 0.96700796 0.98322730       879\n",
      "           2  0.99315849 0.98085586 0.98696884       888\n",
      "           3  0.97823129 0.81890661 0.89150651       878\n",
      "           4  0.80687563 0.88963211 0.84623542       897\n",
      "           5  0.88829216 0.94622426 0.91634349       874\n",
      "           6  0.84199584 0.91732729 0.87804878       883\n",
      "           7  0.89125296 0.83964365 0.86467890       898\n",
      "           8  0.98588235 0.99406880 0.98995865       843\n",
      "\n",
      "    accuracy                      0.91860795      7040\n",
      "   macro avg  0.92321109 0.91920832 0.91962099      7040\n",
      "weighted avg  0.92256718 0.91860795 0.91899419      7040\n",
      "\n"
     ]
    }
   ],
   "source": [
    "from sklearn.metrics import accuracy_score\n",
    "print(metrics.classification_report(y_test, y_res_5, digits = 8))"
   ]
  },
  {
   "cell_type": "code",
   "execution_count": null,
   "metadata": {},
   "outputs": [],
   "source": []
  },
  {
   "cell_type": "code",
   "execution_count": 131,
   "metadata": {},
   "outputs": [
    {
     "data": {
      "text/plain": [
       "AdaBoostClassifier(algorithm='SAMME.R',\n",
       "                   base_estimator=LogisticRegression(C=1.0, class_weight=None,\n",
       "                                                     dual=False,\n",
       "                                                     fit_intercept=True,\n",
       "                                                     intercept_scaling=1,\n",
       "                                                     l1_ratio=None,\n",
       "                                                     max_iter=100,\n",
       "                                                     multi_class='auto',\n",
       "                                                     n_jobs=None, penalty='l2',\n",
       "                                                     random_state=0,\n",
       "                                                     solver='lbfgs', tol=0.0001,\n",
       "                                                     verbose=0,\n",
       "                                                     warm_start=False),\n",
       "                   learning_rate=1.0, n_estimators=10, random_state=0)"
      ]
     },
     "execution_count": 131,
     "metadata": {},
     "output_type": "execute_result"
    }
   ],
   "source": [
    "from sklearn.linear_model import LogisticRegression\n",
    "from sklearn.ensemble import AdaBoostClassifier\n",
    "eclf6 = AdaBoostClassifier(base_estimator=LogisticRegression(random_state = 0), n_estimators=10, random_state=0)\n",
    "eclf6.fit(X_train_ovr, y_train_ovr)"
   ]
  },
  {
   "cell_type": "code",
   "execution_count": 132,
   "metadata": {},
   "outputs": [],
   "source": [
    "y_res_6 = eclf6.predict(X_test)"
   ]
  },
  {
   "cell_type": "code",
   "execution_count": 133,
   "metadata": {},
   "outputs": [
    {
     "name": "stdout",
     "output_type": "stream",
     "text": [
      "              precision    recall  f1-score   support\n",
      "\n",
      "           1  1.00000000 0.95221843 0.97552448       879\n",
      "           2  0.99529412 0.95270270 0.97353280       888\n",
      "           3  0.94204545 0.94419134 0.94311718       878\n",
      "           4  0.76481836 0.89186176 0.82346886       897\n",
      "           5  0.95508274 0.92448513 0.93953488       874\n",
      "           6  0.80076628 0.94677237 0.86766995       883\n",
      "           7  0.94151213 0.73496659 0.82551595       898\n",
      "           8  0.98684211 0.97864769 0.98272781       843\n",
      "\n",
      "    accuracy                      0.91491477      7040\n",
      "   macro avg  0.92329515 0.91573075 0.91638649      7040\n",
      "weighted avg  0.92261135 0.91491477 0.91558956      7040\n",
      "\n"
     ]
    }
   ],
   "source": [
    "from sklearn import metrics\n",
    "print(metrics.classification_report(y_test, y_res_6, digits = 8))"
   ]
  },
  {
   "cell_type": "code",
   "execution_count": null,
   "metadata": {},
   "outputs": [],
   "source": []
  },
  {
   "cell_type": "code",
   "execution_count": 100,
   "metadata": {},
   "outputs": [
    {
     "data": {
      "text/plain": [
       "AdaBoostClassifier(algorithm='SAMME.R',\n",
       "                   base_estimator=ExtraTreesClassifier(bootstrap=False,\n",
       "                                                       ccp_alpha=0.0,\n",
       "                                                       class_weight=None,\n",
       "                                                       criterion='gini',\n",
       "                                                       max_depth=None,\n",
       "                                                       max_features='auto',\n",
       "                                                       max_leaf_nodes=None,\n",
       "                                                       max_samples=None,\n",
       "                                                       min_impurity_decrease=0.0,\n",
       "                                                       min_impurity_split=None,\n",
       "                                                       min_samples_leaf=1,\n",
       "                                                       min_samples_split=2,\n",
       "                                                       min_weight_fraction_leaf=0.0,\n",
       "                                                       n_estimators=100,\n",
       "                                                       n_jobs=None,\n",
       "                                                       oob_score=False,\n",
       "                                                       random_state=None,\n",
       "                                                       verbose=0,\n",
       "                                                       warm_start=False),\n",
       "                   learning_rate=1.0, n_estimators=10, random_state=0)"
      ]
     },
     "execution_count": 100,
     "metadata": {},
     "output_type": "execute_result"
    }
   ],
   "source": [
    "from sklearn.ensemble import ExtraTreesClassifier\n",
    "from sklearn.ensemble import AdaBoostClassifier\n",
    "eclf7 = AdaBoostClassifier(base_estimator=ExtraTreesClassifier(), n_estimators=10, random_state=0)\n",
    "eclf7.fit(X_train_ovr, y_train_ovr)"
   ]
  },
  {
   "cell_type": "code",
   "execution_count": 101,
   "metadata": {},
   "outputs": [],
   "source": [
    "y_res_7=eclf7.predict(X_test)"
   ]
  },
  {
   "cell_type": "code",
   "execution_count": 102,
   "metadata": {},
   "outputs": [
    {
     "name": "stdout",
     "output_type": "stream",
     "text": [
      "              precision    recall  f1-score   support\n",
      "\n",
      "           1  1.00000000 1.00000000 1.00000000       879\n",
      "           2  0.99107143 1.00000000 0.99551570       888\n",
      "           3  0.98868778 0.99544419 0.99205448       878\n",
      "           4  0.95715896 0.94648829 0.95179372       897\n",
      "           5  0.99430524 0.99885584 0.99657534       874\n",
      "           6  0.97075366 0.97734994 0.97404063       883\n",
      "           7  0.94802260 0.93429844 0.94111049       898\n",
      "           8  0.99881235 0.99762752 0.99821958       843\n",
      "\n",
      "    accuracy                      0.98096591      7040\n",
      "   macro avg  0.98110150 0.98125803 0.98116374      7040\n",
      "weighted avg  0.98085685 0.98096591 0.98089514      7040\n",
      "\n"
     ]
    }
   ],
   "source": [
    "from sklearn import metrics\n",
    "print(metrics.classification_report(y_test, y_res_7, digits = 8))"
   ]
  },
  {
   "cell_type": "code",
   "execution_count": null,
   "metadata": {},
   "outputs": [],
   "source": []
  },
  {
   "cell_type": "code",
   "execution_count": 108,
   "metadata": {},
   "outputs": [
    {
     "data": {
      "text/plain": [
       "AdaBoostClassifier(algorithm='SAMME.R',\n",
       "                   base_estimator=DecisionTreeClassifier(ccp_alpha=0.0,\n",
       "                                                         class_weight=None,\n",
       "                                                         criterion='gini',\n",
       "                                                         max_depth=None,\n",
       "                                                         max_features=None,\n",
       "                                                         max_leaf_nodes=None,\n",
       "                                                         min_impurity_decrease=0.0,\n",
       "                                                         min_impurity_split=None,\n",
       "                                                         min_samples_leaf=1,\n",
       "                                                         min_samples_split=2,\n",
       "                                                         min_weight_fraction_leaf=0.0,\n",
       "                                                         presort='deprecated',\n",
       "                                                         random_state=None,\n",
       "                                                         splitter='best'),\n",
       "                   learning_rate=1.0, n_estimators=20, random_state=0)"
      ]
     },
     "execution_count": 108,
     "metadata": {},
     "output_type": "execute_result"
    }
   ],
   "source": [
    "#decision tree\n",
    "from sklearn.tree import DecisionTreeClassifier\n",
    "from sklearn.ensemble import AdaBoostClassifier\n",
    "eclf8 = AdaBoostClassifier(base_estimator= DecisionTreeClassifier(), n_estimators=20, random_state=0)\n",
    "eclf8.fit(X_train_ovr, y_train_ovr)"
   ]
  },
  {
   "cell_type": "code",
   "execution_count": 109,
   "metadata": {},
   "outputs": [],
   "source": [
    "y_res_8 = eclf8.predict(X_test)"
   ]
  },
  {
   "cell_type": "code",
   "execution_count": 110,
   "metadata": {},
   "outputs": [
    {
     "name": "stdout",
     "output_type": "stream",
     "text": [
      "              precision    recall  f1-score   support\n",
      "\n",
      "           1  0.99659478 0.99886234 0.99772727       879\n",
      "           2  0.97321429 0.98198198 0.97757848       888\n",
      "           3  0.97291196 0.98177677 0.97732426       878\n",
      "           4  0.85474860 0.85284281 0.85379464       897\n",
      "           5  0.97729852 0.98512586 0.98119658       874\n",
      "           6  0.91118800 0.89467724 0.90285714       883\n",
      "           7  0.84845133 0.85412027 0.85127636       898\n",
      "           8  0.99036145 0.97508897 0.98266587       843\n",
      "\n",
      "    accuracy                      0.93991477      7040\n",
      "   macro avg  0.94059612 0.94055953 0.94055258      7040\n",
      "weighted avg  0.93986779 0.93991477 0.93986628      7040\n",
      "\n"
     ]
    }
   ],
   "source": [
    "from sklearn import metrics\n",
    "print(metrics.classification_report(y_test, y_res_8, digits = 8))"
   ]
  },
  {
   "cell_type": "code",
   "execution_count": null,
   "metadata": {},
   "outputs": [],
   "source": [
    "#4.Stacking"
   ]
  },
  {
   "cell_type": "code",
   "execution_count": null,
   "metadata": {},
   "outputs": [],
   "source": [
    "#StackingClassifier(estimators, final_estimator=None, *, cv=None, stack_method='auto',n_jobs=None, passthrough=False, verbose=0)"
   ]
  },
  {
   "cell_type": "code",
   "execution_count": 94,
   "metadata": {},
   "outputs": [
    {
     "name": "stderr",
     "output_type": "stream",
     "text": [
      "C:\\Users\\user\\anaconda3\\lib\\site-packages\\sklearn\\linear_model\\_logistic.py:940: ConvergenceWarning: lbfgs failed to converge (status=1):\n",
      "STOP: TOTAL NO. of ITERATIONS REACHED LIMIT.\n",
      "\n",
      "Increase the number of iterations (max_iter) or scale the data as shown in:\n",
      "    https://scikit-learn.org/stable/modules/preprocessing.html\n",
      "Please also refer to the documentation for alternative solver options:\n",
      "    https://scikit-learn.org/stable/modules/linear_model.html#logistic-regression\n",
      "  extra_warning_msg=_LOGISTIC_SOLVER_CONVERGENCE_MSG)\n"
     ]
    },
    {
     "data": {
      "text/plain": [
       "StackingClassifier(cv=None,\n",
       "                   estimators=[('rf',\n",
       "                                RandomForestClassifier(bootstrap=True,\n",
       "                                                       ccp_alpha=0.0,\n",
       "                                                       class_weight=None,\n",
       "                                                       criterion='gini',\n",
       "                                                       max_depth=80,\n",
       "                                                       max_features='log2',\n",
       "                                                       max_leaf_nodes=None,\n",
       "                                                       max_samples=None,\n",
       "                                                       min_impurity_decrease=0.0,\n",
       "                                                       min_impurity_split=None,\n",
       "                                                       min_samples_leaf=1,\n",
       "                                                       min_samples_split=2,\n",
       "                                                       min_weight_fraction_leaf=0.0,\n",
       "                                                       n_estimators=500,\n",
       "                                                       n_jobs=None,\n",
       "                                                       o...\n",
       "                                                     random_state=0, verbose=0,\n",
       "                                                     warm_start=False))],\n",
       "                   final_estimator=LogisticRegression(C=1.0, class_weight=None,\n",
       "                                                      dual=False,\n",
       "                                                      fit_intercept=True,\n",
       "                                                      intercept_scaling=1,\n",
       "                                                      l1_ratio=None,\n",
       "                                                      max_iter=100,\n",
       "                                                      multi_class='auto',\n",
       "                                                      n_jobs=None, penalty='l2',\n",
       "                                                      random_state=None,\n",
       "                                                      solver='lbfgs',\n",
       "                                                      tol=0.0001, verbose=0,\n",
       "                                                      warm_start=False),\n",
       "                   n_jobs=None, passthrough=False, stack_method='predict',\n",
       "                   verbose=0)"
      ]
     },
     "execution_count": 94,
     "metadata": {},
     "output_type": "execute_result"
    }
   ],
   "source": [
    "from sklearn.linear_model import LogisticRegression\n",
    "from sklearn.ensemble import StackingClassifier\n",
    "estimators = [('rf', classifier_rf), ('svm', classifier_SVM),('dt', classifier_dt),\n",
    "              ('knn', classifier_knn),('xt', classifier_xt)]\n",
    "eclf9 = StackingClassifier(estimators, final_estimator= LogisticRegression() , stack_method='predict')\n",
    "eclf9.fit(X_train_ovr, y_train_ovr)"
   ]
  },
  {
   "cell_type": "code",
   "execution_count": 95,
   "metadata": {},
   "outputs": [],
   "source": [
    "y_res_9 = eclf9.predict(X_test)"
   ]
  },
  {
   "cell_type": "code",
   "execution_count": 96,
   "metadata": {},
   "outputs": [
    {
     "name": "stdout",
     "output_type": "stream",
     "text": [
      "              precision    recall  f1-score   support\n",
      "\n",
      "           1  1.00000000 0.98748578 0.99370349       879\n",
      "           2  0.98754247 0.98198198 0.98475438       888\n",
      "           3  0.97770346 0.99886105 0.98816901       878\n",
      "           4  0.96714129 0.98439242 0.97569061       897\n",
      "           5  0.96559378 0.99542334 0.98028169       874\n",
      "           6  0.89989350 0.95696489 0.92755214       883\n",
      "           7  0.98002497 0.87416481 0.92407298       898\n",
      "           8  1.00000000 0.99406880 0.99702558       843\n",
      "\n",
      "    accuracy                      0.97130682      7040\n",
      "   macro avg  0.97223743 0.97166788 0.97140624      7040\n",
      "weighted avg  0.97208586 0.97130682 0.97114190      7040\n",
      "\n"
     ]
    }
   ],
   "source": [
    "from sklearn import metrics\n",
    "print(metrics.classification_report(y_test, y_res_9, digits = 8))"
   ]
  },
  {
   "cell_type": "code",
   "execution_count": null,
   "metadata": {},
   "outputs": [],
   "source": []
  }
 ],
 "metadata": {
  "kernelspec": {
   "display_name": "Python 3",
   "language": "python",
   "name": "python3"
  },
  "language_info": {
   "codemirror_mode": {
    "name": "ipython",
    "version": 3
   },
   "file_extension": ".py",
   "mimetype": "text/x-python",
   "name": "python",
   "nbconvert_exporter": "python",
   "pygments_lexer": "ipython3",
   "version": "3.7.6"
  }
 },
 "nbformat": 4,
 "nbformat_minor": 4
}
